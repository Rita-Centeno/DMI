{
 "cells": [
  {
   "cell_type": "markdown",
   "metadata": {},
   "source": [
    "# Table of Contents:\n",
    "1. [Library Imports](#li)\n",
    "2. [Data Preparation](#dp)\n",
    "3. [Method Comparison](#mc)\n",
    "4. [K-Means](#km)\n",
    "5. [Hierarchical](#h)\n",
    "6. [DBSCAN](#d)\n",
    "7. [UMAP](#u)"
   ]
  },
  {
   "cell_type": "markdown",
   "metadata": {},
   "source": [
    "# 1. Library Imports\n",
    "<a id='li'></a>"
   ]
  },
  {
   "cell_type": "code",
   "execution_count": 25,
   "metadata": {},
   "outputs": [
    {
     "name": "stdout",
     "output_type": "stream",
     "text": [
      "The autoreload extension is already loaded. To reload it, use:\n",
      "  %reload_ext autoreload\n"
     ]
    }
   ],
   "source": [
    "import pandas as pd\n",
    "from sklearn.cluster import KMeans\n",
    "from sklearn.preprocessing import RobustScaler, StandardScaler, MinMaxScaler, OneHotEncoder\n",
    "from utils2 import *\n",
    "import umap\n",
    "\n",
    "### WARNINGS\n",
    "import warnings\n",
    "warnings.filterwarnings('ignore')\n",
    "\n",
    "### AUTORELOAD\n",
    "%load_ext autoreload\n",
    "%autoreload 2"
   ]
  },
  {
   "cell_type": "markdown",
   "metadata": {},
   "source": [
    "# 2. Data Preparation\n",
    "<a id='dp'></a>"
   ]
  },
  {
   "cell_type": "markdown",
   "metadata": {},
   "source": [
    "#### Import the data"
   ]
  },
  {
   "cell_type": "code",
   "execution_count": 26,
   "metadata": {},
   "outputs": [],
   "source": [
    "data = pd.read_csv('Data\\\\New_Data\\\\project_data_cleaned_noreturnincons_impute2uni_wzipid_no0_out_perc.csv')\n",
    "# data = pd.read_csv('Data\\\\New_Data\\\\project_data_cleaned_noreturnincons_impute2uni_wzipid_no0_out99_perc.csv')"
   ]
  },
  {
   "cell_type": "markdown",
   "metadata": {},
   "source": [
    "#### Define metrics to study"
   ]
  },
  {
   "cell_type": "code",
   "execution_count": 27,
   "metadata": {},
   "outputs": [],
   "source": [
    "demographic_metrics = ['frequency_items', 'potencial_score', 'zip_code', 'longevity_months', 'credit_factor', 'relevance_criteria', 'recency_in_weeks', 'returns', 'flaged', 'promotional_percentage']"
   ]
  },
  {
   "cell_type": "code",
   "execution_count": 28,
   "metadata": {},
   "outputs": [],
   "source": [
    "demographic = data[demographic_metrics]"
   ]
  },
  {
   "cell_type": "markdown",
   "metadata": {},
   "source": [
    "#### Encode categorical variables"
   ]
  },
  {
   "cell_type": "code",
   "execution_count": 29,
   "metadata": {},
   "outputs": [
    {
     "data": {
      "text/html": [
       "<div>\n",
       "<style scoped>\n",
       "    .dataframe tbody tr th:only-of-type {\n",
       "        vertical-align: middle;\n",
       "    }\n",
       "\n",
       "    .dataframe tbody tr th {\n",
       "        vertical-align: top;\n",
       "    }\n",
       "\n",
       "    .dataframe thead th {\n",
       "        text-align: right;\n",
       "    }\n",
       "</style>\n",
       "<table border=\"1\" class=\"dataframe\">\n",
       "  <thead>\n",
       "    <tr style=\"text-align: right;\">\n",
       "      <th></th>\n",
       "      <th>frequency_items</th>\n",
       "      <th>potencial_score</th>\n",
       "      <th>zip_code</th>\n",
       "      <th>longevity_months</th>\n",
       "      <th>credit_factor</th>\n",
       "      <th>relevance_criteria</th>\n",
       "      <th>recency_in_weeks</th>\n",
       "      <th>returns</th>\n",
       "      <th>flaged</th>\n",
       "      <th>promotional_percentage</th>\n",
       "      <th>relevance_criteria_Priority</th>\n",
       "      <th>relevance_criteria_Unknown</th>\n",
       "    </tr>\n",
       "  </thead>\n",
       "  <tbody>\n",
       "    <tr>\n",
       "      <th>0</th>\n",
       "      <td>38</td>\n",
       "      <td>-0.40</td>\n",
       "      <td>0</td>\n",
       "      <td>23</td>\n",
       "      <td>0.7</td>\n",
       "      <td>Priority</td>\n",
       "      <td>15</td>\n",
       "      <td>0</td>\n",
       "      <td>0</td>\n",
       "      <td>20</td>\n",
       "      <td>1.0</td>\n",
       "      <td>0.0</td>\n",
       "    </tr>\n",
       "    <tr>\n",
       "      <th>1</th>\n",
       "      <td>50</td>\n",
       "      <td>-0.30</td>\n",
       "      <td>0</td>\n",
       "      <td>24</td>\n",
       "      <td>0.7</td>\n",
       "      <td>Priority</td>\n",
       "      <td>10</td>\n",
       "      <td>0</td>\n",
       "      <td>0</td>\n",
       "      <td>36</td>\n",
       "      <td>1.0</td>\n",
       "      <td>0.0</td>\n",
       "    </tr>\n",
       "    <tr>\n",
       "      <th>2</th>\n",
       "      <td>48</td>\n",
       "      <td>1.60</td>\n",
       "      <td>0</td>\n",
       "      <td>32</td>\n",
       "      <td>0.7</td>\n",
       "      <td>Priority</td>\n",
       "      <td>20</td>\n",
       "      <td>0</td>\n",
       "      <td>0</td>\n",
       "      <td>0</td>\n",
       "      <td>1.0</td>\n",
       "      <td>0.0</td>\n",
       "    </tr>\n",
       "    <tr>\n",
       "      <th>3</th>\n",
       "      <td>46</td>\n",
       "      <td>-0.90</td>\n",
       "      <td>0</td>\n",
       "      <td>12</td>\n",
       "      <td>1.0</td>\n",
       "      <td>Priority</td>\n",
       "      <td>14</td>\n",
       "      <td>0</td>\n",
       "      <td>0</td>\n",
       "      <td>36</td>\n",
       "      <td>1.0</td>\n",
       "      <td>0.0</td>\n",
       "    </tr>\n",
       "    <tr>\n",
       "      <th>4</th>\n",
       "      <td>31</td>\n",
       "      <td>31.61</td>\n",
       "      <td>8</td>\n",
       "      <td>10</td>\n",
       "      <td>0.7</td>\n",
       "      <td>Priority</td>\n",
       "      <td>12</td>\n",
       "      <td>0</td>\n",
       "      <td>0</td>\n",
       "      <td>10</td>\n",
       "      <td>1.0</td>\n",
       "      <td>0.0</td>\n",
       "    </tr>\n",
       "    <tr>\n",
       "      <th>...</th>\n",
       "      <td>...</td>\n",
       "      <td>...</td>\n",
       "      <td>...</td>\n",
       "      <td>...</td>\n",
       "      <td>...</td>\n",
       "      <td>...</td>\n",
       "      <td>...</td>\n",
       "      <td>...</td>\n",
       "      <td>...</td>\n",
       "      <td>...</td>\n",
       "      <td>...</td>\n",
       "      <td>...</td>\n",
       "    </tr>\n",
       "    <tr>\n",
       "      <th>122741</th>\n",
       "      <td>51</td>\n",
       "      <td>0.10</td>\n",
       "      <td>0</td>\n",
       "      <td>25</td>\n",
       "      <td>0.7</td>\n",
       "      <td>Priority</td>\n",
       "      <td>9</td>\n",
       "      <td>6</td>\n",
       "      <td>0</td>\n",
       "      <td>0</td>\n",
       "      <td>1.0</td>\n",
       "      <td>0.0</td>\n",
       "    </tr>\n",
       "    <tr>\n",
       "      <th>122742</th>\n",
       "      <td>42</td>\n",
       "      <td>30.99</td>\n",
       "      <td>8</td>\n",
       "      <td>23</td>\n",
       "      <td>0.7</td>\n",
       "      <td>Priority</td>\n",
       "      <td>15</td>\n",
       "      <td>0</td>\n",
       "      <td>0</td>\n",
       "      <td>0</td>\n",
       "      <td>1.0</td>\n",
       "      <td>0.0</td>\n",
       "    </tr>\n",
       "    <tr>\n",
       "      <th>122743</th>\n",
       "      <td>24</td>\n",
       "      <td>79.76</td>\n",
       "      <td>8</td>\n",
       "      <td>29</td>\n",
       "      <td>0.7</td>\n",
       "      <td>Priority</td>\n",
       "      <td>13</td>\n",
       "      <td>0</td>\n",
       "      <td>0</td>\n",
       "      <td>13</td>\n",
       "      <td>1.0</td>\n",
       "      <td>0.0</td>\n",
       "    </tr>\n",
       "    <tr>\n",
       "      <th>122744</th>\n",
       "      <td>29</td>\n",
       "      <td>0.50</td>\n",
       "      <td>0</td>\n",
       "      <td>14</td>\n",
       "      <td>0.7</td>\n",
       "      <td>Priority</td>\n",
       "      <td>11</td>\n",
       "      <td>0</td>\n",
       "      <td>0</td>\n",
       "      <td>0</td>\n",
       "      <td>1.0</td>\n",
       "      <td>0.0</td>\n",
       "    </tr>\n",
       "    <tr>\n",
       "      <th>122745</th>\n",
       "      <td>52</td>\n",
       "      <td>-0.20</td>\n",
       "      <td>0</td>\n",
       "      <td>11</td>\n",
       "      <td>0.7</td>\n",
       "      <td>Unknown</td>\n",
       "      <td>15</td>\n",
       "      <td>0</td>\n",
       "      <td>0</td>\n",
       "      <td>0</td>\n",
       "      <td>0.0</td>\n",
       "      <td>1.0</td>\n",
       "    </tr>\n",
       "  </tbody>\n",
       "</table>\n",
       "<p>122746 rows × 12 columns</p>\n",
       "</div>"
      ],
      "text/plain": [
       "        frequency_items  potencial_score  zip_code  longevity_months  \\\n",
       "0                    38            -0.40         0                23   \n",
       "1                    50            -0.30         0                24   \n",
       "2                    48             1.60         0                32   \n",
       "3                    46            -0.90         0                12   \n",
       "4                    31            31.61         8                10   \n",
       "...                 ...              ...       ...               ...   \n",
       "122741               51             0.10         0                25   \n",
       "122742               42            30.99         8                23   \n",
       "122743               24            79.76         8                29   \n",
       "122744               29             0.50         0                14   \n",
       "122745               52            -0.20         0                11   \n",
       "\n",
       "        credit_factor relevance_criteria  recency_in_weeks  returns  flaged  \\\n",
       "0                 0.7           Priority                15        0       0   \n",
       "1                 0.7           Priority                10        0       0   \n",
       "2                 0.7           Priority                20        0       0   \n",
       "3                 1.0           Priority                14        0       0   \n",
       "4                 0.7           Priority                12        0       0   \n",
       "...               ...                ...               ...      ...     ...   \n",
       "122741            0.7           Priority                 9        6       0   \n",
       "122742            0.7           Priority                15        0       0   \n",
       "122743            0.7           Priority                13        0       0   \n",
       "122744            0.7           Priority                11        0       0   \n",
       "122745            0.7            Unknown                15        0       0   \n",
       "\n",
       "        promotional_percentage  relevance_criteria_Priority  \\\n",
       "0                           20                          1.0   \n",
       "1                           36                          1.0   \n",
       "2                            0                          1.0   \n",
       "3                           36                          1.0   \n",
       "4                           10                          1.0   \n",
       "...                        ...                          ...   \n",
       "122741                       0                          1.0   \n",
       "122742                       0                          1.0   \n",
       "122743                      13                          1.0   \n",
       "122744                       0                          1.0   \n",
       "122745                       0                          0.0   \n",
       "\n",
       "        relevance_criteria_Unknown  \n",
       "0                              0.0  \n",
       "1                              0.0  \n",
       "2                              0.0  \n",
       "3                              0.0  \n",
       "4                              0.0  \n",
       "...                            ...  \n",
       "122741                         0.0  \n",
       "122742                         0.0  \n",
       "122743                         0.0  \n",
       "122744                         0.0  \n",
       "122745                         1.0  \n",
       "\n",
       "[122746 rows x 12 columns]"
      ]
     },
     "execution_count": 29,
     "metadata": {},
     "output_type": "execute_result"
    }
   ],
   "source": [
    "def get_ohc_df(df, feats):\n",
    "  # Use OneHotEncoder to encode the categorical features.\n",
    "  # Get feature names and create a DataFrame\n",
    "  # with the one-hot encoded categorical features (pass feature names)\n",
    "\n",
    "  ohc = OneHotEncoder(sparse_output=False, drop=\"first\")\n",
    "  ohc_feat = ohc.fit_transform(df[feats])\n",
    "  ohc_feat_names = ohc.get_feature_names_out()\n",
    "  ohc_df = pd.DataFrame(ohc_feat, index=df.index, columns=ohc_feat_names)\n",
    "\n",
    "  # Reassigning df to contain ohc variables\n",
    "  df_ohc = pd.concat([df, ohc_df], axis=1)\n",
    "\n",
    "  return df_ohc, ohc\n",
    "\n",
    "demographic, ohc = get_ohc_df(demographic, ['relevance_criteria'])\n",
    "\n",
    "demographic"
   ]
  },
  {
   "cell_type": "code",
   "execution_count": 30,
   "metadata": {},
   "outputs": [],
   "source": [
    "demographic.drop(columns=['relevance_criteria'], inplace=True)"
   ]
  },
  {
   "cell_type": "code",
   "execution_count": 31,
   "metadata": {},
   "outputs": [],
   "source": [
    "demographic_metrics = ['frequency_items', 'potencial_score', 'zip_code', 'longevity_months', 'credit_factor', 'relevance_criteria_Priority', 'relevance_criteria_Unknown', 'recency_in_weeks', 'returns', 'flaged', 'promotional_percentage']"
   ]
  },
  {
   "cell_type": "markdown",
   "metadata": {},
   "source": [
    "#### Scale the data"
   ]
  },
  {
   "cell_type": "code",
   "execution_count": 32,
   "metadata": {},
   "outputs": [],
   "source": [
    "standard = StandardScaler()\n",
    "minmax = MinMaxScaler()\n",
    "robust = RobustScaler()"
   ]
  },
  {
   "cell_type": "code",
   "execution_count": 33,
   "metadata": {},
   "outputs": [],
   "source": [
    "dem_no_scl = demographic.copy()\n",
    "dem_st_scl = standard.fit_transform(demographic)\n",
    "dem_mm_scl = minmax.fit_transform(demographic)\n",
    "dem_rb_scl = robust.fit_transform(demographic)"
   ]
  },
  {
   "cell_type": "code",
   "execution_count": 34,
   "metadata": {},
   "outputs": [],
   "source": [
    "demographic_no_scl = demographic.copy()\n",
    "demographic_no_scl[demographic_metrics] = dem_no_scl\n",
    "\n",
    "demographic_st_scl = demographic.copy()\n",
    "demographic_st_scl[demographic_metrics] = dem_st_scl\n",
    "\n",
    "demographic_mm_scl = demographic.copy()\n",
    "demographic_mm_scl[demographic_metrics] = dem_mm_scl\n",
    "\n",
    "demographic_rb_scl = demographic.copy()\n",
    "demographic_rb_scl[demographic_metrics] = dem_rb_scl"
   ]
  },
  {
   "cell_type": "markdown",
   "metadata": {},
   "source": [
    "# Clustering Method Comparison\n",
    "<a id='mc'></a>"
   ]
  },
  {
   "cell_type": "code",
   "execution_count": 35,
   "metadata": {},
   "outputs": [],
   "source": [
    "kmeans = KMeans(init='k-means++', n_init=10, random_state=1)\n",
    "\n",
    "hierarchical = AgglomerativeClustering(metric='euclidean')"
   ]
  },
  {
   "cell_type": "code",
   "execution_count": 36,
   "metadata": {},
   "outputs": [],
   "source": [
    "sample_original = demographic.sample(frac=0.2, random_state=1)\n",
    "sample_no_scl = demographic_no_scl.sample(frac=0.2, random_state=1)\n",
    "sample_st_scl = demographic_mm_scl.sample(frac=0.2, random_state=1)\n",
    "sample_mm_scl = demographic_mm_scl.sample(frac=0.2, random_state=1)\n",
    "sample_rb_scl = demographic_rb_scl.sample(frac=0.2, random_state=1)"
   ]
  },
  {
   "cell_type": "markdown",
   "metadata": {},
   "source": [
    "### No Scale"
   ]
  },
  {
   "cell_type": "code",
   "execution_count": 37,
   "metadata": {},
   "outputs": [
    {
     "data": {
      "text/html": [
       "<div>\n",
       "<style scoped>\n",
       "    .dataframe tbody tr th:only-of-type {\n",
       "        vertical-align: middle;\n",
       "    }\n",
       "\n",
       "    .dataframe tbody tr th {\n",
       "        vertical-align: top;\n",
       "    }\n",
       "\n",
       "    .dataframe thead th {\n",
       "        text-align: right;\n",
       "    }\n",
       "</style>\n",
       "<table border=\"1\" class=\"dataframe\">\n",
       "  <thead>\n",
       "    <tr style=\"text-align: right;\">\n",
       "      <th></th>\n",
       "      <th>kmeans</th>\n",
       "      <th>complete</th>\n",
       "      <th>average</th>\n",
       "      <th>single</th>\n",
       "      <th>ward</th>\n",
       "    </tr>\n",
       "  </thead>\n",
       "  <tbody>\n",
       "    <tr>\n",
       "      <th>2</th>\n",
       "      <td>0.365404</td>\n",
       "      <td>0.117375</td>\n",
       "      <td>0.021414</td>\n",
       "      <td>0.021414</td>\n",
       "      <td>0.339663</td>\n",
       "    </tr>\n",
       "    <tr>\n",
       "      <th>3</th>\n",
       "      <td>0.569686</td>\n",
       "      <td>0.225064</td>\n",
       "      <td>0.210005</td>\n",
       "      <td>0.045949</td>\n",
       "      <td>0.536937</td>\n",
       "    </tr>\n",
       "    <tr>\n",
       "      <th>4</th>\n",
       "      <td>0.648104</td>\n",
       "      <td>0.227340</td>\n",
       "      <td>0.227958</td>\n",
       "      <td>0.046207</td>\n",
       "      <td>0.619829</td>\n",
       "    </tr>\n",
       "    <tr>\n",
       "      <th>5</th>\n",
       "      <td>0.704428</td>\n",
       "      <td>0.230653</td>\n",
       "      <td>0.230868</td>\n",
       "      <td>0.046249</td>\n",
       "      <td>0.695457</td>\n",
       "    </tr>\n",
       "    <tr>\n",
       "      <th>6</th>\n",
       "      <td>0.739749</td>\n",
       "      <td>0.285928</td>\n",
       "      <td>0.272901</td>\n",
       "      <td>0.046319</td>\n",
       "      <td>0.723456</td>\n",
       "    </tr>\n",
       "    <tr>\n",
       "      <th>7</th>\n",
       "      <td>0.760847</td>\n",
       "      <td>0.287438</td>\n",
       "      <td>0.273649</td>\n",
       "      <td>0.050173</td>\n",
       "      <td>0.741572</td>\n",
       "    </tr>\n",
       "    <tr>\n",
       "      <th>8</th>\n",
       "      <td>0.778689</td>\n",
       "      <td>0.300038</td>\n",
       "      <td>0.323846</td>\n",
       "      <td>0.051711</td>\n",
       "      <td>0.759299</td>\n",
       "    </tr>\n",
       "    <tr>\n",
       "      <th>9</th>\n",
       "      <td>0.796300</td>\n",
       "      <td>0.638977</td>\n",
       "      <td>0.325004</td>\n",
       "      <td>0.054106</td>\n",
       "      <td>0.774023</td>\n",
       "    </tr>\n",
       "  </tbody>\n",
       "</table>\n",
       "</div>"
      ],
      "text/plain": [
       "     kmeans  complete   average    single      ward\n",
       "2  0.365404  0.117375  0.021414  0.021414  0.339663\n",
       "3  0.569686  0.225064  0.210005  0.045949  0.536937\n",
       "4  0.648104  0.227340  0.227958  0.046207  0.619829\n",
       "5  0.704428  0.230653  0.230868  0.046249  0.695457\n",
       "6  0.739749  0.285928  0.272901  0.046319  0.723456\n",
       "7  0.760847  0.287438  0.273649  0.050173  0.741572\n",
       "8  0.778689  0.300038  0.323846  0.051711  0.759299\n",
       "9  0.796300  0.638977  0.325004  0.054106  0.774023"
      ]
     },
     "execution_count": 37,
     "metadata": {},
     "output_type": "execute_result"
    }
   ],
   "source": [
    "dem_no_r2_scores = get_r2_df(sample_no_scl, demographic_metrics, kmeans, hierarchical)\n",
    "dem_no_r2_scores"
   ]
  },
  {
   "cell_type": "code",
   "execution_count": 38,
   "metadata": {},
   "outputs": [
    {
     "data": {
      "image/png": "[encoded data removed]",
      "text/plain": [
       "<Figure size 1000x700 with 1 Axes>"
      ]
     },
     "metadata": {},
     "output_type": "display_data"
    }
   ],
   "source": [
    "plot_r2_scores(dem_no_r2_scores)"
   ]
  },
  {
   "cell_type": "code",
   "execution_count": null,
   "metadata": {},
   "outputs": [],
   "source": []
  }
 ],
 "metadata": {
  "kernelspec": {
   "display_name": "datamining",
   "language": "python",
   "name": "python3"
  },
  "language_info": {
   "codemirror_mode": {
    "name": "ipython",
    "version": 3
   },
   "file_extension": ".py",
   "mimetype": "text/x-python",
   "name": "python",
   "nbconvert_exporter": "python",
   "pygments_lexer": "ipython3",
   "version": "3.12.5"
  }
 },
 "nbformat": 4,
 "nbformat_minor": 2
}
