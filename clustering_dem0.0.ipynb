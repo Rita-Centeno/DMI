{
 "cells": [
  {
   "cell_type": "markdown",
   "metadata": {},
   "source": [
    "# Table of Contents:\n",
    "1. [Library Imports](#li)\n",
    "2. [Data Preparation](#dp)\n",
    "3. [Method Comparison](#mc)\n",
    "4. [K-Means](#km)\n",
    "5. [Hierarchical](#h)\n",
    "6. [DBSCAN](#d)\n",
    "7. [UMAP](#u)"
   ]
  },
  {
   "cell_type": "markdown",
   "metadata": {},
   "source": [
    "# 1. Library Imports\n",
    "<a id='li'></a>"
   ]
  },
  {
   "cell_type": "code",
   "execution_count": null,
   "metadata": {},
   "outputs": [],
   "source": [
    "import pandas as pd\n",
    "import numpy as np\n",
    "from sklearn.cluster import KMeans, DBSCAN\n",
    "from sklearn.preprocessing import RobustScaler, StandardScaler, MinMaxScaler\n",
    "from sklearn.model_selection import train_test_split\n",
    "from collections import Counter\n",
    "from utils2 import *\n",
    "from utils1 import knn_imputer\n",
    "import umap\n",
    "\n",
    "### WARNINGS\n",
    "import warnings\n",
    "warnings.filterwarnings('ignore')\n",
    "\n",
    "### AUTORELOAD\n",
    "%load_ext autoreload\n",
    "%autoreload 2"
   ]
  },
  {
   "cell_type": "markdown",
   "metadata": {},
   "source": [
    "# 2. Data Preparation\n",
    "<a id='dp'></a>"
   ]
  },
  {
   "cell_type": "markdown",
   "metadata": {},
   "source": [
    "#### Import the data"
   ]
  },
  {
   "cell_type": "code",
   "execution_count": 49,
   "metadata": {},
   "outputs": [],
   "source": [
    "data = pd.read_csv('Data/New_Data/project_data_99_educ_perc.csv')"
   ]
  },
  {
   "cell_type": "markdown",
   "metadata": {},
   "source": [
    "#### Encode categorical variables"
   ]
  },
  {
   "cell_type": "code",
   "execution_count": 50,
   "metadata": {},
   "outputs": [],
   "source": [
    "data['relevance_criteria'] = data['relevance_criteria'].replace({'Priority': 2, 'Caution': 1, 'Unknown': 0})\n",
    "data['gender'] = data['gender'].replace({'female': 0, 'male': 1})\n",
    "data['education'] = data['education'].replace({'High School': 0, 'Degree': 1, 'BSc Degree': 2, 'MSc Degree': 3})"
   ]
  },
  {
   "cell_type": "markdown",
   "metadata": {},
   "source": [
    "#### Define metrics to study"
   ]
  },
  {
   "cell_type": "code",
   "execution_count": 51,
   "metadata": {},
   "outputs": [],
   "source": [
    "demographic_metrics_all = ['frequency_items', 'potencial_score', 'longevity_months', 'relevance_criteria', 'recency_in_weeks', 'promotional_percentage', 'returns', 'flaged', 'credit_factor', 'zip_code', 'education', 'gender']\n",
    "demographic_metrics = ['frequency_items', 'potencial_score', 'longevity_months', 'relevance_criteria', 'recency_in_weeks', 'promotional_percentage', 'returns', 'flaged', 'credit_factor', 'zip_code']"
   ]
  },
  {
   "cell_type": "code",
   "execution_count": 52,
   "metadata": {},
   "outputs": [],
   "source": [
    "demographic = data[demographic_metrics_all]\n",
    "demographic_selection = data[demographic_metrics]\n"
   ]
  },
  {
   "cell_type": "markdown",
   "metadata": {},
   "source": [
    "#### Scale the data"
   ]
  },
  {
   "cell_type": "code",
   "execution_count": 53,
   "metadata": {},
   "outputs": [],
   "source": [
    "standard = StandardScaler()\n",
    "minmax = MinMaxScaler()\n",
    "robust = RobustScaler()"
   ]
  },
  {
   "cell_type": "code",
   "execution_count": 54,
   "metadata": {},
   "outputs": [],
   "source": [
    "dem_no_scl = demographic_selection.copy()\n",
    "dem_st_scl = standard.fit_transform(demographic_selection)\n",
    "dem_mm_scl = minmax.fit_transform(demographic_selection)\n",
    "dem_rb_scl = robust.fit_transform(demographic_selection)"
   ]
  },
  {
   "cell_type": "code",
   "execution_count": 55,
   "metadata": {},
   "outputs": [],
   "source": [
    "demographic_no_scl = demographic_selection.copy()\n",
    "demographic_no_scl[demographic_metrics] = dem_no_scl\n",
    "\n",
    "demographic_st_scl = demographic_selection.copy()\n",
    "demographic_st_scl[demographic_metrics] = dem_st_scl\n",
    "\n",
    "demographic_mm_scl = demographic_selection.copy()\n",
    "demographic_mm_scl[demographic_metrics] = dem_mm_scl\n",
    "\n",
    "demographic_rb_scl = demographic_selection.copy()\n",
    "demographic_rb_scl[demographic_metrics] = dem_rb_scl"
   ]
  },
  {
   "cell_type": "code",
   "execution_count": 56,
   "metadata": {},
   "outputs": [],
   "source": [
    "sample_original = demographic.sample(frac=0.2, random_state=1)\n",
    "sample_no_scl = demographic_no_scl.sample(frac=0.2, random_state=1)\n",
    "sample_st_scl = demographic_st_scl.sample(frac=0.2, random_state=1)\n",
    "sample_mm_scl = demographic_mm_scl.sample(frac=0.2, random_state=1)\n",
    "sample_rb_scl = demographic_rb_scl.sample(frac=0.2, random_state=1)"
   ]
  },
  {
   "cell_type": "markdown",
   "metadata": {},
   "source": [
    "# Clustering Method Comparison\n",
    "<a id='mc'></a>"
   ]
  },
  {
   "cell_type": "code",
   "execution_count": 57,
   "metadata": {},
   "outputs": [],
   "source": [
    "kmeans = KMeans(init='k-means++', n_init=10, random_state=1)\n",
    "hierarchical = AgglomerativeClustering(metric='euclidean')"
   ]
  },
  {
   "cell_type": "markdown",
   "metadata": {},
   "source": [
    "### No Scale"
   ]
  },
  {
   "cell_type": "code",
   "execution_count": null,
   "metadata": {},
   "outputs": [],
   "source": [
    "sample_no_scl.columns"
   ]
  },
  {
   "cell_type": "code",
   "execution_count": null,
   "metadata": {},
   "outputs": [],
   "source": [
    "dem_no_r2_scores = get_r2_df(sample_no_scl, demographic_metrics, kmeans, hierarchical)\n",
    "dem_no_r2_scores"
   ]
  },
  {
   "cell_type": "code",
   "execution_count": null,
   "metadata": {},
   "outputs": [],
   "source": [
    "plot_r2_scores(dem_no_r2_scores)"
   ]
  },
  {
   "cell_type": "code",
   "execution_count": null,
   "metadata": {},
   "outputs": [],
   "source": [
    "dem_st_r2_scores = get_r2_df(sample_st_scl, demographic_metrics, kmeans, hierarchical)\n",
    "dem_st_r2_scores"
   ]
  },
  {
   "cell_type": "code",
   "execution_count": null,
   "metadata": {},
   "outputs": [],
   "source": [
    "plot_r2_scores(dem_st_r2_scores)"
   ]
  },
  {
   "cell_type": "code",
   "execution_count": null,
   "metadata": {},
   "outputs": [],
   "source": [
    "dem_mm_r2_scores = get_r2_df(sample_mm_scl, demographic_metrics, kmeans, hierarchical)\n",
    "dem_mm_r2_scores"
   ]
  },
  {
   "cell_type": "code",
   "execution_count": null,
   "metadata": {},
   "outputs": [],
   "source": [
    "plot_r2_scores(dem_mm_r2_scores)"
   ]
  },
  {
   "cell_type": "code",
   "execution_count": null,
   "metadata": {},
   "outputs": [],
   "source": [
    "dem_rb_r2_scores = get_r2_df(sample_rb_scl, demographic_metrics, kmeans, hierarchical)\n",
    "dem_rb_r2_scores"
   ]
  },
  {
   "cell_type": "code",
   "execution_count": null,
   "metadata": {},
   "outputs": [],
   "source": [
    "plot_r2_scores(dem_rb_r2_scores)"
   ]
  },
  {
   "cell_type": "markdown",
   "metadata": {},
   "source": [
    "# SEM ALGUMAS VARIAVEIS (flagged, relevance criteria)"
   ]
  },
  {
   "cell_type": "code",
   "execution_count": null,
   "metadata": {},
   "outputs": [],
   "source": [
    "dem_no_r2_scores_s = get_r2_df(sample_no_scl, demographic_metrics_selection, kmeans, hierarchical)\n",
    "dem_no_r2_scores_s"
   ]
  },
  {
   "cell_type": "code",
   "execution_count": null,
   "metadata": {},
   "outputs": [],
   "source": [
    "plot_r2_scores(dem_no_r2_scores_s)"
   ]
  },
  {
   "cell_type": "code",
   "execution_count": null,
   "metadata": {},
   "outputs": [],
   "source": [
    "dem_st_r2_scores_s = get_r2_df(sample_st_scl, demographic_metrics_selection, kmeans, hierarchical)\n",
    "dem_st_r2_scores_s"
   ]
  },
  {
   "cell_type": "code",
   "execution_count": null,
   "metadata": {},
   "outputs": [],
   "source": [
    "plot_r2_scores(dem_st_r2_scores_s)"
   ]
  },
  {
   "cell_type": "code",
   "execution_count": null,
   "metadata": {},
   "outputs": [],
   "source": [
    "dem_mm_r2_scores_s = get_r2_df(sample_mm_scl, demographic_metrics_selection, kmeans, hierarchical)\n",
    "dem_mm_r2_scores_s"
   ]
  },
  {
   "cell_type": "code",
   "execution_count": null,
   "metadata": {},
   "outputs": [],
   "source": [
    "plot_r2_scores(dem_mm_r2_scores_s)"
   ]
  },
  {
   "cell_type": "code",
   "execution_count": null,
   "metadata": {},
   "outputs": [],
   "source": [
    "dem_rb_r2_scores_s = get_r2_df(sample_rb_scl, demographic_metrics_selection, kmeans, hierarchical)\n",
    "dem_rb_r2_scores_s"
   ]
  },
  {
   "cell_type": "code",
   "execution_count": null,
   "metadata": {},
   "outputs": [],
   "source": [
    "plot_r2_scores(dem_rb_r2_scores_s)"
   ]
  },
  {
   "cell_type": "code",
   "execution_count": null,
   "metadata": {},
   "outputs": [],
   "source": [
    "# Prefix the names of the columns\n",
    "df_no_prefixed = dem_no_r2_scores.add_prefix(\"no_\")\n",
    "df_st_prefixed = dem_st_r2_scores.add_prefix(\"st_\")\n",
    "df_mm_prefixed = dem_mm_r2_scores.add_prefix(\"mm_\")\n",
    "df_rb_prefixed = dem_rb_r2_scores.add_prefix(\"rb_\")\n",
    "\n",
    "# Concatenate the dataframes\n",
    "df_combined = pd.concat([df_no_prefixed, df_st_prefixed, df_mm_prefixed, df_rb_prefixed], axis=1)\n",
    "\n",
    "# Filter ward and kmeans columns\n",
    "filtered_columns = [col for col in df_combined.columns if 'ward' in col or 'kmeans' in col]\n",
    "\n",
    "# Create a new dataframe with only the filtered columns\n",
    "df_filtered = df_combined[filtered_columns]\n",
    "df_filtered"
   ]
  },
  {
   "cell_type": "code",
   "execution_count": null,
   "metadata": {},
   "outputs": [],
   "source": [
    "plot_r2_scores(df_filtered)"
   ]
  },
  {
   "cell_type": "code",
   "execution_count": null,
   "metadata": {},
   "outputs": [],
   "source": [
    "# Prefix the names of the columns\n",
    "df_no_prefixed_s = dem_no_r2_scores_s.add_prefix(\"no_\")\n",
    "df_st_prefixed_s = dem_st_r2_scores_s.add_prefix(\"st_\")\n",
    "df_mm_prefixed_s = dem_mm_r2_scores_s.add_prefix(\"mm_\")\n",
    "df_rb_prefixed_s = dem_rb_r2_scores_s.add_prefix(\"rb_\")\n",
    "\n",
    "# Concatenate the dataframes\n",
    "df_combined_s = pd.concat([df_no_prefixed_s, df_st_prefixed_s, df_mm_prefixed_s, df_rb_prefixed_s], axis=1)\n",
    "\n",
    "# Filter ward and kmeans columns\n",
    "filtered_columns_s = [col for col in df_combined_s.columns if 'ward' in col or 'kmeans' in col]\n",
    "\n",
    "# Create a new dataframe with only the filtered columns\n",
    "df_filtered_s = df_combined_s[filtered_columns_s]\n",
    "df_filtered_s"
   ]
  },
  {
   "cell_type": "code",
   "execution_count": null,
   "metadata": {},
   "outputs": [],
   "source": [
    "df_filtered_s.columns"
   ]
  },
  {
   "cell_type": "code",
   "execution_count": null,
   "metadata": {},
   "outputs": [],
   "source": [
    "plot_r2_scores(df_filtered_s)"
   ]
  },
  {
   "cell_type": "code",
   "execution_count": null,
   "metadata": {},
   "outputs": [],
   "source": [
    "plot_r2_scores(df_filtered_s[['st_kmeans', 'st_ward', 'mm_kmeans', 'mm_ward',\n",
    "       'rb_kmeans', 'rb_ward']])"
   ]
  },
  {
   "cell_type": "code",
   "execution_count": null,
   "metadata": {},
   "outputs": [],
   "source": [
    "demographic"
   ]
  },
  {
   "cell_type": "markdown",
   "metadata": {},
   "source": [
    "---"
   ]
  },
  {
   "cell_type": "markdown",
   "metadata": {},
   "source": [
    "# 4. Clustering\n",
    "<a id='cl'></a>"
   ]
  },
  {
   "cell_type": "markdown",
   "metadata": {},
   "source": [
    "In the notebook, the cluster analysis is grouped by data inputs - no scaling, standard scaler, minmax scaler, robust scaler. In each group, *n* methods of clustering were used and they are presented in this order:\n",
    "1. [KMeans](#km)\n",
    "2. [Ward (Hierarchical)](#wh)\n",
    "3. [DBScan](#dbs)\n",
    "\n",
    "In the end, it was possible to identify groups that recurrently appeared in the clustering solutions, and based on this, *x* solutions were chosen to be further studied."
   ]
  },
  {
   "cell_type": "markdown",
   "metadata": {},
   "source": [
    "## 4.1. K-means <a id='km'></a>"
   ]
  },
  {
   "cell_type": "markdown",
   "metadata": {},
   "source": [
    "In this section, the k-means algorithm was tested with the data inputs previously mentioned. For each of the data inputs inertia and silhuette plots were done in order to decide which number of cluester were going to be considered for testing. Then, the clusters formed were analysed and clustering solutions compared. The tests for each data input were presented in the following order:\n",
    "1. [No Scaler](#km-no)\n",
    "2. [Standard Scaler](#km-st)\n",
    "3. [MinMax Scaler](#km-mm)\n",
    "4. [Robust Scaler](#km-rb)"
   ]
  },
  {
   "cell_type": "markdown",
   "metadata": {},
   "source": [
    "### No Scaler <a id='km-no'></a>"
   ]
  },
  {
   "cell_type": "markdown",
   "metadata": {},
   "source": [
    "#### Plot"
   ]
  },
  {
   "cell_type": "code",
   "execution_count": 58,
   "metadata": {},
   "outputs": [
    {
     "data": {
      "image/png": "[encoded data removed]",
      "text/plain": [
       "<Figure size 640x480 with 2 Axes>"
      ]
     },
     "metadata": {},
     "output_type": "display_data"
    }
   ],
   "source": [
    "plot_inertia_and_silhouette(sample_no_scl, 2, 10)"
   ]
  },
  {
   "cell_type": "markdown",
   "metadata": {},
   "source": [
    "#### Models"
   ]
  },
  {
   "cell_type": "markdown",
   "metadata": {},
   "source": [
    "##### 3 clusters"
   ]
  },
  {
   "cell_type": "code",
   "execution_count": 59,
   "metadata": {},
   "outputs": [],
   "source": [
    "kmeans = KMeans(n_clusters = 3, init='k-means++', n_init=20,  random_state = 1).fit(sample_no_scl)\n",
    "sample_original['no_kmeans3'] = kmeans.predict(sample_no_scl)"
   ]
  },
  {
   "cell_type": "code",
   "execution_count": 60,
   "metadata": {},
   "outputs": [
    {
     "name": "stdout",
     "output_type": "stream",
     "text": [
      "# observations per cluster: [18320, 5493, 613]\n"
     ]
    },
    {
     "data": {
      "text/html": [
       "<style type=\"text/css\">\n",
       "#T_23386_row0_col0, #T_23386_row1_col1, #T_23386_row6_col2 {\n",
       "  background-color: #023858;\n",
       "  color: #f1f1f1;\n",
       "}\n",
       "#T_23386_row0_col1 {\n",
       "  background-color: #71a8ce;\n",
       "  color: #f1f1f1;\n",
       "}\n",
       "#T_23386_row0_col2 {\n",
       "  background-color: #b8c6e0;\n",
       "  color: #000000;\n",
       "}\n",
       "#T_23386_row1_col0 {\n",
       "  background-color: #a9bfdc;\n",
       "  color: #000000;\n",
       "}\n",
       "#T_23386_row1_col2 {\n",
       "  background-color: #afc1dd;\n",
       "  color: #000000;\n",
       "}\n",
       "#T_23386_row2_col0 {\n",
       "  background-color: #a1bbda;\n",
       "  color: #000000;\n",
       "}\n",
       "#T_23386_row2_col1 {\n",
       "  background-color: #dad9ea;\n",
       "  color: #000000;\n",
       "}\n",
       "#T_23386_row2_col2 {\n",
       "  background-color: #e9e5f1;\n",
       "  color: #000000;\n",
       "}\n",
       "#T_23386_row3_col0 {\n",
       "  background-color: #f7f0f7;\n",
       "  color: #000000;\n",
       "}\n",
       "#T_23386_row3_col1, #T_23386_row8_col0 {\n",
       "  background-color: #fbf4f9;\n",
       "  color: #000000;\n",
       "}\n",
       "#T_23386_row3_col2, #T_23386_row6_col0, #T_23386_row6_col1, #T_23386_row10_col1 {\n",
       "  background-color: #fdf5fa;\n",
       "  color: #000000;\n",
       "}\n",
       "#T_23386_row4_col0 {\n",
       "  background-color: #97b7d7;\n",
       "  color: #000000;\n",
       "}\n",
       "#T_23386_row4_col1 {\n",
       "  background-color: #dfddec;\n",
       "  color: #000000;\n",
       "}\n",
       "#T_23386_row4_col2 {\n",
       "  background-color: #ede7f2;\n",
       "  color: #000000;\n",
       "}\n",
       "#T_23386_row5_col0 {\n",
       "  background-color: #c2cbe2;\n",
       "  color: #000000;\n",
       "}\n",
       "#T_23386_row5_col1 {\n",
       "  background-color: #e7e3f0;\n",
       "  color: #000000;\n",
       "}\n",
       "#T_23386_row5_col2 {\n",
       "  background-color: #d8d7e9;\n",
       "  color: #000000;\n",
       "}\n",
       "#T_23386_row7_col0, #T_23386_row7_col1, #T_23386_row7_col2, #T_23386_row11_col2 {\n",
       "  background-color: #fff7fb;\n",
       "  color: #000000;\n",
       "}\n",
       "#T_23386_row8_col1, #T_23386_row11_col0 {\n",
       "  background-color: #fef6fa;\n",
       "  color: #000000;\n",
       "}\n",
       "#T_23386_row8_col2, #T_23386_row10_col2, #T_23386_row11_col1 {\n",
       "  background-color: #fef6fb;\n",
       "  color: #000000;\n",
       "}\n",
       "#T_23386_row9_col0 {\n",
       "  background-color: #f0eaf4;\n",
       "  color: #000000;\n",
       "}\n",
       "#T_23386_row9_col1 {\n",
       "  background-color: #f1ebf4;\n",
       "  color: #000000;\n",
       "}\n",
       "#T_23386_row9_col2 {\n",
       "  background-color: #f8f1f8;\n",
       "  color: #000000;\n",
       "}\n",
       "#T_23386_row10_col0 {\n",
       "  background-color: #faf3f9;\n",
       "  color: #000000;\n",
       "}\n",
       "</style>\n",
       "<table id=\"T_23386\">\n",
       "  <thead>\n",
       "    <tr>\n",
       "      <th class=\"index_name level0\" >no_kmeans3</th>\n",
       "      <th id=\"T_23386_level0_col0\" class=\"col_heading level0 col0\" >0</th>\n",
       "      <th id=\"T_23386_level0_col1\" class=\"col_heading level0 col1\" >1</th>\n",
       "      <th id=\"T_23386_level0_col2\" class=\"col_heading level0 col2\" >2</th>\n",
       "    </tr>\n",
       "  </thead>\n",
       "  <tbody>\n",
       "    <tr>\n",
       "      <th id=\"T_23386_level0_row0\" class=\"row_heading level0 row0\" >frequency_items</th>\n",
       "      <td id=\"T_23386_row0_col0\" class=\"data row0 col0\" >37.450000</td>\n",
       "      <td id=\"T_23386_row0_col1\" class=\"data row0 col1\" >40.600000</td>\n",
       "      <td id=\"T_23386_row0_col2\" class=\"data row0 col2\" >38.000000</td>\n",
       "    </tr>\n",
       "    <tr>\n",
       "      <th id=\"T_23386_level0_row1\" class=\"row_heading level0 row1\" >potencial_score</th>\n",
       "      <td id=\"T_23386_row1_col0\" class=\"data row1 col0\" >13.610000</td>\n",
       "      <td id=\"T_23386_row1_col1\" class=\"data row1 col1\" >80.220000</td>\n",
       "      <td id=\"T_23386_row1_col2\" class=\"data row1 col2\" >41.020000</td>\n",
       "    </tr>\n",
       "    <tr>\n",
       "      <th id=\"T_23386_level0_row2\" class=\"row_heading level0 row2\" >longevity_months</th>\n",
       "      <td id=\"T_23386_row2_col0\" class=\"data row2 col0\" >14.490000</td>\n",
       "      <td id=\"T_23386_row2_col1\" class=\"data row2 col1\" >16.480000</td>\n",
       "      <td id=\"T_23386_row2_col2\" class=\"data row2 col2\" >16.610000</td>\n",
       "    </tr>\n",
       "    <tr>\n",
       "      <th id=\"T_23386_level0_row3\" class=\"row_heading level0 row3\" >relevance_criteria</th>\n",
       "      <td id=\"T_23386_row3_col0\" class=\"data row3 col0\" >1.930000</td>\n",
       "      <td id=\"T_23386_row3_col1\" class=\"data row3 col1\" >1.920000</td>\n",
       "      <td id=\"T_23386_row3_col2\" class=\"data row3 col2\" >1.850000</td>\n",
       "    </tr>\n",
       "    <tr>\n",
       "      <th id=\"T_23386_level0_row4\" class=\"row_heading level0 row4\" >recency_in_weeks</th>\n",
       "      <td id=\"T_23386_row4_col0\" class=\"data row4 col0\" >15.430000</td>\n",
       "      <td id=\"T_23386_row4_col1\" class=\"data row4 col1\" >14.820000</td>\n",
       "      <td id=\"T_23386_row4_col2\" class=\"data row4 col2\" >14.430000</td>\n",
       "    </tr>\n",
       "    <tr>\n",
       "      <th id=\"T_23386_level0_row5\" class=\"row_heading level0 row5\" >promotional_percentage</th>\n",
       "      <td id=\"T_23386_row5_col0\" class=\"data row5 col0\" >10.840000</td>\n",
       "      <td id=\"T_23386_row5_col1\" class=\"data row5 col1\" >12.100000</td>\n",
       "      <td id=\"T_23386_row5_col2\" class=\"data row5 col2\" >25.560000</td>\n",
       "    </tr>\n",
       "    <tr>\n",
       "      <th id=\"T_23386_level0_row6\" class=\"row_heading level0 row6\" >returns</th>\n",
       "      <td id=\"T_23386_row6_col0\" class=\"data row6 col0\" >0.550000</td>\n",
       "      <td id=\"T_23386_row6_col1\" class=\"data row6 col1\" >1.210000</td>\n",
       "      <td id=\"T_23386_row6_col2\" class=\"data row6 col2\" >117.770000</td>\n",
       "    </tr>\n",
       "    <tr>\n",
       "      <th id=\"T_23386_level0_row7\" class=\"row_heading level0 row7\" >flaged</th>\n",
       "      <td id=\"T_23386_row7_col0\" class=\"data row7 col0\" >0.000000</td>\n",
       "      <td id=\"T_23386_row7_col1\" class=\"data row7 col1\" >0.010000</td>\n",
       "      <td id=\"T_23386_row7_col2\" class=\"data row7 col2\" >0.100000</td>\n",
       "    </tr>\n",
       "    <tr>\n",
       "      <th id=\"T_23386_level0_row8\" class=\"row_heading level0 row8\" >credit_factor</th>\n",
       "      <td id=\"T_23386_row8_col0\" class=\"data row8 col0\" >0.930000</td>\n",
       "      <td id=\"T_23386_row8_col1\" class=\"data row8 col1\" >0.800000</td>\n",
       "      <td id=\"T_23386_row8_col2\" class=\"data row8 col2\" >0.980000</td>\n",
       "    </tr>\n",
       "    <tr>\n",
       "      <th id=\"T_23386_level0_row9\" class=\"row_heading level0 row9\" >zip_code</th>\n",
       "      <td id=\"T_23386_row9_col0\" class=\"data row9 col0\" >3.720000</td>\n",
       "      <td id=\"T_23386_row9_col1\" class=\"data row9 col1\" >7.680000</td>\n",
       "      <td id=\"T_23386_row9_col2\" class=\"data row9 col2\" >5.540000</td>\n",
       "    </tr>\n",
       "    <tr>\n",
       "      <th id=\"T_23386_level0_row10\" class=\"row_heading level0 row10\" >education</th>\n",
       "      <td id=\"T_23386_row10_col0\" class=\"data row10 col0\" >1.180000</td>\n",
       "      <td id=\"T_23386_row10_col1\" class=\"data row10 col1\" >1.010000</td>\n",
       "      <td id=\"T_23386_row10_col2\" class=\"data row10 col2\" >0.860000</td>\n",
       "    </tr>\n",
       "    <tr>\n",
       "      <th id=\"T_23386_level0_row11\" class=\"row_heading level0 row11\" >gender</th>\n",
       "      <td id=\"T_23386_row11_col0\" class=\"data row11 col0\" >0.380000</td>\n",
       "      <td id=\"T_23386_row11_col1\" class=\"data row11 col1\" >0.360000</td>\n",
       "      <td id=\"T_23386_row11_col2\" class=\"data row11 col2\" >0.390000</td>\n",
       "    </tr>\n",
       "  </tbody>\n",
       "</table>\n"
      ],
      "text/plain": [
       "<pandas.io.formats.style.Styler at 0x1d0bb7872c0>"
      ]
     },
     "execution_count": 60,
     "metadata": {},
     "output_type": "execute_result"
    }
   ],
   "source": [
    "groupby_mean(sample_original, 'no_kmeans3', True)"
   ]
  },
  {
   "cell_type": "markdown",
   "metadata": {},
   "source": [
    "##### 4 clusters"
   ]
  },
  {
   "cell_type": "code",
   "execution_count": 61,
   "metadata": {},
   "outputs": [],
   "source": [
    "kmeans = KMeans(n_clusters = 4, init='k-means++', n_init=20,  random_state = 1).fit(sample_no_scl)\n",
    "sample_original['no_kmeans4'] = kmeans.predict(sample_no_scl)"
   ]
  },
  {
   "cell_type": "code",
   "execution_count": 62,
   "metadata": {},
   "outputs": [
    {
     "name": "stdout",
     "output_type": "stream",
     "text": [
      "# observations per cluster: [10148, 5496, 8201, 581]\n"
     ]
    },
    {
     "data": {
      "text/html": [
       "<style type=\"text/css\">\n",
       "#T_1f245_row0_col0, #T_1f245_row0_col2, #T_1f245_row1_col1, #T_1f245_row6_col3 {\n",
       "  background-color: #023858;\n",
       "  color: #f1f1f1;\n",
       "}\n",
       "#T_1f245_row0_col1 {\n",
       "  background-color: #71a8ce;\n",
       "  color: #f1f1f1;\n",
       "}\n",
       "#T_1f245_row0_col3 {\n",
       "  background-color: #bbc7e0;\n",
       "  color: #000000;\n",
       "}\n",
       "#T_1f245_row1_col0, #T_1f245_row3_col3, #T_1f245_row6_col1, #T_1f245_row6_col2, #T_1f245_row9_col0, #T_1f245_row10_col1, #T_1f245_row12_col1, #T_1f245_row12_col3 {\n",
       "  background-color: #fdf5fa;\n",
       "  color: #000000;\n",
       "}\n",
       "#T_1f245_row1_col2 {\n",
       "  background-color: #046096;\n",
       "  color: #f1f1f1;\n",
       "}\n",
       "#T_1f245_row1_col3 {\n",
       "  background-color: #afc1dd;\n",
       "  color: #000000;\n",
       "}\n",
       "#T_1f245_row2_col0 {\n",
       "  background-color: #b7c5df;\n",
       "  color: #000000;\n",
       "}\n",
       "#T_1f245_row2_col1 {\n",
       "  background-color: #dad9ea;\n",
       "  color: #000000;\n",
       "}\n",
       "#T_1f245_row2_col2 {\n",
       "  background-color: #81aed2;\n",
       "  color: #f1f1f1;\n",
       "}\n",
       "#T_1f245_row2_col3 {\n",
       "  background-color: #e9e5f1;\n",
       "  color: #000000;\n",
       "}\n",
       "#T_1f245_row3_col0, #T_1f245_row9_col3 {\n",
       "  background-color: #f8f1f8;\n",
       "  color: #000000;\n",
       "}\n",
       "#T_1f245_row3_col1, #T_1f245_row8_col0 {\n",
       "  background-color: #fbf4f9;\n",
       "  color: #000000;\n",
       "}\n",
       "#T_1f245_row3_col2 {\n",
       "  background-color: #f7f0f7;\n",
       "  color: #000000;\n",
       "}\n",
       "#T_1f245_row4_col0 {\n",
       "  background-color: #9cb9d9;\n",
       "  color: #000000;\n",
       "}\n",
       "#T_1f245_row4_col1 {\n",
       "  background-color: #dfddec;\n",
       "  color: #000000;\n",
       "}\n",
       "#T_1f245_row4_col2 {\n",
       "  background-color: #8fb4d6;\n",
       "  color: #000000;\n",
       "}\n",
       "#T_1f245_row4_col3 {\n",
       "  background-color: #ede8f3;\n",
       "  color: #000000;\n",
       "}\n",
       "#T_1f245_row5_col0 {\n",
       "  background-color: #c1cae2;\n",
       "  color: #000000;\n",
       "}\n",
       "#T_1f245_row5_col1 {\n",
       "  background-color: #e7e3f0;\n",
       "  color: #000000;\n",
       "}\n",
       "#T_1f245_row5_col2 {\n",
       "  background-color: #c5cce3;\n",
       "  color: #000000;\n",
       "}\n",
       "#T_1f245_row5_col3 {\n",
       "  background-color: #d9d8ea;\n",
       "  color: #000000;\n",
       "}\n",
       "#T_1f245_row6_col0, #T_1f245_row8_col2 {\n",
       "  background-color: #fcf4fa;\n",
       "  color: #000000;\n",
       "}\n",
       "#T_1f245_row7_col0, #T_1f245_row7_col1, #T_1f245_row7_col2, #T_1f245_row7_col3, #T_1f245_row11_col3, #T_1f245_row12_col0, #T_1f245_row12_col2 {\n",
       "  background-color: #fff7fb;\n",
       "  color: #000000;\n",
       "}\n",
       "#T_1f245_row8_col1, #T_1f245_row11_col0, #T_1f245_row11_col2 {\n",
       "  background-color: #fef6fa;\n",
       "  color: #000000;\n",
       "}\n",
       "#T_1f245_row8_col3, #T_1f245_row10_col3, #T_1f245_row11_col1 {\n",
       "  background-color: #fef6fb;\n",
       "  color: #000000;\n",
       "}\n",
       "#T_1f245_row9_col1 {\n",
       "  background-color: #f1ebf4;\n",
       "  color: #000000;\n",
       "}\n",
       "#T_1f245_row9_col2 {\n",
       "  background-color: #d8d7e9;\n",
       "  color: #000000;\n",
       "}\n",
       "#T_1f245_row10_col0 {\n",
       "  background-color: #faf3f9;\n",
       "  color: #000000;\n",
       "}\n",
       "#T_1f245_row10_col2 {\n",
       "  background-color: #fbf3f9;\n",
       "  color: #000000;\n",
       "}\n",
       "</style>\n",
       "<table id=\"T_1f245\">\n",
       "  <thead>\n",
       "    <tr>\n",
       "      <th class=\"index_name level0\" >no_kmeans4</th>\n",
       "      <th id=\"T_1f245_level0_col0\" class=\"col_heading level0 col0\" >0</th>\n",
       "      <th id=\"T_1f245_level0_col1\" class=\"col_heading level0 col1\" >1</th>\n",
       "      <th id=\"T_1f245_level0_col2\" class=\"col_heading level0 col2\" >2</th>\n",
       "      <th id=\"T_1f245_level0_col3\" class=\"col_heading level0 col3\" >3</th>\n",
       "    </tr>\n",
       "  </thead>\n",
       "  <tbody>\n",
       "    <tr>\n",
       "      <th id=\"T_1f245_level0_row0\" class=\"row_heading level0 row0\" >frequency_items</th>\n",
       "      <td id=\"T_1f245_row0_col0\" class=\"data row0 col0\" >39.300000</td>\n",
       "      <td id=\"T_1f245_row0_col1\" class=\"data row0 col1\" >40.600000</td>\n",
       "      <td id=\"T_1f245_row0_col2\" class=\"data row0 col2\" >35.180000</td>\n",
       "      <td id=\"T_1f245_row0_col3\" class=\"data row0 col3\" >37.850000</td>\n",
       "    </tr>\n",
       "    <tr>\n",
       "      <th id=\"T_1f245_level0_row1\" class=\"row_heading level0 row1\" >potencial_score</th>\n",
       "      <td id=\"T_1f245_row1_col0\" class=\"data row1 col0\" >0.630000</td>\n",
       "      <td id=\"T_1f245_row1_col1\" class=\"data row1 col1\" >80.220000</td>\n",
       "      <td id=\"T_1f245_row1_col2\" class=\"data row1 col2\" >29.660000</td>\n",
       "      <td id=\"T_1f245_row1_col3\" class=\"data row1 col3\" >42.360000</td>\n",
       "    </tr>\n",
       "    <tr>\n",
       "      <th id=\"T_1f245_level0_row2\" class=\"row_heading level0 row2\" >longevity_months</th>\n",
       "      <td id=\"T_1f245_row2_col0\" class=\"data row2 col0\" >12.890000</td>\n",
       "      <td id=\"T_1f245_row2_col1\" class=\"data row2 col1\" >16.480000</td>\n",
       "      <td id=\"T_1f245_row2_col2\" class=\"data row2 col2\" >16.470000</td>\n",
       "      <td id=\"T_1f245_row2_col3\" class=\"data row2 col3\" >16.720000</td>\n",
       "    </tr>\n",
       "    <tr>\n",
       "      <th id=\"T_1f245_level0_row3\" class=\"row_heading level0 row3\" >relevance_criteria</th>\n",
       "      <td id=\"T_1f245_row3_col0\" class=\"data row3 col0\" >1.920000</td>\n",
       "      <td id=\"T_1f245_row3_col1\" class=\"data row3 col1\" >1.920000</td>\n",
       "      <td id=\"T_1f245_row3_col2\" class=\"data row3 col2\" >1.930000</td>\n",
       "      <td id=\"T_1f245_row3_col3\" class=\"data row3 col3\" >1.860000</td>\n",
       "    </tr>\n",
       "    <tr>\n",
       "      <th id=\"T_1f245_level0_row4\" class=\"row_heading level0 row4\" >recency_in_weeks</th>\n",
       "      <td id=\"T_1f245_row4_col0\" class=\"data row4 col0\" >15.660000</td>\n",
       "      <td id=\"T_1f245_row4_col1\" class=\"data row4 col1\" >14.820000</td>\n",
       "      <td id=\"T_1f245_row4_col2\" class=\"data row4 col2\" >15.150000</td>\n",
       "      <td id=\"T_1f245_row4_col3\" class=\"data row4 col3\" >14.450000</td>\n",
       "    </tr>\n",
       "    <tr>\n",
       "      <th id=\"T_1f245_level0_row5\" class=\"row_heading level0 row5\" >promotional_percentage</th>\n",
       "      <td id=\"T_1f245_row5_col0\" class=\"data row5 col0\" >11.570000</td>\n",
       "      <td id=\"T_1f245_row5_col1\" class=\"data row5 col1\" >12.110000</td>\n",
       "      <td id=\"T_1f245_row5_col2\" class=\"data row5 col2\" >9.990000</td>\n",
       "      <td id=\"T_1f245_row5_col3\" class=\"data row5 col3\" >25.670000</td>\n",
       "    </tr>\n",
       "    <tr>\n",
       "      <th id=\"T_1f245_level0_row6\" class=\"row_heading level0 row6\" >returns</th>\n",
       "      <td id=\"T_1f245_row6_col0\" class=\"data row6 col0\" >0.840000</td>\n",
       "      <td id=\"T_1f245_row6_col1\" class=\"data row6 col1\" >1.240000</td>\n",
       "      <td id=\"T_1f245_row6_col2\" class=\"data row6 col2\" >0.420000</td>\n",
       "      <td id=\"T_1f245_row6_col3\" class=\"data row6 col3\" >120.730000</td>\n",
       "    </tr>\n",
       "    <tr>\n",
       "      <th id=\"T_1f245_level0_row7\" class=\"row_heading level0 row7\" >flaged</th>\n",
       "      <td id=\"T_1f245_row7_col0\" class=\"data row7 col0\" >0.000000</td>\n",
       "      <td id=\"T_1f245_row7_col1\" class=\"data row7 col1\" >0.010000</td>\n",
       "      <td id=\"T_1f245_row7_col2\" class=\"data row7 col2\" >0.000000</td>\n",
       "      <td id=\"T_1f245_row7_col3\" class=\"data row7 col3\" >0.100000</td>\n",
       "    </tr>\n",
       "    <tr>\n",
       "      <th id=\"T_1f245_level0_row8\" class=\"row_heading level0 row8\" >credit_factor</th>\n",
       "      <td id=\"T_1f245_row8_col0\" class=\"data row8 col0\" >1.020000</td>\n",
       "      <td id=\"T_1f245_row8_col1\" class=\"data row8 col1\" >0.800000</td>\n",
       "      <td id=\"T_1f245_row8_col2\" class=\"data row8 col2\" >0.820000</td>\n",
       "      <td id=\"T_1f245_row8_col3\" class=\"data row8 col3\" >1.000000</td>\n",
       "    </tr>\n",
       "    <tr>\n",
       "      <th id=\"T_1f245_level0_row9\" class=\"row_heading level0 row9\" >zip_code</th>\n",
       "      <td id=\"T_1f245_row9_col0\" class=\"data row9 col0\" >0.520000</td>\n",
       "      <td id=\"T_1f245_row9_col1\" class=\"data row9 col1\" >7.680000</td>\n",
       "      <td id=\"T_1f245_row9_col2\" class=\"data row9 col2\" >7.670000</td>\n",
       "      <td id=\"T_1f245_row9_col3\" class=\"data row9 col3\" >5.670000</td>\n",
       "    </tr>\n",
       "    <tr>\n",
       "      <th id=\"T_1f245_level0_row10\" class=\"row_heading level0 row10\" >education</th>\n",
       "      <td id=\"T_1f245_row10_col0\" class=\"data row10 col0\" >1.260000</td>\n",
       "      <td id=\"T_1f245_row10_col1\" class=\"data row10 col1\" >1.010000</td>\n",
       "      <td id=\"T_1f245_row10_col2\" class=\"data row10 col2\" >1.070000</td>\n",
       "      <td id=\"T_1f245_row10_col3\" class=\"data row10 col3\" >0.860000</td>\n",
       "    </tr>\n",
       "    <tr>\n",
       "      <th id=\"T_1f245_level0_row11\" class=\"row_heading level0 row11\" >gender</th>\n",
       "      <td id=\"T_1f245_row11_col0\" class=\"data row11 col0\" >0.380000</td>\n",
       "      <td id=\"T_1f245_row11_col1\" class=\"data row11 col1\" >0.360000</td>\n",
       "      <td id=\"T_1f245_row11_col2\" class=\"data row11 col2\" >0.380000</td>\n",
       "      <td id=\"T_1f245_row11_col3\" class=\"data row11 col3\" >0.380000</td>\n",
       "    </tr>\n",
       "    <tr>\n",
       "      <th id=\"T_1f245_level0_row12\" class=\"row_heading level0 row12\" >no_kmeans3</th>\n",
       "      <td id=\"T_1f245_row12_col0\" class=\"data row12 col0\" >0.000000</td>\n",
       "      <td id=\"T_1f245_row12_col1\" class=\"data row12 col1\" >1.000000</td>\n",
       "      <td id=\"T_1f245_row12_col2\" class=\"data row12 col2\" >0.000000</td>\n",
       "      <td id=\"T_1f245_row12_col3\" class=\"data row12 col3\" >2.000000</td>\n",
       "    </tr>\n",
       "  </tbody>\n",
       "</table>\n"
      ],
      "text/plain": [
       "<pandas.io.formats.style.Styler at 0x1d0c0475c70>"
      ]
     },
     "execution_count": 62,
     "metadata": {},
     "output_type": "execute_result"
    }
   ],
   "source": [
    "groupby_mean(sample_original, 'no_kmeans4', True)"
   ]
  },
  {
   "cell_type": "code",
   "execution_count": 65,
   "metadata": {},
   "outputs": [
    {
     "data": {
      "image/png": "[encoded data removed]",
      "text/plain": [
       "<Figure size 640x480 with 1 Axes>"
      ]
     },
     "metadata": {},
     "output_type": "display_data"
    }
   ],
   "source": [
    "visualize_dimensionality_reduction(umap_embedding_no, sample_original['no_kmeans4'])"
   ]
  },
  {
   "cell_type": "markdown",
   "metadata": {},
   "source": [
    "#### Comparison"
   ]
  },
  {
   "cell_type": "code",
   "execution_count": null,
   "metadata": {},
   "outputs": [],
   "source": [
    "clusters_comparison(sample_original, 'no_kmeans4', 'no_kmeans3')"
   ]
  },
  {
   "cell_type": "code",
   "execution_count": null,
   "metadata": {},
   "outputs": [],
   "source": [
    "clusters_comparison(sample_original, 'no_kmeans6', 'no_kmeans4')"
   ]
  },
  {
   "cell_type": "markdown",
   "metadata": {},
   "source": [
    "### Standard Scaler <a id='km-st'></a>"
   ]
  },
  {
   "cell_type": "markdown",
   "metadata": {},
   "source": [
    "#### Plot"
   ]
  },
  {
   "cell_type": "code",
   "execution_count": 66,
   "metadata": {},
   "outputs": [
    {
     "data": {
      "image/png": "[encoded data removed]",
      "text/plain": [
       "<Figure size 640x480 with 2 Axes>"
      ]
     },
     "metadata": {},
     "output_type": "display_data"
    }
   ],
   "source": [
    "plot_inertia_and_silhouette(sample_st_scl, 2, 10)"
   ]
  },
  {
   "cell_type": "markdown",
   "metadata": {},
   "source": [
    "#### Models"
   ]
  },
  {
   "cell_type": "markdown",
   "metadata": {},
   "source": [
    "##### 3 clusters"
   ]
  },
  {
   "cell_type": "code",
   "execution_count": 67,
   "metadata": {},
   "outputs": [],
   "source": [
    "kmeans = KMeans(n_clusters = 3, init='k-means++', n_init=20,  random_state = 1).fit(sample_st_scl)\n",
    "sample_original['st_kmeans3'] = kmeans.predict(sample_st_scl)"
   ]
  },
  {
   "cell_type": "code",
   "execution_count": 68,
   "metadata": {},
   "outputs": [
    {
     "name": "stdout",
     "output_type": "stream",
     "text": [
      "# observations per cluster: [9772, 14445, 209]\n"
     ]
    },
    {
     "data": {
      "text/html": [
       "<style type=\"text/css\">\n",
       "#T_723f7_row0_col0, #T_723f7_row1_col1, #T_723f7_row1_col2 {\n",
       "  background-color: #023858;\n",
       "  color: #f1f1f1;\n",
       "}\n",
       "#T_723f7_row0_col1 {\n",
       "  background-color: #056ba9;\n",
       "  color: #f1f1f1;\n",
       "}\n",
       "#T_723f7_row0_col2 {\n",
       "  background-color: #045a8d;\n",
       "  color: #f1f1f1;\n",
       "}\n",
       "#T_723f7_row1_col0, #T_723f7_row3_col2, #T_723f7_row8_col0 {\n",
       "  background-color: #fbf4f9;\n",
       "  color: #000000;\n",
       "}\n",
       "#T_723f7_row2_col0 {\n",
       "  background-color: #b8c6e0;\n",
       "  color: #000000;\n",
       "}\n",
       "#T_723f7_row2_col1 {\n",
       "  background-color: #b0c2de;\n",
       "  color: #000000;\n",
       "}\n",
       "#T_723f7_row2_col2 {\n",
       "  background-color: #a8bedc;\n",
       "  color: #000000;\n",
       "}\n",
       "#T_723f7_row3_col0 {\n",
       "  background-color: #f8f1f8;\n",
       "  color: #000000;\n",
       "}\n",
       "#T_723f7_row3_col1 {\n",
       "  background-color: #f9f2f8;\n",
       "  color: #000000;\n",
       "}\n",
       "#T_723f7_row4_col0 {\n",
       "  background-color: #9ab8d8;\n",
       "  color: #000000;\n",
       "}\n",
       "#T_723f7_row4_col1 {\n",
       "  background-color: #bcc7e1;\n",
       "  color: #000000;\n",
       "}\n",
       "#T_723f7_row4_col2 {\n",
       "  background-color: #c5cce3;\n",
       "  color: #000000;\n",
       "}\n",
       "#T_723f7_row5_col0 {\n",
       "  background-color: #c0c9e2;\n",
       "  color: #000000;\n",
       "}\n",
       "#T_723f7_row5_col1 {\n",
       "  background-color: #d2d3e7;\n",
       "  color: #000000;\n",
       "}\n",
       "#T_723f7_row5_col2, #T_723f7_row7_col0, #T_723f7_row7_col1, #T_723f7_row9_col0, #T_723f7_row12_col0 {\n",
       "  background-color: #fff7fb;\n",
       "  color: #000000;\n",
       "}\n",
       "#T_723f7_row6_col0 {\n",
       "  background-color: #f5eef6;\n",
       "  color: #000000;\n",
       "}\n",
       "#T_723f7_row6_col1 {\n",
       "  background-color: #f4edf6;\n",
       "  color: #000000;\n",
       "}\n",
       "#T_723f7_row6_col2 {\n",
       "  background-color: #034a74;\n",
       "  color: #f1f1f1;\n",
       "}\n",
       "#T_723f7_row7_col2, #T_723f7_row10_col1 {\n",
       "  background-color: #fcf4fa;\n",
       "  color: #000000;\n",
       "}\n",
       "#T_723f7_row8_col1, #T_723f7_row8_col2, #T_723f7_row12_col2 {\n",
       "  background-color: #fdf5fa;\n",
       "  color: #000000;\n",
       "}\n",
       "#T_723f7_row9_col1 {\n",
       "  background-color: #e4e1ef;\n",
       "  color: #000000;\n",
       "}\n",
       "#T_723f7_row9_col2 {\n",
       "  background-color: #eae6f1;\n",
       "  color: #000000;\n",
       "}\n",
       "#T_723f7_row10_col0 {\n",
       "  background-color: #faf3f9;\n",
       "  color: #000000;\n",
       "}\n",
       "#T_723f7_row10_col2 {\n",
       "  background-color: #000000;\n",
       "  color: #f1f1f1;\n",
       "}\n",
       "#T_723f7_row11_col0, #T_723f7_row11_col2, #T_723f7_row12_col1 {\n",
       "  background-color: #fef6fa;\n",
       "  color: #000000;\n",
       "}\n",
       "#T_723f7_row11_col1 {\n",
       "  background-color: #fef6fb;\n",
       "  color: #000000;\n",
       "}\n",
       "</style>\n",
       "<table id=\"T_723f7\">\n",
       "  <thead>\n",
       "    <tr>\n",
       "      <th class=\"index_name level0\" >st_kmeans3</th>\n",
       "      <th id=\"T_723f7_level0_col0\" class=\"col_heading level0 col0\" >0</th>\n",
       "      <th id=\"T_723f7_level0_col1\" class=\"col_heading level0 col1\" >1</th>\n",
       "      <th id=\"T_723f7_level0_col2\" class=\"col_heading level0 col2\" >2</th>\n",
       "    </tr>\n",
       "  </thead>\n",
       "  <tbody>\n",
       "    <tr>\n",
       "      <th id=\"T_723f7_level0_row0\" class=\"row_heading level0 row0\" >frequency_items</th>\n",
       "      <td id=\"T_723f7_row0_col0\" class=\"data row0 col0\" >39.200000</td>\n",
       "      <td id=\"T_723f7_row0_col1\" class=\"data row0 col1\" >37.430000</td>\n",
       "      <td id=\"T_723f7_row0_col2\" class=\"data row0 col2\" >41.760000</td>\n",
       "    </tr>\n",
       "    <tr>\n",
       "      <th id=\"T_723f7_level0_row1\" class=\"row_heading level0 row1\" >potencial_score</th>\n",
       "      <td id=\"T_723f7_row1_col0\" class=\"data row1 col0\" >0.920000</td>\n",
       "      <td id=\"T_723f7_row1_col1\" class=\"data row1 col1\" >48.190000</td>\n",
       "      <td id=\"T_723f7_row1_col2\" class=\"data row1 col2\" >47.880000</td>\n",
       "    </tr>\n",
       "    <tr>\n",
       "      <th id=\"T_723f7_level0_row2\" class=\"row_heading level0 row2\" >longevity_months</th>\n",
       "      <td id=\"T_723f7_row2_col0\" class=\"data row2 col0\" >12.600000</td>\n",
       "      <td id=\"T_723f7_row2_col1\" class=\"data row2 col1\" >16.580000</td>\n",
       "      <td id=\"T_723f7_row2_col2\" class=\"data row2 col2\" >17.630000</td>\n",
       "    </tr>\n",
       "    <tr>\n",
       "      <th id=\"T_723f7_level0_row3\" class=\"row_heading level0 row3\" >relevance_criteria</th>\n",
       "      <td id=\"T_723f7_row3_col0\" class=\"data row3 col0\" >1.920000</td>\n",
       "      <td id=\"T_723f7_row3_col1\" class=\"data row3 col1\" >1.930000</td>\n",
       "      <td id=\"T_723f7_row3_col2\" class=\"data row3 col2\" >1.230000</td>\n",
       "    </tr>\n",
       "    <tr>\n",
       "      <th id=\"T_723f7_level0_row4\" class=\"row_heading level0 row4\" >recency_in_weeks</th>\n",
       "      <td id=\"T_723f7_row4_col0\" class=\"data row4 col0\" >15.840000</td>\n",
       "      <td id=\"T_723f7_row4_col1\" class=\"data row4 col1\" >14.910000</td>\n",
       "      <td id=\"T_723f7_row4_col2\" class=\"data row4 col2\" >13.570000</td>\n",
       "    </tr>\n",
       "    <tr>\n",
       "      <th id=\"T_723f7_level0_row5\" class=\"row_heading level0 row5\" >promotional_percentage</th>\n",
       "      <td id=\"T_723f7_row5_col0\" class=\"data row5 col0\" >11.740000</td>\n",
       "      <td id=\"T_723f7_row5_col1\" class=\"data row5 col1\" >11.500000</td>\n",
       "      <td id=\"T_723f7_row5_col2\" class=\"data row5 col2\" >0.000000</td>\n",
       "    </tr>\n",
       "    <tr>\n",
       "      <th id=\"T_723f7_level0_row6\" class=\"row_heading level0 row6\" >returns</th>\n",
       "      <td id=\"T_723f7_row6_col0\" class=\"data row6 col0\" >2.660000</td>\n",
       "      <td id=\"T_723f7_row6_col1\" class=\"data row6 col1\" >3.710000</td>\n",
       "      <td id=\"T_723f7_row6_col2\" class=\"data row6 col2\" >44.580000</td>\n",
       "    </tr>\n",
       "    <tr>\n",
       "      <th id=\"T_723f7_level0_row7\" class=\"row_heading level0 row7\" >flaged</th>\n",
       "      <td id=\"T_723f7_row7_col0\" class=\"data row7 col0\" >0.000000</td>\n",
       "      <td id=\"T_723f7_row7_col1\" class=\"data row7 col1\" >0.000000</td>\n",
       "      <td id=\"T_723f7_row7_col2\" class=\"data row7 col2\" >1.000000</td>\n",
       "    </tr>\n",
       "    <tr>\n",
       "      <th id=\"T_723f7_level0_row8\" class=\"row_heading level0 row8\" >credit_factor</th>\n",
       "      <td id=\"T_723f7_row8_col0\" class=\"data row8 col0\" >1.050000</td>\n",
       "      <td id=\"T_723f7_row8_col1\" class=\"data row8 col1\" >0.810000</td>\n",
       "      <td id=\"T_723f7_row8_col2\" class=\"data row8 col2\" >0.780000</td>\n",
       "    </tr>\n",
       "    <tr>\n",
       "      <th id=\"T_723f7_level0_row9\" class=\"row_heading level0 row9\" >zip_code</th>\n",
       "      <td id=\"T_723f7_row9_col0\" class=\"data row9 col0\" >0.080000</td>\n",
       "      <td id=\"T_723f7_row9_col1\" class=\"data row9 col1\" >7.720000</td>\n",
       "      <td id=\"T_723f7_row9_col2\" class=\"data row9 col2\" >6.540000</td>\n",
       "    </tr>\n",
       "    <tr>\n",
       "      <th id=\"T_723f7_level0_row10\" class=\"row_heading level0 row10\" >education</th>\n",
       "      <td id=\"T_723f7_row10_col0\" class=\"data row10 col0\" >1.280000</td>\n",
       "      <td id=\"T_723f7_row10_col1\" class=\"data row10 col1\" >1.030000</td>\n",
       "      <td id=\"T_723f7_row10_col2\" class=\"data row10 col2\" >nan</td>\n",
       "    </tr>\n",
       "    <tr>\n",
       "      <th id=\"T_723f7_level0_row11\" class=\"row_heading level0 row11\" >gender</th>\n",
       "      <td id=\"T_723f7_row11_col0\" class=\"data row11 col0\" >0.380000</td>\n",
       "      <td id=\"T_723f7_row11_col1\" class=\"data row11 col1\" >0.370000</td>\n",
       "      <td id=\"T_723f7_row11_col2\" class=\"data row11 col2\" >0.380000</td>\n",
       "    </tr>\n",
       "    <tr>\n",
       "      <th id=\"T_723f7_level0_row12\" class=\"row_heading level0 row12\" >no_kmeans3</th>\n",
       "      <td id=\"T_723f7_row12_col0\" class=\"data row12 col0\" >0.030000</td>\n",
       "      <td id=\"T_723f7_row12_col1\" class=\"data row12 col1\" >0.430000</td>\n",
       "      <td id=\"T_723f7_row12_col2\" class=\"data row12 col2\" >0.910000</td>\n",
       "    </tr>\n",
       "  </tbody>\n",
       "</table>\n"
      ],
      "text/plain": [
       "<pandas.io.formats.style.Styler at 0x1d0bce09fd0>"
      ]
     },
     "execution_count": 68,
     "metadata": {},
     "output_type": "execute_result"
    }
   ],
   "source": [
    "groupby_mean(sample_original, 'st_kmeans3', True)"
   ]
  },
  {
   "cell_type": "markdown",
   "metadata": {},
   "source": [
    "##### 4 clusters"
   ]
  },
  {
   "cell_type": "code",
   "execution_count": 69,
   "metadata": {},
   "outputs": [],
   "source": [
    "kmeans = KMeans(n_clusters = 4, init='k-means++', n_init=20,  random_state = 1).fit(sample_st_scl)\n",
    "sample_original['st_kmeans4'] = kmeans.predict(sample_st_scl)"
   ]
  },
  {
   "cell_type": "code",
   "execution_count": 70,
   "metadata": {},
   "outputs": [
    {
     "name": "stdout",
     "output_type": "stream",
     "text": [
      "# observations per cluster: [1319, 13690, 209, 9208]\n"
     ]
    },
    {
     "data": {
      "text/html": [
       "<style type=\"text/css\">\n",
       "#T_a6d22_row0_col0, #T_a6d22_row0_col3, #T_a6d22_row1_col1, #T_a6d22_row1_col2 {\n",
       "  background-color: #023858;\n",
       "  color: #f1f1f1;\n",
       "}\n",
       "#T_a6d22_row0_col1 {\n",
       "  background-color: #056ba7;\n",
       "  color: #f1f1f1;\n",
       "}\n",
       "#T_a6d22_row0_col2 {\n",
       "  background-color: #045a8d;\n",
       "  color: #f1f1f1;\n",
       "}\n",
       "#T_a6d22_row1_col0 {\n",
       "  background-color: #056caa;\n",
       "  color: #f1f1f1;\n",
       "}\n",
       "#T_a6d22_row1_col3, #T_a6d22_row3_col2, #T_a6d22_row8_col3 {\n",
       "  background-color: #fbf4f9;\n",
       "  color: #000000;\n",
       "}\n",
       "#T_a6d22_row2_col0 {\n",
       "  background-color: #a1bbda;\n",
       "  color: #000000;\n",
       "}\n",
       "#T_a6d22_row2_col1 {\n",
       "  background-color: #b0c2de;\n",
       "  color: #000000;\n",
       "}\n",
       "#T_a6d22_row2_col2 {\n",
       "  background-color: #a8bedc;\n",
       "  color: #000000;\n",
       "}\n",
       "#T_a6d22_row2_col3 {\n",
       "  background-color: #b8c6e0;\n",
       "  color: #000000;\n",
       "}\n",
       "#T_a6d22_row3_col0, #T_a6d22_row8_col0, #T_a6d22_row8_col1, #T_a6d22_row8_col2, #T_a6d22_row12_col2 {\n",
       "  background-color: #fdf5fa;\n",
       "  color: #000000;\n",
       "}\n",
       "#T_a6d22_row3_col1 {\n",
       "  background-color: #f9f2f8;\n",
       "  color: #000000;\n",
       "}\n",
       "#T_a6d22_row3_col3 {\n",
       "  background-color: #f7f0f7;\n",
       "  color: #000000;\n",
       "}\n",
       "#T_a6d22_row4_col0, #T_a6d22_row4_col3 {\n",
       "  background-color: #9ab8d8;\n",
       "  color: #000000;\n",
       "}\n",
       "#T_a6d22_row4_col1 {\n",
       "  background-color: #bcc7e1;\n",
       "  color: #000000;\n",
       "}\n",
       "#T_a6d22_row4_col2 {\n",
       "  background-color: #c5cce3;\n",
       "  color: #000000;\n",
       "}\n",
       "#T_a6d22_row5_col0, #T_a6d22_row11_col1, #T_a6d22_row12_col0 {\n",
       "  background-color: #fef6fb;\n",
       "  color: #000000;\n",
       "}\n",
       "#T_a6d22_row5_col1 {\n",
       "  background-color: #d0d1e6;\n",
       "  color: #000000;\n",
       "}\n",
       "#T_a6d22_row5_col2, #T_a6d22_row7_col0, #T_a6d22_row7_col1, #T_a6d22_row7_col3, #T_a6d22_row9_col3, #T_a6d22_row12_col3 {\n",
       "  background-color: #fff7fb;\n",
       "  color: #000000;\n",
       "}\n",
       "#T_a6d22_row5_col3 {\n",
       "  background-color: #b9c6e0;\n",
       "  color: #000000;\n",
       "}\n",
       "#T_a6d22_row6_col0 {\n",
       "  background-color: #f0eaf4;\n",
       "  color: #000000;\n",
       "}\n",
       "#T_a6d22_row6_col1 {\n",
       "  background-color: #f4edf6;\n",
       "  color: #000000;\n",
       "}\n",
       "#T_a6d22_row6_col2 {\n",
       "  background-color: #034a74;\n",
       "  color: #f1f1f1;\n",
       "}\n",
       "#T_a6d22_row6_col3 {\n",
       "  background-color: #f5eef6;\n",
       "  color: #000000;\n",
       "}\n",
       "#T_a6d22_row7_col2, #T_a6d22_row10_col1 {\n",
       "  background-color: #fcf4fa;\n",
       "  color: #000000;\n",
       "}\n",
       "#T_a6d22_row9_col0 {\n",
       "  background-color: #eee8f3;\n",
       "  color: #000000;\n",
       "}\n",
       "#T_a6d22_row9_col1 {\n",
       "  background-color: #e4e1ef;\n",
       "  color: #000000;\n",
       "}\n",
       "#T_a6d22_row9_col2 {\n",
       "  background-color: #eae6f1;\n",
       "  color: #000000;\n",
       "}\n",
       "#T_a6d22_row10_col0, #T_a6d22_row10_col2 {\n",
       "  background-color: #000000;\n",
       "  color: #f1f1f1;\n",
       "}\n",
       "#T_a6d22_row10_col3 {\n",
       "  background-color: #faf3f9;\n",
       "  color: #000000;\n",
       "}\n",
       "#T_a6d22_row11_col0, #T_a6d22_row11_col2, #T_a6d22_row11_col3, #T_a6d22_row12_col1 {\n",
       "  background-color: #fef6fa;\n",
       "  color: #000000;\n",
       "}\n",
       "</style>\n",
       "<table id=\"T_a6d22\">\n",
       "  <thead>\n",
       "    <tr>\n",
       "      <th class=\"index_name level0\" >st_kmeans4</th>\n",
       "      <th id=\"T_a6d22_level0_col0\" class=\"col_heading level0 col0\" >0</th>\n",
       "      <th id=\"T_a6d22_level0_col1\" class=\"col_heading level0 col1\" >1</th>\n",
       "      <th id=\"T_a6d22_level0_col2\" class=\"col_heading level0 col2\" >2</th>\n",
       "      <th id=\"T_a6d22_level0_col3\" class=\"col_heading level0 col3\" >3</th>\n",
       "    </tr>\n",
       "  </thead>\n",
       "  <tbody>\n",
       "    <tr>\n",
       "      <th id=\"T_a6d22_level0_row0\" class=\"row_heading level0 row0\" >frequency_items</th>\n",
       "      <td id=\"T_a6d22_row0_col0\" class=\"data row0 col0\" >38.760000</td>\n",
       "      <td id=\"T_a6d22_row0_col1\" class=\"data row0 col1\" >37.390000</td>\n",
       "      <td id=\"T_a6d22_row0_col2\" class=\"data row0 col2\" >41.760000</td>\n",
       "      <td id=\"T_a6d22_row0_col3\" class=\"data row0 col3\" >39.180000</td>\n",
       "    </tr>\n",
       "    <tr>\n",
       "      <th id=\"T_a6d22_level0_row1\" class=\"row_heading level0 row1\" >potencial_score</th>\n",
       "      <td id=\"T_a6d22_row1_col0\" class=\"data row1 col0\" >29.900000</td>\n",
       "      <td id=\"T_a6d22_row1_col1\" class=\"data row1 col1\" >47.990000</td>\n",
       "      <td id=\"T_a6d22_row1_col2\" class=\"data row1 col2\" >47.880000</td>\n",
       "      <td id=\"T_a6d22_row1_col3\" class=\"data row1 col3\" >0.940000</td>\n",
       "    </tr>\n",
       "    <tr>\n",
       "      <th id=\"T_a6d22_level0_row2\" class=\"row_heading level0 row2\" >longevity_months</th>\n",
       "      <td id=\"T_a6d22_row2_col0\" class=\"data row2 col0\" >15.020000</td>\n",
       "      <td id=\"T_a6d22_row2_col1\" class=\"data row2 col1\" >16.580000</td>\n",
       "      <td id=\"T_a6d22_row2_col2\" class=\"data row2 col2\" >17.630000</td>\n",
       "      <td id=\"T_a6d22_row2_col3\" class=\"data row2 col3\" >12.570000</td>\n",
       "    </tr>\n",
       "    <tr>\n",
       "      <th id=\"T_a6d22_level0_row3\" class=\"row_heading level0 row3\" >relevance_criteria</th>\n",
       "      <td id=\"T_a6d22_row3_col0\" class=\"data row3 col0\" >0.680000</td>\n",
       "      <td id=\"T_a6d22_row3_col1\" class=\"data row3 col1\" >2.000000</td>\n",
       "      <td id=\"T_a6d22_row3_col2\" class=\"data row3 col2\" >1.230000</td>\n",
       "      <td id=\"T_a6d22_row3_col3\" class=\"data row3 col3\" >2.000000</td>\n",
       "    </tr>\n",
       "    <tr>\n",
       "      <th id=\"T_a6d22_level0_row4\" class=\"row_heading level0 row4\" >recency_in_weeks</th>\n",
       "      <td id=\"T_a6d22_row4_col0\" class=\"data row4 col0\" >15.710000</td>\n",
       "      <td id=\"T_a6d22_row4_col1\" class=\"data row4 col1\" >14.880000</td>\n",
       "      <td id=\"T_a6d22_row4_col2\" class=\"data row4 col2\" >13.570000</td>\n",
       "      <td id=\"T_a6d22_row4_col3\" class=\"data row4 col3\" >15.830000</td>\n",
       "    </tr>\n",
       "    <tr>\n",
       "      <th id=\"T_a6d22_level0_row5\" class=\"row_heading level0 row5\" >promotional_percentage</th>\n",
       "      <td id=\"T_a6d22_row5_col0\" class=\"data row5 col0\" >0.280000</td>\n",
       "      <td id=\"T_a6d22_row5_col1\" class=\"data row5 col1\" >12.100000</td>\n",
       "      <td id=\"T_a6d22_row5_col2\" class=\"data row5 col2\" >0.000000</td>\n",
       "      <td id=\"T_a6d22_row5_col3\" class=\"data row5 col3\" >12.460000</td>\n",
       "    </tr>\n",
       "    <tr>\n",
       "      <th id=\"T_a6d22_level0_row6\" class=\"row_heading level0 row6\" >returns</th>\n",
       "      <td id=\"T_a6d22_row6_col0\" class=\"data row6 col0\" >3.980000</td>\n",
       "      <td id=\"T_a6d22_row6_col1\" class=\"data row6 col1\" >3.620000</td>\n",
       "      <td id=\"T_a6d22_row6_col2\" class=\"data row6 col2\" >44.580000</td>\n",
       "      <td id=\"T_a6d22_row6_col3\" class=\"data row6 col3\" >2.690000</td>\n",
       "    </tr>\n",
       "    <tr>\n",
       "      <th id=\"T_a6d22_level0_row7\" class=\"row_heading level0 row7\" >flaged</th>\n",
       "      <td id=\"T_a6d22_row7_col0\" class=\"data row7 col0\" >0.000000</td>\n",
       "      <td id=\"T_a6d22_row7_col1\" class=\"data row7 col1\" >0.000000</td>\n",
       "      <td id=\"T_a6d22_row7_col2\" class=\"data row7 col2\" >1.000000</td>\n",
       "      <td id=\"T_a6d22_row7_col3\" class=\"data row7 col3\" >0.000000</td>\n",
       "    </tr>\n",
       "    <tr>\n",
       "      <th id=\"T_a6d22_level0_row8\" class=\"row_heading level0 row8\" >credit_factor</th>\n",
       "      <td id=\"T_a6d22_row8_col0\" class=\"data row8 col0\" >0.640000</td>\n",
       "      <td id=\"T_a6d22_row8_col1\" class=\"data row8 col1\" >0.820000</td>\n",
       "      <td id=\"T_a6d22_row8_col2\" class=\"data row8 col2\" >0.780000</td>\n",
       "      <td id=\"T_a6d22_row8_col3\" class=\"data row8 col3\" >1.070000</td>\n",
       "    </tr>\n",
       "    <tr>\n",
       "      <th id=\"T_a6d22_level0_row9\" class=\"row_heading level0 row9\" >zip_code</th>\n",
       "      <td id=\"T_a6d22_row9_col0\" class=\"data row9 col0\" >4.490000</td>\n",
       "      <td id=\"T_a6d22_row9_col1\" class=\"data row9 col1\" >7.720000</td>\n",
       "      <td id=\"T_a6d22_row9_col2\" class=\"data row9 col2\" >6.540000</td>\n",
       "      <td id=\"T_a6d22_row9_col3\" class=\"data row9 col3\" >0.080000</td>\n",
       "    </tr>\n",
       "    <tr>\n",
       "      <th id=\"T_a6d22_level0_row10\" class=\"row_heading level0 row10\" >education</th>\n",
       "      <td id=\"T_a6d22_row10_col0\" class=\"data row10 col0\" >nan</td>\n",
       "      <td id=\"T_a6d22_row10_col1\" class=\"data row10 col1\" >1.030000</td>\n",
       "      <td id=\"T_a6d22_row10_col2\" class=\"data row10 col2\" >nan</td>\n",
       "      <td id=\"T_a6d22_row10_col3\" class=\"data row10 col3\" >1.280000</td>\n",
       "    </tr>\n",
       "    <tr>\n",
       "      <th id=\"T_a6d22_level0_row11\" class=\"row_heading level0 row11\" >gender</th>\n",
       "      <td id=\"T_a6d22_row11_col0\" class=\"data row11 col0\" >0.380000</td>\n",
       "      <td id=\"T_a6d22_row11_col1\" class=\"data row11 col1\" >0.370000</td>\n",
       "      <td id=\"T_a6d22_row11_col2\" class=\"data row11 col2\" >0.380000</td>\n",
       "      <td id=\"T_a6d22_row11_col3\" class=\"data row11 col3\" >0.380000</td>\n",
       "    </tr>\n",
       "    <tr>\n",
       "      <th id=\"T_a6d22_level0_row12\" class=\"row_heading level0 row12\" >no_kmeans3</th>\n",
       "      <td id=\"T_a6d22_row12_col0\" class=\"data row12 col0\" >0.290000</td>\n",
       "      <td id=\"T_a6d22_row12_col1\" class=\"data row12 col1\" >0.420000</td>\n",
       "      <td id=\"T_a6d22_row12_col2\" class=\"data row12 col2\" >0.910000</td>\n",
       "      <td id=\"T_a6d22_row12_col3\" class=\"data row12 col3\" >0.040000</td>\n",
       "    </tr>\n",
       "  </tbody>\n",
       "</table>\n"
      ],
      "text/plain": [
       "<pandas.io.formats.style.Styler at 0x1d0bcdbb2c0>"
      ]
     },
     "execution_count": 70,
     "metadata": {},
     "output_type": "execute_result"
    }
   ],
   "source": [
    "groupby_mean(sample_original, 'st_kmeans4', True)"
   ]
  },
  {
   "cell_type": "markdown",
   "metadata": {},
   "source": [
    "##### 5 clusters"
   ]
  },
  {
   "cell_type": "code",
   "execution_count": 71,
   "metadata": {},
   "outputs": [],
   "source": [
    "kmeans = KMeans(n_clusters = 5, init='k-means++', n_init=20,  random_state = 1).fit(sample_st_scl)\n",
    "sample_original['st_kmeans5'] = kmeans.predict(sample_st_scl)"
   ]
  },
  {
   "cell_type": "code",
   "execution_count": 73,
   "metadata": {},
   "outputs": [
    {
     "name": "stdout",
     "output_type": "stream",
     "text": [
      "# observations per cluster: [1291, 9044, 13258, 624, 209]\n"
     ]
    },
    {
     "data": {
      "text/html": [
       "<style type=\"text/css\">\n",
       "#T_2a0f1_row0_col0, #T_2a0f1_row0_col1, #T_2a0f1_row1_col2, #T_2a0f1_row1_col4, #T_2a0f1_row6_col3 {\n",
       "  background-color: #023858;\n",
       "  color: #f1f1f1;\n",
       "}\n",
       "#T_2a0f1_row0_col2 {\n",
       "  background-color: #056aa6;\n",
       "  color: #f1f1f1;\n",
       "}\n",
       "#T_2a0f1_row0_col3 {\n",
       "  background-color: #acc0dd;\n",
       "  color: #000000;\n",
       "}\n",
       "#T_2a0f1_row0_col4 {\n",
       "  background-color: #045a8d;\n",
       "  color: #f1f1f1;\n",
       "}\n",
       "#T_2a0f1_row1_col0 {\n",
       "  background-color: #056ead;\n",
       "  color: #f1f1f1;\n",
       "}\n",
       "#T_2a0f1_row1_col1, #T_2a0f1_row3_col4 {\n",
       "  background-color: #fbf4f9;\n",
       "  color: #000000;\n",
       "}\n",
       "#T_2a0f1_row1_col3 {\n",
       "  background-color: #9ebad9;\n",
       "  color: #000000;\n",
       "}\n",
       "#T_2a0f1_row2_col0 {\n",
       "  background-color: #a2bcda;\n",
       "  color: #000000;\n",
       "}\n",
       "#T_2a0f1_row2_col1 {\n",
       "  background-color: #b8c6e0;\n",
       "  color: #000000;\n",
       "}\n",
       "#T_2a0f1_row2_col2 {\n",
       "  background-color: #b0c2de;\n",
       "  color: #000000;\n",
       "}\n",
       "#T_2a0f1_row2_col3 {\n",
       "  background-color: #e6e2ef;\n",
       "  color: #000000;\n",
       "}\n",
       "#T_2a0f1_row2_col4 {\n",
       "  background-color: #a8bedc;\n",
       "  color: #000000;\n",
       "}\n",
       "#T_2a0f1_row3_col0, #T_2a0f1_row3_col3, #T_2a0f1_row6_col1, #T_2a0f1_row8_col0, #T_2a0f1_row8_col2, #T_2a0f1_row8_col4, #T_2a0f1_row12_col3, #T_2a0f1_row12_col4 {\n",
       "  background-color: #fdf5fa;\n",
       "  color: #000000;\n",
       "}\n",
       "#T_2a0f1_row3_col1, #T_2a0f1_row9_col3 {\n",
       "  background-color: #f7f0f7;\n",
       "  color: #000000;\n",
       "}\n",
       "#T_2a0f1_row3_col2 {\n",
       "  background-color: #f9f2f8;\n",
       "  color: #000000;\n",
       "}\n",
       "#T_2a0f1_row4_col0, #T_2a0f1_row4_col1 {\n",
       "  background-color: #9ab8d8;\n",
       "  color: #000000;\n",
       "}\n",
       "#T_2a0f1_row4_col2, #T_2a0f1_row5_col1 {\n",
       "  background-color: #bcc7e1;\n",
       "  color: #000000;\n",
       "}\n",
       "#T_2a0f1_row4_col3, #T_2a0f1_row9_col4 {\n",
       "  background-color: #eae6f1;\n",
       "  color: #000000;\n",
       "}\n",
       "#T_2a0f1_row4_col4 {\n",
       "  background-color: #c5cce3;\n",
       "  color: #000000;\n",
       "}\n",
       "#T_2a0f1_row5_col0, #T_2a0f1_row5_col4, #T_2a0f1_row7_col0, #T_2a0f1_row7_col1, #T_2a0f1_row7_col2, #T_2a0f1_row7_col3, #T_2a0f1_row9_col1, #T_2a0f1_row11_col3, #T_2a0f1_row12_col1 {\n",
       "  background-color: #fff7fb;\n",
       "  color: #000000;\n",
       "}\n",
       "#T_2a0f1_row5_col2 {\n",
       "  background-color: #d4d4e8;\n",
       "  color: #000000;\n",
       "}\n",
       "#T_2a0f1_row5_col3 {\n",
       "  background-color: #b3c3de;\n",
       "  color: #000000;\n",
       "}\n",
       "#T_2a0f1_row6_col0, #T_2a0f1_row8_col1 {\n",
       "  background-color: #fbf3f9;\n",
       "  color: #000000;\n",
       "}\n",
       "#T_2a0f1_row6_col2, #T_2a0f1_row8_col3, #T_2a0f1_row10_col3, #T_2a0f1_row11_col0, #T_2a0f1_row11_col1, #T_2a0f1_row11_col4, #T_2a0f1_row12_col2 {\n",
       "  background-color: #fef6fa;\n",
       "  color: #000000;\n",
       "}\n",
       "#T_2a0f1_row6_col4 {\n",
       "  background-color: #034a74;\n",
       "  color: #f1f1f1;\n",
       "}\n",
       "#T_2a0f1_row7_col4, #T_2a0f1_row10_col2 {\n",
       "  background-color: #fcf4fa;\n",
       "  color: #000000;\n",
       "}\n",
       "#T_2a0f1_row9_col0 {\n",
       "  background-color: #eee8f3;\n",
       "  color: #000000;\n",
       "}\n",
       "#T_2a0f1_row9_col2 {\n",
       "  background-color: #e4e1ef;\n",
       "  color: #000000;\n",
       "}\n",
       "#T_2a0f1_row10_col0, #T_2a0f1_row10_col4 {\n",
       "  background-color: #000000;\n",
       "  color: #f1f1f1;\n",
       "}\n",
       "#T_2a0f1_row10_col1 {\n",
       "  background-color: #faf3f9;\n",
       "  color: #000000;\n",
       "}\n",
       "#T_2a0f1_row11_col2, #T_2a0f1_row12_col0 {\n",
       "  background-color: #fef6fb;\n",
       "  color: #000000;\n",
       "}\n",
       "</style>\n",
       "<table id=\"T_2a0f1\">\n",
       "  <thead>\n",
       "    <tr>\n",
       "      <th class=\"index_name level0\" >st_kmeans5</th>\n",
       "      <th id=\"T_2a0f1_level0_col0\" class=\"col_heading level0 col0\" >0</th>\n",
       "      <th id=\"T_2a0f1_level0_col1\" class=\"col_heading level0 col1\" >1</th>\n",
       "      <th id=\"T_2a0f1_level0_col2\" class=\"col_heading level0 col2\" >2</th>\n",
       "      <th id=\"T_2a0f1_level0_col3\" class=\"col_heading level0 col3\" >3</th>\n",
       "      <th id=\"T_2a0f1_level0_col4\" class=\"col_heading level0 col4\" >4</th>\n",
       "    </tr>\n",
       "  </thead>\n",
       "  <tbody>\n",
       "    <tr>\n",
       "      <th id=\"T_2a0f1_level0_row0\" class=\"row_heading level0 row0\" >frequency_items</th>\n",
       "      <td id=\"T_2a0f1_row0_col0\" class=\"data row0 col0\" >38.840000</td>\n",
       "      <td id=\"T_2a0f1_row0_col1\" class=\"data row0 col1\" >39.130000</td>\n",
       "      <td id=\"T_2a0f1_row0_col2\" class=\"data row0 col2\" >37.400000</td>\n",
       "      <td id=\"T_2a0f1_row0_col3\" class=\"data row0 col3\" >38.140000</td>\n",
       "      <td id=\"T_2a0f1_row0_col4\" class=\"data row0 col4\" >41.760000</td>\n",
       "    </tr>\n",
       "    <tr>\n",
       "      <th id=\"T_2a0f1_level0_row1\" class=\"row_heading level0 row1\" >potencial_score</th>\n",
       "      <td id=\"T_2a0f1_row1_col0\" class=\"data row1 col0\" >29.540000</td>\n",
       "      <td id=\"T_2a0f1_row1_col1\" class=\"data row1 col1\" >0.940000</td>\n",
       "      <td id=\"T_2a0f1_row1_col2\" class=\"data row1 col2\" >47.670000</td>\n",
       "      <td id=\"T_2a0f1_row1_col3\" class=\"data row1 col3\" >42.480000</td>\n",
       "      <td id=\"T_2a0f1_row1_col4\" class=\"data row1 col4\" >47.880000</td>\n",
       "    </tr>\n",
       "    <tr>\n",
       "      <th id=\"T_2a0f1_level0_row2\" class=\"row_heading level0 row2\" >longevity_months</th>\n",
       "      <td id=\"T_2a0f1_row2_col0\" class=\"data row2 col0\" >14.970000</td>\n",
       "      <td id=\"T_2a0f1_row2_col1\" class=\"data row2 col1\" >12.540000</td>\n",
       "      <td id=\"T_2a0f1_row2_col2\" class=\"data row2 col2\" >16.550000</td>\n",
       "      <td id=\"T_2a0f1_row2_col3\" class=\"data row2 col3\" >16.690000</td>\n",
       "      <td id=\"T_2a0f1_row2_col4\" class=\"data row2 col4\" >17.630000</td>\n",
       "    </tr>\n",
       "    <tr>\n",
       "      <th id=\"T_2a0f1_level0_row3\" class=\"row_heading level0 row3\" >relevance_criteria</th>\n",
       "      <td id=\"T_2a0f1_row3_col0\" class=\"data row3 col0\" >0.680000</td>\n",
       "      <td id=\"T_2a0f1_row3_col1\" class=\"data row3 col1\" >2.000000</td>\n",
       "      <td id=\"T_2a0f1_row3_col2\" class=\"data row3 col2\" >2.000000</td>\n",
       "      <td id=\"T_2a0f1_row3_col3\" class=\"data row3 col3\" >1.950000</td>\n",
       "      <td id=\"T_2a0f1_row3_col4\" class=\"data row3 col4\" >1.230000</td>\n",
       "    </tr>\n",
       "    <tr>\n",
       "      <th id=\"T_2a0f1_level0_row4\" class=\"row_heading level0 row4\" >recency_in_weeks</th>\n",
       "      <td id=\"T_2a0f1_row4_col0\" class=\"data row4 col0\" >15.740000</td>\n",
       "      <td id=\"T_2a0f1_row4_col1\" class=\"data row4 col1\" >15.840000</td>\n",
       "      <td id=\"T_2a0f1_row4_col2\" class=\"data row4 col2\" >14.890000</td>\n",
       "      <td id=\"T_2a0f1_row4_col3\" class=\"data row4 col3\" >14.560000</td>\n",
       "      <td id=\"T_2a0f1_row4_col4\" class=\"data row4 col4\" >13.570000</td>\n",
       "    </tr>\n",
       "    <tr>\n",
       "      <th id=\"T_2a0f1_level0_row5\" class=\"row_heading level0 row5\" >promotional_percentage</th>\n",
       "      <td id=\"T_2a0f1_row5_col0\" class=\"data row5 col0\" >0.140000</td>\n",
       "      <td id=\"T_2a0f1_row5_col1\" class=\"data row5 col1\" >12.210000</td>\n",
       "      <td id=\"T_2a0f1_row5_col2\" class=\"data row5 col2\" >11.130000</td>\n",
       "      <td id=\"T_2a0f1_row5_col3\" class=\"data row5 col3\" >36.170000</td>\n",
       "      <td id=\"T_2a0f1_row5_col4\" class=\"data row5 col4\" >0.000000</td>\n",
       "    </tr>\n",
       "    <tr>\n",
       "      <th id=\"T_2a0f1_level0_row6\" class=\"row_heading level0 row6\" >returns</th>\n",
       "      <td id=\"T_2a0f1_row6_col0\" class=\"data row6 col0\" >1.090000</td>\n",
       "      <td id=\"T_2a0f1_row6_col1\" class=\"data row6 col1\" >0.640000</td>\n",
       "      <td id=\"T_2a0f1_row6_col2\" class=\"data row6 col2\" >0.430000</td>\n",
       "      <td id=\"T_2a0f1_row6_col3\" class=\"data row6 col3\" >107.020000</td>\n",
       "      <td id=\"T_2a0f1_row6_col4\" class=\"data row6 col4\" >44.580000</td>\n",
       "    </tr>\n",
       "    <tr>\n",
       "      <th id=\"T_2a0f1_level0_row7\" class=\"row_heading level0 row7\" >flaged</th>\n",
       "      <td id=\"T_2a0f1_row7_col0\" class=\"data row7 col0\" >0.000000</td>\n",
       "      <td id=\"T_2a0f1_row7_col1\" class=\"data row7 col1\" >0.000000</td>\n",
       "      <td id=\"T_2a0f1_row7_col2\" class=\"data row7 col2\" >0.000000</td>\n",
       "      <td id=\"T_2a0f1_row7_col3\" class=\"data row7 col3\" >0.000000</td>\n",
       "      <td id=\"T_2a0f1_row7_col4\" class=\"data row7 col4\" >1.000000</td>\n",
       "    </tr>\n",
       "    <tr>\n",
       "      <th id=\"T_2a0f1_level0_row8\" class=\"row_heading level0 row8\" >credit_factor</th>\n",
       "      <td id=\"T_2a0f1_row8_col0\" class=\"data row8 col0\" >0.640000</td>\n",
       "      <td id=\"T_2a0f1_row8_col1\" class=\"data row8 col1\" >1.070000</td>\n",
       "      <td id=\"T_2a0f1_row8_col2\" class=\"data row8 col2\" >0.820000</td>\n",
       "      <td id=\"T_2a0f1_row8_col3\" class=\"data row8 col3\" >0.990000</td>\n",
       "      <td id=\"T_2a0f1_row8_col4\" class=\"data row8 col4\" >0.780000</td>\n",
       "    </tr>\n",
       "    <tr>\n",
       "      <th id=\"T_2a0f1_level0_row9\" class=\"row_heading level0 row9\" >zip_code</th>\n",
       "      <td id=\"T_2a0f1_row9_col0\" class=\"data row9 col0\" >4.460000</td>\n",
       "      <td id=\"T_2a0f1_row9_col1\" class=\"data row9 col1\" >0.080000</td>\n",
       "      <td id=\"T_2a0f1_row9_col2\" class=\"data row9 col2\" >7.720000</td>\n",
       "      <td id=\"T_2a0f1_row9_col3\" class=\"data row9 col3\" >5.580000</td>\n",
       "      <td id=\"T_2a0f1_row9_col4\" class=\"data row9 col4\" >6.540000</td>\n",
       "    </tr>\n",
       "    <tr>\n",
       "      <th id=\"T_2a0f1_level0_row10\" class=\"row_heading level0 row10\" >education</th>\n",
       "      <td id=\"T_2a0f1_row10_col0\" class=\"data row10 col0\" >nan</td>\n",
       "      <td id=\"T_2a0f1_row10_col1\" class=\"data row10 col1\" >1.280000</td>\n",
       "      <td id=\"T_2a0f1_row10_col2\" class=\"data row10 col2\" >1.040000</td>\n",
       "      <td id=\"T_2a0f1_row10_col3\" class=\"data row10 col3\" >0.850000</td>\n",
       "      <td id=\"T_2a0f1_row10_col4\" class=\"data row10 col4\" >nan</td>\n",
       "    </tr>\n",
       "    <tr>\n",
       "      <th id=\"T_2a0f1_level0_row11\" class=\"row_heading level0 row11\" >gender</th>\n",
       "      <td id=\"T_2a0f1_row11_col0\" class=\"data row11 col0\" >0.380000</td>\n",
       "      <td id=\"T_2a0f1_row11_col1\" class=\"data row11 col1\" >0.380000</td>\n",
       "      <td id=\"T_2a0f1_row11_col2\" class=\"data row11 col2\" >0.370000</td>\n",
       "      <td id=\"T_2a0f1_row11_col3\" class=\"data row11 col3\" >0.400000</td>\n",
       "      <td id=\"T_2a0f1_row11_col4\" class=\"data row11 col4\" >0.380000</td>\n",
       "    </tr>\n",
       "    <tr>\n",
       "      <th id=\"T_2a0f1_level0_row12\" class=\"row_heading level0 row12\" >no_kmeans3</th>\n",
       "      <td id=\"T_2a0f1_row12_col0\" class=\"data row12 col0\" >0.260000</td>\n",
       "      <td id=\"T_2a0f1_row12_col1\" class=\"data row12 col1\" >0.000000</td>\n",
       "      <td id=\"T_2a0f1_row12_col2\" class=\"data row12 col2\" >0.380000</td>\n",
       "      <td id=\"T_2a0f1_row12_col3\" class=\"data row12 col3\" >1.780000</td>\n",
       "      <td id=\"T_2a0f1_row12_col4\" class=\"data row12 col4\" >0.910000</td>\n",
       "    </tr>\n",
       "  </tbody>\n",
       "</table>\n"
      ],
      "text/plain": [
       "<pandas.io.formats.style.Styler at 0x1d0bcfc2db0>"
      ]
     },
     "execution_count": 73,
     "metadata": {},
     "output_type": "execute_result"
    }
   ],
   "source": [
    "groupby_mean(sample_original, 'st_kmeans5', True)"
   ]
  },
  {
   "cell_type": "markdown",
   "metadata": {},
   "source": [
    "pastry+(fresh+beverage) | beer+water+frozen | fresh+beverage+(frozen) | dairy | dairy+(pastry)+veggies+wines | spenders(bread) | spenders(sodas)"
   ]
  },
  {
   "cell_type": "code",
   "execution_count": 83,
   "metadata": {},
   "outputs": [
    {
     "data": {
      "image/png": "[encoded data removed]",
      "text/plain": [
       "<Figure size 640x480 with 1 Axes>"
      ]
     },
     "metadata": {},
     "output_type": "display_data"
    }
   ],
   "source": [
    "visualize_dimensionality_reduction(umap_embedding_st, sample_original['st_kmeans3'])"
   ]
  },
  {
   "cell_type": "markdown",
   "metadata": {},
   "source": [
    "#### Comparison"
   ]
  },
  {
   "cell_type": "code",
   "execution_count": null,
   "metadata": {},
   "outputs": [],
   "source": [
    "clusters_comparison(sample_original, 'st_kmeans4', 'st_kmeans3')"
   ]
  },
  {
   "cell_type": "code",
   "execution_count": null,
   "metadata": {},
   "outputs": [],
   "source": [
    "clusters_comparison(sample_original, 'st_kmeans7', 'st_kmeans4')"
   ]
  },
  {
   "cell_type": "markdown",
   "metadata": {},
   "source": [
    "### MinMax Scaler <a id='km-mm'></a>"
   ]
  },
  {
   "cell_type": "markdown",
   "metadata": {},
   "source": [
    "#### Plot"
   ]
  },
  {
   "cell_type": "code",
   "execution_count": 84,
   "metadata": {},
   "outputs": [
    {
     "data": {
      "image/png": "[encoded data removed]",
      "text/plain": [
       "<Figure size 640x480 with 2 Axes>"
      ]
     },
     "metadata": {},
     "output_type": "display_data"
    }
   ],
   "source": [
    "plot_inertia_and_silhouette(sample_mm_scl, 2, 10)"
   ]
  },
  {
   "cell_type": "markdown",
   "metadata": {},
   "source": [
    "#### Models"
   ]
  },
  {
   "cell_type": "markdown",
   "metadata": {},
   "source": [
    "##### 3 clusters"
   ]
  },
  {
   "cell_type": "code",
   "execution_count": 85,
   "metadata": {},
   "outputs": [],
   "source": [
    "kmeans = KMeans(n_clusters = 3, init='k-means++', n_init=20,  random_state = 1).fit(sample_mm_scl)\n",
    "sample_original['mm_kmeans3'] = kmeans.predict(sample_mm_scl)"
   ]
  },
  {
   "cell_type": "code",
   "execution_count": 108,
   "metadata": {},
   "outputs": [
    {
     "name": "stdout",
     "output_type": "stream",
     "text": [
      "# observations per cluster: [9644, 9043, 5739]\n"
     ]
    },
    {
     "data": {
      "text/html": [
       "<style type=\"text/css\">\n",
       "#T_b7010_row0_col0, #T_b7010_row0_col1, #T_b7010_row1_col2 {\n",
       "  background-color: #023858;\n",
       "  color: #f1f1f1;\n",
       "}\n",
       "#T_b7010_row0_col2 {\n",
       "  background-color: #71a8ce;\n",
       "  color: #f1f1f1;\n",
       "}\n",
       "#T_b7010_row1_col0, #T_b7010_row10_col2, #T_b7010_row12_col2 {\n",
       "  background-color: #fdf5fa;\n",
       "  color: #000000;\n",
       "}\n",
       "#T_b7010_row1_col1 {\n",
       "  background-color: #056ba9;\n",
       "  color: #f1f1f1;\n",
       "}\n",
       "#T_b7010_row2_col0 {\n",
       "  background-color: #b8c6e0;\n",
       "  color: #000000;\n",
       "}\n",
       "#T_b7010_row2_col1 {\n",
       "  background-color: #83afd3;\n",
       "  color: #f1f1f1;\n",
       "}\n",
       "#T_b7010_row2_col2 {\n",
       "  background-color: #dad9ea;\n",
       "  color: #000000;\n",
       "}\n",
       "#T_b7010_row3_col0 {\n",
       "  background-color: #f8f1f8;\n",
       "  color: #000000;\n",
       "}\n",
       "#T_b7010_row3_col1 {\n",
       "  background-color: #f7f0f7;\n",
       "  color: #000000;\n",
       "}\n",
       "#T_b7010_row3_col2, #T_b7010_row8_col0 {\n",
       "  background-color: #fbf4f9;\n",
       "  color: #000000;\n",
       "}\n",
       "#T_b7010_row4_col0 {\n",
       "  background-color: #9ab8d8;\n",
       "  color: #000000;\n",
       "}\n",
       "#T_b7010_row4_col1 {\n",
       "  background-color: #94b6d7;\n",
       "  color: #000000;\n",
       "}\n",
       "#T_b7010_row4_col2 {\n",
       "  background-color: #dfddec;\n",
       "  color: #000000;\n",
       "}\n",
       "#T_b7010_row5_col0 {\n",
       "  background-color: #c0c9e2;\n",
       "  color: #000000;\n",
       "}\n",
       "#T_b7010_row5_col1 {\n",
       "  background-color: #c1cae2;\n",
       "  color: #000000;\n",
       "}\n",
       "#T_b7010_row5_col2 {\n",
       "  background-color: #e5e1ef;\n",
       "  color: #000000;\n",
       "}\n",
       "#T_b7010_row6_col0 {\n",
       "  background-color: #f5eef6;\n",
       "  color: #000000;\n",
       "}\n",
       "#T_b7010_row6_col1, #T_b7010_row6_col2 {\n",
       "  background-color: #f3edf5;\n",
       "  color: #000000;\n",
       "}\n",
       "#T_b7010_row7_col0, #T_b7010_row7_col1, #T_b7010_row7_col2, #T_b7010_row9_col0, #T_b7010_row12_col0, #T_b7010_row12_col1 {\n",
       "  background-color: #fff7fb;\n",
       "  color: #000000;\n",
       "}\n",
       "#T_b7010_row8_col1 {\n",
       "  background-color: #fcf4fa;\n",
       "  color: #000000;\n",
       "}\n",
       "#T_b7010_row8_col2, #T_b7010_row11_col0, #T_b7010_row11_col1 {\n",
       "  background-color: #fef6fa;\n",
       "  color: #000000;\n",
       "}\n",
       "#T_b7010_row9_col1 {\n",
       "  background-color: #d8d7e9;\n",
       "  color: #000000;\n",
       "}\n",
       "#T_b7010_row9_col2 {\n",
       "  background-color: #f1ebf4;\n",
       "  color: #000000;\n",
       "}\n",
       "#T_b7010_row10_col0 {\n",
       "  background-color: #faf3f9;\n",
       "  color: #000000;\n",
       "}\n",
       "#T_b7010_row10_col1 {\n",
       "  background-color: #fbf3f9;\n",
       "  color: #000000;\n",
       "}\n",
       "#T_b7010_row11_col2 {\n",
       "  background-color: #fef6fb;\n",
       "  color: #000000;\n",
       "}\n",
       "</style>\n",
       "<table id=\"T_b7010\">\n",
       "  <thead>\n",
       "    <tr>\n",
       "      <th class=\"index_name level0\" >mm_kmeans3</th>\n",
       "      <th id=\"T_b7010_level0_col0\" class=\"col_heading level0 col0\" >0</th>\n",
       "      <th id=\"T_b7010_level0_col1\" class=\"col_heading level0 col1\" >1</th>\n",
       "      <th id=\"T_b7010_level0_col2\" class=\"col_heading level0 col2\" >2</th>\n",
       "    </tr>\n",
       "  </thead>\n",
       "  <tbody>\n",
       "    <tr>\n",
       "      <th id=\"T_b7010_level0_row0\" class=\"row_heading level0 row0\" >frequency_items</th>\n",
       "      <td id=\"T_b7010_row0_col0\" class=\"data row0 col0\" >39.190000</td>\n",
       "      <td id=\"T_b7010_row0_col1\" class=\"data row0 col1\" >35.590000</td>\n",
       "      <td id=\"T_b7010_row0_col2\" class=\"data row0 col2\" >40.530000</td>\n",
       "    </tr>\n",
       "    <tr>\n",
       "      <th id=\"T_b7010_level0_row1\" class=\"row_heading level0 row1\" >potencial_score</th>\n",
       "      <td id=\"T_b7010_row1_col0\" class=\"data row1 col0\" >0.560000</td>\n",
       "      <td id=\"T_b7010_row1_col1\" class=\"data row1 col1\" >27.580000</td>\n",
       "      <td id=\"T_b7010_row1_col2\" class=\"data row1 col2\" >80.200000</td>\n",
       "    </tr>\n",
       "    <tr>\n",
       "      <th id=\"T_b7010_level0_row2\" class=\"row_heading level0 row2\" >longevity_months</th>\n",
       "      <td id=\"T_b7010_row2_col0\" class=\"data row2 col0\" >12.660000</td>\n",
       "      <td id=\"T_b7010_row2_col1\" class=\"data row2 col1\" >16.510000</td>\n",
       "      <td id=\"T_b7010_row2_col2\" class=\"data row2 col2\" >16.530000</td>\n",
       "    </tr>\n",
       "    <tr>\n",
       "      <th id=\"T_b7010_level0_row3\" class=\"row_heading level0 row3\" >relevance_criteria</th>\n",
       "      <td id=\"T_b7010_row3_col0\" class=\"data row3 col0\" >1.920000</td>\n",
       "      <td id=\"T_b7010_row3_col1\" class=\"data row3 col1\" >1.930000</td>\n",
       "      <td id=\"T_b7010_row3_col2\" class=\"data row3 col2\" >1.910000</td>\n",
       "    </tr>\n",
       "    <tr>\n",
       "      <th id=\"T_b7010_level0_row4\" class=\"row_heading level0 row4\" >recency_in_weeks</th>\n",
       "      <td id=\"T_b7010_row4_col0\" class=\"data row4 col0\" >15.800000</td>\n",
       "      <td id=\"T_b7010_row4_col1\" class=\"data row4 col1\" >15.010000</td>\n",
       "      <td id=\"T_b7010_row4_col2\" class=\"data row4 col2\" >14.780000</td>\n",
       "    </tr>\n",
       "    <tr>\n",
       "      <th id=\"T_b7010_level0_row5\" class=\"row_heading level0 row5\" >promotional_percentage</th>\n",
       "      <td id=\"T_b7010_row5_col0\" class=\"data row5 col0\" >11.670000</td>\n",
       "      <td id=\"T_b7010_row5_col1\" class=\"data row5 col1\" >10.500000</td>\n",
       "      <td id=\"T_b7010_row5_col2\" class=\"data row5 col2\" >12.770000</td>\n",
       "    </tr>\n",
       "    <tr>\n",
       "      <th id=\"T_b7010_level0_row6\" class=\"row_heading level0 row6\" >returns</th>\n",
       "      <td id=\"T_b7010_row6_col0\" class=\"data row6 col0\" >2.680000</td>\n",
       "      <td id=\"T_b7010_row6_col1\" class=\"data row6 col1\" >2.860000</td>\n",
       "      <td id=\"T_b7010_row6_col2\" class=\"data row6 col2\" >6.480000</td>\n",
       "    </tr>\n",
       "    <tr>\n",
       "      <th id=\"T_b7010_level0_row7\" class=\"row_heading level0 row7\" >flaged</th>\n",
       "      <td id=\"T_b7010_row7_col0\" class=\"data row7 col0\" >0.000000</td>\n",
       "      <td id=\"T_b7010_row7_col1\" class=\"data row7 col1\" >0.010000</td>\n",
       "      <td id=\"T_b7010_row7_col2\" class=\"data row7 col2\" >0.020000</td>\n",
       "    </tr>\n",
       "    <tr>\n",
       "      <th id=\"T_b7010_level0_row8\" class=\"row_heading level0 row8\" >credit_factor</th>\n",
       "      <td id=\"T_b7010_row8_col0\" class=\"data row8 col0\" >1.040000</td>\n",
       "      <td id=\"T_b7010_row8_col1\" class=\"data row8 col1\" >0.820000</td>\n",
       "      <td id=\"T_b7010_row8_col2\" class=\"data row8 col2\" >0.800000</td>\n",
       "    </tr>\n",
       "    <tr>\n",
       "      <th id=\"T_b7010_level0_row9\" class=\"row_heading level0 row9\" >zip_code</th>\n",
       "      <td id=\"T_b7010_row9_col0\" class=\"data row9 col0\" >0.010000</td>\n",
       "      <td id=\"T_b7010_row9_col1\" class=\"data row9 col1\" >7.690000</td>\n",
       "      <td id=\"T_b7010_row9_col2\" class=\"data row9 col2\" >7.680000</td>\n",
       "    </tr>\n",
       "    <tr>\n",
       "      <th id=\"T_b7010_level0_row10\" class=\"row_heading level0 row10\" >education</th>\n",
       "      <td id=\"T_b7010_row10_col0\" class=\"data row10 col0\" >1.280000</td>\n",
       "      <td id=\"T_b7010_row10_col1\" class=\"data row10 col1\" >1.060000</td>\n",
       "      <td id=\"T_b7010_row10_col2\" class=\"data row10 col2\" >1.000000</td>\n",
       "    </tr>\n",
       "    <tr>\n",
       "      <th id=\"T_b7010_level0_row11\" class=\"row_heading level0 row11\" >gender</th>\n",
       "      <td id=\"T_b7010_row11_col0\" class=\"data row11 col0\" >0.380000</td>\n",
       "      <td id=\"T_b7010_row11_col1\" class=\"data row11 col1\" >0.380000</td>\n",
       "      <td id=\"T_b7010_row11_col2\" class=\"data row11 col2\" >0.360000</td>\n",
       "    </tr>\n",
       "    <tr>\n",
       "      <th id=\"T_b7010_level0_row12\" class=\"row_heading level0 row12\" >no_kmeans3</th>\n",
       "      <td id=\"T_b7010_row12_col0\" class=\"data row12 col0\" >0.040000</td>\n",
       "      <td id=\"T_b7010_row12_col1\" class=\"data row12 col1\" >0.040000</td>\n",
       "      <td id=\"T_b7010_row12_col2\" class=\"data row12 col2\" >1.040000</td>\n",
       "    </tr>\n",
       "  </tbody>\n",
       "</table>\n"
      ],
      "text/plain": [
       "<pandas.io.formats.style.Styler at 0x1d0be7fc1a0>"
      ]
     },
     "execution_count": 108,
     "metadata": {},
     "output_type": "execute_result"
    }
   ],
   "source": [
    "groupby_mean(sample_original, 'mm_kmeans3', True)"
   ]
  },
  {
   "cell_type": "markdown",
   "metadata": {},
   "source": [
    "lowscore+new | general | score+(promo?)"
   ]
  },
  {
   "cell_type": "markdown",
   "metadata": {},
   "source": [
    "##### 4 clusters"
   ]
  },
  {
   "cell_type": "code",
   "execution_count": 87,
   "metadata": {},
   "outputs": [],
   "source": [
    "kmeans = KMeans(n_clusters = 4, init='k-means++', n_init=20,  random_state = 1).fit(sample_mm_scl)\n",
    "sample_original['mm_kmeans4'] = kmeans.predict(sample_mm_scl)"
   ]
  },
  {
   "cell_type": "code",
   "execution_count": 88,
   "metadata": {},
   "outputs": [
    {
     "name": "stdout",
     "output_type": "stream",
     "text": [
      "# observations per cluster: [5322, 9643, 8573, 888]\n"
     ]
    },
    {
     "data": {
      "text/html": [
       "<style type=\"text/css\">\n",
       "#T_57daf_row0_col0 {\n",
       "  background-color: #71a8ce;\n",
       "  color: #f1f1f1;\n",
       "}\n",
       "#T_57daf_row0_col1, #T_57daf_row0_col2, #T_57daf_row1_col0, #T_57daf_row1_col3 {\n",
       "  background-color: #023858;\n",
       "  color: #f1f1f1;\n",
       "}\n",
       "#T_57daf_row0_col3 {\n",
       "  background-color: #0a73b2;\n",
       "  color: #f1f1f1;\n",
       "}\n",
       "#T_57daf_row1_col1, #T_57daf_row10_col0, #T_57daf_row12_col0 {\n",
       "  background-color: #fdf5fa;\n",
       "  color: #000000;\n",
       "}\n",
       "#T_57daf_row1_col2 {\n",
       "  background-color: #056ba9;\n",
       "  color: #f1f1f1;\n",
       "}\n",
       "#T_57daf_row2_col0 {\n",
       "  background-color: #dad9ea;\n",
       "  color: #000000;\n",
       "}\n",
       "#T_57daf_row2_col1 {\n",
       "  background-color: #b8c6e0;\n",
       "  color: #000000;\n",
       "}\n",
       "#T_57daf_row2_col2 {\n",
       "  background-color: #83afd3;\n",
       "  color: #f1f1f1;\n",
       "}\n",
       "#T_57daf_row2_col3, #T_57daf_row5_col2 {\n",
       "  background-color: #bcc7e1;\n",
       "  color: #000000;\n",
       "}\n",
       "#T_57daf_row3_col0, #T_57daf_row8_col1 {\n",
       "  background-color: #fbf4f9;\n",
       "  color: #000000;\n",
       "}\n",
       "#T_57daf_row3_col1 {\n",
       "  background-color: #f8f1f8;\n",
       "  color: #000000;\n",
       "}\n",
       "#T_57daf_row3_col2 {\n",
       "  background-color: #f7f0f7;\n",
       "  color: #000000;\n",
       "}\n",
       "#T_57daf_row3_col3, #T_57daf_row8_col0, #T_57daf_row8_col3, #T_57daf_row11_col1, #T_57daf_row11_col2, #T_57daf_row12_col3 {\n",
       "  background-color: #fef6fa;\n",
       "  color: #000000;\n",
       "}\n",
       "#T_57daf_row4_col0 {\n",
       "  background-color: #dfddec;\n",
       "  color: #000000;\n",
       "}\n",
       "#T_57daf_row4_col1 {\n",
       "  background-color: #9ab8d8;\n",
       "  color: #000000;\n",
       "}\n",
       "#T_57daf_row4_col2 {\n",
       "  background-color: #94b6d7;\n",
       "  color: #000000;\n",
       "}\n",
       "#T_57daf_row4_col3 {\n",
       "  background-color: #c4cbe3;\n",
       "  color: #000000;\n",
       "}\n",
       "#T_57daf_row5_col0 {\n",
       "  background-color: #e2dfee;\n",
       "  color: #000000;\n",
       "}\n",
       "#T_57daf_row5_col1 {\n",
       "  background-color: #c0c9e2;\n",
       "  color: #000000;\n",
       "}\n",
       "#T_57daf_row5_col3, #T_57daf_row7_col0, #T_57daf_row7_col1, #T_57daf_row7_col2, #T_57daf_row7_col3, #T_57daf_row9_col1, #T_57daf_row12_col1, #T_57daf_row12_col2 {\n",
       "  background-color: #fff7fb;\n",
       "  color: #000000;\n",
       "}\n",
       "#T_57daf_row6_col0, #T_57daf_row6_col1 {\n",
       "  background-color: #f5eef6;\n",
       "  color: #000000;\n",
       "}\n",
       "#T_57daf_row6_col2 {\n",
       "  background-color: #f4eef6;\n",
       "  color: #000000;\n",
       "}\n",
       "#T_57daf_row6_col3 {\n",
       "  background-color: #d5d5e8;\n",
       "  color: #000000;\n",
       "}\n",
       "#T_57daf_row8_col2 {\n",
       "  background-color: #fcf4fa;\n",
       "  color: #000000;\n",
       "}\n",
       "#T_57daf_row9_col0 {\n",
       "  background-color: #f1ebf4;\n",
       "  color: #000000;\n",
       "}\n",
       "#T_57daf_row9_col2 {\n",
       "  background-color: #d8d7e9;\n",
       "  color: #000000;\n",
       "}\n",
       "#T_57daf_row9_col3 {\n",
       "  background-color: #e7e3f0;\n",
       "  color: #000000;\n",
       "}\n",
       "#T_57daf_row10_col1 {\n",
       "  background-color: #faf3f9;\n",
       "  color: #000000;\n",
       "}\n",
       "#T_57daf_row10_col2 {\n",
       "  background-color: #fbf3f9;\n",
       "  color: #000000;\n",
       "}\n",
       "#T_57daf_row10_col3 {\n",
       "  background-color: #000000;\n",
       "  color: #f1f1f1;\n",
       "}\n",
       "#T_57daf_row11_col0, #T_57daf_row11_col3 {\n",
       "  background-color: #fef6fb;\n",
       "  color: #000000;\n",
       "}\n",
       "</style>\n",
       "<table id=\"T_57daf\">\n",
       "  <thead>\n",
       "    <tr>\n",
       "      <th class=\"index_name level0\" >mm_kmeans4</th>\n",
       "      <th id=\"T_57daf_level0_col0\" class=\"col_heading level0 col0\" >0</th>\n",
       "      <th id=\"T_57daf_level0_col1\" class=\"col_heading level0 col1\" >1</th>\n",
       "      <th id=\"T_57daf_level0_col2\" class=\"col_heading level0 col2\" >2</th>\n",
       "      <th id=\"T_57daf_level0_col3\" class=\"col_heading level0 col3\" >3</th>\n",
       "    </tr>\n",
       "  </thead>\n",
       "  <tbody>\n",
       "    <tr>\n",
       "      <th id=\"T_57daf_level0_row0\" class=\"row_heading level0 row0\" >frequency_items</th>\n",
       "      <td id=\"T_57daf_row0_col0\" class=\"data row0 col0\" >40.460000</td>\n",
       "      <td id=\"T_57daf_row0_col1\" class=\"data row0 col1\" >39.190000</td>\n",
       "      <td id=\"T_57daf_row0_col2\" class=\"data row0 col2\" >35.540000</td>\n",
       "      <td id=\"T_57daf_row0_col3\" class=\"data row0 col3\" >38.890000</td>\n",
       "    </tr>\n",
       "    <tr>\n",
       "      <th id=\"T_57daf_level0_row1\" class=\"row_heading level0 row1\" >potencial_score</th>\n",
       "      <td id=\"T_57daf_row1_col0\" class=\"data row1 col0\" >80.160000</td>\n",
       "      <td id=\"T_57daf_row1_col1\" class=\"data row1 col1\" >0.560000</td>\n",
       "      <td id=\"T_57daf_row1_col2\" class=\"data row1 col2\" >27.560000</td>\n",
       "      <td id=\"T_57daf_row1_col3\" class=\"data row1 col3\" >52.740000</td>\n",
       "    </tr>\n",
       "    <tr>\n",
       "      <th id=\"T_57daf_level0_row2\" class=\"row_heading level0 row2\" >longevity_months</th>\n",
       "      <td id=\"T_57daf_row2_col0\" class=\"data row2 col0\" >16.540000</td>\n",
       "      <td id=\"T_57daf_row2_col1\" class=\"data row2 col1\" >12.650000</td>\n",
       "      <td id=\"T_57daf_row2_col2\" class=\"data row2 col2\" >16.510000</td>\n",
       "      <td id=\"T_57daf_row2_col3\" class=\"data row2 col3\" >16.530000</td>\n",
       "    </tr>\n",
       "    <tr>\n",
       "      <th id=\"T_57daf_level0_row3\" class=\"row_heading level0 row3\" >relevance_criteria</th>\n",
       "      <td id=\"T_57daf_row3_col0\" class=\"data row3 col0\" >2.000000</td>\n",
       "      <td id=\"T_57daf_row3_col1\" class=\"data row3 col1\" >1.920000</td>\n",
       "      <td id=\"T_57daf_row3_col2\" class=\"data row3 col2\" >2.000000</td>\n",
       "      <td id=\"T_57daf_row3_col3\" class=\"data row3 col3\" >0.740000</td>\n",
       "    </tr>\n",
       "    <tr>\n",
       "      <th id=\"T_57daf_level0_row4\" class=\"row_heading level0 row4\" >recency_in_weeks</th>\n",
       "      <td id=\"T_57daf_row4_col0\" class=\"data row4 col0\" >14.750000</td>\n",
       "      <td id=\"T_57daf_row4_col1\" class=\"data row4 col1\" >15.810000</td>\n",
       "      <td id=\"T_57daf_row4_col2\" class=\"data row4 col2\" >14.990000</td>\n",
       "      <td id=\"T_57daf_row4_col3\" class=\"data row4 col3\" >15.260000</td>\n",
       "    </tr>\n",
       "    <tr>\n",
       "      <th id=\"T_57daf_level0_row5\" class=\"row_heading level0 row5\" >promotional_percentage</th>\n",
       "      <td id=\"T_57daf_row5_col0\" class=\"data row5 col0\" >13.740000</td>\n",
       "      <td id=\"T_57daf_row5_col1\" class=\"data row5 col1\" >11.670000</td>\n",
       "      <td id=\"T_57daf_row5_col2\" class=\"data row5 col2\" >11.080000</td>\n",
       "      <td id=\"T_57daf_row5_col3\" class=\"data row5 col3\" >0.180000</td>\n",
       "    </tr>\n",
       "    <tr>\n",
       "      <th id=\"T_57daf_level0_row6\" class=\"row_heading level0 row6\" >returns</th>\n",
       "      <td id=\"T_57daf_row6_col0\" class=\"data row6 col0\" >5.580000</td>\n",
       "      <td id=\"T_57daf_row6_col1\" class=\"data row6 col1\" >2.680000</td>\n",
       "      <td id=\"T_57daf_row6_col2\" class=\"data row6 col2\" >2.630000</td>\n",
       "      <td id=\"T_57daf_row6_col3\" class=\"data row6 col3\" >12.250000</td>\n",
       "    </tr>\n",
       "    <tr>\n",
       "      <th id=\"T_57daf_level0_row7\" class=\"row_heading level0 row7\" >flaged</th>\n",
       "      <td id=\"T_57daf_row7_col0\" class=\"data row7 col0\" >0.000000</td>\n",
       "      <td id=\"T_57daf_row7_col1\" class=\"data row7 col1\" >0.000000</td>\n",
       "      <td id=\"T_57daf_row7_col2\" class=\"data row7 col2\" >0.000000</td>\n",
       "      <td id=\"T_57daf_row7_col3\" class=\"data row7 col3\" >0.150000</td>\n",
       "    </tr>\n",
       "    <tr>\n",
       "      <th id=\"T_57daf_level0_row8\" class=\"row_heading level0 row8\" >credit_factor</th>\n",
       "      <td id=\"T_57daf_row8_col0\" class=\"data row8 col0\" >0.820000</td>\n",
       "      <td id=\"T_57daf_row8_col1\" class=\"data row8 col1\" >1.040000</td>\n",
       "      <td id=\"T_57daf_row8_col2\" class=\"data row8 col2\" >0.830000</td>\n",
       "      <td id=\"T_57daf_row8_col3\" class=\"data row8 col3\" >0.620000</td>\n",
       "    </tr>\n",
       "    <tr>\n",
       "      <th id=\"T_57daf_level0_row9\" class=\"row_heading level0 row9\" >zip_code</th>\n",
       "      <td id=\"T_57daf_row9_col0\" class=\"data row9 col0\" >7.670000</td>\n",
       "      <td id=\"T_57daf_row9_col1\" class=\"data row9 col1\" >0.010000</td>\n",
       "      <td id=\"T_57daf_row9_col2\" class=\"data row9 col2\" >7.680000</td>\n",
       "      <td id=\"T_57daf_row9_col3\" class=\"data row9 col3\" >7.810000</td>\n",
       "    </tr>\n",
       "    <tr>\n",
       "      <th id=\"T_57daf_level0_row10\" class=\"row_heading level0 row10\" >education</th>\n",
       "      <td id=\"T_57daf_row10_col0\" class=\"data row10 col0\" >1.000000</td>\n",
       "      <td id=\"T_57daf_row10_col1\" class=\"data row10 col1\" >1.280000</td>\n",
       "      <td id=\"T_57daf_row10_col2\" class=\"data row10 col2\" >1.060000</td>\n",
       "      <td id=\"T_57daf_row10_col3\" class=\"data row10 col3\" >nan</td>\n",
       "    </tr>\n",
       "    <tr>\n",
       "      <th id=\"T_57daf_level0_row11\" class=\"row_heading level0 row11\" >gender</th>\n",
       "      <td id=\"T_57daf_row11_col0\" class=\"data row11 col0\" >0.360000</td>\n",
       "      <td id=\"T_57daf_row11_col1\" class=\"data row11 col1\" >0.380000</td>\n",
       "      <td id=\"T_57daf_row11_col2\" class=\"data row11 col2\" >0.380000</td>\n",
       "      <td id=\"T_57daf_row11_col3\" class=\"data row11 col3\" >0.370000</td>\n",
       "    </tr>\n",
       "    <tr>\n",
       "      <th id=\"T_57daf_level0_row12\" class=\"row_heading level0 row12\" >no_kmeans3</th>\n",
       "      <td id=\"T_57daf_row12_col0\" class=\"data row12 col0\" >1.040000</td>\n",
       "      <td id=\"T_57daf_row12_col1\" class=\"data row12 col1\" >0.040000</td>\n",
       "      <td id=\"T_57daf_row12_col2\" class=\"data row12 col2\" >0.040000</td>\n",
       "      <td id=\"T_57daf_row12_col3\" class=\"data row12 col3\" >0.580000</td>\n",
       "    </tr>\n",
       "  </tbody>\n",
       "</table>\n"
      ],
      "text/plain": [
       "<pandas.io.formats.style.Styler at 0x1d0bb9257f0>"
      ]
     },
     "execution_count": 88,
     "metadata": {},
     "output_type": "execute_result"
    }
   ],
   "source": [
    "groupby_mean(sample_original, 'mm_kmeans4', True)"
   ]
  },
  {
   "cell_type": "markdown",
   "metadata": {},
   "source": [
    "score | lowscore+new | general | lowpromo+dumb+returns"
   ]
  },
  {
   "cell_type": "markdown",
   "metadata": {},
   "source": [
    "##### 5 clusters"
   ]
  },
  {
   "cell_type": "code",
   "execution_count": 90,
   "metadata": {},
   "outputs": [],
   "source": [
    "kmeans = KMeans(n_clusters = 5, init='k-means++', n_init=20,  random_state = 1).fit(sample_mm_scl)\n",
    "sample_original['mm_kmeans5'] = kmeans.predict(sample_mm_scl)"
   ]
  },
  {
   "cell_type": "code",
   "execution_count": 91,
   "metadata": {},
   "outputs": [
    {
     "name": "stdout",
     "output_type": "stream",
     "text": [
      "# observations per cluster: [9643, 5322, 3937, 4640, 884]\n"
     ]
    },
    {
     "data": {
      "text/html": [
       "<style type=\"text/css\">\n",
       "#T_321d4_row0_col0, #T_321d4_row0_col2, #T_321d4_row0_col3, #T_321d4_row1_col1, #T_321d4_row1_col4 {\n",
       "  background-color: #023858;\n",
       "  color: #f1f1f1;\n",
       "}\n",
       "#T_321d4_row0_col1 {\n",
       "  background-color: #71a8ce;\n",
       "  color: #f1f1f1;\n",
       "}\n",
       "#T_321d4_row0_col4 {\n",
       "  background-color: #0c74b2;\n",
       "  color: #f1f1f1;\n",
       "}\n",
       "#T_321d4_row1_col0, #T_321d4_row10_col1, #T_321d4_row10_col2, #T_321d4_row12_col1 {\n",
       "  background-color: #fdf5fa;\n",
       "  color: #000000;\n",
       "}\n",
       "#T_321d4_row1_col2 {\n",
       "  background-color: #0872b1;\n",
       "  color: #f1f1f1;\n",
       "}\n",
       "#T_321d4_row1_col3 {\n",
       "  background-color: #0566a0;\n",
       "  color: #f1f1f1;\n",
       "}\n",
       "#T_321d4_row2_col0, #T_321d4_row5_col3 {\n",
       "  background-color: #b8c6e0;\n",
       "  color: #000000;\n",
       "}\n",
       "#T_321d4_row2_col1, #T_321d4_row9_col2 {\n",
       "  background-color: #dad9ea;\n",
       "  color: #000000;\n",
       "}\n",
       "#T_321d4_row2_col2 {\n",
       "  background-color: #2987bc;\n",
       "  color: #f1f1f1;\n",
       "}\n",
       "#T_321d4_row2_col3, #T_321d4_row4_col4 {\n",
       "  background-color: #c4cbe3;\n",
       "  color: #000000;\n",
       "}\n",
       "#T_321d4_row2_col4 {\n",
       "  background-color: #bcc7e1;\n",
       "  color: #000000;\n",
       "}\n",
       "#T_321d4_row3_col0, #T_321d4_row10_col3 {\n",
       "  background-color: #f8f1f8;\n",
       "  color: #000000;\n",
       "}\n",
       "#T_321d4_row3_col1, #T_321d4_row8_col0, #T_321d4_row8_col2 {\n",
       "  background-color: #fbf4f9;\n",
       "  color: #000000;\n",
       "}\n",
       "#T_321d4_row3_col2, #T_321d4_row3_col3 {\n",
       "  background-color: #f7f0f7;\n",
       "  color: #000000;\n",
       "}\n",
       "#T_321d4_row3_col4, #T_321d4_row8_col1, #T_321d4_row8_col4, #T_321d4_row11_col0, #T_321d4_row11_col2, #T_321d4_row11_col3, #T_321d4_row12_col4 {\n",
       "  background-color: #fef6fa;\n",
       "  color: #000000;\n",
       "}\n",
       "#T_321d4_row4_col0 {\n",
       "  background-color: #9ab8d8;\n",
       "  color: #000000;\n",
       "}\n",
       "#T_321d4_row4_col1 {\n",
       "  background-color: #dfddec;\n",
       "  color: #000000;\n",
       "}\n",
       "#T_321d4_row4_col2 {\n",
       "  background-color: #94b6d7;\n",
       "  color: #000000;\n",
       "}\n",
       "#T_321d4_row4_col3 {\n",
       "  background-color: #93b5d6;\n",
       "  color: #000000;\n",
       "}\n",
       "#T_321d4_row5_col0, #T_321d4_row5_col2 {\n",
       "  background-color: #c0c9e2;\n",
       "  color: #000000;\n",
       "}\n",
       "#T_321d4_row5_col1 {\n",
       "  background-color: #e2dfee;\n",
       "  color: #000000;\n",
       "}\n",
       "#T_321d4_row5_col4, #T_321d4_row7_col0, #T_321d4_row7_col1, #T_321d4_row7_col2, #T_321d4_row7_col3, #T_321d4_row7_col4, #T_321d4_row9_col0, #T_321d4_row12_col0, #T_321d4_row12_col2, #T_321d4_row12_col3 {\n",
       "  background-color: #fff7fb;\n",
       "  color: #000000;\n",
       "}\n",
       "#T_321d4_row6_col0, #T_321d4_row6_col1, #T_321d4_row6_col3 {\n",
       "  background-color: #f5eef6;\n",
       "  color: #000000;\n",
       "}\n",
       "#T_321d4_row6_col2 {\n",
       "  background-color: #f3edf5;\n",
       "  color: #000000;\n",
       "}\n",
       "#T_321d4_row6_col4 {\n",
       "  background-color: #d5d5e8;\n",
       "  color: #000000;\n",
       "}\n",
       "#T_321d4_row8_col3 {\n",
       "  background-color: #fcf4fa;\n",
       "  color: #000000;\n",
       "}\n",
       "#T_321d4_row9_col1 {\n",
       "  background-color: #f1ebf4;\n",
       "  color: #000000;\n",
       "}\n",
       "#T_321d4_row9_col3 {\n",
       "  background-color: #d6d6e9;\n",
       "  color: #000000;\n",
       "}\n",
       "#T_321d4_row9_col4 {\n",
       "  background-color: #e7e3f0;\n",
       "  color: #000000;\n",
       "}\n",
       "#T_321d4_row10_col0 {\n",
       "  background-color: #faf3f9;\n",
       "  color: #000000;\n",
       "}\n",
       "#T_321d4_row10_col4 {\n",
       "  background-color: #000000;\n",
       "  color: #f1f1f1;\n",
       "}\n",
       "#T_321d4_row11_col1, #T_321d4_row11_col4 {\n",
       "  background-color: #fef6fb;\n",
       "  color: #000000;\n",
       "}\n",
       "</style>\n",
       "<table id=\"T_321d4\">\n",
       "  <thead>\n",
       "    <tr>\n",
       "      <th class=\"index_name level0\" >mm_kmeans5</th>\n",
       "      <th id=\"T_321d4_level0_col0\" class=\"col_heading level0 col0\" >0</th>\n",
       "      <th id=\"T_321d4_level0_col1\" class=\"col_heading level0 col1\" >1</th>\n",
       "      <th id=\"T_321d4_level0_col2\" class=\"col_heading level0 col2\" >2</th>\n",
       "      <th id=\"T_321d4_level0_col3\" class=\"col_heading level0 col3\" >3</th>\n",
       "      <th id=\"T_321d4_level0_col4\" class=\"col_heading level0 col4\" >4</th>\n",
       "    </tr>\n",
       "  </thead>\n",
       "  <tbody>\n",
       "    <tr>\n",
       "      <th id=\"T_321d4_level0_row0\" class=\"row_heading level0 row0\" >frequency_items</th>\n",
       "      <td id=\"T_321d4_row0_col0\" class=\"data row0 col0\" >39.190000</td>\n",
       "      <td id=\"T_321d4_row0_col1\" class=\"data row0 col1\" >40.460000</td>\n",
       "      <td id=\"T_321d4_row0_col2\" class=\"data row0 col2\" >36.810000</td>\n",
       "      <td id=\"T_321d4_row0_col3\" class=\"data row0 col3\" >34.460000</td>\n",
       "      <td id=\"T_321d4_row0_col4\" class=\"data row0 col4\" >38.890000</td>\n",
       "    </tr>\n",
       "    <tr>\n",
       "      <th id=\"T_321d4_level0_row1\" class=\"row_heading level0 row1\" >potencial_score</th>\n",
       "      <td id=\"T_321d4_row1_col0\" class=\"data row1 col0\" >0.560000</td>\n",
       "      <td id=\"T_321d4_row1_col1\" class=\"data row1 col1\" >80.160000</td>\n",
       "      <td id=\"T_321d4_row1_col2\" class=\"data row1 col2\" >27.290000</td>\n",
       "      <td id=\"T_321d4_row1_col3\" class=\"data row1 col3\" >27.780000</td>\n",
       "      <td id=\"T_321d4_row1_col4\" class=\"data row1 col4\" >52.970000</td>\n",
       "    </tr>\n",
       "    <tr>\n",
       "      <th id=\"T_321d4_level0_row2\" class=\"row_heading level0 row2\" >longevity_months</th>\n",
       "      <td id=\"T_321d4_row2_col0\" class=\"data row2 col0\" >12.660000</td>\n",
       "      <td id=\"T_321d4_row2_col1\" class=\"data row2 col1\" >16.540000</td>\n",
       "      <td id=\"T_321d4_row2_col2\" class=\"data row2 col2\" >24.300000</td>\n",
       "      <td id=\"T_321d4_row2_col3\" class=\"data row2 col3\" >9.890000</td>\n",
       "      <td id=\"T_321d4_row2_col4\" class=\"data row2 col4\" >16.530000</td>\n",
       "    </tr>\n",
       "    <tr>\n",
       "      <th id=\"T_321d4_level0_row3\" class=\"row_heading level0 row3\" >relevance_criteria</th>\n",
       "      <td id=\"T_321d4_row3_col0\" class=\"data row3 col0\" >1.920000</td>\n",
       "      <td id=\"T_321d4_row3_col1\" class=\"data row3 col1\" >2.000000</td>\n",
       "      <td id=\"T_321d4_row3_col2\" class=\"data row3 col2\" >2.000000</td>\n",
       "      <td id=\"T_321d4_row3_col3\" class=\"data row3 col3\" >2.000000</td>\n",
       "      <td id=\"T_321d4_row3_col4\" class=\"data row3 col4\" >0.740000</td>\n",
       "    </tr>\n",
       "    <tr>\n",
       "      <th id=\"T_321d4_level0_row4\" class=\"row_heading level0 row4\" >recency_in_weeks</th>\n",
       "      <td id=\"T_321d4_row4_col0\" class=\"data row4 col0\" >15.800000</td>\n",
       "      <td id=\"T_321d4_row4_col1\" class=\"data row4 col1\" >14.750000</td>\n",
       "      <td id=\"T_321d4_row4_col2\" class=\"data row4 col2\" >15.520000</td>\n",
       "      <td id=\"T_321d4_row4_col3\" class=\"data row4 col3\" >14.550000</td>\n",
       "      <td id=\"T_321d4_row4_col4\" class=\"data row4 col4\" >15.270000</td>\n",
       "    </tr>\n",
       "    <tr>\n",
       "      <th id=\"T_321d4_level0_row5\" class=\"row_heading level0 row5\" >promotional_percentage</th>\n",
       "      <td id=\"T_321d4_row5_col0\" class=\"data row5 col0\" >11.670000</td>\n",
       "      <td id=\"T_321d4_row5_col1\" class=\"data row5 col1\" >13.740000</td>\n",
       "      <td id=\"T_321d4_row5_col2\" class=\"data row5 col2\" >10.960000</td>\n",
       "      <td id=\"T_321d4_row5_col3\" class=\"data row5 col3\" >11.160000</td>\n",
       "      <td id=\"T_321d4_row5_col4\" class=\"data row5 col4\" >0.180000</td>\n",
       "    </tr>\n",
       "    <tr>\n",
       "      <th id=\"T_321d4_level0_row6\" class=\"row_heading level0 row6\" >returns</th>\n",
       "      <td id=\"T_321d4_row6_col0\" class=\"data row6 col0\" >2.680000</td>\n",
       "      <td id=\"T_321d4_row6_col1\" class=\"data row6 col1\" >5.580000</td>\n",
       "      <td id=\"T_321d4_row6_col2\" class=\"data row6 col2\" >2.970000</td>\n",
       "      <td id=\"T_321d4_row6_col3\" class=\"data row6 col3\" >2.330000</td>\n",
       "      <td id=\"T_321d4_row6_col4\" class=\"data row6 col4\" >12.310000</td>\n",
       "    </tr>\n",
       "    <tr>\n",
       "      <th id=\"T_321d4_level0_row7\" class=\"row_heading level0 row7\" >flaged</th>\n",
       "      <td id=\"T_321d4_row7_col0\" class=\"data row7 col0\" >0.000000</td>\n",
       "      <td id=\"T_321d4_row7_col1\" class=\"data row7 col1\" >0.000000</td>\n",
       "      <td id=\"T_321d4_row7_col2\" class=\"data row7 col2\" >0.000000</td>\n",
       "      <td id=\"T_321d4_row7_col3\" class=\"data row7 col3\" >0.000000</td>\n",
       "      <td id=\"T_321d4_row7_col4\" class=\"data row7 col4\" >0.150000</td>\n",
       "    </tr>\n",
       "    <tr>\n",
       "      <th id=\"T_321d4_level0_row8\" class=\"row_heading level0 row8\" >credit_factor</th>\n",
       "      <td id=\"T_321d4_row8_col0\" class=\"data row8 col0\" >1.040000</td>\n",
       "      <td id=\"T_321d4_row8_col1\" class=\"data row8 col1\" >0.820000</td>\n",
       "      <td id=\"T_321d4_row8_col2\" class=\"data row8 col2\" >0.920000</td>\n",
       "      <td id=\"T_321d4_row8_col3\" class=\"data row8 col3\" >0.760000</td>\n",
       "      <td id=\"T_321d4_row8_col4\" class=\"data row8 col4\" >0.620000</td>\n",
       "    </tr>\n",
       "    <tr>\n",
       "      <th id=\"T_321d4_level0_row9\" class=\"row_heading level0 row9\" >zip_code</th>\n",
       "      <td id=\"T_321d4_row9_col0\" class=\"data row9 col0\" >0.010000</td>\n",
       "      <td id=\"T_321d4_row9_col1\" class=\"data row9 col1\" >7.670000</td>\n",
       "      <td id=\"T_321d4_row9_col2\" class=\"data row9 col2\" >7.590000</td>\n",
       "      <td id=\"T_321d4_row9_col3\" class=\"data row9 col3\" >7.750000</td>\n",
       "      <td id=\"T_321d4_row9_col4\" class=\"data row9 col4\" >7.820000</td>\n",
       "    </tr>\n",
       "    <tr>\n",
       "      <th id=\"T_321d4_level0_row10\" class=\"row_heading level0 row10\" >education</th>\n",
       "      <td id=\"T_321d4_row10_col0\" class=\"data row10 col0\" >1.280000</td>\n",
       "      <td id=\"T_321d4_row10_col1\" class=\"data row10 col1\" >1.000000</td>\n",
       "      <td id=\"T_321d4_row10_col2\" class=\"data row10 col2\" >0.490000</td>\n",
       "      <td id=\"T_321d4_row10_col3\" class=\"data row10 col3\" >1.570000</td>\n",
       "      <td id=\"T_321d4_row10_col4\" class=\"data row10 col4\" >nan</td>\n",
       "    </tr>\n",
       "    <tr>\n",
       "      <th id=\"T_321d4_level0_row11\" class=\"row_heading level0 row11\" >gender</th>\n",
       "      <td id=\"T_321d4_row11_col0\" class=\"data row11 col0\" >0.380000</td>\n",
       "      <td id=\"T_321d4_row11_col1\" class=\"data row11 col1\" >0.360000</td>\n",
       "      <td id=\"T_321d4_row11_col2\" class=\"data row11 col2\" >0.380000</td>\n",
       "      <td id=\"T_321d4_row11_col3\" class=\"data row11 col3\" >0.380000</td>\n",
       "      <td id=\"T_321d4_row11_col4\" class=\"data row11 col4\" >0.370000</td>\n",
       "    </tr>\n",
       "    <tr>\n",
       "      <th id=\"T_321d4_level0_row12\" class=\"row_heading level0 row12\" >no_kmeans3</th>\n",
       "      <td id=\"T_321d4_row12_col0\" class=\"data row12 col0\" >0.040000</td>\n",
       "      <td id=\"T_321d4_row12_col1\" class=\"data row12 col1\" >1.040000</td>\n",
       "      <td id=\"T_321d4_row12_col2\" class=\"data row12 col2\" >0.040000</td>\n",
       "      <td id=\"T_321d4_row12_col3\" class=\"data row12 col3\" >0.040000</td>\n",
       "      <td id=\"T_321d4_row12_col4\" class=\"data row12 col4\" >0.580000</td>\n",
       "    </tr>\n",
       "  </tbody>\n",
       "</table>\n"
      ],
      "text/plain": [
       "<pandas.io.formats.style.Styler at 0x1d0bb6c6300>"
      ]
     },
     "execution_count": 91,
     "metadata": {},
     "output_type": "execute_result"
    }
   ],
   "source": [
    "groupby_mean(sample_original, 'mm_kmeans5', True)"
   ]
  },
  {
   "cell_type": "markdown",
   "metadata": {},
   "source": [
    "lowscore | score | antiques | new | nopromo+dumb+returns"
   ]
  },
  {
   "cell_type": "code",
   "execution_count": 112,
   "metadata": {},
   "outputs": [
    {
     "data": {
      "image/png": "[encoded data removed]",
      "text/plain": [
       "<Figure size 640x480 with 1 Axes>"
      ]
     },
     "metadata": {},
     "output_type": "display_data"
    }
   ],
   "source": [
    "visualize_dimensionality_reduction(umap_embedding_mm, sample_original['mm_kmeans4'])"
   ]
  },
  {
   "cell_type": "markdown",
   "metadata": {},
   "source": [
    "#### Comparison"
   ]
  },
  {
   "cell_type": "code",
   "execution_count": 98,
   "metadata": {},
   "outputs": [
    {
     "data": {
      "text/html": [
       "<div>\n",
       "<style scoped>\n",
       "    .dataframe tbody tr th:only-of-type {\n",
       "        vertical-align: middle;\n",
       "    }\n",
       "\n",
       "    .dataframe tbody tr th {\n",
       "        vertical-align: top;\n",
       "    }\n",
       "\n",
       "    .dataframe thead th {\n",
       "        text-align: right;\n",
       "    }\n",
       "</style>\n",
       "<table border=\"1\" class=\"dataframe\">\n",
       "  <thead>\n",
       "    <tr style=\"text-align: right;\">\n",
       "      <th></th>\n",
       "      <th>mm_kmeans3 0 Cluster</th>\n",
       "      <th>mm_kmeans3 1 Cluster</th>\n",
       "      <th>mm_kmeans3 2 Cluster</th>\n",
       "    </tr>\n",
       "  </thead>\n",
       "  <tbody>\n",
       "    <tr>\n",
       "      <th>mm_kmeans4 0 Cluster</th>\n",
       "      <td>0</td>\n",
       "      <td>0</td>\n",
       "      <td>5322</td>\n",
       "    </tr>\n",
       "    <tr>\n",
       "      <th>mm_kmeans4 1 Cluster</th>\n",
       "      <td>9643</td>\n",
       "      <td>0</td>\n",
       "      <td>0</td>\n",
       "    </tr>\n",
       "    <tr>\n",
       "      <th>mm_kmeans4 2 Cluster</th>\n",
       "      <td>1</td>\n",
       "      <td>8572</td>\n",
       "      <td>0</td>\n",
       "    </tr>\n",
       "    <tr>\n",
       "      <th>mm_kmeans4 3 Cluster</th>\n",
       "      <td>0</td>\n",
       "      <td>471</td>\n",
       "      <td>417</td>\n",
       "    </tr>\n",
       "  </tbody>\n",
       "</table>\n",
       "</div>"
      ],
      "text/plain": [
       "                      mm_kmeans3 0 Cluster  mm_kmeans3 1 Cluster  \\\n",
       "mm_kmeans4 0 Cluster                     0                     0   \n",
       "mm_kmeans4 1 Cluster                  9643                     0   \n",
       "mm_kmeans4 2 Cluster                     1                  8572   \n",
       "mm_kmeans4 3 Cluster                     0                   471   \n",
       "\n",
       "                      mm_kmeans3 2 Cluster  \n",
       "mm_kmeans4 0 Cluster                  5322  \n",
       "mm_kmeans4 1 Cluster                     0  \n",
       "mm_kmeans4 2 Cluster                     0  \n",
       "mm_kmeans4 3 Cluster                   417  "
      ]
     },
     "execution_count": 98,
     "metadata": {},
     "output_type": "execute_result"
    }
   ],
   "source": [
    "clusters_comparison(sample_original, 'mm_kmeans4', 'mm_kmeans3')"
   ]
  },
  {
   "cell_type": "code",
   "execution_count": null,
   "metadata": {},
   "outputs": [],
   "source": [
    "clusters_comparison(sample_original, 'mm_kmeans5', 'mm_kmeans4')"
   ]
  },
  {
   "cell_type": "code",
   "execution_count": null,
   "metadata": {},
   "outputs": [],
   "source": [
    "clusters_comparison(sample_original, 'mm_kmeans6', 'mm_kmeans5')"
   ]
  },
  {
   "cell_type": "markdown",
   "metadata": {},
   "source": [
    "### Robust Scaler <a id='km-rb'></a>"
   ]
  },
  {
   "cell_type": "markdown",
   "metadata": {},
   "source": [
    "#### Plot"
   ]
  },
  {
   "cell_type": "code",
   "execution_count": 109,
   "metadata": {},
   "outputs": [
    {
     "data": {
      "image/png": "[encoded data removed]",
      "text/plain": [
       "<Figure size 640x480 with 2 Axes>"
      ]
     },
     "metadata": {},
     "output_type": "display_data"
    }
   ],
   "source": [
    "plot_inertia_and_silhouette(sample_rb_scl, 2, 10)"
   ]
  },
  {
   "cell_type": "markdown",
   "metadata": {},
   "source": [
    "#### Models"
   ]
  },
  {
   "cell_type": "markdown",
   "metadata": {},
   "source": [
    "##### 3 clusters"
   ]
  },
  {
   "cell_type": "code",
   "execution_count": 113,
   "metadata": {},
   "outputs": [],
   "source": [
    "kmeans = KMeans(n_clusters = 3, init='k-means++', n_init=20,  random_state = 1).fit(sample_rb_scl)\n",
    "sample_original['rb_kmeans3'] = kmeans.predict(sample_rb_scl)"
   ]
  },
  {
   "cell_type": "code",
   "execution_count": 114,
   "metadata": {},
   "outputs": [
    {
     "name": "stdout",
     "output_type": "stream",
     "text": [
      "# observations per cluster: [23552, 182, 692]\n"
     ]
    },
    {
     "data": {
      "text/html": [
       "<style type=\"text/css\">\n",
       "#T_f1389_row0_col0, #T_f1389_row6_col1, #T_f1389_row6_col2 {\n",
       "  background-color: #023858;\n",
       "  color: #f1f1f1;\n",
       "}\n",
       "#T_f1389_row0_col1 {\n",
       "  background-color: #dedcec;\n",
       "  color: #000000;\n",
       "}\n",
       "#T_f1389_row0_col2, #T_f1389_row1_col2 {\n",
       "  background-color: #5c9fc9;\n",
       "  color: #f1f1f1;\n",
       "}\n",
       "#T_f1389_row1_col0 {\n",
       "  background-color: #056fae;\n",
       "  color: #f1f1f1;\n",
       "}\n",
       "#T_f1389_row1_col1 {\n",
       "  background-color: #d6d6e9;\n",
       "  color: #000000;\n",
       "}\n",
       "#T_f1389_row2_col0 {\n",
       "  background-color: #9fbad9;\n",
       "  color: #000000;\n",
       "}\n",
       "#T_f1389_row2_col1 {\n",
       "  background-color: #f2ecf5;\n",
       "  color: #000000;\n",
       "}\n",
       "#T_f1389_row2_col2 {\n",
       "  background-color: #d5d5e8;\n",
       "  color: #000000;\n",
       "}\n",
       "#T_f1389_row3_col0, #T_f1389_row5_col1 {\n",
       "  background-color: #f8f1f8;\n",
       "  color: #000000;\n",
       "}\n",
       "#T_f1389_row3_col1, #T_f1389_row10_col2, #T_f1389_row11_col0, #T_f1389_row12_col1 {\n",
       "  background-color: #fef6fa;\n",
       "  color: #000000;\n",
       "}\n",
       "#T_f1389_row3_col2 {\n",
       "  background-color: #fbf4f9;\n",
       "  color: #000000;\n",
       "}\n",
       "#T_f1389_row4_col0 {\n",
       "  background-color: #9cb9d9;\n",
       "  color: #000000;\n",
       "}\n",
       "#T_f1389_row4_col1 {\n",
       "  background-color: #f4edf6;\n",
       "  color: #000000;\n",
       "}\n",
       "#T_f1389_row4_col2 {\n",
       "  background-color: #dbdaeb;\n",
       "  color: #000000;\n",
       "}\n",
       "#T_f1389_row5_col0 {\n",
       "  background-color: #c4cbe3;\n",
       "  color: #000000;\n",
       "}\n",
       "#T_f1389_row5_col2 {\n",
       "  background-color: #8fb4d6;\n",
       "  color: #000000;\n",
       "}\n",
       "#T_f1389_row6_col0, #T_f1389_row7_col0, #T_f1389_row7_col1, #T_f1389_row7_col2, #T_f1389_row11_col1, #T_f1389_row11_col2 {\n",
       "  background-color: #fff7fb;\n",
       "  color: #000000;\n",
       "}\n",
       "#T_f1389_row8_col0 {\n",
       "  background-color: #fcf4fa;\n",
       "  color: #000000;\n",
       "}\n",
       "#T_f1389_row8_col1, #T_f1389_row10_col1, #T_f1389_row12_col0 {\n",
       "  background-color: #fef6fb;\n",
       "  color: #000000;\n",
       "}\n",
       "#T_f1389_row8_col2, #T_f1389_row12_col2 {\n",
       "  background-color: #fdf5fa;\n",
       "  color: #000000;\n",
       "}\n",
       "#T_f1389_row9_col0 {\n",
       "  background-color: #ede7f2;\n",
       "  color: #000000;\n",
       "}\n",
       "#T_f1389_row9_col1, #T_f1389_row10_col0 {\n",
       "  background-color: #fbf3f9;\n",
       "  color: #000000;\n",
       "}\n",
       "#T_f1389_row9_col2 {\n",
       "  background-color: #f4eef6;\n",
       "  color: #000000;\n",
       "}\n",
       "</style>\n",
       "<table id=\"T_f1389\">\n",
       "  <thead>\n",
       "    <tr>\n",
       "      <th class=\"index_name level0\" >rb_kmeans3</th>\n",
       "      <th id=\"T_f1389_level0_col0\" class=\"col_heading level0 col0\" >0</th>\n",
       "      <th id=\"T_f1389_level0_col1\" class=\"col_heading level0 col1\" >1</th>\n",
       "      <th id=\"T_f1389_level0_col2\" class=\"col_heading level0 col2\" >2</th>\n",
       "    </tr>\n",
       "  </thead>\n",
       "  <tbody>\n",
       "    <tr>\n",
       "      <th id=\"T_f1389_level0_row0\" class=\"row_heading level0 row0\" >frequency_items</th>\n",
       "      <td id=\"T_f1389_row0_col0\" class=\"data row0 col0\" >38.140000</td>\n",
       "      <td id=\"T_f1389_row0_col1\" class=\"data row0 col1\" >36.750000</td>\n",
       "      <td id=\"T_f1389_row0_col2\" class=\"data row0 col2\" >39.650000</td>\n",
       "    </tr>\n",
       "    <tr>\n",
       "      <th id=\"T_f1389_level0_row1\" class=\"row_heading level0 row1\" >potencial_score</th>\n",
       "      <td id=\"T_f1389_row1_col0\" class=\"data row1 col0\" >28.860000</td>\n",
       "      <td id=\"T_f1389_row1_col1\" class=\"data row1 col1\" >43.500000</td>\n",
       "      <td id=\"T_f1389_row1_col2\" class=\"data row1 col2\" >39.750000</td>\n",
       "    </tr>\n",
       "    <tr>\n",
       "      <th id=\"T_f1389_level0_row2\" class=\"row_heading level0 row2\" >longevity_months</th>\n",
       "      <td id=\"T_f1389_row2_col0\" class=\"data row2 col0\" >14.940000</td>\n",
       "      <td id=\"T_f1389_row2_col1\" class=\"data row2 col1\" >16.230000</td>\n",
       "      <td id=\"T_f1389_row2_col2\" class=\"data row2 col2\" >16.530000</td>\n",
       "    </tr>\n",
       "    <tr>\n",
       "      <th id=\"T_f1389_level0_row3\" class=\"row_heading level0 row3\" >relevance_criteria</th>\n",
       "      <td id=\"T_f1389_row3_col0\" class=\"data row3 col0\" >1.920000</td>\n",
       "      <td id=\"T_f1389_row3_col1\" class=\"data row3 col1\" >1.800000</td>\n",
       "      <td id=\"T_f1389_row3_col2\" class=\"data row3 col2\" >1.880000</td>\n",
       "    </tr>\n",
       "    <tr>\n",
       "      <th id=\"T_f1389_level0_row4\" class=\"row_heading level0 row4\" >recency_in_weeks</th>\n",
       "      <td id=\"T_f1389_row4_col0\" class=\"data row4 col0\" >15.300000</td>\n",
       "      <td id=\"T_f1389_row4_col1\" class=\"data row4 col1\" >14.580000</td>\n",
       "      <td id=\"T_f1389_row4_col2\" class=\"data row4 col2\" >14.480000</td>\n",
       "    </tr>\n",
       "    <tr>\n",
       "      <th id=\"T_f1389_level0_row5\" class=\"row_heading level0 row5\" >promotional_percentage</th>\n",
       "      <td id=\"T_f1389_row5_col0\" class=\"data row5 col0\" >10.930000</td>\n",
       "      <td id=\"T_f1389_row5_col1\" class=\"data row5 col1\" >9.890000</td>\n",
       "      <td id=\"T_f1389_row5_col2\" class=\"data row5 col2\" >31.140000</td>\n",
       "    </tr>\n",
       "    <tr>\n",
       "      <th id=\"T_f1389_level0_row6\" class=\"row_heading level0 row6\" >returns</th>\n",
       "      <td id=\"T_f1389_row6_col0\" class=\"data row6 col0\" >0.150000</td>\n",
       "      <td id=\"T_f1389_row6_col1\" class=\"data row6 col1\" >194.240000</td>\n",
       "      <td id=\"T_f1389_row6_col2\" class=\"data row6 col2\" >72.360000</td>\n",
       "    </tr>\n",
       "    <tr>\n",
       "      <th id=\"T_f1389_level0_row7\" class=\"row_heading level0 row7\" >flaged</th>\n",
       "      <td id=\"T_f1389_row7_col0\" class=\"data row7 col0\" >0.010000</td>\n",
       "      <td id=\"T_f1389_row7_col1\" class=\"data row7 col1\" >0.130000</td>\n",
       "      <td id=\"T_f1389_row7_col2\" class=\"data row7 col2\" >0.080000</td>\n",
       "    </tr>\n",
       "    <tr>\n",
       "      <th id=\"T_f1389_level0_row8\" class=\"row_heading level0 row8\" >credit_factor</th>\n",
       "      <td id=\"T_f1389_row8_col0\" class=\"data row8 col0\" >0.900000</td>\n",
       "      <td id=\"T_f1389_row8_col1\" class=\"data row8 col1\" >1.040000</td>\n",
       "      <td id=\"T_f1389_row8_col2\" class=\"data row8 col2\" >0.970000</td>\n",
       "    </tr>\n",
       "    <tr>\n",
       "      <th id=\"T_f1389_level0_row9\" class=\"row_heading level0 row9\" >zip_code</th>\n",
       "      <td id=\"T_f1389_row9_col0\" class=\"data row9 col0\" >4.630000</td>\n",
       "      <td id=\"T_f1389_row9_col1\" class=\"data row9 col1\" >5.590000</td>\n",
       "      <td id=\"T_f1389_row9_col2\" class=\"data row9 col2\" >5.320000</td>\n",
       "    </tr>\n",
       "    <tr>\n",
       "      <th id=\"T_f1389_level0_row10\" class=\"row_heading level0 row10\" >education</th>\n",
       "      <td id=\"T_f1389_row10_col0\" class=\"data row10 col0\" >1.140000</td>\n",
       "      <td id=\"T_f1389_row10_col1\" class=\"data row10 col1\" >0.900000</td>\n",
       "      <td id=\"T_f1389_row10_col2\" class=\"data row10 col2\" >0.910000</td>\n",
       "    </tr>\n",
       "    <tr>\n",
       "      <th id=\"T_f1389_level0_row11\" class=\"row_heading level0 row11\" >gender</th>\n",
       "      <td id=\"T_f1389_row11_col0\" class=\"data row11 col0\" >0.380000</td>\n",
       "      <td id=\"T_f1389_row11_col1\" class=\"data row11 col1\" >0.500000</td>\n",
       "      <td id=\"T_f1389_row11_col2\" class=\"data row11 col2\" >0.330000</td>\n",
       "    </tr>\n",
       "    <tr>\n",
       "      <th id=\"T_f1389_level0_row12\" class=\"row_heading level0 row12\" >no_kmeans3</th>\n",
       "      <td id=\"T_f1389_row12_col0\" class=\"data row12 col0\" >0.230000</td>\n",
       "      <td id=\"T_f1389_row12_col1\" class=\"data row12 col1\" >2.000000</td>\n",
       "      <td id=\"T_f1389_row12_col2\" class=\"data row12 col2\" >1.400000</td>\n",
       "    </tr>\n",
       "  </tbody>\n",
       "</table>\n"
      ],
      "text/plain": [
       "<pandas.io.formats.style.Styler at 0x1d0bfc53680>"
      ]
     },
     "execution_count": 114,
     "metadata": {},
     "output_type": "execute_result"
    }
   ],
   "source": [
    "groupby_mean(sample_original, 'rb_kmeans3', True)"
   ]
  },
  {
   "cell_type": "markdown",
   "metadata": {},
   "source": [
    "##### 5 clusters"
   ]
  },
  {
   "cell_type": "code",
   "execution_count": 115,
   "metadata": {},
   "outputs": [],
   "source": [
    "kmeans = KMeans(n_clusters = 4, init='k-means++', n_init=20,  random_state = 1).fit(sample_rb_scl)\n",
    "sample_original['rb_kmeans4'] = kmeans.predict(sample_rb_scl)"
   ]
  },
  {
   "cell_type": "code",
   "execution_count": 116,
   "metadata": {},
   "outputs": [
    {
     "name": "stdout",
     "output_type": "stream",
     "text": [
      "# observations per cluster: [650, 23518, 201, 57]\n"
     ]
    },
    {
     "data": {
      "text/html": [
       "<style type=\"text/css\">\n",
       "#T_6189d_row0_col0 {\n",
       "  background-color: #3d93c2;\n",
       "  color: #f1f1f1;\n",
       "}\n",
       "#T_6189d_row0_col1, #T_6189d_row6_col0, #T_6189d_row6_col2, #T_6189d_row6_col3 {\n",
       "  background-color: #023858;\n",
       "  color: #f1f1f1;\n",
       "}\n",
       "#T_6189d_row0_col2 {\n",
       "  background-color: #cdd0e5;\n",
       "  color: #000000;\n",
       "}\n",
       "#T_6189d_row0_col3 {\n",
       "  background-color: #e9e5f1;\n",
       "  color: #000000;\n",
       "}\n",
       "#T_6189d_row1_col0 {\n",
       "  background-color: #3b92c1;\n",
       "  color: #f1f1f1;\n",
       "}\n",
       "#T_6189d_row1_col1 {\n",
       "  background-color: #056fae;\n",
       "  color: #f1f1f1;\n",
       "}\n",
       "#T_6189d_row1_col2 {\n",
       "  background-color: #c9cee4;\n",
       "  color: #000000;\n",
       "}\n",
       "#T_6189d_row1_col3 {\n",
       "  background-color: #e1dfed;\n",
       "  color: #000000;\n",
       "}\n",
       "#T_6189d_row2_col0 {\n",
       "  background-color: #d0d1e6;\n",
       "  color: #000000;\n",
       "}\n",
       "#T_6189d_row2_col1 {\n",
       "  background-color: #9fbad9;\n",
       "  color: #000000;\n",
       "}\n",
       "#T_6189d_row2_col2 {\n",
       "  background-color: #efe9f3;\n",
       "  color: #000000;\n",
       "}\n",
       "#T_6189d_row2_col3 {\n",
       "  background-color: #f5eff6;\n",
       "  color: #000000;\n",
       "}\n",
       "#T_6189d_row3_col0, #T_6189d_row10_col1 {\n",
       "  background-color: #fbf3f9;\n",
       "  color: #000000;\n",
       "}\n",
       "#T_6189d_row3_col1 {\n",
       "  background-color: #f8f1f8;\n",
       "  color: #000000;\n",
       "}\n",
       "#T_6189d_row3_col2, #T_6189d_row8_col0, #T_6189d_row10_col0, #T_6189d_row12_col0, #T_6189d_row12_col2 {\n",
       "  background-color: #fdf5fa;\n",
       "  color: #000000;\n",
       "}\n",
       "#T_6189d_row3_col3, #T_6189d_row8_col2, #T_6189d_row10_col2, #T_6189d_row12_col1, #T_6189d_row12_col3 {\n",
       "  background-color: #fef6fb;\n",
       "  color: #000000;\n",
       "}\n",
       "#T_6189d_row4_col0 {\n",
       "  background-color: #d7d6e9;\n",
       "  color: #000000;\n",
       "}\n",
       "#T_6189d_row4_col1 {\n",
       "  background-color: #9cb9d9;\n",
       "  color: #000000;\n",
       "}\n",
       "#T_6189d_row4_col2 {\n",
       "  background-color: #f0eaf4;\n",
       "  color: #000000;\n",
       "}\n",
       "#T_6189d_row4_col3 {\n",
       "  background-color: #f7f0f7;\n",
       "  color: #000000;\n",
       "}\n",
       "#T_6189d_row5_col0 {\n",
       "  background-color: #73a9cf;\n",
       "  color: #f1f1f1;\n",
       "}\n",
       "#T_6189d_row5_col1 {\n",
       "  background-color: #c4cbe3;\n",
       "  color: #000000;\n",
       "}\n",
       "#T_6189d_row5_col2 {\n",
       "  background-color: #f1ebf5;\n",
       "  color: #000000;\n",
       "}\n",
       "#T_6189d_row5_col3 {\n",
       "  background-color: #fbf4f9;\n",
       "  color: #000000;\n",
       "}\n",
       "#T_6189d_row6_col1, #T_6189d_row7_col0, #T_6189d_row7_col1, #T_6189d_row7_col2, #T_6189d_row7_col3, #T_6189d_row8_col3, #T_6189d_row10_col3, #T_6189d_row11_col0, #T_6189d_row11_col2, #T_6189d_row11_col3 {\n",
       "  background-color: #fff7fb;\n",
       "  color: #000000;\n",
       "}\n",
       "#T_6189d_row8_col1, #T_6189d_row9_col3 {\n",
       "  background-color: #fcf4fa;\n",
       "  color: #000000;\n",
       "}\n",
       "#T_6189d_row9_col0 {\n",
       "  background-color: #f3edf5;\n",
       "  color: #000000;\n",
       "}\n",
       "#T_6189d_row9_col1 {\n",
       "  background-color: #ede7f2;\n",
       "  color: #000000;\n",
       "}\n",
       "#T_6189d_row9_col2 {\n",
       "  background-color: #faf2f8;\n",
       "  color: #000000;\n",
       "}\n",
       "#T_6189d_row11_col1 {\n",
       "  background-color: #fef6fa;\n",
       "  color: #000000;\n",
       "}\n",
       "</style>\n",
       "<table id=\"T_6189d\">\n",
       "  <thead>\n",
       "    <tr>\n",
       "      <th class=\"index_name level0\" >rb_kmeans4</th>\n",
       "      <th id=\"T_6189d_level0_col0\" class=\"col_heading level0 col0\" >0</th>\n",
       "      <th id=\"T_6189d_level0_col1\" class=\"col_heading level0 col1\" >1</th>\n",
       "      <th id=\"T_6189d_level0_col2\" class=\"col_heading level0 col2\" >2</th>\n",
       "      <th id=\"T_6189d_level0_col3\" class=\"col_heading level0 col3\" >3</th>\n",
       "    </tr>\n",
       "  </thead>\n",
       "  <tbody>\n",
       "    <tr>\n",
       "      <th id=\"T_6189d_level0_row0\" class=\"row_heading level0 row0\" >frequency_items</th>\n",
       "      <td id=\"T_6189d_row0_col0\" class=\"data row0 col0\" >39.870000</td>\n",
       "      <td id=\"T_6189d_row0_col1\" class=\"data row0 col1\" >38.140000</td>\n",
       "      <td id=\"T_6189d_row0_col2\" class=\"data row0 col2\" >37.970000</td>\n",
       "      <td id=\"T_6189d_row0_col3\" class=\"data row0 col3\" >36.160000</td>\n",
       "    </tr>\n",
       "    <tr>\n",
       "      <th id=\"T_6189d_level0_row1\" class=\"row_heading level0 row1\" >potencial_score</th>\n",
       "      <td id=\"T_6189d_row1_col0\" class=\"data row1 col0\" >40.050000</td>\n",
       "      <td id=\"T_6189d_row1_col1\" class=\"data row1 col1\" >28.860000</td>\n",
       "      <td id=\"T_6189d_row1_col2\" class=\"data row1 col2\" >39.360000</td>\n",
       "      <td id=\"T_6189d_row1_col3\" class=\"data row1 col3\" >45.330000</td>\n",
       "    </tr>\n",
       "    <tr>\n",
       "      <th id=\"T_6189d_level0_row2\" class=\"row_heading level0 row2\" >longevity_months</th>\n",
       "      <td id=\"T_6189d_row2_col0\" class=\"data row2 col0\" >16.470000</td>\n",
       "      <td id=\"T_6189d_row2_col1\" class=\"data row2 col1\" >14.940000</td>\n",
       "      <td id=\"T_6189d_row2_col2\" class=\"data row2 col2\" >16.000000</td>\n",
       "      <td id=\"T_6189d_row2_col3\" class=\"data row2 col3\" >17.300000</td>\n",
       "    </tr>\n",
       "    <tr>\n",
       "      <th id=\"T_6189d_level0_row3\" class=\"row_heading level0 row3\" >relevance_criteria</th>\n",
       "      <td id=\"T_6189d_row3_col0\" class=\"data row3 col0\" >1.890000</td>\n",
       "      <td id=\"T_6189d_row3_col1\" class=\"data row3 col1\" >1.920000</td>\n",
       "      <td id=\"T_6189d_row3_col2\" class=\"data row3 col2\" >1.830000</td>\n",
       "      <td id=\"T_6189d_row3_col3\" class=\"data row3 col3\" >1.770000</td>\n",
       "    </tr>\n",
       "    <tr>\n",
       "      <th id=\"T_6189d_level0_row4\" class=\"row_heading level0 row4\" >recency_in_weeks</th>\n",
       "      <td id=\"T_6189d_row4_col0\" class=\"data row4 col0\" >14.480000</td>\n",
       "      <td id=\"T_6189d_row4_col1\" class=\"data row4 col1\" >15.300000</td>\n",
       "      <td id=\"T_6189d_row4_col2\" class=\"data row4 col2\" >14.710000</td>\n",
       "      <td id=\"T_6189d_row4_col3\" class=\"data row4 col3\" >14.190000</td>\n",
       "    </tr>\n",
       "    <tr>\n",
       "      <th id=\"T_6189d_level0_row5\" class=\"row_heading level0 row5\" >promotional_percentage</th>\n",
       "      <td id=\"T_6189d_row5_col0\" class=\"data row5 col0\" >32.700000</td>\n",
       "      <td id=\"T_6189d_row5_col1\" class=\"data row5 col1\" >10.900000</td>\n",
       "      <td id=\"T_6189d_row5_col2\" class=\"data row5 col2\" >13.600000</td>\n",
       "      <td id=\"T_6189d_row5_col3\" class=\"data row5 col3\" >7.070000</td>\n",
       "    </tr>\n",
       "    <tr>\n",
       "      <th id=\"T_6189d_level0_row6\" class=\"row_heading level0 row6\" >returns</th>\n",
       "      <td id=\"T_6189d_row6_col0\" class=\"data row6 col0\" >65.210000</td>\n",
       "      <td id=\"T_6189d_row6_col1\" class=\"data row6 col1\" >0.100000</td>\n",
       "      <td id=\"T_6189d_row6_col2\" class=\"data row6 col2\" >145.700000</td>\n",
       "      <td id=\"T_6189d_row6_col3\" class=\"data row6 col3\" >261.950000</td>\n",
       "    </tr>\n",
       "    <tr>\n",
       "      <th id=\"T_6189d_level0_row7\" class=\"row_heading level0 row7\" >flaged</th>\n",
       "      <td id=\"T_6189d_row7_col0\" class=\"data row7 col0\" >0.070000</td>\n",
       "      <td id=\"T_6189d_row7_col1\" class=\"data row7 col1\" >0.010000</td>\n",
       "      <td id=\"T_6189d_row7_col2\" class=\"data row7 col2\" >0.110000</td>\n",
       "      <td id=\"T_6189d_row7_col3\" class=\"data row7 col3\" >0.160000</td>\n",
       "    </tr>\n",
       "    <tr>\n",
       "      <th id=\"T_6189d_level0_row8\" class=\"row_heading level0 row8\" >credit_factor</th>\n",
       "      <td id=\"T_6189d_row8_col0\" class=\"data row8 col0\" >0.950000</td>\n",
       "      <td id=\"T_6189d_row8_col1\" class=\"data row8 col1\" >0.900000</td>\n",
       "      <td id=\"T_6189d_row8_col2\" class=\"data row8 col2\" >1.050000</td>\n",
       "      <td id=\"T_6189d_row8_col3\" class=\"data row8 col3\" >1.010000</td>\n",
       "    </tr>\n",
       "    <tr>\n",
       "      <th id=\"T_6189d_level0_row9\" class=\"row_heading level0 row9\" >zip_code</th>\n",
       "      <td id=\"T_6189d_row9_col0\" class=\"data row9 col0\" >5.330000</td>\n",
       "      <td id=\"T_6189d_row9_col1\" class=\"data row9 col1\" >4.630000</td>\n",
       "      <td id=\"T_6189d_row9_col2\" class=\"data row9 col2\" >5.380000</td>\n",
       "      <td id=\"T_6189d_row9_col3\" class=\"data row9 col3\" >5.680000</td>\n",
       "    </tr>\n",
       "    <tr>\n",
       "      <th id=\"T_6189d_level0_row10\" class=\"row_heading level0 row10\" >education</th>\n",
       "      <td id=\"T_6189d_row10_col0\" class=\"data row10 col0\" >0.970000</td>\n",
       "      <td id=\"T_6189d_row10_col1\" class=\"data row10 col1\" >1.140000</td>\n",
       "      <td id=\"T_6189d_row10_col2\" class=\"data row10 col2\" >0.970000</td>\n",
       "      <td id=\"T_6189d_row10_col3\" class=\"data row10 col3\" >0.700000</td>\n",
       "    </tr>\n",
       "    <tr>\n",
       "      <th id=\"T_6189d_level0_row11\" class=\"row_heading level0 row11\" >gender</th>\n",
       "      <td id=\"T_6189d_row11_col0\" class=\"data row11 col0\" >0.320000</td>\n",
       "      <td id=\"T_6189d_row11_col1\" class=\"data row11 col1\" >0.380000</td>\n",
       "      <td id=\"T_6189d_row11_col2\" class=\"data row11 col2\" >0.440000</td>\n",
       "      <td id=\"T_6189d_row11_col3\" class=\"data row11 col3\" >0.520000</td>\n",
       "    </tr>\n",
       "    <tr>\n",
       "      <th id=\"T_6189d_level0_row12\" class=\"row_heading level0 row12\" >no_kmeans3</th>\n",
       "      <td id=\"T_6189d_row12_col0\" class=\"data row12 col0\" >1.280000</td>\n",
       "      <td id=\"T_6189d_row12_col1\" class=\"data row12 col1\" >0.230000</td>\n",
       "      <td id=\"T_6189d_row12_col2\" class=\"data row12 col2\" >2.000000</td>\n",
       "      <td id=\"T_6189d_row12_col3\" class=\"data row12 col3\" >2.000000</td>\n",
       "    </tr>\n",
       "  </tbody>\n",
       "</table>\n"
      ],
      "text/plain": [
       "<pandas.io.formats.style.Styler at 0x1d0bcdfc560>"
      ]
     },
     "execution_count": 116,
     "metadata": {},
     "output_type": "execute_result"
    }
   ],
   "source": [
    "groupby_mean(sample_original, 'rb_kmeans4', True)"
   ]
  },
  {
   "cell_type": "markdown",
   "metadata": {},
   "source": [
    "##### 6 clusters"
   ]
  },
  {
   "cell_type": "code",
   "execution_count": null,
   "metadata": {},
   "outputs": [],
   "source": [
    "kmeans = KMeans(n_clusters = 6, init='k-means++', n_init=20,  random_state = 1).fit(sample_rb_scl)\n",
    "sample_original['rb_kmeans6'] = kmeans.predict(sample_rb_scl)"
   ]
  },
  {
   "cell_type": "code",
   "execution_count": null,
   "metadata": {},
   "outputs": [],
   "source": [
    "groupby_mean(sample_original, 'rb_kmeans6', True)"
   ]
  },
  {
   "cell_type": "markdown",
   "metadata": {},
   "source": [
    "dairy | beer+water+frozen | fresh+beverage+(frozen) | pastry+(fresh+beverage) | spenders(bread+(sodas)) | veggies+dairy+wines"
   ]
  },
  {
   "cell_type": "markdown",
   "metadata": {},
   "source": [
    "### Comparison"
   ]
  },
  {
   "cell_type": "code",
   "execution_count": null,
   "metadata": {},
   "outputs": [],
   "source": [
    "clusters_comparison(sample_original, 'rb_kmeans5', 'rb_kmeans3')"
   ]
  },
  {
   "cell_type": "code",
   "execution_count": null,
   "metadata": {},
   "outputs": [],
   "source": [
    "clusters_comparison(sample_original, 'rb_kmeans6', 'rb_kmeans5')"
   ]
  },
  {
   "cell_type": "markdown",
   "metadata": {},
   "source": [
    "## 4.2. Hierarchical (Ward) <a id='wh'></a>"
   ]
  },
  {
   "cell_type": "markdown",
   "metadata": {},
   "source": [
    "In this section, the hierarchical algorithm with a ward linkeage method was tested with the data inputs previously mentioned. For each of the data inputs dendrograms were plotted in order to decide which number of cluester were going to be considered for testing. Then, the clusters formed were analysed and clustering solutions compared. The tests for each data input were presented in the following order:\n",
    "1. [No Scaler](#h-no)\n",
    "2. [Standard Scaler](#h-st)\n",
    "3. [MinMax Scaler](#h-mm)\n",
    "4. [Robust Scaler](#h-rb)\n",
    "\n",
    "In the end of this section there is also a result comparison between clustering techniques as well as scaling options.\n",
    "\n",
    "5. [Inter Clustering Comparison](#icc)"
   ]
  },
  {
   "cell_type": "markdown",
   "metadata": {},
   "source": [
    "### No Scaler <a id='h-no'></a>"
   ]
  },
  {
   "cell_type": "markdown",
   "metadata": {},
   "source": [
    "#### Plot"
   ]
  },
  {
   "cell_type": "code",
   "execution_count": null,
   "metadata": {},
   "outputs": [],
   "source": [
    "plot_dendrogram(sample_no_scl, 'ward')"
   ]
  },
  {
   "cell_type": "markdown",
   "metadata": {},
   "source": [
    "#### Models"
   ]
  },
  {
   "cell_type": "code",
   "execution_count": 18,
   "metadata": {},
   "outputs": [],
   "source": [
    "sample_original['no_ward2'] = AgglomerativeClustering(\n",
    "    linkage = 'ward', n_clusters = 2\n",
    "    ).fit_predict(sample_no_scl)"
   ]
  },
  {
   "cell_type": "code",
   "execution_count": null,
   "metadata": {},
   "outputs": [],
   "source": [
    "groupby_mean(sample_original, 'no_ward2', True, 12, 0)"
   ]
  },
  {
   "cell_type": "markdown",
   "metadata": {},
   "source": [
    "score | general"
   ]
  },
  {
   "cell_type": "markdown",
   "metadata": {},
   "source": [
    "##### 3 clusters"
   ]
  },
  {
   "cell_type": "code",
   "execution_count": 20,
   "metadata": {},
   "outputs": [],
   "source": [
    "sample_original['no_ward3'] = AgglomerativeClustering(\n",
    "    linkage = 'ward', n_clusters = 3\n",
    "    ).fit_predict(sample_no_scl)"
   ]
  },
  {
   "cell_type": "code",
   "execution_count": null,
   "metadata": {},
   "outputs": [],
   "source": [
    "groupby_mean(sample_original, 'no_ward3', True, 12)"
   ]
  },
  {
   "cell_type": "markdown",
   "metadata": {},
   "source": [
    "##### 5 clusters"
   ]
  },
  {
   "cell_type": "code",
   "execution_count": 24,
   "metadata": {},
   "outputs": [],
   "source": [
    "sample_original['no_ward4'] = AgglomerativeClustering(\n",
    "    linkage = 'ward', n_clusters = 4\n",
    "    ).fit_predict(sample_no_scl)"
   ]
  },
  {
   "cell_type": "code",
   "execution_count": null,
   "metadata": {},
   "outputs": [],
   "source": [
    "groupby_mean(sample_original, 'no_ward4', True, 12, 0)"
   ]
  },
  {
   "cell_type": "code",
   "execution_count": 22,
   "metadata": {},
   "outputs": [],
   "source": [
    "sample_original['no_ward5'] = AgglomerativeClustering(\n",
    "    linkage = 'ward', n_clusters = 5\n",
    "    ).fit_predict(sample_no_scl)"
   ]
  },
  {
   "cell_type": "code",
   "execution_count": null,
   "metadata": {},
   "outputs": [],
   "source": [
    "groupby_mean(sample_original, 'no_ward5', True, 12, 0)"
   ]
  },
  {
   "cell_type": "markdown",
   "metadata": {},
   "source": [
    "normal | lowscore+nopromo? | score | promo | score+promo+return"
   ]
  },
  {
   "cell_type": "markdown",
   "metadata": {},
   "source": [
    "#### Comparison"
   ]
  },
  {
   "cell_type": "code",
   "execution_count": null,
   "metadata": {},
   "outputs": [],
   "source": [
    "clusters_comparison(sample_original, 'no_ward3', 'no_ward2')"
   ]
  },
  {
   "cell_type": "code",
   "execution_count": null,
   "metadata": {},
   "outputs": [],
   "source": [
    "clusters_comparison(sample_original, 'no_ward4', 'no_ward3')"
   ]
  },
  {
   "cell_type": "code",
   "execution_count": null,
   "metadata": {},
   "outputs": [],
   "source": [
    "sample_no_scl"
   ]
  },
  {
   "cell_type": "code",
   "execution_count": null,
   "metadata": {},
   "outputs": [],
   "source": [
    "visualize_dimensionality_reduction(umap_embedding_no, sample_original['no_ward3'])"
   ]
  },
  {
   "cell_type": "markdown",
   "metadata": {},
   "source": [
    "### Standard Scaler <a id='h-st'></a>"
   ]
  },
  {
   "cell_type": "markdown",
   "metadata": {},
   "source": [
    "#### Plot"
   ]
  },
  {
   "cell_type": "code",
   "execution_count": null,
   "metadata": {},
   "outputs": [],
   "source": [
    "plot_dendrogram(sample_st_scl, 'ward')"
   ]
  },
  {
   "cell_type": "markdown",
   "metadata": {},
   "source": [
    "#### Models"
   ]
  },
  {
   "cell_type": "markdown",
   "metadata": {},
   "source": [
    "##### 3 clusters"
   ]
  },
  {
   "cell_type": "code",
   "execution_count": 33,
   "metadata": {},
   "outputs": [],
   "source": [
    "sample_original['st_ward3'] = AgglomerativeClustering(\n",
    "    linkage = 'ward', n_clusters = 3\n",
    "    ).fit_predict(sample_st_scl)"
   ]
  },
  {
   "cell_type": "code",
   "execution_count": null,
   "metadata": {},
   "outputs": [],
   "source": [
    "groupby_mean(sample_original, 'st_ward3', True)"
   ]
  },
  {
   "cell_type": "markdown",
   "metadata": {},
   "source": [
    "general | nopromo | score"
   ]
  },
  {
   "cell_type": "markdown",
   "metadata": {},
   "source": [
    "##### 4 clusters"
   ]
  },
  {
   "cell_type": "code",
   "execution_count": 35,
   "metadata": {},
   "outputs": [],
   "source": [
    "sample_original['st_ward4'] = AgglomerativeClustering(\n",
    "    linkage = 'ward', n_clusters = 4\n",
    "    ).fit_predict(sample_st_scl)"
   ]
  },
  {
   "cell_type": "code",
   "execution_count": null,
   "metadata": {},
   "outputs": [],
   "source": [
    "groupby_mean(sample_original, 'st_ward4', True, 12)"
   ]
  },
  {
   "cell_type": "markdown",
   "metadata": {},
   "source": [
    "general | nopromo | score | promo+returns"
   ]
  },
  {
   "cell_type": "markdown",
   "metadata": {},
   "source": [
    "##### 5 clusters"
   ]
  },
  {
   "cell_type": "code",
   "execution_count": 37,
   "metadata": {},
   "outputs": [],
   "source": [
    "sample_original['st_ward5'] = AgglomerativeClustering(\n",
    "    linkage = 'ward', n_clusters = 5\n",
    "    ).fit_predict(sample_st_scl)"
   ]
  },
  {
   "cell_type": "code",
   "execution_count": null,
   "metadata": {},
   "outputs": [],
   "source": [
    "groupby_mean(sample_original, 'st_ward5', True, 12)"
   ]
  },
  {
   "cell_type": "markdown",
   "metadata": {},
   "source": [
    "general | antiques | score | promo | nopromo"
   ]
  },
  {
   "cell_type": "markdown",
   "metadata": {},
   "source": [
    "#### Comparison"
   ]
  },
  {
   "cell_type": "code",
   "execution_count": null,
   "metadata": {},
   "outputs": [],
   "source": [
    "clusters_comparison(sample_original, 'st_ward6', 'st_ward3')"
   ]
  },
  {
   "cell_type": "code",
   "execution_count": null,
   "metadata": {},
   "outputs": [],
   "source": [
    "visualize_dimensionality_reduction(umap_embedding_st, sample_original['st_ward4'])"
   ]
  },
  {
   "cell_type": "markdown",
   "metadata": {},
   "source": [
    "### MinMax Scaler <a id='h-mm'></a>"
   ]
  },
  {
   "cell_type": "markdown",
   "metadata": {},
   "source": [
    "#### Plot"
   ]
  },
  {
   "cell_type": "code",
   "execution_count": null,
   "metadata": {},
   "outputs": [],
   "source": [
    "plot_dendrogram(sample_mm_scl, 'ward')"
   ]
  },
  {
   "cell_type": "markdown",
   "metadata": {},
   "source": [
    "#### Models"
   ]
  },
  {
   "cell_type": "markdown",
   "metadata": {},
   "source": [
    "##### 2 clusters"
   ]
  },
  {
   "cell_type": "code",
   "execution_count": 47,
   "metadata": {},
   "outputs": [],
   "source": [
    "sample_original['mm_ward2'] = AgglomerativeClustering(\n",
    "    linkage = 'ward', n_clusters = 2\n",
    "    ).fit_predict(sample_mm_scl)"
   ]
  },
  {
   "cell_type": "code",
   "execution_count": null,
   "metadata": {},
   "outputs": [],
   "source": [
    "groupby_mean(sample_original, 'mm_ward2', True, 12)"
   ]
  },
  {
   "cell_type": "markdown",
   "metadata": {},
   "source": [
    "general | score"
   ]
  },
  {
   "cell_type": "markdown",
   "metadata": {},
   "source": [
    "##### 3 clusters"
   ]
  },
  {
   "cell_type": "code",
   "execution_count": 56,
   "metadata": {},
   "outputs": [],
   "source": [
    "sample_original['mm_ward3'] = AgglomerativeClustering(\n",
    "    linkage = 'ward', n_clusters = 3\n",
    "    ).fit_predict(sample_mm_scl)"
   ]
  },
  {
   "cell_type": "code",
   "execution_count": null,
   "metadata": {},
   "outputs": [],
   "source": [
    "groupby_mean(sample_original, 'mm_ward3', True, 12)"
   ]
  },
  {
   "cell_type": "markdown",
   "metadata": {},
   "source": [
    "general | score | nopromo"
   ]
  },
  {
   "cell_type": "markdown",
   "metadata": {},
   "source": [
    "##### 4 clusters"
   ]
  },
  {
   "cell_type": "code",
   "execution_count": 58,
   "metadata": {},
   "outputs": [],
   "source": [
    "sample_original['mm_ward4'] = AgglomerativeClustering(\n",
    "    linkage = 'ward', n_clusters = 4\n",
    "    ).fit_predict(sample_mm_scl)"
   ]
  },
  {
   "cell_type": "code",
   "execution_count": null,
   "metadata": {},
   "outputs": [],
   "source": [
    "groupby_mean(sample_original, 'mm_ward4', True, 12)"
   ]
  },
  {
   "cell_type": "markdown",
   "metadata": {},
   "source": [
    "general | new+pormo? | nopromo | score"
   ]
  },
  {
   "cell_type": "code",
   "execution_count": 53,
   "metadata": {},
   "outputs": [],
   "source": [
    "sample_original['mm_ward5'] = AgglomerativeClustering(\n",
    "    linkage = 'ward', n_clusters = 5\n",
    "    ).fit_predict(sample_mm_scl)"
   ]
  },
  {
   "cell_type": "code",
   "execution_count": null,
   "metadata": {},
   "outputs": [],
   "source": [
    "groupby_mean(sample_original, 'mm_ward5', True, 12)"
   ]
  },
  {
   "cell_type": "markdown",
   "metadata": {},
   "source": [
    "lowscore+promo | score | nopromo | general | antiques"
   ]
  },
  {
   "cell_type": "code",
   "execution_count": 54,
   "metadata": {},
   "outputs": [],
   "source": [
    "sample_original['mm_ward6'] = AgglomerativeClustering(\n",
    "    linkage = 'ward', n_clusters = 6\n",
    "    ).fit_predict(sample_mm_scl)"
   ]
  },
  {
   "cell_type": "code",
   "execution_count": null,
   "metadata": {},
   "outputs": [],
   "source": [
    "groupby_mean(sample_original, 'mm_ward6', True, 12)"
   ]
  },
  {
   "cell_type": "markdown",
   "metadata": {},
   "source": [
    "nopromo+lowrelevance | score | lowscore | general | antiques | promo"
   ]
  },
  {
   "cell_type": "code",
   "execution_count": null,
   "metadata": {},
   "outputs": [],
   "source": [
    "visualize_dimensionality_reduction(umap_embedding_mm, sample_original['mm_ward6'])"
   ]
  },
  {
   "cell_type": "markdown",
   "metadata": {},
   "source": [
    "#### Comparison"
   ]
  },
  {
   "cell_type": "code",
   "execution_count": null,
   "metadata": {},
   "outputs": [],
   "source": [
    "clusters_comparison(sample_original, 'mm_ward3', 'mm_ward2')"
   ]
  },
  {
   "cell_type": "code",
   "execution_count": null,
   "metadata": {},
   "outputs": [],
   "source": [
    "clusters_comparison(sample_original, 'mm_ward4', 'mm_ward3')"
   ]
  },
  {
   "cell_type": "code",
   "execution_count": null,
   "metadata": {},
   "outputs": [],
   "source": [
    "visualize_dimensionality_reduction(umap_embedding_mm, sample_original['mm_ward3'])"
   ]
  },
  {
   "cell_type": "markdown",
   "metadata": {},
   "source": [
    "### Robust Scaler <a id='h-rb'></a>"
   ]
  },
  {
   "cell_type": "markdown",
   "metadata": {},
   "source": [
    "#### Plot"
   ]
  },
  {
   "cell_type": "code",
   "execution_count": null,
   "metadata": {},
   "outputs": [],
   "source": [
    "plot_dendrogram(sample_rb_scl, 'ward')"
   ]
  },
  {
   "cell_type": "markdown",
   "metadata": {},
   "source": [
    "#### Models"
   ]
  },
  {
   "cell_type": "markdown",
   "metadata": {},
   "source": [
    "##### 3 clusters"
   ]
  },
  {
   "cell_type": "code",
   "execution_count": 68,
   "metadata": {},
   "outputs": [],
   "source": [
    "sample_original['rb_ward3'] = AgglomerativeClustering(\n",
    "    linkage = 'ward', n_clusters = 3\n",
    "    ).fit_predict(sample_rb_scl)"
   ]
  },
  {
   "cell_type": "code",
   "execution_count": null,
   "metadata": {},
   "outputs": [],
   "source": [
    "groupby_mean(sample_original, 'rb_ward3', True, 12)"
   ]
  },
  {
   "cell_type": "markdown",
   "metadata": {},
   "source": [
    "promo | general | score"
   ]
  },
  {
   "cell_type": "markdown",
   "metadata": {},
   "source": [
    "##### 4 clusters"
   ]
  },
  {
   "cell_type": "code",
   "execution_count": 72,
   "metadata": {},
   "outputs": [],
   "source": [
    "sample_original['rb_ward4'] = AgglomerativeClustering(\n",
    "    linkage = 'ward', n_clusters = 4\n",
    "    ).fit_predict(sample_rb_scl)"
   ]
  },
  {
   "cell_type": "code",
   "execution_count": null,
   "metadata": {},
   "outputs": [],
   "source": [
    "groupby_mean(sample_original, 'rb_ward4', True, 12)"
   ]
  },
  {
   "cell_type": "markdown",
   "metadata": {},
   "source": [
    "##### 5 clusters"
   ]
  },
  {
   "cell_type": "code",
   "execution_count": 74,
   "metadata": {},
   "outputs": [],
   "source": [
    "sample_original['rb_ward5'] = AgglomerativeClustering(\n",
    "    linkage = 'ward', n_clusters = 5\n",
    "    ).fit_predict(sample_rb_scl)"
   ]
  },
  {
   "cell_type": "code",
   "execution_count": null,
   "metadata": {},
   "outputs": [],
   "source": [
    "groupby_mean(sample_original, 'rb_ward5', True, 12)"
   ]
  },
  {
   "cell_type": "markdown",
   "metadata": {},
   "source": [
    "##### 6 clusters"
   ]
  },
  {
   "cell_type": "code",
   "execution_count": 70,
   "metadata": {},
   "outputs": [],
   "source": [
    "sample_original['rb_ward6'] = AgglomerativeClustering(\n",
    "    linkage = 'ward', n_clusters = 6\n",
    "    ).fit_predict(sample_rb_scl)"
   ]
  },
  {
   "cell_type": "code",
   "execution_count": null,
   "metadata": {},
   "outputs": [],
   "source": [
    "groupby_mean(sample_original, 'rb_ward6', True, 12)"
   ]
  },
  {
   "cell_type": "markdown",
   "metadata": {},
   "source": [
    "longtimenosee | ? | score | promo+returns | freq+lowscore+ | ?"
   ]
  },
  {
   "cell_type": "code",
   "execution_count": null,
   "metadata": {},
   "outputs": [],
   "source": [
    "visualize_dimensionality_reduction(umap_embedding_rb, sample_original['rb_ward6'])"
   ]
  },
  {
   "cell_type": "markdown",
   "metadata": {},
   "source": [
    "#### Comparison"
   ]
  },
  {
   "cell_type": "markdown",
   "metadata": {},
   "source": [
    "### Inter clustering Comparison <a id='icc'></a>"
   ]
  },
  {
   "cell_type": "markdown",
   "metadata": {},
   "source": [
    "#### Scaler Comparison\n",
    "In this section it is possible understand that both **minmax** and **robust** scalers are the ones that presented more **consistent results**, in the sense that independently of the clustering method used (hierarchical with ward or kmeans), the clustering solutions were very similar and the observations belonging to the clusters formed also did not have a lot of variation.\n",
    "\n",
    "The variations for the solutions built using the other scaling methods (unscaled data and standard scaler) was especially noticeable when the the clustering solution had more than 3 clusters."
   ]
  },
  {
   "cell_type": "markdown",
   "metadata": {},
   "source": [
    "##### No Scaler"
   ]
  },
  {
   "cell_type": "code",
   "execution_count": null,
   "metadata": {},
   "outputs": [],
   "source": [
    "clusters_comparison(sample_original, 'no_kmeans3', 'no_ward3')"
   ]
  },
  {
   "cell_type": "code",
   "execution_count": null,
   "metadata": {},
   "outputs": [],
   "source": [
    "clusters_comparison(sample_original, 'no_kmeans4', 'no_ward4')"
   ]
  },
  {
   "cell_type": "markdown",
   "metadata": {},
   "source": [
    "##### Standard Scaler"
   ]
  },
  {
   "cell_type": "code",
   "execution_count": null,
   "metadata": {},
   "outputs": [],
   "source": [
    "clusters_comparison(sample_original, 'st_kmeans3', 'st_ward3')"
   ]
  },
  {
   "cell_type": "code",
   "execution_count": null,
   "metadata": {},
   "outputs": [],
   "source": [
    "clusters_comparison(sample_original, 'st_kmeans4', 'st_ward4')"
   ]
  },
  {
   "cell_type": "markdown",
   "metadata": {},
   "source": [
    "##### MinMax Scaler"
   ]
  },
  {
   "cell_type": "code",
   "execution_count": null,
   "metadata": {},
   "outputs": [],
   "source": [
    "clusters_comparison(sample_original, 'mm_kmeans3', 'mm_ward3')"
   ]
  },
  {
   "cell_type": "code",
   "execution_count": null,
   "metadata": {},
   "outputs": [],
   "source": [
    "clusters_comparison(sample_original, 'mm_kmeans4', 'mm_ward4')"
   ]
  },
  {
   "cell_type": "code",
   "execution_count": null,
   "metadata": {},
   "outputs": [],
   "source": [
    "clusters_comparison(sample_original, 'mm_kmeans5', 'mm_ward5')"
   ]
  },
  {
   "cell_type": "markdown",
   "metadata": {},
   "source": [
    "##### Robust Scaler"
   ]
  },
  {
   "cell_type": "code",
   "execution_count": null,
   "metadata": {},
   "outputs": [],
   "source": [
    "clusters_comparison(sample_original, 'rb_kmeans3', 'rb_ward3')"
   ]
  },
  {
   "cell_type": "code",
   "execution_count": null,
   "metadata": {},
   "outputs": [],
   "source": [
    "clusters_comparison(sample_original, 'rb_kmeans4', 'rb_ward4')"
   ]
  },
  {
   "cell_type": "code",
   "execution_count": null,
   "metadata": {},
   "outputs": [],
   "source": [
    "clusters_comparison(sample_original, 'rb_kmeans6', 'rb_ward6')"
   ]
  },
  {
   "cell_type": "markdown",
   "metadata": {},
   "source": [
    "#### Method comparison\n",
    "Here, the two scalers deemed to provide better clustering results were compared. It is possible to understand that their division process is quite different.\n",
    "\n",
    "When analysing the previous sections of this notebook, it was possible to confirm this fact. A good example to understand this is the beer+watre+frozen cluster. While it is one of the first clusters to be differenciated when using minmax scaled data, this cluster only appears in the las division we tested (with 6 clusters) when using the robust scaled data."
   ]
  },
  {
   "cell_type": "code",
   "execution_count": null,
   "metadata": {},
   "outputs": [],
   "source": [
    "clusters_comparison(sample_original, 'mm_kmeans3', 'rb_kmeans3')"
   ]
  },
  {
   "cell_type": "code",
   "execution_count": null,
   "metadata": {},
   "outputs": [],
   "source": [
    "clusters_comparison(sample_original, 'mm_kmeans4', 'rb_kmeans4')"
   ]
  },
  {
   "cell_type": "code",
   "execution_count": null,
   "metadata": {},
   "outputs": [],
   "source": [
    "clusters_comparison(sample_original, 'mm_kmeans5', 'rb_kmeans5')"
   ]
  },
  {
   "cell_type": "code",
   "execution_count": null,
   "metadata": {},
   "outputs": [],
   "source": [
    "clusters_comparison(sample_original, 'mm_kmeans6', 'rb_kmeans6')"
   ]
  },
  {
   "cell_type": "markdown",
   "metadata": {},
   "source": [
    "## 4.3. DBScan <a id='dbs'></a>"
   ]
  },
  {
   "cell_type": "markdown",
   "metadata": {},
   "source": [
    "This section aims to help define what would be the **best number of clusters** to consider for each of the data inputs as well as provide more possible clustering solutions. As previously mentioned, minmax and robust scaled data were the data inputs that remained for further analysis, therefore **DBScan** will only be tested for these cases.\n",
    "\n",
    "For each input, a Kdist graph was plotted (to help find the right eps value). Then, **parameters were adjusted**, and clustering solutions created. These solutions were once again compared.\n",
    "\n",
    "The data inputs were tested in the following order:\n",
    "1. [MinMax Scaler](#dbs-mm)\n",
    "4. [Robust Scaler](#dbs-rb)\n"
   ]
  },
  {
   "cell_type": "markdown",
   "metadata": {},
   "source": [
    "### MinMax Scaler <a id='dbs-mm'></a>"
   ]
  },
  {
   "cell_type": "markdown",
   "metadata": {},
   "source": [
    "#### Plot"
   ]
  },
  {
   "cell_type": "code",
   "execution_count": null,
   "metadata": {},
   "outputs": [],
   "source": [
    "plot_kdist_graph(sample_mm_scl, demographic_metrics)"
   ]
  },
  {
   "cell_type": "markdown",
   "metadata": {},
   "source": [
    "#### Models"
   ]
  },
  {
   "cell_type": "markdown",
   "metadata": {},
   "source": [
    "##### 3 clusters"
   ]
  },
  {
   "cell_type": "code",
   "execution_count": null,
   "metadata": {},
   "outputs": [],
   "source": [
    "dbscan = DBSCAN(eps=0.4, min_samples=80, n_jobs=4)\n",
    "dbscan_labels = dbscan.fit_predict(sample_mm_scl)\n",
    "dbscan_n_clusters = len(np.unique(dbscan_labels))\n",
    "sample_original['mm_dbs3'] = dbscan_labels\n",
    "\n",
    "print(\"Number of estimated clusters  : %d\" % dbscan_n_clusters)\n",
    "print(\"Counter of cluster labels     :\", Counter(dbscan_labels))\n",
    "print(\"Percentage of noise rows      :\", round(100*Counter(dbscan_labels)[-1]/sample_mm_scl.shape[0],2))"
   ]
  },
  {
   "cell_type": "code",
   "execution_count": null,
   "metadata": {},
   "outputs": [],
   "source": [
    "groupby_mean(sample_original, 'mm_dbs3', True)"
   ]
  },
  {
   "cell_type": "markdown",
   "metadata": {},
   "source": [
    "outliers | beer+water+frozen | fresh+beverage+frozen+pastry | dairy"
   ]
  },
  {
   "cell_type": "code",
   "execution_count": null,
   "metadata": {},
   "outputs": [],
   "source": [
    "visualize_dimensionality_reduction(umap_embedding_mm, sample_original['mm_dbs3'])"
   ]
  },
  {
   "cell_type": "markdown",
   "metadata": {},
   "source": [
    "##### 4 clusters"
   ]
  },
  {
   "cell_type": "code",
   "execution_count": null,
   "metadata": {},
   "outputs": [],
   "source": [
    "dbscan = DBSCAN(eps=0.1, min_samples=80, n_jobs=4)\n",
    "dbscan_labels = dbscan.fit_predict(sample_mm_scl)\n",
    "dbscan_n_clusters = len(np.unique(dbscan_labels))\n",
    "sample_original['mm_dbs4'] = dbscan_labels\n",
    "\n",
    "print(\"Number of estimated clusters  : %d\" % dbscan_n_clusters)\n",
    "print(\"Counter of cluster labels     :\", Counter(dbscan_labels))\n",
    "print(\"Percentage of noise rows      :\", round(100*Counter(dbscan_labels)[-1]/sample_mm_scl.shape[0],2))"
   ]
  },
  {
   "cell_type": "code",
   "execution_count": null,
   "metadata": {},
   "outputs": [],
   "source": [
    "groupby_mean(sample_original, 'mm_dbs4', True)"
   ]
  },
  {
   "cell_type": "markdown",
   "metadata": {},
   "source": [
    "outliers | beer+water+frozen | fresh+beverage+frozen+pastry | dairy | pastry+wines+dairy"
   ]
  },
  {
   "cell_type": "code",
   "execution_count": null,
   "metadata": {},
   "outputs": [],
   "source": [
    "visualize_dimensionality_reduction(umap_embedding_mm, sample_original['mm_dbs4'])"
   ]
  },
  {
   "cell_type": "markdown",
   "metadata": {},
   "source": [
    "##### 5 clusters"
   ]
  },
  {
   "cell_type": "code",
   "execution_count": null,
   "metadata": {},
   "outputs": [],
   "source": [
    "dbscan = DBSCAN(eps=0.09, min_samples=40, n_jobs=4)\n",
    "dbscan_labels = dbscan.fit_predict(sample_mm_scl)\n",
    "sample_original['mm_dbs5'] = dbscan_labels\n",
    "dbscan_n_clusters = len(np.unique(dbscan_labels))\n",
    "\n",
    "print(\"Number of estimated clusters  : %d\" % dbscan_n_clusters)\n",
    "print(\"Counter of cluster labels     :\", Counter(dbscan_labels))\n",
    "print(\"Percentage of noise rows      :\", round(100*Counter(dbscan_labels)[-1]/sample_mm_scl.shape[0],2))"
   ]
  },
  {
   "cell_type": "code",
   "execution_count": null,
   "metadata": {},
   "outputs": [],
   "source": [
    "groupby_mean(sample_original, 'mm_dbs5', True)"
   ]
  },
  {
   "cell_type": "markdown",
   "metadata": {},
   "source": [
    "outliers | beer+water+frozen | fresh+beverage+frozen | pastry+fresh+beverage | pastry+dairy | dairy"
   ]
  },
  {
   "cell_type": "code",
   "execution_count": null,
   "metadata": {},
   "outputs": [],
   "source": [
    "visualize_dimensionality_reduction(umap_embedding_mm, sample_original['mm_dbs5'])"
   ]
  },
  {
   "cell_type": "markdown",
   "metadata": {},
   "source": [
    "##### 6 clusters"
   ]
  },
  {
   "cell_type": "code",
   "execution_count": null,
   "metadata": {},
   "outputs": [],
   "source": [
    "dbscan = DBSCAN(eps=0.085, min_samples=40, n_jobs=4)\n",
    "dbscan_labels = dbscan.fit_predict(sample_mm_scl)\n",
    "sample_original['mm_dbs6'] = dbscan_labels\n",
    "dbscan_n_clusters = len(np.unique(dbscan_labels))\n",
    "\n",
    "print(\"Number of estimated clusters  : %d\" % dbscan_n_clusters)\n",
    "print(\"Counter of cluster labels     :\", Counter(dbscan_labels))\n",
    "print(\"Percentage of noise rows      :\", round(100*Counter(dbscan_labels)[-1]/sample_mm_scl.shape[0],2))"
   ]
  },
  {
   "cell_type": "code",
   "execution_count": null,
   "metadata": {},
   "outputs": [],
   "source": [
    "groupby_mean(sample_original, 'mm_dbs6', True)"
   ]
  },
  {
   "cell_type": "markdown",
   "metadata": {},
   "source": [
    "outliers | beer+water+frozen | fresh+beverage+frozen | fresh+beverage+pastry | pastry | dairy | pastry+wines+dairy"
   ]
  },
  {
   "cell_type": "code",
   "execution_count": null,
   "metadata": {},
   "outputs": [],
   "source": [
    "visualize_dimensionality_reduction(umap_embedding_mm, sample_original['mm_dbs6'])"
   ]
  },
  {
   "cell_type": "markdown",
   "metadata": {},
   "source": [
    "#### Comparison"
   ]
  },
  {
   "cell_type": "code",
   "execution_count": null,
   "metadata": {},
   "outputs": [],
   "source": [
    "clusters_comparison(sample_original, 'mm_dbs4', 'mm_dbs3')"
   ]
  },
  {
   "cell_type": "code",
   "execution_count": null,
   "metadata": {},
   "outputs": [],
   "source": [
    "clusters_comparison(sample_original, 'mm_dbs5', 'mm_dbs4')"
   ]
  },
  {
   "cell_type": "code",
   "execution_count": null,
   "metadata": {},
   "outputs": [],
   "source": [
    "clusters_comparison(sample_original, 'mm_dbs6', 'mm_dbs5')"
   ]
  },
  {
   "cell_type": "markdown",
   "metadata": {},
   "source": [
    "### Robust Scaler <a id='dbs-rb'></a>"
   ]
  },
  {
   "cell_type": "markdown",
   "metadata": {},
   "source": [
    "#### Plot"
   ]
  },
  {
   "cell_type": "code",
   "execution_count": null,
   "metadata": {},
   "outputs": [],
   "source": [
    "plot_kdist_graph(sample_rb_scl, demographic_metrics_selection1)"
   ]
  },
  {
   "cell_type": "markdown",
   "metadata": {},
   "source": [
    "#### Models"
   ]
  },
  {
   "cell_type": "markdown",
   "metadata": {},
   "source": [
    "##### 3 clusters"
   ]
  },
  {
   "cell_type": "code",
   "execution_count": null,
   "metadata": {},
   "outputs": [],
   "source": [
    "dbscan = DBSCAN(eps=0.8, min_samples=40, n_jobs=4)\n",
    "dbscan_labels = dbscan.fit_predict(sample_rb_scl)\n",
    "sample_original['rb_dbs3'] = dbscan_labels\n",
    "dbscan_n_clusters = len(np.unique(dbscan_labels))\n",
    "\n",
    "print(\"Number of estimated clusters  : %d\" % dbscan_n_clusters)\n",
    "print(\"Counter of cluster labels     :\", Counter(dbscan_labels))\n",
    "print(\"Percentage of noise rows      :\", round(100*Counter(dbscan_labels)[-1]/sample_rb_scl.shape[0],2))"
   ]
  },
  {
   "cell_type": "code",
   "execution_count": null,
   "metadata": {},
   "outputs": [],
   "source": [
    "groupby_mean(sample_original, 'rb_dbs3', True)"
   ]
  },
  {
   "cell_type": "code",
   "execution_count": null,
   "metadata": {},
   "outputs": [],
   "source": [
    "visualize_dimensionality_reduction(umap_embedding_rb, sample_original['rb_dbs3'])"
   ]
  },
  {
   "cell_type": "markdown",
   "metadata": {},
   "source": [
    "##### 5 clusters"
   ]
  },
  {
   "cell_type": "code",
   "execution_count": null,
   "metadata": {},
   "outputs": [],
   "source": [
    "dbscan = DBSCAN(eps=1.22, min_samples=40, n_jobs=4)\n",
    "dbscan_labels = dbscan.fit_predict(sample_rb_scl)\n",
    "sample_original['rb_dbs5'] = dbscan_labels\n",
    "dbscan_n_clusters = len(np.unique(dbscan_labels))\n",
    "\n",
    "print(\"Number of estimated clusters  : %d\" % dbscan_n_clusters)\n",
    "print(\"Counter of cluster labels     :\", Counter(dbscan_labels))\n",
    "print(\"Percentage of noise rows      :\", round(100*Counter(dbscan_labels)[-1]/sample_rb_scl.shape[0],2))"
   ]
  },
  {
   "cell_type": "code",
   "execution_count": null,
   "metadata": {},
   "outputs": [],
   "source": [
    "groupby_mean(sample_original, 'rb_dbs5', True)"
   ]
  },
  {
   "cell_type": "markdown",
   "metadata": {},
   "source": [
    "outliers | beer+water+frozen | fresh+beverage+frozen | pastry+fresh+frozen | dairy | veggies+wines+dairy"
   ]
  },
  {
   "cell_type": "code",
   "execution_count": null,
   "metadata": {},
   "outputs": [],
   "source": [
    "visualize_dimensionality_reduction(umap_embedding_rb, sample_original['rb_dbs5'])"
   ]
  },
  {
   "cell_type": "markdown",
   "metadata": {},
   "source": [
    "##### 6 clusters"
   ]
  },
  {
   "cell_type": "code",
   "execution_count": null,
   "metadata": {},
   "outputs": [],
   "source": [
    "dbscan = DBSCAN(eps=1.03, min_samples=40, n_jobs=4)\n",
    "dbscan_labels = dbscan.fit_predict(sample_rb_scl)\n",
    "sample_original['rb_dbs6'] = dbscan_labels\n",
    "dbscan_n_clusters = len(np.unique(dbscan_labels))\n",
    "\n",
    "print(\"Number of estimated clusters  : %d\" % dbscan_n_clusters)\n",
    "print(\"Counter of cluster labels     :\", Counter(dbscan_labels))\n",
    "print(\"Percentage of noise rows      :\", round(100*Counter(dbscan_labels)[-1]/sample_rb_scl.shape[0],2))"
   ]
  },
  {
   "cell_type": "code",
   "execution_count": null,
   "metadata": {},
   "outputs": [],
   "source": [
    "groupby_mean(sample_original, 'rb_dbs6', True)"
   ]
  },
  {
   "cell_type": "markdown",
   "metadata": {},
   "source": [
    "beer+water+frozen | fresh+beverage+frozen | pastry+fresh+beverage | dairy | pastry+dairy | veggies+dairy"
   ]
  },
  {
   "cell_type": "markdown",
   "metadata": {},
   "source": [
    "#### Comparison"
   ]
  },
  {
   "cell_type": "code",
   "execution_count": null,
   "metadata": {},
   "outputs": [],
   "source": [
    "clusters_comparison(sample_original, 'rb_dbs5', 'rb_dbs3')"
   ]
  },
  {
   "cell_type": "code",
   "execution_count": null,
   "metadata": {},
   "outputs": [],
   "source": [
    "clusters_comparison(sample_original, 'rb_dbs6', 'rb_dbs5')"
   ]
  },
  {
   "cell_type": "markdown",
   "metadata": {},
   "source": [
    "### Conclusions <a id='conc'></a>"
   ]
  },
  {
   "cell_type": "markdown",
   "metadata": {},
   "source": [
    "Based on the results obtained through DBScan, clustering solutions with 4 and 6 clusters were eliminated from further analysis. This happens as clusterings with 6 clusters presented high percentages of outliers (>10%) and as a solution with 4 clusters was not found for the robust scaled data. \n",
    "\n",
    "Having said this, it was decided to compare the until now found solutions with minmax and robust scaled data and 3 or 5 clusters."
   ]
  },
  {
   "cell_type": "markdown",
   "metadata": {},
   "source": [
    "| Method | Scaler | # Clusters | bwf | fbfp | fbf | pfb | d | dp | dpvw | dvw | s | g | note |\n",
    "| --- | --- | --- | --- | --- | --- | --- | --- | --- | --- | --- | --- | --- | --- |\n",
    "| kmeans | minmax | 3 | x | x |  |  |  | x |  | | | |  |\n",
    "| kmeans | robust | 3 |  |  |  | x |  |  |  |  | x | x | disregarded |\n",
    "| ward | minmax | 3 | x | x |  |  |  | x |  |  |  |  |  |\n",
    "| ward | robust | 3 |  |  |  | x |  |  |  |  | x | x | disregarded |\n",
    "| dbscan | minmax | 3 | x | x |  |  | x |  |  |  |  |  |  |\n",
    "| dbscan | robust | 3 |  |  |  | x | x |  |  | | | x | disregarded |\n",
    "| kmeans | minmax | 5 | x |  | x | x | x |  | x | | | |  |\n",
    "| kmeans | robust | 5 |  |  |  | x | x |  |  | x | x | x | disregarded |\n",
    "| ward | minmax | 5 | x |  | x | x |  | x | x |  |  |  |  |\n",
    "| dbscan | minmax | 5 | x |  | x | x | x | x |  |  |  |  |  |\n",
    "| dbscan | robust | 5 | x |  | x | x | x |  | x | | | |  |\n",
    "\n",
    "\n",
    "- bwf -> beer+water+frozen\n",
    "- fbfp -> fresh+beverage+frozen+pastry\n",
    "- fbf -> fresh+beverage+frozen\n",
    "- pfb -> pastry+fresh+beverage\n",
    "- d -> dairy\n",
    "- dp -> dairy+pastry\n",
    "- dpvw -> dairy+pastry+veggies+wine\n",
    "- dvw -> dairy+veggies+wine\n",
    "- s -> spenders\n",
    "- g -> general\n",
    "\n",
    "\n",
    "With this analysis it was concluded that a best solution for **3 clusters** would include: \n",
    "- beer+water+frozen\n",
    "- fresh+beverage+frozen+pastry\n",
    "- dairy+pastry\n",
    "\n",
    "(this is the case of kmeans with minmax scaler)\n",
    "\n",
    "And a best solution for **5 clusters** would include:\n",
    "-  beer+water+frozen\n",
    "- fresh+beverage+frozen\n",
    "- pastry+fresh+beverage\n",
    "- dairy\n",
    "- dairy+pastry+veggies+wine\n",
    "\n",
    "(this is the case for kmeans with minmax scaler and dbscan with robust scaler)"
   ]
  },
  {
   "cell_type": "markdown",
   "metadata": {},
   "source": [
    "# Batota UMAP"
   ]
  },
  {
   "cell_type": "code",
   "execution_count": 31,
   "metadata": {},
   "outputs": [],
   "source": [
    "umap_object = umap.UMAP(random_state=1)"
   ]
  },
  {
   "cell_type": "code",
   "execution_count": 75,
   "metadata": {},
   "outputs": [],
   "source": [
    "umap_embedding_no = umap_object.fit_transform(sample_no_scl)\n",
    "umap_embedding_st = umap_object.fit_transform(sample_st_scl)\n",
    "umap_embedding_mm = umap_object.fit_transform(sample_mm_scl)\n",
    "umap_embedding_rb = umap_object.fit_transform(sample_rb_scl)"
   ]
  },
  {
   "cell_type": "code",
   "execution_count": 76,
   "metadata": {},
   "outputs": [],
   "source": [
    "sample_original['constant'] = 1"
   ]
  },
  {
   "cell_type": "code",
   "execution_count": 77,
   "metadata": {},
   "outputs": [
    {
     "data": {
      "image/png": "[encoded data removed]",
      "text/plain": [
       "<Figure size 640x480 with 1 Axes>"
      ]
     },
     "metadata": {},
     "output_type": "display_data"
    }
   ],
   "source": [
    "visualize_dimensionality_reduction(umap_embedding_no, sample_original['constant'])"
   ]
  },
  {
   "cell_type": "code",
   "execution_count": 78,
   "metadata": {},
   "outputs": [
    {
     "data": {
      "image/png": "[encoded data removed]",
      "text/plain": [
       "<Figure size 640x480 with 1 Axes>"
      ]
     },
     "metadata": {},
     "output_type": "display_data"
    }
   ],
   "source": [
    "visualize_dimensionality_reduction(umap_embedding_st, sample_original['constant'])"
   ]
  },
  {
   "cell_type": "code",
   "execution_count": 79,
   "metadata": {},
   "outputs": [
    {
     "data": {
      "image/png": "[encoded data removed]",
      "text/plain": [
       "<Figure size 640x480 with 1 Axes>"
      ]
     },
     "metadata": {},
     "output_type": "display_data"
    }
   ],
   "source": [
    "visualize_dimensionality_reduction(umap_embedding_mm, sample_original['constant'])"
   ]
  },
  {
   "cell_type": "code",
   "execution_count": 80,
   "metadata": {},
   "outputs": [
    {
     "data": {
      "image/png": "[encoded data removed]",
      "text/plain": [
       "<Figure size 640x480 with 1 Axes>"
      ]
     },
     "metadata": {},
     "output_type": "display_data"
    }
   ],
   "source": [
    "visualize_dimensionality_reduction(umap_embedding_rb, sample_original['constant'])"
   ]
  },
  {
   "cell_type": "code",
   "execution_count": 20,
   "metadata": {},
   "outputs": [],
   "source": [
    "demographic_metrics_selection = ['frequency_items', 'potencial_score', 'longevity_months', 'credit_factor',  'relevance_criteria', 'recency_in_weeks', 'promotional_percentage']"
   ]
  },
  {
   "cell_type": "code",
   "execution_count": 21,
   "metadata": {},
   "outputs": [],
   "source": [
    "umap_embedding_no_s = umap_object.fit_transform(sample_no_scl[demographic_metrics_selection])\n",
    "umap_embedding_st_s = umap_object.fit_transform(sample_st_scl[demographic_metrics_selection])\n",
    "umap_embedding_mm_s = umap_object.fit_transform(sample_mm_scl[demographic_metrics_selection])\n",
    "umap_embedding_rb_s = umap_object.fit_transform(sample_rb_scl[demographic_metrics_selection])"
   ]
  },
  {
   "cell_type": "code",
   "execution_count": null,
   "metadata": {},
   "outputs": [],
   "source": [
    "visualize_dimensionality_reduction(umap_embedding_no_s, sample_original['constant'])"
   ]
  },
  {
   "cell_type": "code",
   "execution_count": null,
   "metadata": {},
   "outputs": [],
   "source": [
    "visualize_dimensionality_reduction(umap_embedding_st_s, sample_original['constant'])"
   ]
  },
  {
   "cell_type": "code",
   "execution_count": null,
   "metadata": {},
   "outputs": [],
   "source": [
    "visualize_dimensionality_reduction(umap_embedding_mm_s, sample_original['constant'])"
   ]
  },
  {
   "cell_type": "code",
   "execution_count": null,
   "metadata": {},
   "outputs": [],
   "source": [
    "visualize_dimensionality_reduction(umap_embedding_rb_s, sample_original['constant'])"
   ]
  },
  {
   "cell_type": "code",
   "execution_count": null,
   "metadata": {},
   "outputs": [],
   "source": []
  }
 ],
 "metadata": {
  "kernelspec": {
   "display_name": "datamining",
   "language": "python",
   "name": "python3"
  },
  "language_info": {
   "codemirror_mode": {
    "name": "ipython",
    "version": 3
   },
   "file_extension": ".py",
   "mimetype": "text/x-python",
   "name": "python",
   "nbconvert_exporter": "python",
   "pygments_lexer": "ipython3",
   "version": "3.12.5"
  }
 },
 "nbformat": 4,
 "nbformat_minor": 2
}
