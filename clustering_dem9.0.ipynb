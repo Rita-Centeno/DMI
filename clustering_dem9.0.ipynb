{
 "cells": [
  {
   "cell_type": "markdown",
   "metadata": {},
   "source": [
    "# Table of Contents:\n",
    "1. [Library Imports](#li)\n",
    "2. [Data Preparation](#dp)\n",
    "3. [Method Comparison](#mc)\n",
    "4. [K-Means](#km)\n",
    "5. [Hierarchical](#h)\n",
    "6. [DBSCAN](#d)\n",
    "7. [UMAP](#u)"
   ]
  },
  {
   "cell_type": "markdown",
   "metadata": {},
   "source": [
    "# 1. Library Imports\n",
    "<a id='li'></a>"
   ]
  },
  {
   "cell_type": "code",
   "execution_count": 1,
   "metadata": {},
   "outputs": [],
   "source": [
    "import pandas as pd\n",
    "import numpy as np\n",
    "from sklearn.cluster import KMeans, DBSCAN\n",
    "from sklearn.preprocessing import RobustScaler, StandardScaler, MinMaxScaler\n",
    "from sklearn.model_selection import train_test_split\n",
    "from collections import Counter\n",
    "from utils2 import *\n",
    "from utils1 import knn_imputer\n",
    "import umap\n",
    "\n",
    "### WARNINGS\n",
    "import warnings\n",
    "warnings.filterwarnings('ignore')\n",
    "\n",
    "### AUTORELOAD\n",
    "%load_ext autoreload\n",
    "%autoreload 2"
   ]
  },
  {
   "cell_type": "markdown",
   "metadata": {},
   "source": [
    "# 2. Data Preparation\n",
    "<a id='dp'></a>"
   ]
  },
  {
   "cell_type": "markdown",
   "metadata": {},
   "source": [
    "#### Import the data"
   ]
  },
  {
   "cell_type": "code",
   "execution_count": 4,
   "metadata": {},
   "outputs": [],
   "source": [
    "data = pd.read_csv('Data/New_Data/project_data_99_educ_perc.csv')"
   ]
  },
  {
   "cell_type": "markdown",
   "metadata": {},
   "source": [
    "#### Encode categorical variables"
   ]
  },
  {
   "cell_type": "code",
   "execution_count": 5,
   "metadata": {},
   "outputs": [],
   "source": [
    "data['relevance_criteria'] = data['relevance_criteria'].replace({'Priority': 2, 'Caution': 1, 'Unknown': 0})\n",
    "data['gender'] = data['gender'].replace({'female': 0, 'male': 1})\n",
    "data['education'] = data['education'].replace({'High School': 0, 'Degree': 1, 'BSc Degree': 2, 'MSc Degree': 3})\n",
    "data.loc[data['returns'] > 0, 'returns'] = 1"
   ]
  },
  {
   "cell_type": "markdown",
   "metadata": {},
   "source": [
    "#### Define metrics to study"
   ]
  },
  {
   "cell_type": "code",
   "execution_count": 6,
   "metadata": {},
   "outputs": [],
   "source": [
    "demographic_metrics_all = ['frequency_items', 'potencial_score', 'longevity_months', 'relevance_criteria', 'recency_in_weeks', 'promotional_percentage', 'returns', 'flaged', 'credit_factor', 'zip_code', 'education', 'gender']\n",
    "demographic_metrics = ['frequency_items', 'potencial_score', 'longevity_months', 'relevance_criteria', 'recency_in_weeks', 'promotional_percentage', 'returns', 'flaged', 'credit_factor']"
   ]
  },
  {
   "cell_type": "code",
   "execution_count": 7,
   "metadata": {},
   "outputs": [],
   "source": [
    "demographic = data[demographic_metrics_all]\n",
    "demographic_selection = data[demographic_metrics]\n"
   ]
  },
  {
   "cell_type": "markdown",
   "metadata": {},
   "source": [
    "#### Scale the data"
   ]
  },
  {
   "cell_type": "code",
   "execution_count": 8,
   "metadata": {},
   "outputs": [],
   "source": [
    "standard = StandardScaler()\n",
    "minmax = MinMaxScaler()\n",
    "robust = RobustScaler()"
   ]
  },
  {
   "cell_type": "code",
   "execution_count": 9,
   "metadata": {},
   "outputs": [],
   "source": [
    "dem_no_scl = demographic_selection.copy()\n",
    "dem_st_scl = standard.fit_transform(demographic_selection)\n",
    "dem_mm_scl = minmax.fit_transform(demographic_selection)\n",
    "dem_rb_scl = robust.fit_transform(demographic_selection)"
   ]
  },
  {
   "cell_type": "code",
   "execution_count": 10,
   "metadata": {},
   "outputs": [],
   "source": [
    "demographic_no_scl = demographic_selection.copy()\n",
    "demographic_no_scl[demographic_metrics] = dem_no_scl\n",
    "\n",
    "demographic_st_scl = demographic_selection.copy()\n",
    "demographic_st_scl[demographic_metrics] = dem_st_scl\n",
    "\n",
    "demographic_mm_scl = demographic_selection.copy()\n",
    "demographic_mm_scl[demographic_metrics] = dem_mm_scl\n",
    "\n",
    "demographic_rb_scl = demographic_selection.copy()\n",
    "demographic_rb_scl[demographic_metrics] = dem_rb_scl"
   ]
  },
  {
   "cell_type": "code",
   "execution_count": 11,
   "metadata": {},
   "outputs": [],
   "source": [
    "sample_original = demographic.sample(frac=0.2, random_state=1)\n",
    "sample_no_scl = demographic_no_scl.sample(frac=0.2, random_state=1)\n",
    "sample_st_scl = demographic_st_scl.sample(frac=0.2, random_state=1)\n",
    "sample_mm_scl = demographic_mm_scl.sample(frac=0.2, random_state=1)\n",
    "sample_rb_scl = demographic_rb_scl.sample(frac=0.2, random_state=1)"
   ]
  },
  {
   "cell_type": "markdown",
   "metadata": {},
   "source": [
    "# Clustering Method Comparison\n",
    "<a id='mc'></a>"
   ]
  },
  {
   "cell_type": "code",
   "execution_count": 57,
   "metadata": {},
   "outputs": [],
   "source": [
    "kmeans = KMeans(init='k-means++', n_init=10, random_state=1)\n",
    "hierarchical = AgglomerativeClustering(metric='euclidean')"
   ]
  },
  {
   "cell_type": "markdown",
   "metadata": {},
   "source": [
    "### No Scale"
   ]
  },
  {
   "cell_type": "code",
   "execution_count": null,
   "metadata": {},
   "outputs": [],
   "source": [
    "sample_no_scl.columns"
   ]
  },
  {
   "cell_type": "code",
   "execution_count": null,
   "metadata": {},
   "outputs": [],
   "source": [
    "dem_no_r2_scores = get_r2_df(sample_no_scl, demographic_metrics, kmeans, hierarchical)\n",
    "dem_no_r2_scores"
   ]
  },
  {
   "cell_type": "code",
   "execution_count": null,
   "metadata": {},
   "outputs": [],
   "source": [
    "plot_r2_scores(dem_no_r2_scores)"
   ]
  },
  {
   "cell_type": "code",
   "execution_count": null,
   "metadata": {},
   "outputs": [],
   "source": [
    "dem_st_r2_scores = get_r2_df(sample_st_scl, demographic_metrics, kmeans, hierarchical)\n",
    "dem_st_r2_scores"
   ]
  },
  {
   "cell_type": "code",
   "execution_count": null,
   "metadata": {},
   "outputs": [],
   "source": [
    "plot_r2_scores(dem_st_r2_scores)"
   ]
  },
  {
   "cell_type": "code",
   "execution_count": null,
   "metadata": {},
   "outputs": [],
   "source": [
    "dem_mm_r2_scores = get_r2_df(sample_mm_scl, demographic_metrics, kmeans, hierarchical)\n",
    "dem_mm_r2_scores"
   ]
  },
  {
   "cell_type": "code",
   "execution_count": null,
   "metadata": {},
   "outputs": [],
   "source": [
    "plot_r2_scores(dem_mm_r2_scores)"
   ]
  },
  {
   "cell_type": "code",
   "execution_count": null,
   "metadata": {},
   "outputs": [],
   "source": [
    "dem_rb_r2_scores = get_r2_df(sample_rb_scl, demographic_metrics, kmeans, hierarchical)\n",
    "dem_rb_r2_scores"
   ]
  },
  {
   "cell_type": "code",
   "execution_count": null,
   "metadata": {},
   "outputs": [],
   "source": [
    "plot_r2_scores(dem_rb_r2_scores)"
   ]
  },
  {
   "cell_type": "markdown",
   "metadata": {},
   "source": [
    "# SEM ALGUMAS VARIAVEIS (flagged, relevance criteria)"
   ]
  },
  {
   "cell_type": "code",
   "execution_count": null,
   "metadata": {},
   "outputs": [],
   "source": [
    "dem_no_r2_scores_s = get_r2_df(sample_no_scl, demographic_metrics_selection, kmeans, hierarchical)\n",
    "dem_no_r2_scores_s"
   ]
  },
  {
   "cell_type": "code",
   "execution_count": null,
   "metadata": {},
   "outputs": [],
   "source": [
    "plot_r2_scores(dem_no_r2_scores_s)"
   ]
  },
  {
   "cell_type": "code",
   "execution_count": null,
   "metadata": {},
   "outputs": [],
   "source": [
    "dem_st_r2_scores_s = get_r2_df(sample_st_scl, demographic_metrics_selection, kmeans, hierarchical)\n",
    "dem_st_r2_scores_s"
   ]
  },
  {
   "cell_type": "code",
   "execution_count": null,
   "metadata": {},
   "outputs": [],
   "source": [
    "plot_r2_scores(dem_st_r2_scores_s)"
   ]
  },
  {
   "cell_type": "code",
   "execution_count": null,
   "metadata": {},
   "outputs": [],
   "source": [
    "dem_mm_r2_scores_s = get_r2_df(sample_mm_scl, demographic_metrics_selection, kmeans, hierarchical)\n",
    "dem_mm_r2_scores_s"
   ]
  },
  {
   "cell_type": "code",
   "execution_count": null,
   "metadata": {},
   "outputs": [],
   "source": [
    "plot_r2_scores(dem_mm_r2_scores_s)"
   ]
  },
  {
   "cell_type": "code",
   "execution_count": null,
   "metadata": {},
   "outputs": [],
   "source": [
    "dem_rb_r2_scores_s = get_r2_df(sample_rb_scl, demographic_metrics_selection, kmeans, hierarchical)\n",
    "dem_rb_r2_scores_s"
   ]
  },
  {
   "cell_type": "code",
   "execution_count": null,
   "metadata": {},
   "outputs": [],
   "source": [
    "plot_r2_scores(dem_rb_r2_scores_s)"
   ]
  },
  {
   "cell_type": "code",
   "execution_count": null,
   "metadata": {},
   "outputs": [],
   "source": [
    "# Prefix the names of the columns\n",
    "df_no_prefixed = dem_no_r2_scores.add_prefix(\"no_\")\n",
    "df_st_prefixed = dem_st_r2_scores.add_prefix(\"st_\")\n",
    "df_mm_prefixed = dem_mm_r2_scores.add_prefix(\"mm_\")\n",
    "df_rb_prefixed = dem_rb_r2_scores.add_prefix(\"rb_\")\n",
    "\n",
    "# Concatenate the dataframes\n",
    "df_combined = pd.concat([df_no_prefixed, df_st_prefixed, df_mm_prefixed, df_rb_prefixed], axis=1)\n",
    "\n",
    "# Filter ward and kmeans columns\n",
    "filtered_columns = [col for col in df_combined.columns if 'ward' in col or 'kmeans' in col]\n",
    "\n",
    "# Create a new dataframe with only the filtered columns\n",
    "df_filtered = df_combined[filtered_columns]\n",
    "df_filtered"
   ]
  },
  {
   "cell_type": "code",
   "execution_count": null,
   "metadata": {},
   "outputs": [],
   "source": [
    "plot_r2_scores(df_filtered)"
   ]
  },
  {
   "cell_type": "code",
   "execution_count": null,
   "metadata": {},
   "outputs": [],
   "source": [
    "# Prefix the names of the columns\n",
    "df_no_prefixed_s = dem_no_r2_scores_s.add_prefix(\"no_\")\n",
    "df_st_prefixed_s = dem_st_r2_scores_s.add_prefix(\"st_\")\n",
    "df_mm_prefixed_s = dem_mm_r2_scores_s.add_prefix(\"mm_\")\n",
    "df_rb_prefixed_s = dem_rb_r2_scores_s.add_prefix(\"rb_\")\n",
    "\n",
    "# Concatenate the dataframes\n",
    "df_combined_s = pd.concat([df_no_prefixed_s, df_st_prefixed_s, df_mm_prefixed_s, df_rb_prefixed_s], axis=1)\n",
    "\n",
    "# Filter ward and kmeans columns\n",
    "filtered_columns_s = [col for col in df_combined_s.columns if 'ward' in col or 'kmeans' in col]\n",
    "\n",
    "# Create a new dataframe with only the filtered columns\n",
    "df_filtered_s = df_combined_s[filtered_columns_s]\n",
    "df_filtered_s"
   ]
  },
  {
   "cell_type": "code",
   "execution_count": null,
   "metadata": {},
   "outputs": [],
   "source": [
    "df_filtered_s.columns"
   ]
  },
  {
   "cell_type": "code",
   "execution_count": null,
   "metadata": {},
   "outputs": [],
   "source": [
    "plot_r2_scores(df_filtered_s)"
   ]
  },
  {
   "cell_type": "code",
   "execution_count": null,
   "metadata": {},
   "outputs": [],
   "source": [
    "plot_r2_scores(df_filtered_s[['st_kmeans', 'st_ward', 'mm_kmeans', 'mm_ward',\n",
    "       'rb_kmeans', 'rb_ward']])"
   ]
  },
  {
   "cell_type": "code",
   "execution_count": null,
   "metadata": {},
   "outputs": [],
   "source": [
    "demographic"
   ]
  },
  {
   "cell_type": "markdown",
   "metadata": {},
   "source": [
    "---"
   ]
  },
  {
   "cell_type": "markdown",
   "metadata": {},
   "source": [
    "# 4. Clustering\n",
    "<a id='cl'></a>"
   ]
  },
  {
   "cell_type": "markdown",
   "metadata": {},
   "source": [
    "In the notebook, the cluster analysis is grouped by data inputs - no scaling, standard scaler, minmax scaler, robust scaler. In each group, *n* methods of clustering were used and they are presented in this order:\n",
    "1. [KMeans](#km)\n",
    "2. [Ward (Hierarchical)](#wh)\n",
    "3. [DBScan](#dbs)\n",
    "\n",
    "In the end, it was possible to identify groups that recurrently appeared in the clustering solutions, and based on this, *x* solutions were chosen to be further studied."
   ]
  },
  {
   "cell_type": "markdown",
   "metadata": {},
   "source": [
    "## 4.1. K-means <a id='km'></a>"
   ]
  },
  {
   "cell_type": "markdown",
   "metadata": {},
   "source": [
    "In this section, the k-means algorithm was tested with the data inputs previously mentioned. For each of the data inputs inertia and silhuette plots were done in order to decide which number of cluester were going to be considered for testing. Then, the clusters formed were analysed and clustering solutions compared. The tests for each data input were presented in the following order:\n",
    "1. [No Scaler](#km-no)\n",
    "2. [Standard Scaler](#km-st)\n",
    "3. [MinMax Scaler](#km-mm)\n",
    "4. [Robust Scaler](#km-rb)"
   ]
  },
  {
   "cell_type": "markdown",
   "metadata": {},
   "source": [
    "### No Scaler <a id='km-no'></a>"
   ]
  },
  {
   "cell_type": "markdown",
   "metadata": {},
   "source": [
    "#### Plot"
   ]
  },
  {
   "cell_type": "code",
   "execution_count": 12,
   "metadata": {},
   "outputs": [
    {
     "data": {
      "image/png": "[encoded data removed]",
      "text/plain": [
       "<Figure size 640x480 with 2 Axes>"
      ]
     },
     "metadata": {},
     "output_type": "display_data"
    }
   ],
   "source": [
    "plot_inertia_and_silhouette(sample_no_scl, 2, 10)"
   ]
  },
  {
   "cell_type": "markdown",
   "metadata": {},
   "source": [
    "#### Models"
   ]
  },
  {
   "cell_type": "markdown",
   "metadata": {},
   "source": [
    "##### 3 clusters"
   ]
  },
  {
   "cell_type": "code",
   "execution_count": 22,
   "metadata": {},
   "outputs": [],
   "source": [
    "kmeans = KMeans(n_clusters = 3, init='k-means++', n_init=20,  random_state = 1).fit(sample_no_scl)\n",
    "sample_original['no_kmeans3'] = kmeans.predict(sample_no_scl)"
   ]
  },
  {
   "cell_type": "code",
   "execution_count": 23,
   "metadata": {},
   "outputs": [
    {
     "name": "stdout",
     "output_type": "stream",
     "text": [
      "# observations per cluster: [8303, 5744, 10379]\n"
     ]
    },
    {
     "data": {
      "text/html": [
       "<style type=\"text/css\">\n",
       "#T_31dad_row0_col0, #T_31dad_row0_col2, #T_31dad_row1_col1 {\n",
       "  background-color: #023858;\n",
       "  color: #f1f1f1;\n",
       "}\n",
       "#T_31dad_row0_col1 {\n",
       "  background-color: #71a8ce;\n",
       "  color: #f1f1f1;\n",
       "}\n",
       "#T_31dad_row1_col0 {\n",
       "  background-color: #045e94;\n",
       "  color: #f1f1f1;\n",
       "}\n",
       "#T_31dad_row1_col2, #T_31dad_row9_col2, #T_31dad_row10_col1, #T_31dad_row12_col1 {\n",
       "  background-color: #fdf5fa;\n",
       "  color: #000000;\n",
       "}\n",
       "#T_31dad_row2_col0 {\n",
       "  background-color: #80aed2;\n",
       "  color: #f1f1f1;\n",
       "}\n",
       "#T_31dad_row2_col1 {\n",
       "  background-color: #dad9ea;\n",
       "  color: #000000;\n",
       "}\n",
       "#T_31dad_row2_col2 {\n",
       "  background-color: #b5c4df;\n",
       "  color: #000000;\n",
       "}\n",
       "#T_31dad_row3_col0 {\n",
       "  background-color: #f7f0f7;\n",
       "  color: #000000;\n",
       "}\n",
       "#T_31dad_row3_col1, #T_31dad_row8_col2, #T_31dad_row12_col2 {\n",
       "  background-color: #fbf4f9;\n",
       "  color: #000000;\n",
       "}\n",
       "#T_31dad_row3_col2 {\n",
       "  background-color: #f8f1f8;\n",
       "  color: #000000;\n",
       "}\n",
       "#T_31dad_row4_col0 {\n",
       "  background-color: #8fb4d6;\n",
       "  color: #000000;\n",
       "}\n",
       "#T_31dad_row4_col1 {\n",
       "  background-color: #dfddec;\n",
       "  color: #000000;\n",
       "}\n",
       "#T_31dad_row4_col2 {\n",
       "  background-color: #9ebad9;\n",
       "  color: #000000;\n",
       "}\n",
       "#T_31dad_row5_col0 {\n",
       "  background-color: #c1cae2;\n",
       "  color: #000000;\n",
       "}\n",
       "#T_31dad_row5_col1 {\n",
       "  background-color: #e5e1ef;\n",
       "  color: #000000;\n",
       "}\n",
       "#T_31dad_row5_col2 {\n",
       "  background-color: #c0c9e2;\n",
       "  color: #000000;\n",
       "}\n",
       "#T_31dad_row6_col0, #T_31dad_row6_col1, #T_31dad_row6_col2, #T_31dad_row7_col0, #T_31dad_row7_col1, #T_31dad_row7_col2 {\n",
       "  background-color: #fff7fb;\n",
       "  color: #000000;\n",
       "}\n",
       "#T_31dad_row8_col0 {\n",
       "  background-color: #fcf4fa;\n",
       "  color: #000000;\n",
       "}\n",
       "#T_31dad_row8_col1, #T_31dad_row11_col0, #T_31dad_row11_col2 {\n",
       "  background-color: #fef6fa;\n",
       "  color: #000000;\n",
       "}\n",
       "#T_31dad_row9_col0 {\n",
       "  background-color: #d8d7e9;\n",
       "  color: #000000;\n",
       "}\n",
       "#T_31dad_row9_col1 {\n",
       "  background-color: #f1ebf4;\n",
       "  color: #000000;\n",
       "}\n",
       "#T_31dad_row10_col0, #T_31dad_row12_col0 {\n",
       "  background-color: #fbf3f9;\n",
       "  color: #000000;\n",
       "}\n",
       "#T_31dad_row10_col2 {\n",
       "  background-color: #faf3f9;\n",
       "  color: #000000;\n",
       "}\n",
       "#T_31dad_row11_col1 {\n",
       "  background-color: #fef6fb;\n",
       "  color: #000000;\n",
       "}\n",
       "</style>\n",
       "<table id=\"T_31dad\">\n",
       "  <thead>\n",
       "    <tr>\n",
       "      <th class=\"index_name level0\" >no_kmeans3</th>\n",
       "      <th id=\"T_31dad_level0_col0\" class=\"col_heading level0 col0\" >0</th>\n",
       "      <th id=\"T_31dad_level0_col1\" class=\"col_heading level0 col1\" >1</th>\n",
       "      <th id=\"T_31dad_level0_col2\" class=\"col_heading level0 col2\" >2</th>\n",
       "    </tr>\n",
       "  </thead>\n",
       "  <tbody>\n",
       "    <tr>\n",
       "      <th id=\"T_31dad_level0_row0\" class=\"row_heading level0 row0\" >frequency_items</th>\n",
       "      <td id=\"T_31dad_row0_col0\" class=\"data row0 col0\" >35.020000</td>\n",
       "      <td id=\"T_31dad_row0_col1\" class=\"data row0 col1\" >40.520000</td>\n",
       "      <td id=\"T_31dad_row0_col2\" class=\"data row0 col2\" >39.400000</td>\n",
       "    </tr>\n",
       "    <tr>\n",
       "      <th id=\"T_31dad_level0_row1\" class=\"row_heading level0 row1\" >potencial_score</th>\n",
       "      <td id=\"T_31dad_row1_col0\" class=\"data row1 col0\" >29.740000</td>\n",
       "      <td id=\"T_31dad_row1_col1\" class=\"data row1 col1\" >80.200000</td>\n",
       "      <td id=\"T_31dad_row1_col2\" class=\"data row1 col2\" >0.730000</td>\n",
       "    </tr>\n",
       "    <tr>\n",
       "      <th id=\"T_31dad_level0_row2\" class=\"row_heading level0 row2\" >longevity_months</th>\n",
       "      <td id=\"T_31dad_row2_col0\" class=\"data row2 col0\" >16.500000</td>\n",
       "      <td id=\"T_31dad_row2_col1\" class=\"data row2 col1\" >16.530000</td>\n",
       "      <td id=\"T_31dad_row2_col2\" class=\"data row2 col2\" >12.940000</td>\n",
       "    </tr>\n",
       "    <tr>\n",
       "      <th id=\"T_31dad_level0_row3\" class=\"row_heading level0 row3\" >relevance_criteria</th>\n",
       "      <td id=\"T_31dad_row3_col0\" class=\"data row3 col0\" >1.930000</td>\n",
       "      <td id=\"T_31dad_row3_col1\" class=\"data row3 col1\" >1.910000</td>\n",
       "      <td id=\"T_31dad_row3_col2\" class=\"data row3 col2\" >1.920000</td>\n",
       "    </tr>\n",
       "    <tr>\n",
       "      <th id=\"T_31dad_level0_row4\" class=\"row_heading level0 row4\" >recency_in_weeks</th>\n",
       "      <td id=\"T_31dad_row4_col0\" class=\"data row4 col0\" >15.140000</td>\n",
       "      <td id=\"T_31dad_row4_col1\" class=\"data row4 col1\" >14.780000</td>\n",
       "      <td id=\"T_31dad_row4_col2\" class=\"data row4 col2\" >15.640000</td>\n",
       "    </tr>\n",
       "    <tr>\n",
       "      <th id=\"T_31dad_level0_row5\" class=\"row_heading level0 row5\" >promotional_percentage</th>\n",
       "      <td id=\"T_31dad_row5_col0\" class=\"data row5 col0\" >10.290000</td>\n",
       "      <td id=\"T_31dad_row5_col1\" class=\"data row5 col1\" >12.800000</td>\n",
       "      <td id=\"T_31dad_row5_col2\" class=\"data row5 col2\" >11.740000</td>\n",
       "    </tr>\n",
       "    <tr>\n",
       "      <th id=\"T_31dad_level0_row6\" class=\"row_heading level0 row6\" >returns</th>\n",
       "      <td id=\"T_31dad_row6_col0\" class=\"data row6 col0\" >0.030000</td>\n",
       "      <td id=\"T_31dad_row6_col1\" class=\"data row6 col1\" >0.070000</td>\n",
       "      <td id=\"T_31dad_row6_col2\" class=\"data row6 col2\" >0.040000</td>\n",
       "    </tr>\n",
       "    <tr>\n",
       "      <th id=\"T_31dad_level0_row7\" class=\"row_heading level0 row7\" >flaged</th>\n",
       "      <td id=\"T_31dad_row7_col0\" class=\"data row7 col0\" >0.010000</td>\n",
       "      <td id=\"T_31dad_row7_col1\" class=\"data row7 col1\" >0.020000</td>\n",
       "      <td id=\"T_31dad_row7_col2\" class=\"data row7 col2\" >0.010000</td>\n",
       "    </tr>\n",
       "    <tr>\n",
       "      <th id=\"T_31dad_level0_row8\" class=\"row_heading level0 row8\" >credit_factor</th>\n",
       "      <td id=\"T_31dad_row8_col0\" class=\"data row8 col0\" >0.830000</td>\n",
       "      <td id=\"T_31dad_row8_col1\" class=\"data row8 col1\" >0.800000</td>\n",
       "      <td id=\"T_31dad_row8_col2\" class=\"data row8 col2\" >1.020000</td>\n",
       "    </tr>\n",
       "    <tr>\n",
       "      <th id=\"T_31dad_level0_row9\" class=\"row_heading level0 row9\" >zip_code</th>\n",
       "      <td id=\"T_31dad_row9_col0\" class=\"data row9 col0\" >7.660000</td>\n",
       "      <td id=\"T_31dad_row9_col1\" class=\"data row9 col1\" >7.680000</td>\n",
       "      <td id=\"T_31dad_row9_col2\" class=\"data row9 col2\" >0.570000</td>\n",
       "    </tr>\n",
       "    <tr>\n",
       "      <th id=\"T_31dad_level0_row10\" class=\"row_heading level0 row10\" >education</th>\n",
       "      <td id=\"T_31dad_row10_col0\" class=\"data row10 col0\" >1.070000</td>\n",
       "      <td id=\"T_31dad_row10_col1\" class=\"data row10 col1\" >1.000000</td>\n",
       "      <td id=\"T_31dad_row10_col2\" class=\"data row10 col2\" >1.250000</td>\n",
       "    </tr>\n",
       "    <tr>\n",
       "      <th id=\"T_31dad_level0_row11\" class=\"row_heading level0 row11\" >gender</th>\n",
       "      <td id=\"T_31dad_row11_col0\" class=\"data row11 col0\" >0.380000</td>\n",
       "      <td id=\"T_31dad_row11_col1\" class=\"data row11 col1\" >0.360000</td>\n",
       "      <td id=\"T_31dad_row11_col2\" class=\"data row11 col2\" >0.380000</td>\n",
       "    </tr>\n",
       "    <tr>\n",
       "      <th id=\"T_31dad_level0_row12\" class=\"row_heading level0 row12\" >constant</th>\n",
       "      <td id=\"T_31dad_row12_col0\" class=\"data row12 col0\" >1.000000</td>\n",
       "      <td id=\"T_31dad_row12_col1\" class=\"data row12 col1\" >1.000000</td>\n",
       "      <td id=\"T_31dad_row12_col2\" class=\"data row12 col2\" >1.000000</td>\n",
       "    </tr>\n",
       "  </tbody>\n",
       "</table>\n"
      ],
      "text/plain": [
       "<pandas.io.formats.style.Styler at 0x20f952ef4a0>"
      ]
     },
     "execution_count": 23,
     "metadata": {},
     "output_type": "execute_result"
    }
   ],
   "source": [
    "groupby_mean(sample_original, 'no_kmeans3', True)"
   ]
  },
  {
   "cell_type": "markdown",
   "metadata": {},
   "source": [
    "##### 4 clusters"
   ]
  },
  {
   "cell_type": "code",
   "execution_count": 24,
   "metadata": {},
   "outputs": [],
   "source": [
    "kmeans = KMeans(n_clusters = 4, init='k-means++', n_init=20,  random_state = 1).fit(sample_no_scl)\n",
    "sample_original['no_kmeans4'] = kmeans.predict(sample_no_scl)"
   ]
  },
  {
   "cell_type": "code",
   "execution_count": 25,
   "metadata": {},
   "outputs": [
    {
     "name": "stdout",
     "output_type": "stream",
     "text": [
      "# observations per cluster: [1288, 9912, 5531, 7695]\n"
     ]
    },
    {
     "data": {
      "text/html": [
       "<style type=\"text/css\">\n",
       "#T_6454f_row0_col0 {\n",
       "  background-color: #358fc0;\n",
       "  color: #f1f1f1;\n",
       "}\n",
       "#T_6454f_row0_col1, #T_6454f_row0_col3, #T_6454f_row1_col2, #T_6454f_row5_col0 {\n",
       "  background-color: #023858;\n",
       "  color: #f1f1f1;\n",
       "}\n",
       "#T_6454f_row0_col2 {\n",
       "  background-color: #71a8ce;\n",
       "  color: #f1f1f1;\n",
       "}\n",
       "#T_6454f_row1_col0 {\n",
       "  background-color: #84b0d3;\n",
       "  color: #f1f1f1;\n",
       "}\n",
       "#T_6454f_row1_col1, #T_6454f_row8_col0, #T_6454f_row9_col1, #T_6454f_row10_col0, #T_6454f_row10_col2, #T_6454f_row12_col0, #T_6454f_row12_col2 {\n",
       "  background-color: #fdf5fa;\n",
       "  color: #000000;\n",
       "}\n",
       "#T_6454f_row1_col3 {\n",
       "  background-color: #045f95;\n",
       "  color: #f1f1f1;\n",
       "}\n",
       "#T_6454f_row2_col0 {\n",
       "  background-color: #cdd0e5;\n",
       "  color: #000000;\n",
       "}\n",
       "#T_6454f_row2_col1 {\n",
       "  background-color: #b7c5df;\n",
       "  color: #000000;\n",
       "}\n",
       "#T_6454f_row2_col2 {\n",
       "  background-color: #dad9ea;\n",
       "  color: #000000;\n",
       "}\n",
       "#T_6454f_row2_col3 {\n",
       "  background-color: #80aed2;\n",
       "  color: #f1f1f1;\n",
       "}\n",
       "#T_6454f_row3_col0, #T_6454f_row10_col1 {\n",
       "  background-color: #faf3f9;\n",
       "  color: #000000;\n",
       "}\n",
       "#T_6454f_row3_col1 {\n",
       "  background-color: #f8f1f8;\n",
       "  color: #000000;\n",
       "}\n",
       "#T_6454f_row3_col2, #T_6454f_row8_col1, #T_6454f_row12_col1 {\n",
       "  background-color: #fbf4f9;\n",
       "  color: #000000;\n",
       "}\n",
       "#T_6454f_row3_col3 {\n",
       "  background-color: #f7f0f7;\n",
       "  color: #000000;\n",
       "}\n",
       "#T_6454f_row4_col0 {\n",
       "  background-color: #d2d2e7;\n",
       "  color: #000000;\n",
       "}\n",
       "#T_6454f_row4_col1 {\n",
       "  background-color: #9ebad9;\n",
       "  color: #000000;\n",
       "}\n",
       "#T_6454f_row4_col2 {\n",
       "  background-color: #dfddec;\n",
       "  color: #000000;\n",
       "}\n",
       "#T_6454f_row4_col3 {\n",
       "  background-color: #8fb4d6;\n",
       "  color: #000000;\n",
       "}\n",
       "#T_6454f_row5_col1 {\n",
       "  background-color: #d3d4e7;\n",
       "  color: #000000;\n",
       "}\n",
       "#T_6454f_row5_col2 {\n",
       "  background-color: #ece7f2;\n",
       "  color: #000000;\n",
       "}\n",
       "#T_6454f_row5_col3 {\n",
       "  background-color: #dbdaeb;\n",
       "  color: #000000;\n",
       "}\n",
       "#T_6454f_row6_col0, #T_6454f_row11_col0, #T_6454f_row11_col2 {\n",
       "  background-color: #fef6fb;\n",
       "  color: #000000;\n",
       "}\n",
       "#T_6454f_row6_col1, #T_6454f_row6_col2, #T_6454f_row6_col3, #T_6454f_row7_col0, #T_6454f_row7_col1, #T_6454f_row7_col2, #T_6454f_row7_col3 {\n",
       "  background-color: #fff7fb;\n",
       "  color: #000000;\n",
       "}\n",
       "#T_6454f_row8_col2, #T_6454f_row11_col1, #T_6454f_row11_col3 {\n",
       "  background-color: #fef6fa;\n",
       "  color: #000000;\n",
       "}\n",
       "#T_6454f_row8_col3 {\n",
       "  background-color: #fcf4fa;\n",
       "  color: #000000;\n",
       "}\n",
       "#T_6454f_row9_col0 {\n",
       "  background-color: #f2ecf5;\n",
       "  color: #000000;\n",
       "}\n",
       "#T_6454f_row9_col2 {\n",
       "  background-color: #f1ebf4;\n",
       "  color: #000000;\n",
       "}\n",
       "#T_6454f_row9_col3 {\n",
       "  background-color: #d8d7e9;\n",
       "  color: #000000;\n",
       "}\n",
       "#T_6454f_row10_col3, #T_6454f_row12_col3 {\n",
       "  background-color: #fbf3f9;\n",
       "  color: #000000;\n",
       "}\n",
       "</style>\n",
       "<table id=\"T_6454f\">\n",
       "  <thead>\n",
       "    <tr>\n",
       "      <th class=\"index_name level0\" >no_kmeans4</th>\n",
       "      <th id=\"T_6454f_level0_col0\" class=\"col_heading level0 col0\" >0</th>\n",
       "      <th id=\"T_6454f_level0_col1\" class=\"col_heading level0 col1\" >1</th>\n",
       "      <th id=\"T_6454f_level0_col2\" class=\"col_heading level0 col2\" >2</th>\n",
       "      <th id=\"T_6454f_level0_col3\" class=\"col_heading level0 col3\" >3</th>\n",
       "    </tr>\n",
       "  </thead>\n",
       "  <tbody>\n",
       "    <tr>\n",
       "      <th id=\"T_6454f_level0_row0\" class=\"row_heading level0 row0\" >frequency_items</th>\n",
       "      <td id=\"T_6454f_row0_col0\" class=\"data row0 col0\" >38.110000</td>\n",
       "      <td id=\"T_6454f_row0_col1\" class=\"data row0 col1\" >39.290000</td>\n",
       "      <td id=\"T_6454f_row0_col2\" class=\"data row0 col2\" >40.490000</td>\n",
       "      <td id=\"T_6454f_row0_col3\" class=\"data row0 col3\" >35.090000</td>\n",
       "    </tr>\n",
       "    <tr>\n",
       "      <th id=\"T_6454f_level0_row1\" class=\"row_heading level0 row1\" >potencial_score</th>\n",
       "      <td id=\"T_6454f_row1_col0\" class=\"data row1 col0\" >28.000000</td>\n",
       "      <td id=\"T_6454f_row1_col1\" class=\"data row1 col1\" >0.680000</td>\n",
       "      <td id=\"T_6454f_row1_col2\" class=\"data row1 col2\" >80.200000</td>\n",
       "      <td id=\"T_6454f_row1_col3\" class=\"data row1 col3\" >29.730000</td>\n",
       "    </tr>\n",
       "    <tr>\n",
       "      <th id=\"T_6454f_level0_row2\" class=\"row_heading level0 row2\" >longevity_months</th>\n",
       "      <td id=\"T_6454f_row2_col0\" class=\"data row2 col0\" >15.950000</td>\n",
       "      <td id=\"T_6454f_row2_col1\" class=\"data row2 col1\" >12.890000</td>\n",
       "      <td id=\"T_6454f_row2_col2\" class=\"data row2 col2\" >16.480000</td>\n",
       "      <td id=\"T_6454f_row2_col3\" class=\"data row2 col3\" >16.480000</td>\n",
       "    </tr>\n",
       "    <tr>\n",
       "      <th id=\"T_6454f_level0_row3\" class=\"row_heading level0 row3\" >relevance_criteria</th>\n",
       "      <td id=\"T_6454f_row3_col0\" class=\"data row3 col0\" >2.000000</td>\n",
       "      <td id=\"T_6454f_row3_col1\" class=\"data row3 col1\" >1.920000</td>\n",
       "      <td id=\"T_6454f_row3_col2\" class=\"data row3 col2\" >1.910000</td>\n",
       "      <td id=\"T_6454f_row3_col3\" class=\"data row3 col3\" >1.930000</td>\n",
       "    </tr>\n",
       "    <tr>\n",
       "      <th id=\"T_6454f_level0_row4\" class=\"row_heading level0 row4\" >recency_in_weeks</th>\n",
       "      <td id=\"T_6454f_row4_col0\" class=\"data row4 col0\" >14.930000</td>\n",
       "      <td id=\"T_6454f_row4_col1\" class=\"data row4 col1\" >15.660000</td>\n",
       "      <td id=\"T_6454f_row4_col2\" class=\"data row4 col2\" >14.800000</td>\n",
       "      <td id=\"T_6454f_row4_col3\" class=\"data row4 col3\" >15.160000</td>\n",
       "    </tr>\n",
       "    <tr>\n",
       "      <th id=\"T_6454f_level0_row5\" class=\"row_heading level0 row5\" >promotional_percentage</th>\n",
       "      <td id=\"T_6454f_row5_col0\" class=\"data row5 col0\" >60.970000</td>\n",
       "      <td id=\"T_6454f_row5_col1\" class=\"data row5 col1\" >9.330000</td>\n",
       "      <td id=\"T_6454f_row5_col2\" class=\"data row5 col2\" >10.100000</td>\n",
       "      <td id=\"T_6454f_row5_col3\" class=\"data row5 col3\" >7.010000</td>\n",
       "    </tr>\n",
       "    <tr>\n",
       "      <th id=\"T_6454f_level0_row6\" class=\"row_heading level0 row6\" >returns</th>\n",
       "      <td id=\"T_6454f_row6_col0\" class=\"data row6 col0\" >0.250000</td>\n",
       "      <td id=\"T_6454f_row6_col1\" class=\"data row6 col1\" >0.030000</td>\n",
       "      <td id=\"T_6454f_row6_col2\" class=\"data row6 col2\" >0.050000</td>\n",
       "      <td id=\"T_6454f_row6_col3\" class=\"data row6 col3\" >0.020000</td>\n",
       "    </tr>\n",
       "    <tr>\n",
       "      <th id=\"T_6454f_level0_row7\" class=\"row_heading level0 row7\" >flaged</th>\n",
       "      <td id=\"T_6454f_row7_col0\" class=\"data row7 col0\" >0.000000</td>\n",
       "      <td id=\"T_6454f_row7_col1\" class=\"data row7 col1\" >0.010000</td>\n",
       "      <td id=\"T_6454f_row7_col2\" class=\"data row7 col2\" >0.020000</td>\n",
       "      <td id=\"T_6454f_row7_col3\" class=\"data row7 col3\" >0.010000</td>\n",
       "    </tr>\n",
       "    <tr>\n",
       "      <th id=\"T_6454f_level0_row8\" class=\"row_heading level0 row8\" >credit_factor</th>\n",
       "      <td id=\"T_6454f_row8_col0\" class=\"data row8 col0\" >1.000000</td>\n",
       "      <td id=\"T_6454f_row8_col1\" class=\"data row8 col1\" >1.020000</td>\n",
       "      <td id=\"T_6454f_row8_col2\" class=\"data row8 col2\" >0.800000</td>\n",
       "      <td id=\"T_6454f_row8_col3\" class=\"data row8 col3\" >0.820000</td>\n",
       "    </tr>\n",
       "    <tr>\n",
       "      <th id=\"T_6454f_level0_row9\" class=\"row_heading level0 row9\" >zip_code</th>\n",
       "      <td id=\"T_6454f_row9_col0\" class=\"data row9 col0\" >5.270000</td>\n",
       "      <td id=\"T_6454f_row9_col1\" class=\"data row9 col1\" >0.540000</td>\n",
       "      <td id=\"T_6454f_row9_col2\" class=\"data row9 col2\" >7.680000</td>\n",
       "      <td id=\"T_6454f_row9_col3\" class=\"data row9 col3\" >7.670000</td>\n",
       "    </tr>\n",
       "    <tr>\n",
       "      <th id=\"T_6454f_level0_row10\" class=\"row_heading level0 row10\" >education</th>\n",
       "      <td id=\"T_6454f_row10_col0\" class=\"data row10 col0\" >0.930000</td>\n",
       "      <td id=\"T_6454f_row10_col1\" class=\"data row10 col1\" >1.270000</td>\n",
       "      <td id=\"T_6454f_row10_col2\" class=\"data row10 col2\" >1.010000</td>\n",
       "      <td id=\"T_6454f_row10_col3\" class=\"data row10 col3\" >1.080000</td>\n",
       "    </tr>\n",
       "    <tr>\n",
       "      <th id=\"T_6454f_level0_row11\" class=\"row_heading level0 row11\" >gender</th>\n",
       "      <td id=\"T_6454f_row11_col0\" class=\"data row11 col0\" >0.370000</td>\n",
       "      <td id=\"T_6454f_row11_col1\" class=\"data row11 col1\" >0.380000</td>\n",
       "      <td id=\"T_6454f_row11_col2\" class=\"data row11 col2\" >0.360000</td>\n",
       "      <td id=\"T_6454f_row11_col3\" class=\"data row11 col3\" >0.380000</td>\n",
       "    </tr>\n",
       "    <tr>\n",
       "      <th id=\"T_6454f_level0_row12\" class=\"row_heading level0 row12\" >constant</th>\n",
       "      <td id=\"T_6454f_row12_col0\" class=\"data row12 col0\" >1.000000</td>\n",
       "      <td id=\"T_6454f_row12_col1\" class=\"data row12 col1\" >1.000000</td>\n",
       "      <td id=\"T_6454f_row12_col2\" class=\"data row12 col2\" >1.000000</td>\n",
       "      <td id=\"T_6454f_row12_col3\" class=\"data row12 col3\" >1.000000</td>\n",
       "    </tr>\n",
       "  </tbody>\n",
       "</table>\n"
      ],
      "text/plain": [
       "<pandas.io.formats.style.Styler at 0x20f9209fdd0>"
      ]
     },
     "execution_count": 25,
     "metadata": {},
     "output_type": "execute_result"
    }
   ],
   "source": [
    "groupby_mean(sample_original, 'no_kmeans4', True)"
   ]
  },
  {
   "cell_type": "code",
   "execution_count": 26,
   "metadata": {},
   "outputs": [
    {
     "data": {
      "image/png": "[encoded data removed]",
      "text/plain": [
       "<Figure size 640x480 with 1 Axes>"
      ]
     },
     "metadata": {},
     "output_type": "display_data"
    }
   ],
   "source": [
    "visualize_dimensionality_reduction(umap_embedding_no, sample_original['no_kmeans4'])"
   ]
  },
  {
   "cell_type": "markdown",
   "metadata": {},
   "source": [
    "#### Comparison"
   ]
  },
  {
   "cell_type": "code",
   "execution_count": null,
   "metadata": {},
   "outputs": [],
   "source": [
    "clusters_comparison(sample_original, 'no_kmeans4', 'no_kmeans3')"
   ]
  },
  {
   "cell_type": "code",
   "execution_count": null,
   "metadata": {},
   "outputs": [],
   "source": [
    "clusters_comparison(sample_original, 'no_kmeans6', 'no_kmeans4')"
   ]
  },
  {
   "cell_type": "markdown",
   "metadata": {},
   "source": [
    "### Standard Scaler <a id='km-st'></a>"
   ]
  },
  {
   "cell_type": "markdown",
   "metadata": {},
   "source": [
    "#### Plot"
   ]
  },
  {
   "cell_type": "code",
   "execution_count": 13,
   "metadata": {},
   "outputs": [
    {
     "data": {
      "image/png": "[encoded data removed]",
      "text/plain": [
       "<Figure size 640x480 with 2 Axes>"
      ]
     },
     "metadata": {},
     "output_type": "display_data"
    }
   ],
   "source": [
    "plot_inertia_and_silhouette(sample_st_scl, 2, 10)"
   ]
  },
  {
   "cell_type": "markdown",
   "metadata": {},
   "source": [
    "#### Models"
   ]
  },
  {
   "cell_type": "markdown",
   "metadata": {},
   "source": [
    "##### 5 clusters"
   ]
  },
  {
   "cell_type": "code",
   "execution_count": 27,
   "metadata": {},
   "outputs": [],
   "source": [
    "kmeans = KMeans(n_clusters = 5, init='k-means++', n_init=20,  random_state = 1).fit(sample_st_scl)\n",
    "sample_original['st_kmeans5'] = kmeans.predict(sample_st_scl)"
   ]
  },
  {
   "cell_type": "code",
   "execution_count": 28,
   "metadata": {},
   "outputs": [
    {
     "name": "stdout",
     "output_type": "stream",
     "text": [
      "# observations per cluster: [9034, 1272, 209, 12974, 937]\n"
     ]
    },
    {
     "data": {
      "text/html": [
       "<style type=\"text/css\">\n",
       "#T_89c19_row0_col0 {\n",
       "  background-color: #167bb6;\n",
       "  color: #f1f1f1;\n",
       "}\n",
       "#T_89c19_row0_col1, #T_89c19_row0_col3, #T_89c19_row0_col4, #T_89c19_row1_col0, #T_89c19_row1_col2 {\n",
       "  background-color: #023858;\n",
       "  color: #f1f1f1;\n",
       "}\n",
       "#T_89c19_row0_col2 {\n",
       "  background-color: #045a8d;\n",
       "  color: #f1f1f1;\n",
       "}\n",
       "#T_89c19_row1_col1 {\n",
       "  background-color: #0570b0;\n",
       "  color: #f1f1f1;\n",
       "}\n",
       "#T_89c19_row1_col3 {\n",
       "  background-color: #cccfe5;\n",
       "  color: #000000;\n",
       "}\n",
       "#T_89c19_row1_col4 {\n",
       "  background-color: #023f64;\n",
       "  color: #f1f1f1;\n",
       "}\n",
       "#T_89c19_row2_col0 {\n",
       "  background-color: #acc0dd;\n",
       "  color: #000000;\n",
       "}\n",
       "#T_89c19_row2_col1 {\n",
       "  background-color: #a1bbda;\n",
       "  color: #000000;\n",
       "}\n",
       "#T_89c19_row2_col2 {\n",
       "  background-color: #a8bedc;\n",
       "  color: #000000;\n",
       "}\n",
       "#T_89c19_row2_col3 {\n",
       "  background-color: #bdc8e1;\n",
       "  color: #000000;\n",
       "}\n",
       "#T_89c19_row2_col4 {\n",
       "  background-color: #97b7d7;\n",
       "  color: #000000;\n",
       "}\n",
       "#T_89c19_row3_col0, #T_89c19_row10_col3 {\n",
       "  background-color: #faf2f8;\n",
       "  color: #000000;\n",
       "}\n",
       "#T_89c19_row3_col1, #T_89c19_row8_col0, #T_89c19_row8_col1, #T_89c19_row8_col2, #T_89c19_row10_col0, #T_89c19_row12_col0 {\n",
       "  background-color: #fdf5fa;\n",
       "  color: #000000;\n",
       "}\n",
       "#T_89c19_row3_col2, #T_89c19_row6_col4, #T_89c19_row8_col3, #T_89c19_row8_col4, #T_89c19_row10_col4, #T_89c19_row12_col1, #T_89c19_row12_col3, #T_89c19_row12_col4 {\n",
       "  background-color: #fbf4f9;\n",
       "  color: #000000;\n",
       "}\n",
       "#T_89c19_row3_col3 {\n",
       "  background-color: #f7f0f7;\n",
       "  color: #000000;\n",
       "}\n",
       "#T_89c19_row3_col4 {\n",
       "  background-color: #f8f1f8;\n",
       "  color: #000000;\n",
       "}\n",
       "#T_89c19_row4_col0 {\n",
       "  background-color: #ced0e6;\n",
       "  color: #000000;\n",
       "}\n",
       "#T_89c19_row4_col1 {\n",
       "  background-color: #99b8d8;\n",
       "  color: #000000;\n",
       "}\n",
       "#T_89c19_row4_col2 {\n",
       "  background-color: #c5cce3;\n",
       "  color: #000000;\n",
       "}\n",
       "#T_89c19_row4_col3 {\n",
       "  background-color: #91b5d6;\n",
       "  color: #000000;\n",
       "}\n",
       "#T_89c19_row4_col4 {\n",
       "  background-color: #a7bddb;\n",
       "  color: #000000;\n",
       "}\n",
       "#T_89c19_row5_col0 {\n",
       "  background-color: #dbdaeb;\n",
       "  color: #000000;\n",
       "}\n",
       "#T_89c19_row5_col1, #T_89c19_row5_col2, #T_89c19_row6_col0, #T_89c19_row6_col1, #T_89c19_row6_col3, #T_89c19_row7_col0, #T_89c19_row7_col1, #T_89c19_row7_col3, #T_89c19_row7_col4 {\n",
       "  background-color: #fff7fb;\n",
       "  color: #000000;\n",
       "}\n",
       "#T_89c19_row5_col3 {\n",
       "  background-color: #bcc7e1;\n",
       "  color: #000000;\n",
       "}\n",
       "#T_89c19_row5_col4 {\n",
       "  background-color: #0567a2;\n",
       "  color: #f1f1f1;\n",
       "}\n",
       "#T_89c19_row6_col2, #T_89c19_row11_col1, #T_89c19_row11_col2, #T_89c19_row11_col3, #T_89c19_row11_col4 {\n",
       "  background-color: #fef6fa;\n",
       "  color: #000000;\n",
       "}\n",
       "#T_89c19_row7_col2, #T_89c19_row12_col2 {\n",
       "  background-color: #fcf4fa;\n",
       "  color: #000000;\n",
       "}\n",
       "#T_89c19_row9_col0, #T_89c19_row9_col4 {\n",
       "  background-color: #ebe6f2;\n",
       "  color: #000000;\n",
       "}\n",
       "#T_89c19_row9_col1 {\n",
       "  background-color: #eee8f3;\n",
       "  color: #000000;\n",
       "}\n",
       "#T_89c19_row9_col2 {\n",
       "  background-color: #eae6f1;\n",
       "  color: #000000;\n",
       "}\n",
       "#T_89c19_row9_col3 {\n",
       "  background-color: #f4edf6;\n",
       "  color: #000000;\n",
       "}\n",
       "#T_89c19_row10_col1, #T_89c19_row10_col2 {\n",
       "  background-color: #000000;\n",
       "  color: #f1f1f1;\n",
       "}\n",
       "#T_89c19_row11_col0 {\n",
       "  background-color: #fef6fb;\n",
       "  color: #000000;\n",
       "}\n",
       "</style>\n",
       "<table id=\"T_89c19\">\n",
       "  <thead>\n",
       "    <tr>\n",
       "      <th class=\"index_name level0\" >st_kmeans5</th>\n",
       "      <th id=\"T_89c19_level0_col0\" class=\"col_heading level0 col0\" >0</th>\n",
       "      <th id=\"T_89c19_level0_col1\" class=\"col_heading level0 col1\" >1</th>\n",
       "      <th id=\"T_89c19_level0_col2\" class=\"col_heading level0 col2\" >2</th>\n",
       "      <th id=\"T_89c19_level0_col3\" class=\"col_heading level0 col3\" >3</th>\n",
       "      <th id=\"T_89c19_level0_col4\" class=\"col_heading level0 col4\" >4</th>\n",
       "    </tr>\n",
       "  </thead>\n",
       "  <tbody>\n",
       "    <tr>\n",
       "      <th id=\"T_89c19_level0_row0\" class=\"row_heading level0 row0\" >frequency_items</th>\n",
       "      <td id=\"T_89c19_row0_col0\" class=\"data row0 col0\" >39.480000</td>\n",
       "      <td id=\"T_89c19_row0_col1\" class=\"data row0 col1\" >38.780000</td>\n",
       "      <td id=\"T_89c19_row0_col2\" class=\"data row0 col2\" >41.760000</td>\n",
       "      <td id=\"T_89c19_row0_col3\" class=\"data row0 col3\" >37.060000</td>\n",
       "      <td id=\"T_89c19_row0_col4\" class=\"data row0 col4\" >39.440000</td>\n",
       "    </tr>\n",
       "    <tr>\n",
       "      <th id=\"T_89c19_level0_row1\" class=\"row_heading level0 row1\" >potencial_score</th>\n",
       "      <td id=\"T_89c19_row1_col0\" class=\"data row1 col0\" >56.050000</td>\n",
       "      <td id=\"T_89c19_row1_col1\" class=\"data row1 col1\" >29.050000</td>\n",
       "      <td id=\"T_89c19_row1_col2\" class=\"data row1 col2\" >47.880000</td>\n",
       "      <td id=\"T_89c19_row1_col3\" class=\"data row1 col3\" >9.710000</td>\n",
       "      <td id=\"T_89c19_row1_col4\" class=\"data row1 col4\" >38.250000</td>\n",
       "    </tr>\n",
       "    <tr>\n",
       "      <th id=\"T_89c19_level0_row2\" class=\"row_heading level0 row2\" >longevity_months</th>\n",
       "      <td id=\"T_89c19_row2_col0\" class=\"data row2 col0\" >20.040000</td>\n",
       "      <td id=\"T_89c19_row2_col1\" class=\"data row2 col1\" >15.020000</td>\n",
       "      <td id=\"T_89c19_row2_col2\" class=\"data row2 col2\" >17.630000</td>\n",
       "      <td id=\"T_89c19_row2_col3\" class=\"data row2 col3\" >11.350000</td>\n",
       "      <td id=\"T_89c19_row2_col4\" class=\"data row2 col4\" >16.180000</td>\n",
       "    </tr>\n",
       "    <tr>\n",
       "      <th id=\"T_89c19_level0_row3\" class=\"row_heading level0 row3\" >relevance_criteria</th>\n",
       "      <td id=\"T_89c19_row3_col0\" class=\"data row3 col0\" >2.000000</td>\n",
       "      <td id=\"T_89c19_row3_col1\" class=\"data row3 col1\" >0.670000</td>\n",
       "      <td id=\"T_89c19_row3_col2\" class=\"data row3 col2\" >1.230000</td>\n",
       "      <td id=\"T_89c19_row3_col3\" class=\"data row3 col3\" >2.000000</td>\n",
       "      <td id=\"T_89c19_row3_col4\" class=\"data row3 col4\" >1.950000</td>\n",
       "    </tr>\n",
       "    <tr>\n",
       "      <th id=\"T_89c19_level0_row4\" class=\"row_heading level0 row4\" >recency_in_weeks</th>\n",
       "      <td id=\"T_89c19_row4_col0\" class=\"data row4 col0\" >14.390000</td>\n",
       "      <td id=\"T_89c19_row4_col1\" class=\"data row4 col1\" >15.760000</td>\n",
       "      <td id=\"T_89c19_row4_col2\" class=\"data row4 col2\" >13.570000</td>\n",
       "      <td id=\"T_89c19_row4_col3\" class=\"data row4 col3\" >15.900000</td>\n",
       "      <td id=\"T_89c19_row4_col4\" class=\"data row4 col4\" >14.720000</td>\n",
       "    </tr>\n",
       "    <tr>\n",
       "      <th id=\"T_89c19_level0_row5\" class=\"row_heading level0 row5\" >promotional_percentage</th>\n",
       "      <td id=\"T_89c19_row5_col0\" class=\"data row5 col0\" >11.260000</td>\n",
       "      <td id=\"T_89c19_row5_col1\" class=\"data row5 col1\" >0.150000</td>\n",
       "      <td id=\"T_89c19_row5_col2\" class=\"data row5 col2\" >0.000000</td>\n",
       "      <td id=\"T_89c19_row5_col3\" class=\"data row5 col3\" >11.510000</td>\n",
       "      <td id=\"T_89c19_row5_col4\" class=\"data row5 col4\" >31.440000</td>\n",
       "    </tr>\n",
       "    <tr>\n",
       "      <th id=\"T_89c19_level0_row6\" class=\"row_heading level0 row6\" >returns</th>\n",
       "      <td id=\"T_89c19_row6_col0\" class=\"data row6 col0\" >0.000000</td>\n",
       "      <td id=\"T_89c19_row6_col1\" class=\"data row6 col1\" >0.010000</td>\n",
       "      <td id=\"T_89c19_row6_col2\" class=\"data row6 col2\" >0.390000</td>\n",
       "      <td id=\"T_89c19_row6_col3\" class=\"data row6 col3\" >0.000000</td>\n",
       "      <td id=\"T_89c19_row6_col4\" class=\"data row6 col4\" >1.000000</td>\n",
       "    </tr>\n",
       "    <tr>\n",
       "      <th id=\"T_89c19_level0_row7\" class=\"row_heading level0 row7\" >flaged</th>\n",
       "      <td id=\"T_89c19_row7_col0\" class=\"data row7 col0\" >0.000000</td>\n",
       "      <td id=\"T_89c19_row7_col1\" class=\"data row7 col1\" >0.000000</td>\n",
       "      <td id=\"T_89c19_row7_col2\" class=\"data row7 col2\" >1.000000</td>\n",
       "      <td id=\"T_89c19_row7_col3\" class=\"data row7 col3\" >0.000000</td>\n",
       "      <td id=\"T_89c19_row7_col4\" class=\"data row7 col4\" >0.000000</td>\n",
       "    </tr>\n",
       "    <tr>\n",
       "      <th id=\"T_89c19_level0_row8\" class=\"row_heading level0 row8\" >credit_factor</th>\n",
       "      <td id=\"T_89c19_row8_col0\" class=\"data row8 col0\" >0.820000</td>\n",
       "      <td id=\"T_89c19_row8_col1\" class=\"data row8 col1\" >0.630000</td>\n",
       "      <td id=\"T_89c19_row8_col2\" class=\"data row8 col2\" >0.780000</td>\n",
       "      <td id=\"T_89c19_row8_col3\" class=\"data row8 col3\" >0.990000</td>\n",
       "      <td id=\"T_89c19_row8_col4\" class=\"data row8 col4\" >0.990000</td>\n",
       "    </tr>\n",
       "    <tr>\n",
       "      <th id=\"T_89c19_level0_row9\" class=\"row_heading level0 row9\" >zip_code</th>\n",
       "      <td id=\"T_89c19_row9_col0\" class=\"data row9 col0\" >7.280000</td>\n",
       "      <td id=\"T_89c19_row9_col1\" class=\"data row9 col1\" >4.430000</td>\n",
       "      <td id=\"T_89c19_row9_col2\" class=\"data row9 col2\" >6.540000</td>\n",
       "      <td id=\"T_89c19_row9_col3\" class=\"data row9 col3\" >2.780000</td>\n",
       "      <td id=\"T_89c19_row9_col4\" class=\"data row9 col4\" >5.160000</td>\n",
       "    </tr>\n",
       "    <tr>\n",
       "      <th id=\"T_89c19_level0_row10\" class=\"row_heading level0 row10\" >education</th>\n",
       "      <td id=\"T_89c19_row10_col0\" class=\"data row10 col0\" >0.780000</td>\n",
       "      <td id=\"T_89c19_row10_col1\" class=\"data row10 col1\" >nan</td>\n",
       "      <td id=\"T_89c19_row10_col2\" class=\"data row10 col2\" >nan</td>\n",
       "      <td id=\"T_89c19_row10_col3\" class=\"data row10 col3\" >1.380000</td>\n",
       "      <td id=\"T_89c19_row10_col4\" class=\"data row10 col4\" >0.930000</td>\n",
       "    </tr>\n",
       "    <tr>\n",
       "      <th id=\"T_89c19_level0_row11\" class=\"row_heading level0 row11\" >gender</th>\n",
       "      <td id=\"T_89c19_row11_col0\" class=\"data row11 col0\" >0.360000</td>\n",
       "      <td id=\"T_89c19_row11_col1\" class=\"data row11 col1\" >0.380000</td>\n",
       "      <td id=\"T_89c19_row11_col2\" class=\"data row11 col2\" >0.380000</td>\n",
       "      <td id=\"T_89c19_row11_col3\" class=\"data row11 col3\" >0.390000</td>\n",
       "      <td id=\"T_89c19_row11_col4\" class=\"data row11 col4\" >0.370000</td>\n",
       "    </tr>\n",
       "    <tr>\n",
       "      <th id=\"T_89c19_level0_row12\" class=\"row_heading level0 row12\" >constant</th>\n",
       "      <td id=\"T_89c19_row12_col0\" class=\"data row12 col0\" >1.000000</td>\n",
       "      <td id=\"T_89c19_row12_col1\" class=\"data row12 col1\" >1.000000</td>\n",
       "      <td id=\"T_89c19_row12_col2\" class=\"data row12 col2\" >1.000000</td>\n",
       "      <td id=\"T_89c19_row12_col3\" class=\"data row12 col3\" >1.000000</td>\n",
       "      <td id=\"T_89c19_row12_col4\" class=\"data row12 col4\" >1.000000</td>\n",
       "    </tr>\n",
       "  </tbody>\n",
       "</table>\n"
      ],
      "text/plain": [
       "<pandas.io.formats.style.Styler at 0x20f970894c0>"
      ]
     },
     "execution_count": 28,
     "metadata": {},
     "output_type": "execute_result"
    }
   ],
   "source": [
    "groupby_mean(sample_original, 'st_kmeans5', True)"
   ]
  },
  {
   "cell_type": "code",
   "execution_count": 65,
   "metadata": {},
   "outputs": [
    {
     "data": {
      "image/png": "[encoded data removed]",
      "text/plain": [
       "<Figure size 640x480 with 1 Axes>"
      ]
     },
     "metadata": {},
     "output_type": "display_data"
    }
   ],
   "source": [
    "visualize_dimensionality_reduction(umap_embedding_st, sample_original['st_kmeans5'])"
   ]
  },
  {
   "cell_type": "markdown",
   "metadata": {},
   "source": [
    "#### Comparison"
   ]
  },
  {
   "cell_type": "code",
   "execution_count": null,
   "metadata": {},
   "outputs": [],
   "source": [
    "clusters_comparison(sample_original, 'st_kmeans4', 'st_kmeans3')"
   ]
  },
  {
   "cell_type": "code",
   "execution_count": null,
   "metadata": {},
   "outputs": [],
   "source": [
    "clusters_comparison(sample_original, 'st_kmeans7', 'st_kmeans4')"
   ]
  },
  {
   "cell_type": "markdown",
   "metadata": {},
   "source": [
    "### MinMax Scaler <a id='km-mm'></a>"
   ]
  },
  {
   "cell_type": "markdown",
   "metadata": {},
   "source": [
    "#### Plot"
   ]
  },
  {
   "cell_type": "code",
   "execution_count": 29,
   "metadata": {},
   "outputs": [
    {
     "data": {
      "image/png": "[encoded data removed]",
      "text/plain": [
       "<Figure size 640x480 with 2 Axes>"
      ]
     },
     "metadata": {},
     "output_type": "display_data"
    }
   ],
   "source": [
    "plot_inertia_and_silhouette(sample_mm_scl, 2, 10)"
   ]
  },
  {
   "cell_type": "markdown",
   "metadata": {},
   "source": [
    "#### Models"
   ]
  },
  {
   "cell_type": "markdown",
   "metadata": {},
   "source": [
    "##### 3 clusters"
   ]
  },
  {
   "cell_type": "code",
   "execution_count": 30,
   "metadata": {},
   "outputs": [],
   "source": [
    "kmeans = KMeans(n_clusters = 3, init='k-means++', n_init=20,  random_state = 1).fit(sample_mm_scl)\n",
    "sample_original['mm_kmeans3'] = kmeans.predict(sample_mm_scl)"
   ]
  },
  {
   "cell_type": "code",
   "execution_count": 31,
   "metadata": {},
   "outputs": [
    {
     "name": "stdout",
     "output_type": "stream",
     "text": [
      "# observations per cluster: [1025, 18066, 5335]\n"
     ]
    },
    {
     "data": {
      "text/html": [
       "<style type=\"text/css\">\n",
       "#T_49e29_row0_col0, #T_49e29_row0_col1, #T_49e29_row1_col2 {\n",
       "  background-color: #023858;\n",
       "  color: #f1f1f1;\n",
       "}\n",
       "#T_49e29_row0_col2 {\n",
       "  background-color: #71a8ce;\n",
       "  color: #f1f1f1;\n",
       "}\n",
       "#T_49e29_row1_col0 {\n",
       "  background-color: #023a5b;\n",
       "  color: #f1f1f1;\n",
       "}\n",
       "#T_49e29_row1_col1, #T_49e29_row4_col0 {\n",
       "  background-color: #a9bfdc;\n",
       "  color: #000000;\n",
       "}\n",
       "#T_49e29_row2_col0, #T_49e29_row4_col1 {\n",
       "  background-color: #97b7d7;\n",
       "  color: #000000;\n",
       "}\n",
       "#T_49e29_row2_col1 {\n",
       "  background-color: #a1bbda;\n",
       "  color: #000000;\n",
       "}\n",
       "#T_49e29_row2_col2 {\n",
       "  background-color: #dad9ea;\n",
       "  color: #000000;\n",
       "}\n",
       "#T_49e29_row3_col0 {\n",
       "  background-color: #f8f1f8;\n",
       "  color: #000000;\n",
       "}\n",
       "#T_49e29_row3_col1 {\n",
       "  background-color: #f7f0f7;\n",
       "  color: #000000;\n",
       "}\n",
       "#T_49e29_row3_col2, #T_49e29_row8_col1, #T_49e29_row12_col1 {\n",
       "  background-color: #fbf4f9;\n",
       "  color: #000000;\n",
       "}\n",
       "#T_49e29_row4_col2 {\n",
       "  background-color: #dfddec;\n",
       "  color: #000000;\n",
       "}\n",
       "#T_49e29_row5_col0 {\n",
       "  background-color: #0f76b3;\n",
       "  color: #f1f1f1;\n",
       "}\n",
       "#T_49e29_row5_col1 {\n",
       "  background-color: #c5cce3;\n",
       "  color: #000000;\n",
       "}\n",
       "#T_49e29_row5_col2 {\n",
       "  background-color: #e8e4f0;\n",
       "  color: #000000;\n",
       "}\n",
       "#T_49e29_row6_col0, #T_49e29_row8_col0, #T_49e29_row10_col0, #T_49e29_row12_col0 {\n",
       "  background-color: #fcf4fa;\n",
       "  color: #000000;\n",
       "}\n",
       "#T_49e29_row6_col1, #T_49e29_row6_col2, #T_49e29_row7_col0, #T_49e29_row7_col1, #T_49e29_row7_col2 {\n",
       "  background-color: #fff7fb;\n",
       "  color: #000000;\n",
       "}\n",
       "#T_49e29_row8_col2, #T_49e29_row11_col1 {\n",
       "  background-color: #fef6fa;\n",
       "  color: #000000;\n",
       "}\n",
       "#T_49e29_row9_col0 {\n",
       "  background-color: #ebe6f2;\n",
       "  color: #000000;\n",
       "}\n",
       "#T_49e29_row9_col1 {\n",
       "  background-color: #f0eaf4;\n",
       "  color: #000000;\n",
       "}\n",
       "#T_49e29_row9_col2 {\n",
       "  background-color: #f1ebf4;\n",
       "  color: #000000;\n",
       "}\n",
       "#T_49e29_row10_col1 {\n",
       "  background-color: #faf3f9;\n",
       "  color: #000000;\n",
       "}\n",
       "#T_49e29_row10_col2, #T_49e29_row12_col2 {\n",
       "  background-color: #fdf5fa;\n",
       "  color: #000000;\n",
       "}\n",
       "#T_49e29_row11_col0, #T_49e29_row11_col2 {\n",
       "  background-color: #fef6fb;\n",
       "  color: #000000;\n",
       "}\n",
       "</style>\n",
       "<table id=\"T_49e29\">\n",
       "  <thead>\n",
       "    <tr>\n",
       "      <th class=\"index_name level0\" >mm_kmeans3</th>\n",
       "      <th id=\"T_49e29_level0_col0\" class=\"col_heading level0 col0\" >0</th>\n",
       "      <th id=\"T_49e29_level0_col1\" class=\"col_heading level0 col1\" >1</th>\n",
       "      <th id=\"T_49e29_level0_col2\" class=\"col_heading level0 col2\" >2</th>\n",
       "    </tr>\n",
       "  </thead>\n",
       "  <tbody>\n",
       "    <tr>\n",
       "      <th id=\"T_49e29_level0_row0\" class=\"row_heading level0 row0\" >frequency_items</th>\n",
       "      <td id=\"T_49e29_row0_col0\" class=\"data row0 col0\" >39.690000</td>\n",
       "      <td id=\"T_49e29_row0_col1\" class=\"data row0 col1\" >37.400000</td>\n",
       "      <td id=\"T_49e29_row0_col2\" class=\"data row0 col2\" >40.530000</td>\n",
       "    </tr>\n",
       "    <tr>\n",
       "      <th id=\"T_49e29_level0_row1\" class=\"row_heading level0 row1\" >potencial_score</th>\n",
       "      <td id=\"T_49e29_row1_col0\" class=\"data row1 col0\" >39.260000</td>\n",
       "      <td id=\"T_49e29_row1_col1\" class=\"data row1 col1\" >13.670000</td>\n",
       "      <td id=\"T_49e29_row1_col2\" class=\"data row1 col2\" >80.220000</td>\n",
       "    </tr>\n",
       "    <tr>\n",
       "      <th id=\"T_49e29_level0_row2\" class=\"row_heading level0 row2\" >longevity_months</th>\n",
       "      <td id=\"T_49e29_row2_col0\" class=\"data row2 col0\" >16.380000</td>\n",
       "      <td id=\"T_49e29_row2_col1\" class=\"data row2 col1\" >14.480000</td>\n",
       "      <td id=\"T_49e29_row2_col2\" class=\"data row2 col2\" >16.480000</td>\n",
       "    </tr>\n",
       "    <tr>\n",
       "      <th id=\"T_49e29_level0_row3\" class=\"row_heading level0 row3\" >relevance_criteria</th>\n",
       "      <td id=\"T_49e29_row3_col0\" class=\"data row3 col0\" >1.880000</td>\n",
       "      <td id=\"T_49e29_row3_col1\" class=\"data row3 col1\" >1.930000</td>\n",
       "      <td id=\"T_49e29_row3_col2\" class=\"data row3 col2\" >1.920000</td>\n",
       "    </tr>\n",
       "    <tr>\n",
       "      <th id=\"T_49e29_level0_row4\" class=\"row_heading level0 row4\" >recency_in_weeks</th>\n",
       "      <td id=\"T_49e29_row4_col0\" class=\"data row4 col0\" >14.570000</td>\n",
       "      <td id=\"T_49e29_row4_col1\" class=\"data row4 col1\" >15.440000</td>\n",
       "      <td id=\"T_49e29_row4_col2\" class=\"data row4 col2\" >14.840000</td>\n",
       "    </tr>\n",
       "    <tr>\n",
       "      <th id=\"T_49e29_level0_row5\" class=\"row_heading level0 row5\" >promotional_percentage</th>\n",
       "      <td id=\"T_49e29_row5_col0\" class=\"data row5 col0\" >28.740000</td>\n",
       "      <td id=\"T_49e29_row5_col1\" class=\"data row5 col1\" >10.550000</td>\n",
       "      <td id=\"T_49e29_row5_col2\" class=\"data row5 col2\" >11.390000</td>\n",
       "    </tr>\n",
       "    <tr>\n",
       "      <th id=\"T_49e29_level0_row6\" class=\"row_heading level0 row6\" >returns</th>\n",
       "      <td id=\"T_49e29_row6_col0\" class=\"data row6 col0\" >1.000000</td>\n",
       "      <td id=\"T_49e29_row6_col1\" class=\"data row6 col1\" >0.000000</td>\n",
       "      <td id=\"T_49e29_row6_col2\" class=\"data row6 col2\" >0.000000</td>\n",
       "    </tr>\n",
       "    <tr>\n",
       "      <th id=\"T_49e29_level0_row7\" class=\"row_heading level0 row7\" >flaged</th>\n",
       "      <td id=\"T_49e29_row7_col0\" class=\"data row7 col0\" >0.080000</td>\n",
       "      <td id=\"T_49e29_row7_col1\" class=\"data row7 col1\" >0.000000</td>\n",
       "      <td id=\"T_49e29_row7_col2\" class=\"data row7 col2\" >0.010000</td>\n",
       "    </tr>\n",
       "    <tr>\n",
       "      <th id=\"T_49e29_level0_row8\" class=\"row_heading level0 row8\" >credit_factor</th>\n",
       "      <td id=\"T_49e29_row8_col0\" class=\"data row8 col0\" >0.970000</td>\n",
       "      <td id=\"T_49e29_row8_col1\" class=\"data row8 col1\" >0.930000</td>\n",
       "      <td id=\"T_49e29_row8_col2\" class=\"data row8 col2\" >0.800000</td>\n",
       "    </tr>\n",
       "    <tr>\n",
       "      <th id=\"T_49e29_level0_row9\" class=\"row_heading level0 row9\" >zip_code</th>\n",
       "      <td id=\"T_49e29_row9_col0\" class=\"data row9 col0\" >5.300000</td>\n",
       "      <td id=\"T_49e29_row9_col1\" class=\"data row9 col1\" >3.720000</td>\n",
       "      <td id=\"T_49e29_row9_col2\" class=\"data row9 col2\" >7.670000</td>\n",
       "    </tr>\n",
       "    <tr>\n",
       "      <th id=\"T_49e29_level0_row10\" class=\"row_heading level0 row10\" >education</th>\n",
       "      <td id=\"T_49e29_row10_col0\" class=\"data row10 col0\" >0.930000</td>\n",
       "      <td id=\"T_49e29_row10_col1\" class=\"data row10 col1\" >1.180000</td>\n",
       "      <td id=\"T_49e29_row10_col2\" class=\"data row10 col2\" >1.010000</td>\n",
       "    </tr>\n",
       "    <tr>\n",
       "      <th id=\"T_49e29_level0_row11\" class=\"row_heading level0 row11\" >gender</th>\n",
       "      <td id=\"T_49e29_row11_col0\" class=\"data row11 col0\" >0.370000</td>\n",
       "      <td id=\"T_49e29_row11_col1\" class=\"data row11 col1\" >0.380000</td>\n",
       "      <td id=\"T_49e29_row11_col2\" class=\"data row11 col2\" >0.360000</td>\n",
       "    </tr>\n",
       "    <tr>\n",
       "      <th id=\"T_49e29_level0_row12\" class=\"row_heading level0 row12\" >constant</th>\n",
       "      <td id=\"T_49e29_row12_col0\" class=\"data row12 col0\" >1.000000</td>\n",
       "      <td id=\"T_49e29_row12_col1\" class=\"data row12 col1\" >1.000000</td>\n",
       "      <td id=\"T_49e29_row12_col2\" class=\"data row12 col2\" >1.000000</td>\n",
       "    </tr>\n",
       "  </tbody>\n",
       "</table>\n"
      ],
      "text/plain": [
       "<pandas.io.formats.style.Styler at 0x20f9552ef00>"
      ]
     },
     "execution_count": 31,
     "metadata": {},
     "output_type": "execute_result"
    }
   ],
   "source": [
    "groupby_mean(sample_original, 'mm_kmeans3', True)"
   ]
  },
  {
   "cell_type": "markdown",
   "metadata": {},
   "source": [
    "promo+returns | general | score"
   ]
  },
  {
   "cell_type": "markdown",
   "metadata": {},
   "source": [
    "##### 4 clusters"
   ]
  },
  {
   "cell_type": "code",
   "execution_count": 32,
   "metadata": {},
   "outputs": [],
   "source": [
    "kmeans = KMeans(n_clusters = 4, init='k-means++', n_init=20,  random_state = 1).fit(sample_mm_scl)\n",
    "sample_original['mm_kmeans4'] = kmeans.predict(sample_mm_scl)"
   ]
  },
  {
   "cell_type": "code",
   "execution_count": 37,
   "metadata": {},
   "outputs": [
    {
     "name": "stdout",
     "output_type": "stream",
     "text": [
      "# observations per cluster: [1025, 5335, 10363, 7703]\n"
     ]
    },
    {
     "data": {
      "text/html": [
       "<style type=\"text/css\">\n",
       "#T_cf8ba_row0_col0, #T_cf8ba_row0_col2, #T_cf8ba_row0_col3, #T_cf8ba_row1_col1 {\n",
       "  background-color: #023858;\n",
       "  color: #f1f1f1;\n",
       "}\n",
       "#T_cf8ba_row0_col1 {\n",
       "  background-color: #71a8ce;\n",
       "  color: #f1f1f1;\n",
       "}\n",
       "#T_cf8ba_row1_col0 {\n",
       "  background-color: #023a5b;\n",
       "  color: #f1f1f1;\n",
       "}\n",
       "#T_cf8ba_row1_col2 {\n",
       "  background-color: #d4d4e8;\n",
       "  color: #000000;\n",
       "}\n",
       "#T_cf8ba_row1_col3 {\n",
       "  background-color: #5ea0ca;\n",
       "  color: #f1f1f1;\n",
       "}\n",
       "#T_cf8ba_row2_col0 {\n",
       "  background-color: #97b7d7;\n",
       "  color: #000000;\n",
       "}\n",
       "#T_cf8ba_row2_col1 {\n",
       "  background-color: #dad9ea;\n",
       "  color: #000000;\n",
       "}\n",
       "#T_cf8ba_row2_col2 {\n",
       "  background-color: #d5d5e8;\n",
       "  color: #000000;\n",
       "}\n",
       "#T_cf8ba_row2_col3 {\n",
       "  background-color: #4094c3;\n",
       "  color: #f1f1f1;\n",
       "}\n",
       "#T_cf8ba_row3_col0 {\n",
       "  background-color: #f8f1f8;\n",
       "  color: #000000;\n",
       "}\n",
       "#T_cf8ba_row3_col1, #T_cf8ba_row8_col2, #T_cf8ba_row12_col2, #T_cf8ba_row12_col3 {\n",
       "  background-color: #fbf4f9;\n",
       "  color: #000000;\n",
       "}\n",
       "#T_cf8ba_row3_col2, #T_cf8ba_row3_col3 {\n",
       "  background-color: #f7f0f7;\n",
       "  color: #000000;\n",
       "}\n",
       "#T_cf8ba_row4_col0 {\n",
       "  background-color: #a9bfdc;\n",
       "  color: #000000;\n",
       "}\n",
       "#T_cf8ba_row4_col1 {\n",
       "  background-color: #dfddec;\n",
       "  color: #000000;\n",
       "}\n",
       "#T_cf8ba_row4_col2 {\n",
       "  background-color: #96b6d7;\n",
       "  color: #000000;\n",
       "}\n",
       "#T_cf8ba_row4_col3 {\n",
       "  background-color: #99b8d8;\n",
       "  color: #000000;\n",
       "}\n",
       "#T_cf8ba_row5_col0 {\n",
       "  background-color: #0f76b3;\n",
       "  color: #f1f1f1;\n",
       "}\n",
       "#T_cf8ba_row5_col1 {\n",
       "  background-color: #e8e4f0;\n",
       "  color: #000000;\n",
       "}\n",
       "#T_cf8ba_row5_col2 {\n",
       "  background-color: #bbc7e0;\n",
       "  color: #000000;\n",
       "}\n",
       "#T_cf8ba_row5_col3 {\n",
       "  background-color: #d2d3e7;\n",
       "  color: #000000;\n",
       "}\n",
       "#T_cf8ba_row6_col0, #T_cf8ba_row8_col0, #T_cf8ba_row8_col3, #T_cf8ba_row10_col0, #T_cf8ba_row12_col0 {\n",
       "  background-color: #fcf4fa;\n",
       "  color: #000000;\n",
       "}\n",
       "#T_cf8ba_row6_col1, #T_cf8ba_row6_col2, #T_cf8ba_row6_col3, #T_cf8ba_row7_col0, #T_cf8ba_row7_col1, #T_cf8ba_row7_col2, #T_cf8ba_row7_col3 {\n",
       "  background-color: #fff7fb;\n",
       "  color: #000000;\n",
       "}\n",
       "#T_cf8ba_row8_col1, #T_cf8ba_row11_col2, #T_cf8ba_row11_col3 {\n",
       "  background-color: #fef6fa;\n",
       "  color: #000000;\n",
       "}\n",
       "#T_cf8ba_row9_col0 {\n",
       "  background-color: #ebe6f2;\n",
       "  color: #000000;\n",
       "}\n",
       "#T_cf8ba_row9_col1 {\n",
       "  background-color: #f1ebf4;\n",
       "  color: #000000;\n",
       "}\n",
       "#T_cf8ba_row9_col2 {\n",
       "  background-color: #f5eff6;\n",
       "  color: #000000;\n",
       "}\n",
       "#T_cf8ba_row9_col3 {\n",
       "  background-color: #e7e3f0;\n",
       "  color: #000000;\n",
       "}\n",
       "#T_cf8ba_row10_col1, #T_cf8ba_row10_col3, #T_cf8ba_row12_col1 {\n",
       "  background-color: #fdf5fa;\n",
       "  color: #000000;\n",
       "}\n",
       "#T_cf8ba_row10_col2 {\n",
       "  background-color: #f9f2f8;\n",
       "  color: #000000;\n",
       "}\n",
       "#T_cf8ba_row11_col0, #T_cf8ba_row11_col1 {\n",
       "  background-color: #fef6fb;\n",
       "  color: #000000;\n",
       "}\n",
       "</style>\n",
       "<table id=\"T_cf8ba\">\n",
       "  <thead>\n",
       "    <tr>\n",
       "      <th class=\"index_name level0\" >mm_kmeans4</th>\n",
       "      <th id=\"T_cf8ba_level0_col0\" class=\"col_heading level0 col0\" >0</th>\n",
       "      <th id=\"T_cf8ba_level0_col1\" class=\"col_heading level0 col1\" >1</th>\n",
       "      <th id=\"T_cf8ba_level0_col2\" class=\"col_heading level0 col2\" >2</th>\n",
       "      <th id=\"T_cf8ba_level0_col3\" class=\"col_heading level0 col3\" >3</th>\n",
       "    </tr>\n",
       "  </thead>\n",
       "  <tbody>\n",
       "    <tr>\n",
       "      <th id=\"T_cf8ba_level0_row0\" class=\"row_heading level0 row0\" >frequency_items</th>\n",
       "      <td id=\"T_cf8ba_row0_col0\" class=\"data row0 col0\" >39.690000</td>\n",
       "      <td id=\"T_cf8ba_row0_col1\" class=\"data row0 col1\" >40.530000</td>\n",
       "      <td id=\"T_cf8ba_row0_col2\" class=\"data row0 col2\" >37.600000</td>\n",
       "      <td id=\"T_cf8ba_row0_col3\" class=\"data row0 col3\" >37.130000</td>\n",
       "    </tr>\n",
       "    <tr>\n",
       "      <th id=\"T_cf8ba_level0_row1\" class=\"row_heading level0 row1\" >potencial_score</th>\n",
       "      <td id=\"T_cf8ba_row1_col0\" class=\"data row1 col0\" >39.260000</td>\n",
       "      <td id=\"T_cf8ba_row1_col1\" class=\"data row1 col1\" >80.220000</td>\n",
       "      <td id=\"T_cf8ba_row1_col2\" class=\"data row1 col2\" >8.780000</td>\n",
       "      <td id=\"T_cf8ba_row1_col3\" class=\"data row1 col3\" >20.250000</td>\n",
       "    </tr>\n",
       "    <tr>\n",
       "      <th id=\"T_cf8ba_level0_row2\" class=\"row_heading level0 row2\" >longevity_months</th>\n",
       "      <td id=\"T_cf8ba_row2_col0\" class=\"data row2 col0\" >16.380000</td>\n",
       "      <td id=\"T_cf8ba_row2_col1\" class=\"data row2 col1\" >16.480000</td>\n",
       "      <td id=\"T_cf8ba_row2_col2\" class=\"data row2 col2\" >8.540000</td>\n",
       "      <td id=\"T_cf8ba_row2_col3\" class=\"data row2 col3\" >22.460000</td>\n",
       "    </tr>\n",
       "    <tr>\n",
       "      <th id=\"T_cf8ba_level0_row3\" class=\"row_heading level0 row3\" >relevance_criteria</th>\n",
       "      <td id=\"T_cf8ba_row3_col0\" class=\"data row3 col0\" >1.880000</td>\n",
       "      <td id=\"T_cf8ba_row3_col1\" class=\"data row3 col1\" >1.920000</td>\n",
       "      <td id=\"T_cf8ba_row3_col2\" class=\"data row3 col2\" >1.940000</td>\n",
       "      <td id=\"T_cf8ba_row3_col3\" class=\"data row3 col3\" >1.910000</td>\n",
       "    </tr>\n",
       "    <tr>\n",
       "      <th id=\"T_cf8ba_level0_row4\" class=\"row_heading level0 row4\" >recency_in_weeks</th>\n",
       "      <td id=\"T_cf8ba_row4_col0\" class=\"data row4 col0\" >14.570000</td>\n",
       "      <td id=\"T_cf8ba_row4_col1\" class=\"data row4 col1\" >14.840000</td>\n",
       "      <td id=\"T_cf8ba_row4_col2\" class=\"data row4 col2\" >15.640000</td>\n",
       "      <td id=\"T_cf8ba_row4_col3\" class=\"data row4 col3\" >15.160000</td>\n",
       "    </tr>\n",
       "    <tr>\n",
       "      <th id=\"T_cf8ba_level0_row5\" class=\"row_heading level0 row5\" >promotional_percentage</th>\n",
       "      <td id=\"T_cf8ba_row5_col0\" class=\"data row5 col0\" >28.740000</td>\n",
       "      <td id=\"T_cf8ba_row5_col1\" class=\"data row5 col1\" >11.390000</td>\n",
       "      <td id=\"T_cf8ba_row5_col2\" class=\"data row5 col2\" >11.790000</td>\n",
       "      <td id=\"T_cf8ba_row5_col3\" class=\"data row5 col3\" >8.870000</td>\n",
       "    </tr>\n",
       "    <tr>\n",
       "      <th id=\"T_cf8ba_level0_row6\" class=\"row_heading level0 row6\" >returns</th>\n",
       "      <td id=\"T_cf8ba_row6_col0\" class=\"data row6 col0\" >1.000000</td>\n",
       "      <td id=\"T_cf8ba_row6_col1\" class=\"data row6 col1\" >0.000000</td>\n",
       "      <td id=\"T_cf8ba_row6_col2\" class=\"data row6 col2\" >0.000000</td>\n",
       "      <td id=\"T_cf8ba_row6_col3\" class=\"data row6 col3\" >0.000000</td>\n",
       "    </tr>\n",
       "    <tr>\n",
       "      <th id=\"T_cf8ba_level0_row7\" class=\"row_heading level0 row7\" >flaged</th>\n",
       "      <td id=\"T_cf8ba_row7_col0\" class=\"data row7 col0\" >0.080000</td>\n",
       "      <td id=\"T_cf8ba_row7_col1\" class=\"data row7 col1\" >0.010000</td>\n",
       "      <td id=\"T_cf8ba_row7_col2\" class=\"data row7 col2\" >0.000000</td>\n",
       "      <td id=\"T_cf8ba_row7_col3\" class=\"data row7 col3\" >0.010000</td>\n",
       "    </tr>\n",
       "    <tr>\n",
       "      <th id=\"T_cf8ba_level0_row8\" class=\"row_heading level0 row8\" >credit_factor</th>\n",
       "      <td id=\"T_cf8ba_row8_col0\" class=\"data row8 col0\" >0.970000</td>\n",
       "      <td id=\"T_cf8ba_row8_col1\" class=\"data row8 col1\" >0.800000</td>\n",
       "      <td id=\"T_cf8ba_row8_col2\" class=\"data row8 col2\" >0.980000</td>\n",
       "      <td id=\"T_cf8ba_row8_col3\" class=\"data row8 col3\" >0.860000</td>\n",
       "    </tr>\n",
       "    <tr>\n",
       "      <th id=\"T_cf8ba_level0_row9\" class=\"row_heading level0 row9\" >zip_code</th>\n",
       "      <td id=\"T_cf8ba_row9_col0\" class=\"data row9 col0\" >5.300000</td>\n",
       "      <td id=\"T_cf8ba_row9_col1\" class=\"data row9 col1\" >7.670000</td>\n",
       "      <td id=\"T_cf8ba_row9_col2\" class=\"data row9 col2\" >2.490000</td>\n",
       "      <td id=\"T_cf8ba_row9_col3\" class=\"data row9 col3\" >5.380000</td>\n",
       "    </tr>\n",
       "    <tr>\n",
       "      <th id=\"T_cf8ba_level0_row10\" class=\"row_heading level0 row10\" >education</th>\n",
       "      <td id=\"T_cf8ba_row10_col0\" class=\"data row10 col0\" >0.930000</td>\n",
       "      <td id=\"T_cf8ba_row10_col1\" class=\"data row10 col1\" >1.010000</td>\n",
       "      <td id=\"T_cf8ba_row10_col2\" class=\"data row10 col2\" >1.550000</td>\n",
       "      <td id=\"T_cf8ba_row10_col3\" class=\"data row10 col3\" >0.670000</td>\n",
       "    </tr>\n",
       "    <tr>\n",
       "      <th id=\"T_cf8ba_level0_row11\" class=\"row_heading level0 row11\" >gender</th>\n",
       "      <td id=\"T_cf8ba_row11_col0\" class=\"data row11 col0\" >0.370000</td>\n",
       "      <td id=\"T_cf8ba_row11_col1\" class=\"data row11 col1\" >0.360000</td>\n",
       "      <td id=\"T_cf8ba_row11_col2\" class=\"data row11 col2\" >0.390000</td>\n",
       "      <td id=\"T_cf8ba_row11_col3\" class=\"data row11 col3\" >0.370000</td>\n",
       "    </tr>\n",
       "    <tr>\n",
       "      <th id=\"T_cf8ba_level0_row12\" class=\"row_heading level0 row12\" >constant</th>\n",
       "      <td id=\"T_cf8ba_row12_col0\" class=\"data row12 col0\" >1.000000</td>\n",
       "      <td id=\"T_cf8ba_row12_col1\" class=\"data row12 col1\" >1.000000</td>\n",
       "      <td id=\"T_cf8ba_row12_col2\" class=\"data row12 col2\" >1.000000</td>\n",
       "      <td id=\"T_cf8ba_row12_col3\" class=\"data row12 col3\" >1.000000</td>\n",
       "    </tr>\n",
       "  </tbody>\n",
       "</table>\n"
      ],
      "text/plain": [
       "<pandas.io.formats.style.Styler at 0x20f9705d250>"
      ]
     },
     "execution_count": 37,
     "metadata": {},
     "output_type": "execute_result"
    }
   ],
   "source": [
    "groupby_mean(sample_original, 'mm_kmeans4', True)"
   ]
  },
  {
   "cell_type": "markdown",
   "metadata": {},
   "source": [
    "promo+returns | score | lowscore | general"
   ]
  },
  {
   "cell_type": "markdown",
   "metadata": {},
   "source": [
    "##### 5 clusters"
   ]
  },
  {
   "cell_type": "code",
   "execution_count": 34,
   "metadata": {},
   "outputs": [],
   "source": [
    "kmeans = KMeans(n_clusters = 5, init='k-means++', n_init=20,  random_state = 1).fit(sample_mm_scl)\n",
    "sample_original['mm_kmeans5'] = kmeans.predict(sample_mm_scl)"
   ]
  },
  {
   "cell_type": "code",
   "execution_count": 35,
   "metadata": {},
   "outputs": [
    {
     "name": "stdout",
     "output_type": "stream",
     "text": [
      "# observations per cluster: [7246, 5243, 9807, 1105, 1025]\n"
     ]
    },
    {
     "data": {
      "text/html": [
       "<style type=\"text/css\">\n",
       "#T_7dd32_row0_col0, #T_7dd32_row0_col2, #T_7dd32_row0_col3, #T_7dd32_row0_col4, #T_7dd32_row1_col1 {\n",
       "  background-color: #023858;\n",
       "  color: #f1f1f1;\n",
       "}\n",
       "#T_7dd32_row0_col1 {\n",
       "  background-color: #71a8ce;\n",
       "  color: #f1f1f1;\n",
       "}\n",
       "#T_7dd32_row1_col0 {\n",
       "  background-color: #5c9fc9;\n",
       "  color: #f1f1f1;\n",
       "}\n",
       "#T_7dd32_row1_col2 {\n",
       "  background-color: #d3d4e7;\n",
       "  color: #000000;\n",
       "}\n",
       "#T_7dd32_row1_col3 {\n",
       "  background-color: #7eadd1;\n",
       "  color: #f1f1f1;\n",
       "}\n",
       "#T_7dd32_row1_col4 {\n",
       "  background-color: #023a5b;\n",
       "  color: #f1f1f1;\n",
       "}\n",
       "#T_7dd32_row2_col0 {\n",
       "  background-color: #3f93c2;\n",
       "  color: #f1f1f1;\n",
       "}\n",
       "#T_7dd32_row2_col1 {\n",
       "  background-color: #dad9ea;\n",
       "  color: #000000;\n",
       "}\n",
       "#T_7dd32_row2_col2 {\n",
       "  background-color: #d5d5e8;\n",
       "  color: #000000;\n",
       "}\n",
       "#T_7dd32_row2_col3 {\n",
       "  background-color: #a2bcda;\n",
       "  color: #000000;\n",
       "}\n",
       "#T_7dd32_row2_col4 {\n",
       "  background-color: #97b7d7;\n",
       "  color: #000000;\n",
       "}\n",
       "#T_7dd32_row3_col0, #T_7dd32_row3_col2 {\n",
       "  background-color: #f7f0f7;\n",
       "  color: #000000;\n",
       "}\n",
       "#T_7dd32_row3_col1, #T_7dd32_row8_col0, #T_7dd32_row8_col2, #T_7dd32_row12_col0, #T_7dd32_row12_col2, #T_7dd32_row12_col3 {\n",
       "  background-color: #fbf4f9;\n",
       "  color: #000000;\n",
       "}\n",
       "#T_7dd32_row3_col3, #T_7dd32_row8_col3, #T_7dd32_row10_col0, #T_7dd32_row10_col1, #T_7dd32_row12_col1 {\n",
       "  background-color: #fdf5fa;\n",
       "  color: #000000;\n",
       "}\n",
       "#T_7dd32_row3_col4 {\n",
       "  background-color: #f8f1f8;\n",
       "  color: #000000;\n",
       "}\n",
       "#T_7dd32_row4_col0 {\n",
       "  background-color: #99b8d8;\n",
       "  color: #000000;\n",
       "}\n",
       "#T_7dd32_row4_col1 {\n",
       "  background-color: #dfddec;\n",
       "  color: #000000;\n",
       "}\n",
       "#T_7dd32_row4_col2 {\n",
       "  background-color: #96b6d7;\n",
       "  color: #000000;\n",
       "}\n",
       "#T_7dd32_row4_col3 {\n",
       "  background-color: #9ab8d8;\n",
       "  color: #000000;\n",
       "}\n",
       "#T_7dd32_row4_col4 {\n",
       "  background-color: #a9bfdc;\n",
       "  color: #000000;\n",
       "}\n",
       "#T_7dd32_row5_col0 {\n",
       "  background-color: #ced0e6;\n",
       "  color: #000000;\n",
       "}\n",
       "#T_7dd32_row5_col1 {\n",
       "  background-color: #e8e4f0;\n",
       "  color: #000000;\n",
       "}\n",
       "#T_7dd32_row5_col2 {\n",
       "  background-color: #b5c4df;\n",
       "  color: #000000;\n",
       "}\n",
       "#T_7dd32_row5_col3, #T_7dd32_row6_col0, #T_7dd32_row6_col1, #T_7dd32_row6_col2, #T_7dd32_row6_col3, #T_7dd32_row7_col0, #T_7dd32_row7_col1, #T_7dd32_row7_col2, #T_7dd32_row7_col3, #T_7dd32_row7_col4 {\n",
       "  background-color: #fff7fb;\n",
       "  color: #000000;\n",
       "}\n",
       "#T_7dd32_row5_col4 {\n",
       "  background-color: #0f76b3;\n",
       "  color: #f1f1f1;\n",
       "}\n",
       "#T_7dd32_row6_col4, #T_7dd32_row8_col4, #T_7dd32_row10_col4, #T_7dd32_row12_col4 {\n",
       "  background-color: #fcf4fa;\n",
       "  color: #000000;\n",
       "}\n",
       "#T_7dd32_row8_col1, #T_7dd32_row11_col0, #T_7dd32_row11_col2, #T_7dd32_row11_col3 {\n",
       "  background-color: #fef6fa;\n",
       "  color: #000000;\n",
       "}\n",
       "#T_7dd32_row9_col0 {\n",
       "  background-color: #e7e3f0;\n",
       "  color: #000000;\n",
       "}\n",
       "#T_7dd32_row9_col1 {\n",
       "  background-color: #f1ebf4;\n",
       "  color: #000000;\n",
       "}\n",
       "#T_7dd32_row9_col2 {\n",
       "  background-color: #f5eef6;\n",
       "  color: #000000;\n",
       "}\n",
       "#T_7dd32_row9_col3 {\n",
       "  background-color: #f0eaf4;\n",
       "  color: #000000;\n",
       "}\n",
       "#T_7dd32_row9_col4 {\n",
       "  background-color: #ebe6f2;\n",
       "  color: #000000;\n",
       "}\n",
       "#T_7dd32_row10_col2 {\n",
       "  background-color: #f9f2f8;\n",
       "  color: #000000;\n",
       "}\n",
       "#T_7dd32_row10_col3 {\n",
       "  background-color: #000000;\n",
       "  color: #f1f1f1;\n",
       "}\n",
       "#T_7dd32_row11_col1, #T_7dd32_row11_col4 {\n",
       "  background-color: #fef6fb;\n",
       "  color: #000000;\n",
       "}\n",
       "</style>\n",
       "<table id=\"T_7dd32\">\n",
       "  <thead>\n",
       "    <tr>\n",
       "      <th class=\"index_name level0\" >mm_kmeans5</th>\n",
       "      <th id=\"T_7dd32_level0_col0\" class=\"col_heading level0 col0\" >0</th>\n",
       "      <th id=\"T_7dd32_level0_col1\" class=\"col_heading level0 col1\" >1</th>\n",
       "      <th id=\"T_7dd32_level0_col2\" class=\"col_heading level0 col2\" >2</th>\n",
       "      <th id=\"T_7dd32_level0_col3\" class=\"col_heading level0 col3\" >3</th>\n",
       "      <th id=\"T_7dd32_level0_col4\" class=\"col_heading level0 col4\" >4</th>\n",
       "    </tr>\n",
       "  </thead>\n",
       "  <tbody>\n",
       "    <tr>\n",
       "      <th id=\"T_7dd32_level0_row0\" class=\"row_heading level0 row0\" >frequency_items</th>\n",
       "      <td id=\"T_7dd32_row0_col0\" class=\"data row0 col0\" >37.130000</td>\n",
       "      <td id=\"T_7dd32_row0_col1\" class=\"data row0 col1\" >40.480000</td>\n",
       "      <td id=\"T_7dd32_row0_col2\" class=\"data row0 col2\" >37.480000</td>\n",
       "      <td id=\"T_7dd32_row0_col3\" class=\"data row0 col3\" >38.900000</td>\n",
       "      <td id=\"T_7dd32_row0_col4\" class=\"data row0 col4\" >39.690000</td>\n",
       "    </tr>\n",
       "    <tr>\n",
       "      <th id=\"T_7dd32_level0_row1\" class=\"row_heading level0 row1\" >potencial_score</th>\n",
       "      <td id=\"T_7dd32_row1_col0\" class=\"data row1 col0\" >20.340000</td>\n",
       "      <td id=\"T_7dd32_row1_col1\" class=\"data row1 col1\" >80.210000</td>\n",
       "      <td id=\"T_7dd32_row1_col2\" class=\"data row1 col2\" >8.840000</td>\n",
       "      <td id=\"T_7dd32_row1_col3\" class=\"data row1 col3\" >18.400000</td>\n",
       "      <td id=\"T_7dd32_row1_col4\" class=\"data row1 col4\" >39.260000</td>\n",
       "    </tr>\n",
       "    <tr>\n",
       "      <th id=\"T_7dd32_level0_row2\" class=\"row_heading level0 row2\" >longevity_months</th>\n",
       "      <td id=\"T_7dd32_row2_col0\" class=\"data row2 col0\" >22.500000</td>\n",
       "      <td id=\"T_7dd32_row2_col1\" class=\"data row2 col1\" >16.480000</td>\n",
       "      <td id=\"T_7dd32_row2_col2\" class=\"data row2 col2\" >8.510000</td>\n",
       "      <td id=\"T_7dd32_row2_col3\" class=\"data row2 col3\" >14.940000</td>\n",
       "      <td id=\"T_7dd32_row2_col4\" class=\"data row2 col4\" >16.380000</td>\n",
       "    </tr>\n",
       "    <tr>\n",
       "      <th id=\"T_7dd32_level0_row3\" class=\"row_heading level0 row3\" >relevance_criteria</th>\n",
       "      <td id=\"T_7dd32_row3_col0\" class=\"data row3 col0\" >2.000000</td>\n",
       "      <td id=\"T_7dd32_row3_col1\" class=\"data row3 col1\" >1.950000</td>\n",
       "      <td id=\"T_7dd32_row3_col2\" class=\"data row3 col2\" >2.000000</td>\n",
       "      <td id=\"T_7dd32_row3_col3\" class=\"data row3 col3\" >0.630000</td>\n",
       "      <td id=\"T_7dd32_row3_col4\" class=\"data row3 col4\" >1.880000</td>\n",
       "    </tr>\n",
       "    <tr>\n",
       "      <th id=\"T_7dd32_level0_row4\" class=\"row_heading level0 row4\" >recency_in_weeks</th>\n",
       "      <td id=\"T_7dd32_row4_col0\" class=\"data row4 col0\" >15.130000</td>\n",
       "      <td id=\"T_7dd32_row4_col1\" class=\"data row4 col1\" >14.830000</td>\n",
       "      <td id=\"T_7dd32_row4_col2\" class=\"data row4 col2\" >15.630000</td>\n",
       "      <td id=\"T_7dd32_row4_col3\" class=\"data row4 col3\" >15.680000</td>\n",
       "      <td id=\"T_7dd32_row4_col4\" class=\"data row4 col4\" >14.570000</td>\n",
       "    </tr>\n",
       "    <tr>\n",
       "      <th id=\"T_7dd32_level0_row5\" class=\"row_heading level0 row5\" >promotional_percentage</th>\n",
       "      <td id=\"T_7dd32_row5_col0\" class=\"data row5 col0\" >9.480000</td>\n",
       "      <td id=\"T_7dd32_row5_col1\" class=\"data row5 col1\" >11.590000</td>\n",
       "      <td id=\"T_7dd32_row5_col2\" class=\"data row5 col2\" >12.420000</td>\n",
       "      <td id=\"T_7dd32_row5_col3\" class=\"data row5 col3\" >0.030000</td>\n",
       "      <td id=\"T_7dd32_row5_col4\" class=\"data row5 col4\" >28.740000</td>\n",
       "    </tr>\n",
       "    <tr>\n",
       "      <th id=\"T_7dd32_level0_row6\" class=\"row_heading level0 row6\" >returns</th>\n",
       "      <td id=\"T_7dd32_row6_col0\" class=\"data row6 col0\" >0.000000</td>\n",
       "      <td id=\"T_7dd32_row6_col1\" class=\"data row6 col1\" >0.000000</td>\n",
       "      <td id=\"T_7dd32_row6_col2\" class=\"data row6 col2\" >0.000000</td>\n",
       "      <td id=\"T_7dd32_row6_col3\" class=\"data row6 col3\" >0.000000</td>\n",
       "      <td id=\"T_7dd32_row6_col4\" class=\"data row6 col4\" >1.000000</td>\n",
       "    </tr>\n",
       "    <tr>\n",
       "      <th id=\"T_7dd32_level0_row7\" class=\"row_heading level0 row7\" >flaged</th>\n",
       "      <td id=\"T_7dd32_row7_col0\" class=\"data row7 col0\" >0.000000</td>\n",
       "      <td id=\"T_7dd32_row7_col1\" class=\"data row7 col1\" >0.010000</td>\n",
       "      <td id=\"T_7dd32_row7_col2\" class=\"data row7 col2\" >0.000000</td>\n",
       "      <td id=\"T_7dd32_row7_col3\" class=\"data row7 col3\" >0.050000</td>\n",
       "      <td id=\"T_7dd32_row7_col4\" class=\"data row7 col4\" >0.080000</td>\n",
       "    </tr>\n",
       "    <tr>\n",
       "      <th id=\"T_7dd32_level0_row8\" class=\"row_heading level0 row8\" >credit_factor</th>\n",
       "      <td id=\"T_7dd32_row8_col0\" class=\"data row8 col0\" >0.880000</td>\n",
       "      <td id=\"T_7dd32_row8_col1\" class=\"data row8 col1\" >0.810000</td>\n",
       "      <td id=\"T_7dd32_row8_col2\" class=\"data row8 col2\" >1.000000</td>\n",
       "      <td id=\"T_7dd32_row8_col3\" class=\"data row8 col3\" >0.610000</td>\n",
       "      <td id=\"T_7dd32_row8_col4\" class=\"data row8 col4\" >0.970000</td>\n",
       "    </tr>\n",
       "    <tr>\n",
       "      <th id=\"T_7dd32_level0_row9\" class=\"row_heading level0 row9\" >zip_code</th>\n",
       "      <td id=\"T_7dd32_row9_col0\" class=\"data row9 col0\" >5.420000</td>\n",
       "      <td id=\"T_7dd32_row9_col1\" class=\"data row9 col1\" >7.670000</td>\n",
       "      <td id=\"T_7dd32_row9_col2\" class=\"data row9 col2\" >2.500000</td>\n",
       "      <td id=\"T_7dd32_row9_col3\" class=\"data row9 col3\" >3.800000</td>\n",
       "      <td id=\"T_7dd32_row9_col4\" class=\"data row9 col4\" >5.300000</td>\n",
       "    </tr>\n",
       "    <tr>\n",
       "      <th id=\"T_7dd32_level0_row10\" class=\"row_heading level0 row10\" >education</th>\n",
       "      <td id=\"T_7dd32_row10_col0\" class=\"data row10 col0\" >0.670000</td>\n",
       "      <td id=\"T_7dd32_row10_col1\" class=\"data row10 col1\" >1.010000</td>\n",
       "      <td id=\"T_7dd32_row10_col2\" class=\"data row10 col2\" >1.550000</td>\n",
       "      <td id=\"T_7dd32_row10_col3\" class=\"data row10 col3\" >nan</td>\n",
       "      <td id=\"T_7dd32_row10_col4\" class=\"data row10 col4\" >0.930000</td>\n",
       "    </tr>\n",
       "    <tr>\n",
       "      <th id=\"T_7dd32_level0_row11\" class=\"row_heading level0 row11\" >gender</th>\n",
       "      <td id=\"T_7dd32_row11_col0\" class=\"data row11 col0\" >0.370000</td>\n",
       "      <td id=\"T_7dd32_row11_col1\" class=\"data row11 col1\" >0.360000</td>\n",
       "      <td id=\"T_7dd32_row11_col2\" class=\"data row11 col2\" >0.390000</td>\n",
       "      <td id=\"T_7dd32_row11_col3\" class=\"data row11 col3\" >0.370000</td>\n",
       "      <td id=\"T_7dd32_row11_col4\" class=\"data row11 col4\" >0.370000</td>\n",
       "    </tr>\n",
       "    <tr>\n",
       "      <th id=\"T_7dd32_level0_row12\" class=\"row_heading level0 row12\" >constant</th>\n",
       "      <td id=\"T_7dd32_row12_col0\" class=\"data row12 col0\" >1.000000</td>\n",
       "      <td id=\"T_7dd32_row12_col1\" class=\"data row12 col1\" >1.000000</td>\n",
       "      <td id=\"T_7dd32_row12_col2\" class=\"data row12 col2\" >1.000000</td>\n",
       "      <td id=\"T_7dd32_row12_col3\" class=\"data row12 col3\" >1.000000</td>\n",
       "      <td id=\"T_7dd32_row12_col4\" class=\"data row12 col4\" >1.000000</td>\n",
       "    </tr>\n",
       "  </tbody>\n",
       "</table>\n"
      ],
      "text/plain": [
       "<pandas.io.formats.style.Styler at 0x20f92473bc0>"
      ]
     },
     "execution_count": 35,
     "metadata": {},
     "output_type": "execute_result"
    }
   ],
   "source": [
    "groupby_mean(sample_original, 'mm_kmeans5', True)"
   ]
  },
  {
   "cell_type": "markdown",
   "metadata": {},
   "source": [
    "general | score | lowsocre+new+smart | nopromo+dumb | promo+returns"
   ]
  },
  {
   "cell_type": "code",
   "execution_count": 67,
   "metadata": {},
   "outputs": [
    {
     "data": {
      "image/png": "[encoded data removed]",
      "text/plain": [
       "<Figure size 640x480 with 1 Axes>"
      ]
     },
     "metadata": {},
     "output_type": "display_data"
    }
   ],
   "source": [
    "visualize_dimensionality_reduction(umap_embedding_mm, sample_original['mm_kmean3'])"
   ]
  },
  {
   "cell_type": "markdown",
   "metadata": {},
   "source": [
    "#### Comparison"
   ]
  },
  {
   "cell_type": "code",
   "execution_count": null,
   "metadata": {},
   "outputs": [],
   "source": [
    "clusters_comparison(sample_original, 'mm_kmeans4', 'mm_kmeans3')"
   ]
  },
  {
   "cell_type": "code",
   "execution_count": null,
   "metadata": {},
   "outputs": [],
   "source": [
    "clusters_comparison(sample_original, 'mm_kmeans5', 'mm_kmeans4')"
   ]
  },
  {
   "cell_type": "code",
   "execution_count": null,
   "metadata": {},
   "outputs": [],
   "source": [
    "clusters_comparison(sample_original, 'mm_kmeans6', 'mm_kmeans5')"
   ]
  },
  {
   "cell_type": "markdown",
   "metadata": {},
   "source": [
    "### Robust Scaler <a id='km-rb'></a>"
   ]
  },
  {
   "cell_type": "markdown",
   "metadata": {},
   "source": [
    "#### Plot"
   ]
  },
  {
   "cell_type": "code",
   "execution_count": 14,
   "metadata": {},
   "outputs": [
    {
     "data": {
      "image/png": "[encoded data removed]",
      "text/plain": [
       "<Figure size 640x480 with 2 Axes>"
      ]
     },
     "metadata": {},
     "output_type": "display_data"
    }
   ],
   "source": [
    "plot_inertia_and_silhouette(sample_rb_scl, 2, 10)"
   ]
  },
  {
   "cell_type": "markdown",
   "metadata": {},
   "source": [
    "#### Models"
   ]
  },
  {
   "cell_type": "markdown",
   "metadata": {},
   "source": [
    "##### 3 clusters"
   ]
  },
  {
   "cell_type": "code",
   "execution_count": 45,
   "metadata": {},
   "outputs": [],
   "source": [
    "kmeans = KMeans(n_clusters = 3, init='k-means++', n_init=20,  random_state = 1).fit(sample_rb_scl)\n",
    "sample_original['rb_kmeans3'] = kmeans.predict(sample_rb_scl)"
   ]
  },
  {
   "cell_type": "code",
   "execution_count": 46,
   "metadata": {},
   "outputs": [
    {
     "name": "stdout",
     "output_type": "stream",
     "text": [
      "# observations per cluster: [2496, 21924, 6]\n"
     ]
    },
    {
     "data": {
      "text/html": [
       "<style type=\"text/css\">\n",
       "#T_6a310_row0_col0, #T_6a310_row0_col1, #T_6a310_row0_col2 {\n",
       "  background-color: #023858;\n",
       "  color: #f1f1f1;\n",
       "}\n",
       "#T_6a310_row1_col0 {\n",
       "  background-color: #65a3cb;\n",
       "  color: #f1f1f1;\n",
       "}\n",
       "#T_6a310_row1_col1 {\n",
       "  background-color: #0568a3;\n",
       "  color: #f1f1f1;\n",
       "}\n",
       "#T_6a310_row1_col2, #T_6a310_row10_col0, #T_6a310_row11_col2, #T_6a310_row12_col0, #T_6a310_row12_col1, #T_6a310_row12_col2 {\n",
       "  background-color: #fbf4f9;\n",
       "  color: #000000;\n",
       "}\n",
       "#T_6a310_row2_col0 {\n",
       "  background-color: #adc1dd;\n",
       "  color: #000000;\n",
       "}\n",
       "#T_6a310_row2_col1, #T_6a310_row4_col1 {\n",
       "  background-color: #9ebad9;\n",
       "  color: #000000;\n",
       "}\n",
       "#T_6a310_row2_col2 {\n",
       "  background-color: #a1bbda;\n",
       "  color: #000000;\n",
       "}\n",
       "#T_6a310_row3_col0, #T_6a310_row3_col2 {\n",
       "  background-color: #f7f0f7;\n",
       "  color: #000000;\n",
       "}\n",
       "#T_6a310_row3_col1 {\n",
       "  background-color: #f8f1f8;\n",
       "  color: #000000;\n",
       "}\n",
       "#T_6a310_row4_col0 {\n",
       "  background-color: #93b5d6;\n",
       "  color: #000000;\n",
       "}\n",
       "#T_6a310_row4_col2 {\n",
       "  background-color: #9ab8d8;\n",
       "  color: #000000;\n",
       "}\n",
       "#T_6a310_row5_col0 {\n",
       "  background-color: #4697c4;\n",
       "  color: #f1f1f1;\n",
       "}\n",
       "#T_6a310_row5_col1 {\n",
       "  background-color: #cacee5;\n",
       "  color: #000000;\n",
       "}\n",
       "#T_6a310_row5_col2, #T_6a310_row6_col0, #T_6a310_row6_col1, #T_6a310_row6_col2, #T_6a310_row7_col0, #T_6a310_row7_col1, #T_6a310_row7_col2, #T_6a310_row9_col2 {\n",
       "  background-color: #fff7fb;\n",
       "  color: #000000;\n",
       "}\n",
       "#T_6a310_row8_col0 {\n",
       "  background-color: #f4eef6;\n",
       "  color: #000000;\n",
       "}\n",
       "#T_6a310_row8_col1 {\n",
       "  background-color: #fdf5fa;\n",
       "  color: #000000;\n",
       "}\n",
       "#T_6a310_row8_col2 {\n",
       "  background-color: #0771b1;\n",
       "  color: #f1f1f1;\n",
       "}\n",
       "#T_6a310_row9_col0 {\n",
       "  background-color: #f2ecf5;\n",
       "  color: #000000;\n",
       "}\n",
       "#T_6a310_row9_col1 {\n",
       "  background-color: #ece7f2;\n",
       "  color: #000000;\n",
       "}\n",
       "#T_6a310_row10_col1 {\n",
       "  background-color: #fbf3f9;\n",
       "  color: #000000;\n",
       "}\n",
       "#T_6a310_row10_col2 {\n",
       "  background-color: #000000;\n",
       "  color: #f1f1f1;\n",
       "}\n",
       "#T_6a310_row11_col0, #T_6a310_row11_col1 {\n",
       "  background-color: #fef6fa;\n",
       "  color: #000000;\n",
       "}\n",
       "</style>\n",
       "<table id=\"T_6a310\">\n",
       "  <thead>\n",
       "    <tr>\n",
       "      <th class=\"index_name level0\" >rb_kmeans3</th>\n",
       "      <th id=\"T_6a310_level0_col0\" class=\"col_heading level0 col0\" >0</th>\n",
       "      <th id=\"T_6a310_level0_col1\" class=\"col_heading level0 col1\" >1</th>\n",
       "      <th id=\"T_6a310_level0_col2\" class=\"col_heading level0 col2\" >2</th>\n",
       "    </tr>\n",
       "  </thead>\n",
       "  <tbody>\n",
       "    <tr>\n",
       "      <th id=\"T_6a310_level0_row0\" class=\"row_heading level0 row0\" >frequency_items</th>\n",
       "      <td id=\"T_6a310_row0_col0\" class=\"data row0 col0\" >38.250000</td>\n",
       "      <td id=\"T_6a310_row0_col1\" class=\"data row0 col1\" >38.170000</td>\n",
       "      <td id=\"T_6a310_row0_col2\" class=\"data row0 col2\" >37.170000</td>\n",
       "    </tr>\n",
       "    <tr>\n",
       "      <th id=\"T_6a310_level0_row1\" class=\"row_heading level0 row1\" >potencial_score</th>\n",
       "      <td id=\"T_6a310_row1_col0\" class=\"data row1 col0\" >20.210000</td>\n",
       "      <td id=\"T_6a310_row1_col1\" class=\"data row1 col1\" >30.320000</td>\n",
       "      <td id=\"T_6a310_row1_col2\" class=\"data row1 col2\" >0.980000</td>\n",
       "    </tr>\n",
       "    <tr>\n",
       "      <th id=\"T_6a310_level0_row2\" class=\"row_heading level0 row2\" >longevity_months</th>\n",
       "      <td id=\"T_6a310_row2_col0\" class=\"data row2 col0\" >13.550000</td>\n",
       "      <td id=\"T_6a310_row2_col1\" class=\"data row2 col1\" >15.160000</td>\n",
       "      <td id=\"T_6a310_row2_col2\" class=\"data row2 col2\" >14.500000</td>\n",
       "    </tr>\n",
       "    <tr>\n",
       "      <th id=\"T_6a310_level0_row3\" class=\"row_heading level0 row3\" >relevance_criteria</th>\n",
       "      <td id=\"T_6a310_row3_col0\" class=\"data row3 col0\" >1.970000</td>\n",
       "      <td id=\"T_6a310_row3_col1\" class=\"data row3 col1\" >1.920000</td>\n",
       "      <td id=\"T_6a310_row3_col2\" class=\"data row3 col2\" >2.000000</td>\n",
       "    </tr>\n",
       "    <tr>\n",
       "      <th id=\"T_6a310_level0_row4\" class=\"row_heading level0 row4\" >recency_in_weeks</th>\n",
       "      <td id=\"T_6a310_row4_col0\" class=\"data row4 col0\" >16.200000</td>\n",
       "      <td id=\"T_6a310_row4_col1\" class=\"data row4 col1\" >15.160000</td>\n",
       "      <td id=\"T_6a310_row4_col2\" class=\"data row4 col2\" >15.000000</td>\n",
       "    </tr>\n",
       "    <tr>\n",
       "      <th id=\"T_6a310_level0_row5\" class=\"row_heading level0 row5\" >promotional_percentage</th>\n",
       "      <td id=\"T_6a310_row5_col0\" class=\"data row5 col0\" >22.660000</td>\n",
       "      <td id=\"T_6a310_row5_col1\" class=\"data row5 col1\" >10.230000</td>\n",
       "      <td id=\"T_6a310_row5_col2\" class=\"data row5 col2\" >0.000000</td>\n",
       "    </tr>\n",
       "    <tr>\n",
       "      <th id=\"T_6a310_level0_row6\" class=\"row_heading level0 row6\" >returns</th>\n",
       "      <td id=\"T_6a310_row6_col0\" class=\"data row6 col0\" >0.040000</td>\n",
       "      <td id=\"T_6a310_row6_col1\" class=\"data row6 col1\" >0.040000</td>\n",
       "      <td id=\"T_6a310_row6_col2\" class=\"data row6 col2\" >0.000000</td>\n",
       "    </tr>\n",
       "    <tr>\n",
       "      <th id=\"T_6a310_level0_row7\" class=\"row_heading level0 row7\" >flaged</th>\n",
       "      <td id=\"T_6a310_row7_col0\" class=\"data row7 col0\" >0.000000</td>\n",
       "      <td id=\"T_6a310_row7_col1\" class=\"data row7 col1\" >0.010000</td>\n",
       "      <td id=\"T_6a310_row7_col2\" class=\"data row7 col2\" >0.000000</td>\n",
       "    </tr>\n",
       "    <tr>\n",
       "      <th id=\"T_6a310_level0_row8\" class=\"row_heading level0 row8\" >credit_factor</th>\n",
       "      <td id=\"T_6a310_row8_col0\" class=\"data row8 col0\" >2.720000</td>\n",
       "      <td id=\"T_6a310_row8_col1\" class=\"data row8 col1\" >0.690000</td>\n",
       "      <td id=\"T_6a310_row8_col2\" class=\"data row8 col2\" >27.700000</td>\n",
       "    </tr>\n",
       "    <tr>\n",
       "      <th id=\"T_6a310_level0_row9\" class=\"row_heading level0 row9\" >zip_code</th>\n",
       "      <td id=\"T_6a310_row9_col0\" class=\"data row9 col0\" >3.190000</td>\n",
       "      <td id=\"T_6a310_row9_col1\" class=\"data row9 col1\" >4.820000</td>\n",
       "      <td id=\"T_6a310_row9_col2\" class=\"data row9 col2\" >0.000000</td>\n",
       "    </tr>\n",
       "    <tr>\n",
       "      <th id=\"T_6a310_level0_row10\" class=\"row_heading level0 row10\" >education</th>\n",
       "      <td id=\"T_6a310_row10_col0\" class=\"data row10 col0\" >0.930000</td>\n",
       "      <td id=\"T_6a310_row10_col1\" class=\"data row10 col1\" >1.150000</td>\n",
       "      <td id=\"T_6a310_row10_col2\" class=\"data row10 col2\" >nan</td>\n",
       "    </tr>\n",
       "    <tr>\n",
       "      <th id=\"T_6a310_level0_row11\" class=\"row_heading level0 row11\" >gender</th>\n",
       "      <td id=\"T_6a310_row11_col0\" class=\"data row11 col0\" >0.380000</td>\n",
       "      <td id=\"T_6a310_row11_col1\" class=\"data row11 col1\" >0.380000</td>\n",
       "      <td id=\"T_6a310_row11_col2\" class=\"data row11 col2\" >1.000000</td>\n",
       "    </tr>\n",
       "    <tr>\n",
       "      <th id=\"T_6a310_level0_row12\" class=\"row_heading level0 row12\" >constant</th>\n",
       "      <td id=\"T_6a310_row12_col0\" class=\"data row12 col0\" >1.000000</td>\n",
       "      <td id=\"T_6a310_row12_col1\" class=\"data row12 col1\" >1.000000</td>\n",
       "      <td id=\"T_6a310_row12_col2\" class=\"data row12 col2\" >1.000000</td>\n",
       "    </tr>\n",
       "  </tbody>\n",
       "</table>\n"
      ],
      "text/plain": [
       "<pandas.io.formats.style.Styler at 0x20f970ac560>"
      ]
     },
     "execution_count": 46,
     "metadata": {},
     "output_type": "execute_result"
    }
   ],
   "source": [
    "groupby_mean(sample_original, 'rb_kmeans3', True)"
   ]
  },
  {
   "cell_type": "markdown",
   "metadata": {},
   "source": [
    "##### 5 clusters"
   ]
  },
  {
   "cell_type": "code",
   "execution_count": 60,
   "metadata": {},
   "outputs": [],
   "source": [
    "kmeans = KMeans(n_clusters = 4, init='k-means++', n_init=20,  random_state = 1).fit(sample_rb_scl)\n",
    "sample_original['rb_kmeans4'] = kmeans.predict(sample_rb_scl)"
   ]
  },
  {
   "cell_type": "code",
   "execution_count": 62,
   "metadata": {},
   "outputs": [
    {
     "name": "stdout",
     "output_type": "stream",
     "text": [
      "# observations per cluster: [21845, 647, 1928, 6]\n"
     ]
    },
    {
     "data": {
      "text/html": [
       "<style type=\"text/css\">\n",
       "#T_1c0c5_row0_col0, #T_1c0c5_row0_col1, #T_1c0c5_row0_col2, #T_1c0c5_row0_col3 {\n",
       "  background-color: #023858;\n",
       "  color: #f1f1f1;\n",
       "}\n",
       "#T_1c0c5_row1_col0 {\n",
       "  background-color: #0568a3;\n",
       "  color: #f1f1f1;\n",
       "}\n",
       "#T_1c0c5_row1_col1, #T_1c0c5_row2_col1 {\n",
       "  background-color: #c0c9e2;\n",
       "  color: #000000;\n",
       "}\n",
       "#T_1c0c5_row1_col2 {\n",
       "  background-color: #3991c1;\n",
       "  color: #f1f1f1;\n",
       "}\n",
       "#T_1c0c5_row1_col3, #T_1c0c5_row10_col2, #T_1c0c5_row11_col3, #T_1c0c5_row12_col0, #T_1c0c5_row12_col1, #T_1c0c5_row12_col2, #T_1c0c5_row12_col3 {\n",
       "  background-color: #fbf4f9;\n",
       "  color: #000000;\n",
       "}\n",
       "#T_1c0c5_row2_col0, #T_1c0c5_row4_col0 {\n",
       "  background-color: #9ebad9;\n",
       "  color: #000000;\n",
       "}\n",
       "#T_1c0c5_row2_col2 {\n",
       "  background-color: #a5bddb;\n",
       "  color: #000000;\n",
       "}\n",
       "#T_1c0c5_row2_col3 {\n",
       "  background-color: #a1bbda;\n",
       "  color: #000000;\n",
       "}\n",
       "#T_1c0c5_row3_col0, #T_1c0c5_row3_col1, #T_1c0c5_row9_col1 {\n",
       "  background-color: #f8f1f8;\n",
       "  color: #000000;\n",
       "}\n",
       "#T_1c0c5_row3_col2, #T_1c0c5_row3_col3, #T_1c0c5_row8_col2 {\n",
       "  background-color: #f7f0f7;\n",
       "  color: #000000;\n",
       "}\n",
       "#T_1c0c5_row4_col1, #T_1c0c5_row4_col2 {\n",
       "  background-color: #93b5d6;\n",
       "  color: #000000;\n",
       "}\n",
       "#T_1c0c5_row4_col3 {\n",
       "  background-color: #9ab8d8;\n",
       "  color: #000000;\n",
       "}\n",
       "#T_1c0c5_row5_col0 {\n",
       "  background-color: #cacee5;\n",
       "  color: #000000;\n",
       "}\n",
       "#T_1c0c5_row5_col1 {\n",
       "  background-color: #4897c4;\n",
       "  color: #f1f1f1;\n",
       "}\n",
       "#T_1c0c5_row5_col2 {\n",
       "  background-color: #509ac6;\n",
       "  color: #f1f1f1;\n",
       "}\n",
       "#T_1c0c5_row5_col3, #T_1c0c5_row6_col0, #T_1c0c5_row6_col1, #T_1c0c5_row6_col2, #T_1c0c5_row6_col3, #T_1c0c5_row7_col0, #T_1c0c5_row7_col1, #T_1c0c5_row7_col2, #T_1c0c5_row7_col3, #T_1c0c5_row9_col3 {\n",
       "  background-color: #fff7fb;\n",
       "  color: #000000;\n",
       "}\n",
       "#T_1c0c5_row8_col0 {\n",
       "  background-color: #fdf5fa;\n",
       "  color: #000000;\n",
       "}\n",
       "#T_1c0c5_row8_col1 {\n",
       "  background-color: #eee9f3;\n",
       "  color: #000000;\n",
       "}\n",
       "#T_1c0c5_row8_col3 {\n",
       "  background-color: #0771b1;\n",
       "  color: #f1f1f1;\n",
       "}\n",
       "#T_1c0c5_row9_col0 {\n",
       "  background-color: #ece7f2;\n",
       "  color: #000000;\n",
       "}\n",
       "#T_1c0c5_row9_col2 {\n",
       "  background-color: #f0eaf4;\n",
       "  color: #000000;\n",
       "}\n",
       "#T_1c0c5_row10_col0 {\n",
       "  background-color: #fbf3f9;\n",
       "  color: #000000;\n",
       "}\n",
       "#T_1c0c5_row10_col1, #T_1c0c5_row11_col0, #T_1c0c5_row11_col1, #T_1c0c5_row11_col2 {\n",
       "  background-color: #fef6fa;\n",
       "  color: #000000;\n",
       "}\n",
       "#T_1c0c5_row10_col3 {\n",
       "  background-color: #000000;\n",
       "  color: #f1f1f1;\n",
       "}\n",
       "</style>\n",
       "<table id=\"T_1c0c5\">\n",
       "  <thead>\n",
       "    <tr>\n",
       "      <th class=\"index_name level0\" >rb_kmeans4</th>\n",
       "      <th id=\"T_1c0c5_level0_col0\" class=\"col_heading level0 col0\" >0</th>\n",
       "      <th id=\"T_1c0c5_level0_col1\" class=\"col_heading level0 col1\" >1</th>\n",
       "      <th id=\"T_1c0c5_level0_col2\" class=\"col_heading level0 col2\" >2</th>\n",
       "      <th id=\"T_1c0c5_level0_col3\" class=\"col_heading level0 col3\" >3</th>\n",
       "    </tr>\n",
       "  </thead>\n",
       "  <tbody>\n",
       "    <tr>\n",
       "      <th id=\"T_1c0c5_level0_row0\" class=\"row_heading level0 row0\" >frequency_items</th>\n",
       "      <td id=\"T_1c0c5_row0_col0\" class=\"data row0 col0\" >38.170000</td>\n",
       "      <td id=\"T_1c0c5_row0_col1\" class=\"data row0 col1\" >39.220000</td>\n",
       "      <td id=\"T_1c0c5_row0_col2\" class=\"data row0 col2\" >37.900000</td>\n",
       "      <td id=\"T_1c0c5_row0_col3\" class=\"data row0 col3\" >37.170000</td>\n",
       "    </tr>\n",
       "    <tr>\n",
       "      <th id=\"T_1c0c5_level0_row1\" class=\"row_heading level0 row1\" >potencial_score</th>\n",
       "      <td id=\"T_1c0c5_row1_col0\" class=\"data row1 col0\" >30.320000</td>\n",
       "      <td id=\"T_1c0c5_row1_col1\" class=\"data row1 col1\" >11.770000</td>\n",
       "      <td id=\"T_1c0c5_row1_col2\" class=\"data row1 col2\" >23.400000</td>\n",
       "      <td id=\"T_1c0c5_row1_col3\" class=\"data row1 col3\" >0.980000</td>\n",
       "    </tr>\n",
       "    <tr>\n",
       "      <th id=\"T_1c0c5_level0_row2\" class=\"row_heading level0 row2\" >longevity_months</th>\n",
       "      <td id=\"T_1c0c5_row2_col0\" class=\"data row2 col0\" >15.150000</td>\n",
       "      <td id=\"T_1c0c5_row2_col1\" class=\"data row2 col1\" >11.710000</td>\n",
       "      <td id=\"T_1c0c5_row2_col2\" class=\"data row2 col2\" >14.310000</td>\n",
       "      <td id=\"T_1c0c5_row2_col3\" class=\"data row2 col3\" >14.500000</td>\n",
       "    </tr>\n",
       "    <tr>\n",
       "      <th id=\"T_1c0c5_level0_row3\" class=\"row_heading level0 row3\" >relevance_criteria</th>\n",
       "      <td id=\"T_1c0c5_row3_col0\" class=\"data row3 col0\" >1.920000</td>\n",
       "      <td id=\"T_1c0c5_row3_col1\" class=\"data row3 col1\" >1.930000</td>\n",
       "      <td id=\"T_1c0c5_row3_col2\" class=\"data row3 col2\" >1.980000</td>\n",
       "      <td id=\"T_1c0c5_row3_col3\" class=\"data row3 col3\" >2.000000</td>\n",
       "    </tr>\n",
       "    <tr>\n",
       "      <th id=\"T_1c0c5_level0_row4\" class=\"row_heading level0 row4\" >recency_in_weeks</th>\n",
       "      <td id=\"T_1c0c5_row4_col0\" class=\"data row4 col0\" >15.160000</td>\n",
       "      <td id=\"T_1c0c5_row4_col1\" class=\"data row4 col1\" >16.680000</td>\n",
       "      <td id=\"T_1c0c5_row4_col2\" class=\"data row4 col2\" >16.020000</td>\n",
       "      <td id=\"T_1c0c5_row4_col3\" class=\"data row4 col3\" >15.000000</td>\n",
       "    </tr>\n",
       "    <tr>\n",
       "      <th id=\"T_1c0c5_level0_row5\" class=\"row_heading level0 row5\" >promotional_percentage</th>\n",
       "      <td id=\"T_1c0c5_row5_col0\" class=\"data row5 col0\" >10.250000</td>\n",
       "      <td id=\"T_1c0c5_row5_col1\" class=\"data row5 col1\" >23.090000</td>\n",
       "      <td id=\"T_1c0c5_row5_col2\" class=\"data row5 col2\" >21.700000</td>\n",
       "      <td id=\"T_1c0c5_row5_col3\" class=\"data row5 col3\" >0.000000</td>\n",
       "    </tr>\n",
       "    <tr>\n",
       "      <th id=\"T_1c0c5_level0_row6\" class=\"row_heading level0 row6\" >returns</th>\n",
       "      <td id=\"T_1c0c5_row6_col0\" class=\"data row6 col0\" >0.040000</td>\n",
       "      <td id=\"T_1c0c5_row6_col1\" class=\"data row6 col1\" >0.100000</td>\n",
       "      <td id=\"T_1c0c5_row6_col2\" class=\"data row6 col2\" >0.020000</td>\n",
       "      <td id=\"T_1c0c5_row6_col3\" class=\"data row6 col3\" >0.000000</td>\n",
       "    </tr>\n",
       "    <tr>\n",
       "      <th id=\"T_1c0c5_level0_row7\" class=\"row_heading level0 row7\" >flaged</th>\n",
       "      <td id=\"T_1c0c5_row7_col0\" class=\"data row7 col0\" >0.010000</td>\n",
       "      <td id=\"T_1c0c5_row7_col1\" class=\"data row7 col1\" >0.010000</td>\n",
       "      <td id=\"T_1c0c5_row7_col2\" class=\"data row7 col2\" >0.000000</td>\n",
       "      <td id=\"T_1c0c5_row7_col3\" class=\"data row7 col3\" >0.000000</td>\n",
       "    </tr>\n",
       "    <tr>\n",
       "      <th id=\"T_1c0c5_level0_row8\" class=\"row_heading level0 row8\" >credit_factor</th>\n",
       "      <td id=\"T_1c0c5_row8_col0\" class=\"data row8 col0\" >0.690000</td>\n",
       "      <td id=\"T_1c0c5_row8_col1\" class=\"data row8 col1\" >4.450000</td>\n",
       "      <td id=\"T_1c0c5_row8_col2\" class=\"data row8 col2\" >2.100000</td>\n",
       "      <td id=\"T_1c0c5_row8_col3\" class=\"data row8 col3\" >27.700000</td>\n",
       "    </tr>\n",
       "    <tr>\n",
       "      <th id=\"T_1c0c5_level0_row9\" class=\"row_heading level0 row9\" >zip_code</th>\n",
       "      <td id=\"T_1c0c5_row9_col0\" class=\"data row9 col0\" >4.820000</td>\n",
       "      <td id=\"T_1c0c5_row9_col1\" class=\"data row9 col1\" >1.760000</td>\n",
       "      <td id=\"T_1c0c5_row9_col2\" class=\"data row9 col2\" >3.740000</td>\n",
       "      <td id=\"T_1c0c5_row9_col3\" class=\"data row9 col3\" >0.000000</td>\n",
       "    </tr>\n",
       "    <tr>\n",
       "      <th id=\"T_1c0c5_level0_row10\" class=\"row_heading level0 row10\" >education</th>\n",
       "      <td id=\"T_1c0c5_row10_col0\" class=\"data row10 col0\" >1.150000</td>\n",
       "      <td id=\"T_1c0c5_row10_col1\" class=\"data row10 col1\" >0.440000</td>\n",
       "      <td id=\"T_1c0c5_row10_col2\" class=\"data row10 col2\" >0.950000</td>\n",
       "      <td id=\"T_1c0c5_row10_col3\" class=\"data row10 col3\" >nan</td>\n",
       "    </tr>\n",
       "    <tr>\n",
       "      <th id=\"T_1c0c5_level0_row11\" class=\"row_heading level0 row11\" >gender</th>\n",
       "      <td id=\"T_1c0c5_row11_col0\" class=\"data row11 col0\" >0.380000</td>\n",
       "      <td id=\"T_1c0c5_row11_col1\" class=\"data row11 col1\" >0.390000</td>\n",
       "      <td id=\"T_1c0c5_row11_col2\" class=\"data row11 col2\" >0.380000</td>\n",
       "      <td id=\"T_1c0c5_row11_col3\" class=\"data row11 col3\" >1.000000</td>\n",
       "    </tr>\n",
       "    <tr>\n",
       "      <th id=\"T_1c0c5_level0_row12\" class=\"row_heading level0 row12\" >constant</th>\n",
       "      <td id=\"T_1c0c5_row12_col0\" class=\"data row12 col0\" >1.000000</td>\n",
       "      <td id=\"T_1c0c5_row12_col1\" class=\"data row12 col1\" >1.000000</td>\n",
       "      <td id=\"T_1c0c5_row12_col2\" class=\"data row12 col2\" >1.000000</td>\n",
       "      <td id=\"T_1c0c5_row12_col3\" class=\"data row12 col3\" >1.000000</td>\n",
       "    </tr>\n",
       "  </tbody>\n",
       "</table>\n"
      ],
      "text/plain": [
       "<pandas.io.formats.style.Styler at 0x20f9381c9b0>"
      ]
     },
     "execution_count": 62,
     "metadata": {},
     "output_type": "execute_result"
    }
   ],
   "source": [
    "groupby_mean(sample_original, 'rb_kmeans4', True)"
   ]
  },
  {
   "cell_type": "code",
   "execution_count": 63,
   "metadata": {},
   "outputs": [
    {
     "data": {
      "image/png": "[encoded data removed]",
      "text/plain": [
       "<Figure size 640x480 with 1 Axes>"
      ]
     },
     "metadata": {},
     "output_type": "display_data"
    }
   ],
   "source": [
    "visualize_dimensionality_reduction(umap_embedding_rb, sample_original['rb_kmeans6'])"
   ]
  },
  {
   "cell_type": "markdown",
   "metadata": {},
   "source": [
    "### Comparison"
   ]
  },
  {
   "cell_type": "code",
   "execution_count": null,
   "metadata": {},
   "outputs": [],
   "source": [
    "clusters_comparison(sample_original, 'rb_kmeans5', 'rb_kmeans3')"
   ]
  },
  {
   "cell_type": "code",
   "execution_count": null,
   "metadata": {},
   "outputs": [],
   "source": [
    "clusters_comparison(sample_original, 'rb_kmeans6', 'rb_kmeans5')"
   ]
  },
  {
   "cell_type": "markdown",
   "metadata": {},
   "source": [
    "## 4.2. Hierarchical (Ward) <a id='wh'></a>"
   ]
  },
  {
   "cell_type": "markdown",
   "metadata": {},
   "source": [
    "In this section, the hierarchical algorithm with a ward linkeage method was tested with the data inputs previously mentioned. For each of the data inputs dendrograms were plotted in order to decide which number of cluester were going to be considered for testing. Then, the clusters formed were analysed and clustering solutions compared. The tests for each data input were presented in the following order:\n",
    "1. [No Scaler](#h-no)\n",
    "2. [Standard Scaler](#h-st)\n",
    "3. [MinMax Scaler](#h-mm)\n",
    "4. [Robust Scaler](#h-rb)\n",
    "\n",
    "In the end of this section there is also a result comparison between clustering techniques as well as scaling options.\n",
    "\n",
    "5. [Inter Clustering Comparison](#icc)"
   ]
  },
  {
   "cell_type": "markdown",
   "metadata": {},
   "source": [
    "### No Scaler <a id='h-no'></a>"
   ]
  },
  {
   "cell_type": "markdown",
   "metadata": {},
   "source": [
    "#### Plot"
   ]
  },
  {
   "cell_type": "code",
   "execution_count": 68,
   "metadata": {},
   "outputs": [
    {
     "data": {
      "image/png": "[encoded data removed]",
      "text/plain": [
       "<Figure size 640x480 with 1 Axes>"
      ]
     },
     "metadata": {},
     "output_type": "display_data"
    }
   ],
   "source": [
    "plot_dendrogram(sample_no_scl, 'ward')"
   ]
  },
  {
   "cell_type": "markdown",
   "metadata": {},
   "source": [
    "#### Models"
   ]
  },
  {
   "cell_type": "code",
   "execution_count": 18,
   "metadata": {},
   "outputs": [],
   "source": [
    "sample_original['no_ward2'] = AgglomerativeClustering(\n",
    "    linkage = 'ward', n_clusters = 2\n",
    "    ).fit_predict(sample_no_scl)"
   ]
  },
  {
   "cell_type": "code",
   "execution_count": null,
   "metadata": {},
   "outputs": [],
   "source": [
    "groupby_mean(sample_original, 'no_ward2', True, 12, 0)"
   ]
  },
  {
   "cell_type": "markdown",
   "metadata": {},
   "source": [
    "score | general"
   ]
  },
  {
   "cell_type": "markdown",
   "metadata": {},
   "source": [
    "##### 3 clusters"
   ]
  },
  {
   "cell_type": "code",
   "execution_count": 20,
   "metadata": {},
   "outputs": [],
   "source": [
    "sample_original['no_ward3'] = AgglomerativeClustering(\n",
    "    linkage = 'ward', n_clusters = 3\n",
    "    ).fit_predict(sample_no_scl)"
   ]
  },
  {
   "cell_type": "code",
   "execution_count": null,
   "metadata": {},
   "outputs": [],
   "source": [
    "groupby_mean(sample_original, 'no_ward3', True, 12)"
   ]
  },
  {
   "cell_type": "markdown",
   "metadata": {},
   "source": [
    "##### 5 clusters"
   ]
  },
  {
   "cell_type": "code",
   "execution_count": 24,
   "metadata": {},
   "outputs": [],
   "source": [
    "sample_original['no_ward4'] = AgglomerativeClustering(\n",
    "    linkage = 'ward', n_clusters = 4\n",
    "    ).fit_predict(sample_no_scl)"
   ]
  },
  {
   "cell_type": "code",
   "execution_count": null,
   "metadata": {},
   "outputs": [],
   "source": [
    "groupby_mean(sample_original, 'no_ward4', True, 12, 0)"
   ]
  },
  {
   "cell_type": "code",
   "execution_count": 22,
   "metadata": {},
   "outputs": [],
   "source": [
    "sample_original['no_ward5'] = AgglomerativeClustering(\n",
    "    linkage = 'ward', n_clusters = 5\n",
    "    ).fit_predict(sample_no_scl)"
   ]
  },
  {
   "cell_type": "code",
   "execution_count": null,
   "metadata": {},
   "outputs": [],
   "source": [
    "groupby_mean(sample_original, 'no_ward5', True, 12, 0)"
   ]
  },
  {
   "cell_type": "markdown",
   "metadata": {},
   "source": [
    "normal | lowscore+nopromo? | score | promo | score+promo+return"
   ]
  },
  {
   "cell_type": "markdown",
   "metadata": {},
   "source": [
    "#### Comparison"
   ]
  },
  {
   "cell_type": "code",
   "execution_count": null,
   "metadata": {},
   "outputs": [],
   "source": [
    "clusters_comparison(sample_original, 'no_ward3', 'no_ward2')"
   ]
  },
  {
   "cell_type": "code",
   "execution_count": null,
   "metadata": {},
   "outputs": [],
   "source": [
    "clusters_comparison(sample_original, 'no_ward4', 'no_ward3')"
   ]
  },
  {
   "cell_type": "code",
   "execution_count": null,
   "metadata": {},
   "outputs": [],
   "source": [
    "sample_no_scl"
   ]
  },
  {
   "cell_type": "code",
   "execution_count": null,
   "metadata": {},
   "outputs": [],
   "source": [
    "visualize_dimensionality_reduction(umap_embedding_no, sample_original['no_ward3'])"
   ]
  },
  {
   "cell_type": "markdown",
   "metadata": {},
   "source": [
    "### Standard Scaler <a id='h-st'></a>"
   ]
  },
  {
   "cell_type": "markdown",
   "metadata": {},
   "source": [
    "#### Plot"
   ]
  },
  {
   "cell_type": "code",
   "execution_count": 69,
   "metadata": {},
   "outputs": [
    {
     "data": {
      "image/png": "[encoded data removed]",
      "text/plain": [
       "<Figure size 640x480 with 1 Axes>"
      ]
     },
     "metadata": {},
     "output_type": "display_data"
    }
   ],
   "source": [
    "plot_dendrogram(sample_st_scl, 'ward')"
   ]
  },
  {
   "cell_type": "markdown",
   "metadata": {},
   "source": [
    "#### Models"
   ]
  },
  {
   "cell_type": "markdown",
   "metadata": {},
   "source": [
    "##### 3 clusters"
   ]
  },
  {
   "cell_type": "code",
   "execution_count": 33,
   "metadata": {},
   "outputs": [],
   "source": [
    "sample_original['st_ward3'] = AgglomerativeClustering(\n",
    "    linkage = 'ward', n_clusters = 3\n",
    "    ).fit_predict(sample_st_scl)"
   ]
  },
  {
   "cell_type": "code",
   "execution_count": null,
   "metadata": {},
   "outputs": [],
   "source": [
    "groupby_mean(sample_original, 'st_ward3', True)"
   ]
  },
  {
   "cell_type": "markdown",
   "metadata": {},
   "source": [
    "general | nopromo | score"
   ]
  },
  {
   "cell_type": "markdown",
   "metadata": {},
   "source": [
    "##### 4 clusters"
   ]
  },
  {
   "cell_type": "code",
   "execution_count": 35,
   "metadata": {},
   "outputs": [],
   "source": [
    "sample_original['st_ward4'] = AgglomerativeClustering(\n",
    "    linkage = 'ward', n_clusters = 4\n",
    "    ).fit_predict(sample_st_scl)"
   ]
  },
  {
   "cell_type": "code",
   "execution_count": null,
   "metadata": {},
   "outputs": [],
   "source": [
    "groupby_mean(sample_original, 'st_ward4', True, 12)"
   ]
  },
  {
   "cell_type": "markdown",
   "metadata": {},
   "source": [
    "general | nopromo | score | promo+returns"
   ]
  },
  {
   "cell_type": "markdown",
   "metadata": {},
   "source": [
    "##### 5 clusters"
   ]
  },
  {
   "cell_type": "code",
   "execution_count": 37,
   "metadata": {},
   "outputs": [],
   "source": [
    "sample_original['st_ward5'] = AgglomerativeClustering(\n",
    "    linkage = 'ward', n_clusters = 5\n",
    "    ).fit_predict(sample_st_scl)"
   ]
  },
  {
   "cell_type": "code",
   "execution_count": null,
   "metadata": {},
   "outputs": [],
   "source": [
    "groupby_mean(sample_original, 'st_ward5', True, 12)"
   ]
  },
  {
   "cell_type": "markdown",
   "metadata": {},
   "source": [
    "general | antiques | score | promo | nopromo"
   ]
  },
  {
   "cell_type": "markdown",
   "metadata": {},
   "source": [
    "#### Comparison"
   ]
  },
  {
   "cell_type": "code",
   "execution_count": null,
   "metadata": {},
   "outputs": [],
   "source": [
    "clusters_comparison(sample_original, 'st_ward6', 'st_ward3')"
   ]
  },
  {
   "cell_type": "code",
   "execution_count": null,
   "metadata": {},
   "outputs": [],
   "source": [
    "visualize_dimensionality_reduction(umap_embedding_st, sample_original['st_ward4'])"
   ]
  },
  {
   "cell_type": "markdown",
   "metadata": {},
   "source": [
    "### MinMax Scaler <a id='h-mm'></a>"
   ]
  },
  {
   "cell_type": "markdown",
   "metadata": {},
   "source": [
    "#### Plot"
   ]
  },
  {
   "cell_type": "code",
   "execution_count": 70,
   "metadata": {},
   "outputs": [
    {
     "data": {
      "image/png": "[encoded data removed]",
      "text/plain": [
       "<Figure size 640x480 with 1 Axes>"
      ]
     },
     "metadata": {},
     "output_type": "display_data"
    }
   ],
   "source": [
    "plot_dendrogram(sample_mm_scl, 'ward')"
   ]
  },
  {
   "cell_type": "markdown",
   "metadata": {},
   "source": [
    "#### Models"
   ]
  },
  {
   "cell_type": "markdown",
   "metadata": {},
   "source": [
    "##### 2 clusters"
   ]
  },
  {
   "cell_type": "code",
   "execution_count": 47,
   "metadata": {},
   "outputs": [],
   "source": [
    "sample_original['mm_ward2'] = AgglomerativeClustering(\n",
    "    linkage = 'ward', n_clusters = 2\n",
    "    ).fit_predict(sample_mm_scl)"
   ]
  },
  {
   "cell_type": "code",
   "execution_count": null,
   "metadata": {},
   "outputs": [],
   "source": [
    "groupby_mean(sample_original, 'mm_ward2', True, 12)"
   ]
  },
  {
   "cell_type": "markdown",
   "metadata": {},
   "source": [
    "general | score"
   ]
  },
  {
   "cell_type": "markdown",
   "metadata": {},
   "source": [
    "##### 3 clusters"
   ]
  },
  {
   "cell_type": "code",
   "execution_count": 56,
   "metadata": {},
   "outputs": [],
   "source": [
    "sample_original['mm_ward3'] = AgglomerativeClustering(\n",
    "    linkage = 'ward', n_clusters = 3\n",
    "    ).fit_predict(sample_mm_scl)"
   ]
  },
  {
   "cell_type": "code",
   "execution_count": null,
   "metadata": {},
   "outputs": [],
   "source": [
    "groupby_mean(sample_original, 'mm_ward3', True, 12)"
   ]
  },
  {
   "cell_type": "markdown",
   "metadata": {},
   "source": [
    "general | score | nopromo"
   ]
  },
  {
   "cell_type": "markdown",
   "metadata": {},
   "source": [
    "##### 4 clusters"
   ]
  },
  {
   "cell_type": "code",
   "execution_count": 58,
   "metadata": {},
   "outputs": [],
   "source": [
    "sample_original['mm_ward4'] = AgglomerativeClustering(\n",
    "    linkage = 'ward', n_clusters = 4\n",
    "    ).fit_predict(sample_mm_scl)"
   ]
  },
  {
   "cell_type": "code",
   "execution_count": null,
   "metadata": {},
   "outputs": [],
   "source": [
    "groupby_mean(sample_original, 'mm_ward4', True, 12)"
   ]
  },
  {
   "cell_type": "markdown",
   "metadata": {},
   "source": [
    "general | new+pormo? | nopromo | score"
   ]
  },
  {
   "cell_type": "code",
   "execution_count": 53,
   "metadata": {},
   "outputs": [],
   "source": [
    "sample_original['mm_ward5'] = AgglomerativeClustering(\n",
    "    linkage = 'ward', n_clusters = 5\n",
    "    ).fit_predict(sample_mm_scl)"
   ]
  },
  {
   "cell_type": "code",
   "execution_count": null,
   "metadata": {},
   "outputs": [],
   "source": [
    "groupby_mean(sample_original, 'mm_ward5', True, 12)"
   ]
  },
  {
   "cell_type": "markdown",
   "metadata": {},
   "source": [
    "lowscore+promo | score | nopromo | general | antiques"
   ]
  },
  {
   "cell_type": "code",
   "execution_count": 54,
   "metadata": {},
   "outputs": [],
   "source": [
    "sample_original['mm_ward6'] = AgglomerativeClustering(\n",
    "    linkage = 'ward', n_clusters = 6\n",
    "    ).fit_predict(sample_mm_scl)"
   ]
  },
  {
   "cell_type": "code",
   "execution_count": null,
   "metadata": {},
   "outputs": [],
   "source": [
    "groupby_mean(sample_original, 'mm_ward6', True, 12)"
   ]
  },
  {
   "cell_type": "markdown",
   "metadata": {},
   "source": [
    "nopromo+lowrelevance | score | lowscore | general | antiques | promo"
   ]
  },
  {
   "cell_type": "code",
   "execution_count": null,
   "metadata": {},
   "outputs": [],
   "source": [
    "visualize_dimensionality_reduction(umap_embedding_mm, sample_original['mm_ward6'])"
   ]
  },
  {
   "cell_type": "markdown",
   "metadata": {},
   "source": [
    "#### Comparison"
   ]
  },
  {
   "cell_type": "code",
   "execution_count": null,
   "metadata": {},
   "outputs": [],
   "source": [
    "clusters_comparison(sample_original, 'mm_ward3', 'mm_ward2')"
   ]
  },
  {
   "cell_type": "code",
   "execution_count": null,
   "metadata": {},
   "outputs": [],
   "source": [
    "clusters_comparison(sample_original, 'mm_ward4', 'mm_ward3')"
   ]
  },
  {
   "cell_type": "code",
   "execution_count": null,
   "metadata": {},
   "outputs": [],
   "source": [
    "visualize_dimensionality_reduction(umap_embedding_mm, sample_original['mm_ward3'])"
   ]
  },
  {
   "cell_type": "markdown",
   "metadata": {},
   "source": [
    "### Robust Scaler <a id='h-rb'></a>"
   ]
  },
  {
   "cell_type": "markdown",
   "metadata": {},
   "source": [
    "#### Plot"
   ]
  },
  {
   "cell_type": "code",
   "execution_count": 71,
   "metadata": {},
   "outputs": [
    {
     "data": {
      "image/png": "[encoded data removed]",
      "text/plain": [
       "<Figure size 640x480 with 1 Axes>"
      ]
     },
     "metadata": {},
     "output_type": "display_data"
    }
   ],
   "source": [
    "plot_dendrogram(sample_rb_scl, 'ward')"
   ]
  },
  {
   "cell_type": "markdown",
   "metadata": {},
   "source": [
    "#### Models"
   ]
  },
  {
   "cell_type": "markdown",
   "metadata": {},
   "source": [
    "##### 3 clusters"
   ]
  },
  {
   "cell_type": "code",
   "execution_count": 68,
   "metadata": {},
   "outputs": [],
   "source": [
    "sample_original['rb_ward3'] = AgglomerativeClustering(\n",
    "    linkage = 'ward', n_clusters = 3\n",
    "    ).fit_predict(sample_rb_scl)"
   ]
  },
  {
   "cell_type": "code",
   "execution_count": null,
   "metadata": {},
   "outputs": [],
   "source": [
    "groupby_mean(sample_original, 'rb_ward3', True, 12)"
   ]
  },
  {
   "cell_type": "markdown",
   "metadata": {},
   "source": [
    "promo | general | score"
   ]
  },
  {
   "cell_type": "markdown",
   "metadata": {},
   "source": [
    "##### 4 clusters"
   ]
  },
  {
   "cell_type": "code",
   "execution_count": 72,
   "metadata": {},
   "outputs": [],
   "source": [
    "sample_original['rb_ward4'] = AgglomerativeClustering(\n",
    "    linkage = 'ward', n_clusters = 4\n",
    "    ).fit_predict(sample_rb_scl)"
   ]
  },
  {
   "cell_type": "code",
   "execution_count": null,
   "metadata": {},
   "outputs": [],
   "source": [
    "groupby_mean(sample_original, 'rb_ward4', True, 12)"
   ]
  },
  {
   "cell_type": "markdown",
   "metadata": {},
   "source": [
    "##### 5 clusters"
   ]
  },
  {
   "cell_type": "code",
   "execution_count": 74,
   "metadata": {},
   "outputs": [],
   "source": [
    "sample_original['rb_ward5'] = AgglomerativeClustering(\n",
    "    linkage = 'ward', n_clusters = 5\n",
    "    ).fit_predict(sample_rb_scl)"
   ]
  },
  {
   "cell_type": "code",
   "execution_count": null,
   "metadata": {},
   "outputs": [],
   "source": [
    "groupby_mean(sample_original, 'rb_ward5', True, 12)"
   ]
  },
  {
   "cell_type": "markdown",
   "metadata": {},
   "source": [
    "##### 6 clusters"
   ]
  },
  {
   "cell_type": "code",
   "execution_count": 70,
   "metadata": {},
   "outputs": [],
   "source": [
    "sample_original['rb_ward6'] = AgglomerativeClustering(\n",
    "    linkage = 'ward', n_clusters = 6\n",
    "    ).fit_predict(sample_rb_scl)"
   ]
  },
  {
   "cell_type": "code",
   "execution_count": null,
   "metadata": {},
   "outputs": [],
   "source": [
    "groupby_mean(sample_original, 'rb_ward6', True, 12)"
   ]
  },
  {
   "cell_type": "markdown",
   "metadata": {},
   "source": [
    "longtimenosee | ? | score | promo+returns | freq+lowscore+ | ?"
   ]
  },
  {
   "cell_type": "code",
   "execution_count": null,
   "metadata": {},
   "outputs": [],
   "source": [
    "visualize_dimensionality_reduction(umap_embedding_rb, sample_original['rb_ward6'])"
   ]
  },
  {
   "cell_type": "markdown",
   "metadata": {},
   "source": [
    "#### Comparison"
   ]
  },
  {
   "cell_type": "markdown",
   "metadata": {},
   "source": [
    "### Inter clustering Comparison <a id='icc'></a>"
   ]
  },
  {
   "cell_type": "markdown",
   "metadata": {},
   "source": [
    "#### Scaler Comparison\n",
    "In this section it is possible understand that both **minmax** and **robust** scalers are the ones that presented more **consistent results**, in the sense that independently of the clustering method used (hierarchical with ward or kmeans), the clustering solutions were very similar and the observations belonging to the clusters formed also did not have a lot of variation.\n",
    "\n",
    "The variations for the solutions built using the other scaling methods (unscaled data and standard scaler) was especially noticeable when the the clustering solution had more than 3 clusters."
   ]
  },
  {
   "cell_type": "markdown",
   "metadata": {},
   "source": [
    "##### No Scaler"
   ]
  },
  {
   "cell_type": "code",
   "execution_count": null,
   "metadata": {},
   "outputs": [],
   "source": [
    "clusters_comparison(sample_original, 'no_kmeans3', 'no_ward3')"
   ]
  },
  {
   "cell_type": "code",
   "execution_count": null,
   "metadata": {},
   "outputs": [],
   "source": [
    "clusters_comparison(sample_original, 'no_kmeans4', 'no_ward4')"
   ]
  },
  {
   "cell_type": "markdown",
   "metadata": {},
   "source": [
    "##### Standard Scaler"
   ]
  },
  {
   "cell_type": "code",
   "execution_count": null,
   "metadata": {},
   "outputs": [],
   "source": [
    "clusters_comparison(sample_original, 'st_kmeans3', 'st_ward3')"
   ]
  },
  {
   "cell_type": "code",
   "execution_count": null,
   "metadata": {},
   "outputs": [],
   "source": [
    "clusters_comparison(sample_original, 'st_kmeans4', 'st_ward4')"
   ]
  },
  {
   "cell_type": "markdown",
   "metadata": {},
   "source": [
    "##### MinMax Scaler"
   ]
  },
  {
   "cell_type": "code",
   "execution_count": null,
   "metadata": {},
   "outputs": [],
   "source": [
    "clusters_comparison(sample_original, 'mm_kmeans3', 'mm_ward3')"
   ]
  },
  {
   "cell_type": "code",
   "execution_count": null,
   "metadata": {},
   "outputs": [],
   "source": [
    "clusters_comparison(sample_original, 'mm_kmeans4', 'mm_ward4')"
   ]
  },
  {
   "cell_type": "code",
   "execution_count": null,
   "metadata": {},
   "outputs": [],
   "source": [
    "clusters_comparison(sample_original, 'mm_kmeans5', 'mm_ward5')"
   ]
  },
  {
   "cell_type": "markdown",
   "metadata": {},
   "source": [
    "##### Robust Scaler"
   ]
  },
  {
   "cell_type": "code",
   "execution_count": null,
   "metadata": {},
   "outputs": [],
   "source": [
    "clusters_comparison(sample_original, 'rb_kmeans3', 'rb_ward3')"
   ]
  },
  {
   "cell_type": "code",
   "execution_count": null,
   "metadata": {},
   "outputs": [],
   "source": [
    "clusters_comparison(sample_original, 'rb_kmeans4', 'rb_ward4')"
   ]
  },
  {
   "cell_type": "code",
   "execution_count": null,
   "metadata": {},
   "outputs": [],
   "source": [
    "clusters_comparison(sample_original, 'rb_kmeans6', 'rb_ward6')"
   ]
  },
  {
   "cell_type": "markdown",
   "metadata": {},
   "source": [
    "#### Method comparison\n",
    "Here, the two scalers deemed to provide better clustering results were compared. It is possible to understand that their division process is quite different.\n",
    "\n",
    "When analysing the previous sections of this notebook, it was possible to confirm this fact. A good example to understand this is the beer+watre+frozen cluster. While it is one of the first clusters to be differenciated when using minmax scaled data, this cluster only appears in the las division we tested (with 6 clusters) when using the robust scaled data."
   ]
  },
  {
   "cell_type": "code",
   "execution_count": null,
   "metadata": {},
   "outputs": [],
   "source": [
    "clusters_comparison(sample_original, 'mm_kmeans3', 'rb_kmeans3')"
   ]
  },
  {
   "cell_type": "code",
   "execution_count": null,
   "metadata": {},
   "outputs": [],
   "source": [
    "clusters_comparison(sample_original, 'mm_kmeans4', 'rb_kmeans4')"
   ]
  },
  {
   "cell_type": "code",
   "execution_count": null,
   "metadata": {},
   "outputs": [],
   "source": [
    "clusters_comparison(sample_original, 'mm_kmeans5', 'rb_kmeans5')"
   ]
  },
  {
   "cell_type": "code",
   "execution_count": null,
   "metadata": {},
   "outputs": [],
   "source": [
    "clusters_comparison(sample_original, 'mm_kmeans6', 'rb_kmeans6')"
   ]
  },
  {
   "cell_type": "markdown",
   "metadata": {},
   "source": [
    "## 4.3. DBScan <a id='dbs'></a>"
   ]
  },
  {
   "cell_type": "markdown",
   "metadata": {},
   "source": [
    "This section aims to help define what would be the **best number of clusters** to consider for each of the data inputs as well as provide more possible clustering solutions. As previously mentioned, minmax and robust scaled data were the data inputs that remained for further analysis, therefore **DBScan** will only be tested for these cases.\n",
    "\n",
    "For each input, a Kdist graph was plotted (to help find the right eps value). Then, **parameters were adjusted**, and clustering solutions created. These solutions were once again compared.\n",
    "\n",
    "The data inputs were tested in the following order:\n",
    "1. [MinMax Scaler](#dbs-mm)\n",
    "4. [Robust Scaler](#dbs-rb)\n"
   ]
  },
  {
   "cell_type": "markdown",
   "metadata": {},
   "source": [
    "### MinMax Scaler <a id='dbs-mm'></a>"
   ]
  },
  {
   "cell_type": "markdown",
   "metadata": {},
   "source": [
    "#### Plot"
   ]
  },
  {
   "cell_type": "code",
   "execution_count": null,
   "metadata": {},
   "outputs": [],
   "source": [
    "plot_kdist_graph(sample_mm_scl, demographic_metrics)"
   ]
  },
  {
   "cell_type": "markdown",
   "metadata": {},
   "source": [
    "#### Models"
   ]
  },
  {
   "cell_type": "markdown",
   "metadata": {},
   "source": [
    "##### 3 clusters"
   ]
  },
  {
   "cell_type": "code",
   "execution_count": null,
   "metadata": {},
   "outputs": [],
   "source": [
    "dbscan = DBSCAN(eps=0.4, min_samples=80, n_jobs=4)\n",
    "dbscan_labels = dbscan.fit_predict(sample_mm_scl)\n",
    "dbscan_n_clusters = len(np.unique(dbscan_labels))\n",
    "sample_original['mm_dbs3'] = dbscan_labels\n",
    "\n",
    "print(\"Number of estimated clusters  : %d\" % dbscan_n_clusters)\n",
    "print(\"Counter of cluster labels     :\", Counter(dbscan_labels))\n",
    "print(\"Percentage of noise rows      :\", round(100*Counter(dbscan_labels)[-1]/sample_mm_scl.shape[0],2))"
   ]
  },
  {
   "cell_type": "code",
   "execution_count": null,
   "metadata": {},
   "outputs": [],
   "source": [
    "groupby_mean(sample_original, 'mm_dbs3', True)"
   ]
  },
  {
   "cell_type": "markdown",
   "metadata": {},
   "source": [
    "outliers | beer+water+frozen | fresh+beverage+frozen+pastry | dairy"
   ]
  },
  {
   "cell_type": "code",
   "execution_count": null,
   "metadata": {},
   "outputs": [],
   "source": [
    "visualize_dimensionality_reduction(umap_embedding_mm, sample_original['mm_dbs3'])"
   ]
  },
  {
   "cell_type": "markdown",
   "metadata": {},
   "source": [
    "##### 4 clusters"
   ]
  },
  {
   "cell_type": "code",
   "execution_count": null,
   "metadata": {},
   "outputs": [],
   "source": [
    "dbscan = DBSCAN(eps=0.1, min_samples=80, n_jobs=4)\n",
    "dbscan_labels = dbscan.fit_predict(sample_mm_scl)\n",
    "dbscan_n_clusters = len(np.unique(dbscan_labels))\n",
    "sample_original['mm_dbs4'] = dbscan_labels\n",
    "\n",
    "print(\"Number of estimated clusters  : %d\" % dbscan_n_clusters)\n",
    "print(\"Counter of cluster labels     :\", Counter(dbscan_labels))\n",
    "print(\"Percentage of noise rows      :\", round(100*Counter(dbscan_labels)[-1]/sample_mm_scl.shape[0],2))"
   ]
  },
  {
   "cell_type": "code",
   "execution_count": null,
   "metadata": {},
   "outputs": [],
   "source": [
    "groupby_mean(sample_original, 'mm_dbs4', True)"
   ]
  },
  {
   "cell_type": "markdown",
   "metadata": {},
   "source": [
    "outliers | beer+water+frozen | fresh+beverage+frozen+pastry | dairy | pastry+wines+dairy"
   ]
  },
  {
   "cell_type": "code",
   "execution_count": null,
   "metadata": {},
   "outputs": [],
   "source": [
    "visualize_dimensionality_reduction(umap_embedding_mm, sample_original['mm_dbs4'])"
   ]
  },
  {
   "cell_type": "markdown",
   "metadata": {},
   "source": [
    "##### 5 clusters"
   ]
  },
  {
   "cell_type": "code",
   "execution_count": null,
   "metadata": {},
   "outputs": [],
   "source": [
    "dbscan = DBSCAN(eps=0.09, min_samples=40, n_jobs=4)\n",
    "dbscan_labels = dbscan.fit_predict(sample_mm_scl)\n",
    "sample_original['mm_dbs5'] = dbscan_labels\n",
    "dbscan_n_clusters = len(np.unique(dbscan_labels))\n",
    "\n",
    "print(\"Number of estimated clusters  : %d\" % dbscan_n_clusters)\n",
    "print(\"Counter of cluster labels     :\", Counter(dbscan_labels))\n",
    "print(\"Percentage of noise rows      :\", round(100*Counter(dbscan_labels)[-1]/sample_mm_scl.shape[0],2))"
   ]
  },
  {
   "cell_type": "code",
   "execution_count": null,
   "metadata": {},
   "outputs": [],
   "source": [
    "groupby_mean(sample_original, 'mm_dbs5', True)"
   ]
  },
  {
   "cell_type": "markdown",
   "metadata": {},
   "source": [
    "outliers | beer+water+frozen | fresh+beverage+frozen | pastry+fresh+beverage | pastry+dairy | dairy"
   ]
  },
  {
   "cell_type": "code",
   "execution_count": null,
   "metadata": {},
   "outputs": [],
   "source": [
    "visualize_dimensionality_reduction(umap_embedding_mm, sample_original['mm_dbs5'])"
   ]
  },
  {
   "cell_type": "markdown",
   "metadata": {},
   "source": [
    "##### 6 clusters"
   ]
  },
  {
   "cell_type": "code",
   "execution_count": null,
   "metadata": {},
   "outputs": [],
   "source": [
    "dbscan = DBSCAN(eps=0.085, min_samples=40, n_jobs=4)\n",
    "dbscan_labels = dbscan.fit_predict(sample_mm_scl)\n",
    "sample_original['mm_dbs6'] = dbscan_labels\n",
    "dbscan_n_clusters = len(np.unique(dbscan_labels))\n",
    "\n",
    "print(\"Number of estimated clusters  : %d\" % dbscan_n_clusters)\n",
    "print(\"Counter of cluster labels     :\", Counter(dbscan_labels))\n",
    "print(\"Percentage of noise rows      :\", round(100*Counter(dbscan_labels)[-1]/sample_mm_scl.shape[0],2))"
   ]
  },
  {
   "cell_type": "code",
   "execution_count": null,
   "metadata": {},
   "outputs": [],
   "source": [
    "groupby_mean(sample_original, 'mm_dbs6', True)"
   ]
  },
  {
   "cell_type": "markdown",
   "metadata": {},
   "source": [
    "outliers | beer+water+frozen | fresh+beverage+frozen | fresh+beverage+pastry | pastry | dairy | pastry+wines+dairy"
   ]
  },
  {
   "cell_type": "code",
   "execution_count": null,
   "metadata": {},
   "outputs": [],
   "source": [
    "visualize_dimensionality_reduction(umap_embedding_mm, sample_original['mm_dbs6'])"
   ]
  },
  {
   "cell_type": "markdown",
   "metadata": {},
   "source": [
    "#### Comparison"
   ]
  },
  {
   "cell_type": "code",
   "execution_count": null,
   "metadata": {},
   "outputs": [],
   "source": [
    "clusters_comparison(sample_original, 'mm_dbs4', 'mm_dbs3')"
   ]
  },
  {
   "cell_type": "code",
   "execution_count": null,
   "metadata": {},
   "outputs": [],
   "source": [
    "clusters_comparison(sample_original, 'mm_dbs5', 'mm_dbs4')"
   ]
  },
  {
   "cell_type": "code",
   "execution_count": null,
   "metadata": {},
   "outputs": [],
   "source": [
    "clusters_comparison(sample_original, 'mm_dbs6', 'mm_dbs5')"
   ]
  },
  {
   "cell_type": "markdown",
   "metadata": {},
   "source": [
    "### Robust Scaler <a id='dbs-rb'></a>"
   ]
  },
  {
   "cell_type": "markdown",
   "metadata": {},
   "source": [
    "#### Plot"
   ]
  },
  {
   "cell_type": "code",
   "execution_count": null,
   "metadata": {},
   "outputs": [],
   "source": [
    "plot_kdist_graph(sample_rb_scl, demographic_metrics_selection1)"
   ]
  },
  {
   "cell_type": "markdown",
   "metadata": {},
   "source": [
    "#### Models"
   ]
  },
  {
   "cell_type": "markdown",
   "metadata": {},
   "source": [
    "##### 3 clusters"
   ]
  },
  {
   "cell_type": "code",
   "execution_count": null,
   "metadata": {},
   "outputs": [],
   "source": [
    "dbscan = DBSCAN(eps=0.8, min_samples=40, n_jobs=4)\n",
    "dbscan_labels = dbscan.fit_predict(sample_rb_scl)\n",
    "sample_original['rb_dbs3'] = dbscan_labels\n",
    "dbscan_n_clusters = len(np.unique(dbscan_labels))\n",
    "\n",
    "print(\"Number of estimated clusters  : %d\" % dbscan_n_clusters)\n",
    "print(\"Counter of cluster labels     :\", Counter(dbscan_labels))\n",
    "print(\"Percentage of noise rows      :\", round(100*Counter(dbscan_labels)[-1]/sample_rb_scl.shape[0],2))"
   ]
  },
  {
   "cell_type": "code",
   "execution_count": null,
   "metadata": {},
   "outputs": [],
   "source": [
    "groupby_mean(sample_original, 'rb_dbs3', True)"
   ]
  },
  {
   "cell_type": "code",
   "execution_count": null,
   "metadata": {},
   "outputs": [],
   "source": [
    "visualize_dimensionality_reduction(umap_embedding_rb, sample_original['rb_dbs3'])"
   ]
  },
  {
   "cell_type": "markdown",
   "metadata": {},
   "source": [
    "##### 5 clusters"
   ]
  },
  {
   "cell_type": "code",
   "execution_count": null,
   "metadata": {},
   "outputs": [],
   "source": [
    "dbscan = DBSCAN(eps=1.22, min_samples=40, n_jobs=4)\n",
    "dbscan_labels = dbscan.fit_predict(sample_rb_scl)\n",
    "sample_original['rb_dbs5'] = dbscan_labels\n",
    "dbscan_n_clusters = len(np.unique(dbscan_labels))\n",
    "\n",
    "print(\"Number of estimated clusters  : %d\" % dbscan_n_clusters)\n",
    "print(\"Counter of cluster labels     :\", Counter(dbscan_labels))\n",
    "print(\"Percentage of noise rows      :\", round(100*Counter(dbscan_labels)[-1]/sample_rb_scl.shape[0],2))"
   ]
  },
  {
   "cell_type": "code",
   "execution_count": null,
   "metadata": {},
   "outputs": [],
   "source": [
    "groupby_mean(sample_original, 'rb_dbs5', True)"
   ]
  },
  {
   "cell_type": "markdown",
   "metadata": {},
   "source": [
    "outliers | beer+water+frozen | fresh+beverage+frozen | pastry+fresh+frozen | dairy | veggies+wines+dairy"
   ]
  },
  {
   "cell_type": "code",
   "execution_count": null,
   "metadata": {},
   "outputs": [],
   "source": [
    "visualize_dimensionality_reduction(umap_embedding_rb, sample_original['rb_dbs5'])"
   ]
  },
  {
   "cell_type": "markdown",
   "metadata": {},
   "source": [
    "##### 6 clusters"
   ]
  },
  {
   "cell_type": "code",
   "execution_count": null,
   "metadata": {},
   "outputs": [],
   "source": [
    "dbscan = DBSCAN(eps=1.03, min_samples=40, n_jobs=4)\n",
    "dbscan_labels = dbscan.fit_predict(sample_rb_scl)\n",
    "sample_original['rb_dbs6'] = dbscan_labels\n",
    "dbscan_n_clusters = len(np.unique(dbscan_labels))\n",
    "\n",
    "print(\"Number of estimated clusters  : %d\" % dbscan_n_clusters)\n",
    "print(\"Counter of cluster labels     :\", Counter(dbscan_labels))\n",
    "print(\"Percentage of noise rows      :\", round(100*Counter(dbscan_labels)[-1]/sample_rb_scl.shape[0],2))"
   ]
  },
  {
   "cell_type": "code",
   "execution_count": null,
   "metadata": {},
   "outputs": [],
   "source": [
    "groupby_mean(sample_original, 'rb_dbs6', True)"
   ]
  },
  {
   "cell_type": "markdown",
   "metadata": {},
   "source": [
    "beer+water+frozen | fresh+beverage+frozen | pastry+fresh+beverage | dairy | pastry+dairy | veggies+dairy"
   ]
  },
  {
   "cell_type": "markdown",
   "metadata": {},
   "source": [
    "#### Comparison"
   ]
  },
  {
   "cell_type": "code",
   "execution_count": null,
   "metadata": {},
   "outputs": [],
   "source": [
    "clusters_comparison(sample_original, 'rb_dbs5', 'rb_dbs3')"
   ]
  },
  {
   "cell_type": "code",
   "execution_count": null,
   "metadata": {},
   "outputs": [],
   "source": [
    "clusters_comparison(sample_original, 'rb_dbs6', 'rb_dbs5')"
   ]
  },
  {
   "cell_type": "markdown",
   "metadata": {},
   "source": [
    "### Conclusions <a id='conc'></a>"
   ]
  },
  {
   "cell_type": "markdown",
   "metadata": {},
   "source": [
    "Based on the results obtained through DBScan, clustering solutions with 4 and 6 clusters were eliminated from further analysis. This happens as clusterings with 6 clusters presented high percentages of outliers (>10%) and as a solution with 4 clusters was not found for the robust scaled data. \n",
    "\n",
    "Having said this, it was decided to compare the until now found solutions with minmax and robust scaled data and 3 or 5 clusters."
   ]
  },
  {
   "cell_type": "markdown",
   "metadata": {},
   "source": [
    "| Method | Scaler | # Clusters | bwf | fbfp | fbf | pfb | d | dp | dpvw | dvw | s | g | note |\n",
    "| --- | --- | --- | --- | --- | --- | --- | --- | --- | --- | --- | --- | --- | --- |\n",
    "| kmeans | minmax | 3 | x | x |  |  |  | x |  | | | |  |\n",
    "| kmeans | robust | 3 |  |  |  | x |  |  |  |  | x | x | disregarded |\n",
    "| ward | minmax | 3 | x | x |  |  |  | x |  |  |  |  |  |\n",
    "| ward | robust | 3 |  |  |  | x |  |  |  |  | x | x | disregarded |\n",
    "| dbscan | minmax | 3 | x | x |  |  | x |  |  |  |  |  |  |\n",
    "| dbscan | robust | 3 |  |  |  | x | x |  |  | | | x | disregarded |\n",
    "| kmeans | minmax | 5 | x |  | x | x | x |  | x | | | |  |\n",
    "| kmeans | robust | 5 |  |  |  | x | x |  |  | x | x | x | disregarded |\n",
    "| ward | minmax | 5 | x |  | x | x |  | x | x |  |  |  |  |\n",
    "| dbscan | minmax | 5 | x |  | x | x | x | x |  |  |  |  |  |\n",
    "| dbscan | robust | 5 | x |  | x | x | x |  | x | | | |  |\n",
    "\n",
    "\n",
    "- bwf -> beer+water+frozen\n",
    "- fbfp -> fresh+beverage+frozen+pastry\n",
    "- fbf -> fresh+beverage+frozen\n",
    "- pfb -> pastry+fresh+beverage\n",
    "- d -> dairy\n",
    "- dp -> dairy+pastry\n",
    "- dpvw -> dairy+pastry+veggies+wine\n",
    "- dvw -> dairy+veggies+wine\n",
    "- s -> spenders\n",
    "- g -> general\n",
    "\n",
    "\n",
    "With this analysis it was concluded that a best solution for **3 clusters** would include: \n",
    "- beer+water+frozen\n",
    "- fresh+beverage+frozen+pastry\n",
    "- dairy+pastry\n",
    "\n",
    "(this is the case of kmeans with minmax scaler)\n",
    "\n",
    "And a best solution for **5 clusters** would include:\n",
    "-  beer+water+frozen\n",
    "- fresh+beverage+frozen\n",
    "- pastry+fresh+beverage\n",
    "- dairy\n",
    "- dairy+pastry+veggies+wine\n",
    "\n",
    "(this is the case for kmeans with minmax scaler and dbscan with robust scaler)"
   ]
  },
  {
   "cell_type": "markdown",
   "metadata": {},
   "source": [
    "# Batota UMAP"
   ]
  },
  {
   "cell_type": "code",
   "execution_count": 15,
   "metadata": {},
   "outputs": [],
   "source": [
    "umap_object = umap.UMAP(random_state=1)"
   ]
  },
  {
   "cell_type": "code",
   "execution_count": 16,
   "metadata": {},
   "outputs": [],
   "source": [
    "umap_embedding_no = umap_object.fit_transform(sample_no_scl)\n",
    "umap_embedding_st = umap_object.fit_transform(sample_st_scl)\n",
    "umap_embedding_mm = umap_object.fit_transform(sample_mm_scl)\n",
    "umap_embedding_rb = umap_object.fit_transform(sample_rb_scl)"
   ]
  },
  {
   "cell_type": "code",
   "execution_count": 17,
   "metadata": {},
   "outputs": [],
   "source": [
    "sample_original['constant'] = 1"
   ]
  },
  {
   "cell_type": "code",
   "execution_count": 18,
   "metadata": {},
   "outputs": [
    {
     "data": {
      "image/png": "[encoded data removed]",
      "text/plain": [
       "<Figure size 640x480 with 1 Axes>"
      ]
     },
     "metadata": {},
     "output_type": "display_data"
    }
   ],
   "source": [
    "visualize_dimensionality_reduction(umap_embedding_no, sample_original['constant'])"
   ]
  },
  {
   "cell_type": "code",
   "execution_count": 19,
   "metadata": {},
   "outputs": [
    {
     "data": {
      "image/png": "[encoded data removed]",
      "text/plain": [
       "<Figure size 640x480 with 1 Axes>"
      ]
     },
     "metadata": {},
     "output_type": "display_data"
    }
   ],
   "source": [
    "visualize_dimensionality_reduction(umap_embedding_st, sample_original['constant'])"
   ]
  },
  {
   "cell_type": "code",
   "execution_count": 20,
   "metadata": {},
   "outputs": [
    {
     "data": {
      "image/png": "[encoded data removed]",
      "text/plain": [
       "<Figure size 640x480 with 1 Axes>"
      ]
     },
     "metadata": {},
     "output_type": "display_data"
    }
   ],
   "source": [
    "visualize_dimensionality_reduction(umap_embedding_mm, sample_original['constant'])"
   ]
  },
  {
   "cell_type": "code",
   "execution_count": 21,
   "metadata": {},
   "outputs": [
    {
     "data": {
      "image/png": "[encoded data removed]",
      "text/plain": [
       "<Figure size 640x480 with 1 Axes>"
      ]
     },
     "metadata": {},
     "output_type": "display_data"
    }
   ],
   "source": [
    "visualize_dimensionality_reduction(umap_embedding_rb, sample_original['constant'])"
   ]
  }
 ],
 "metadata": {
  "kernelspec": {
   "display_name": "datamining",
   "language": "python",
   "name": "python3"
  },
  "language_info": {
   "codemirror_mode": {
    "name": "ipython",
    "version": 3
   },
   "file_extension": ".py",
   "mimetype": "text/x-python",
   "name": "python",
   "nbconvert_exporter": "python",
   "pygments_lexer": "ipython3",
   "version": "3.12.5"
  }
 },
 "nbformat": 4,
 "nbformat_minor": 2
}
